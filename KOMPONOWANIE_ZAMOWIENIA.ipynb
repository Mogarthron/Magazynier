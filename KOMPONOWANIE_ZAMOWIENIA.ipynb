{
 "cells": [
  {
   "cell_type": "code",
   "execution_count": 1,
   "metadata": {},
   "outputs": [],
   "source": [
    "from Pianki.Analiza_pianek.Analiza_rodziny import Analiza_Rodziny\n",
    "from Pianki.Modele_pianek import *\n",
    "from Pianki.Raporty_do_zamowien.Komponowanie_zamowienia import Raport_zamowionych_pianek_i_owat\n",
    "from Pianki.Raporty_do_zamowien import *\n",
    "import warnings\n",
    "warnings.filterwarnings('ignore')"
   ]
  },
  {
   "cell_type": "markdown",
   "metadata": {},
   "source": [
    "1. Bryly do zamówienia:\n",
    "* `Analiza_Rodziny(SAMOA_P).Bryly_do_zamowienia(wszystkie_bryly=True, lista_korekty_zam=True)`\n",
    "*   `SAMOA_P` klasa opisujaca model do zamówienia\n",
    "* `Bryly_do_zamowienia(wszystkie_bryly=True, lista_korekty_zam=True)` Funkcja wywołująca listę brył do zamówienia\n",
    "2. Przypisanie brył do zmiennych i obliczenie obiętosci zamówienia\n",
    "* `zsam, sam =Analiza_Rodziny(SAMOA_P).Bryly_do_zamowienia(wszystkie_bryly=True, korekta_zam={'1,5': 70.0, 'Pufa 100x82': 20.0,})`\n",
    "* `zsam` tabelka z zamówionymi bryłmi\n",
    "* `sam` klasa z piankami i obiętościami\n",
    "* `korekta_zam={'1,5': 70.0, 'Pufa 100x82': 20.0,}` korekta listy zamówienia, "
   ]
  },
  {
   "cell_type": "code",
   "execution_count": 2,
   "metadata": {},
   "outputs": [
    {
     "data": {
      "text/plain": [
       "(                KOD           OPIS  DO_ZAMOWIENIA\n",
       " 0   16.009.10003.60      AVANT [1]            4.0\n",
       " 1   16.009.35003.60    AVANT [3,5]           12.0\n",
       " 2   16.009.15000.60      AVANT 1,5            8.0\n",
       " 3   16.009.20000.60        AVANT 2            2.0\n",
       " 4   16.009.25000.60      AVANT 2,5            7.0\n",
       " 5   16.009.30000.60        AVANT 3            1.0\n",
       " 6   16.009.20004.60      AVANT 2][           14.0\n",
       " 7   16.009.25004.60    AVANT 2,5][            1.0\n",
       " 8   16.009.66000.60        AVANT N           28.0\n",
       " 9   16.009.63004.60      AVANT L][            3.0\n",
       " 10  16.009.64004.60     AVANT LM][           14.0\n",
       " 11  16.009.71100.60  AVANT P112x84           10.0\n",
       " 12  16.009.71000.60  AVANT P112x97           15.0\n",
       " 13  16.009.70500.60   AVANT P64x64            2.0,\n",
       " AVANT Vol Pianpol: 30.79m3, AVANT Vol OLTA: 7.03m3)"
      ]
     },
     "execution_count": 2,
     "metadata": {},
     "output_type": "execute_result"
    }
   ],
   "source": [
    "Analiza_Rodziny(AVANT_P).Bryly_do_zamowienia(korekta_zam={'[1]': 4.0, '[3,5]': 12.0, '1,5': 8.0, '2': 2.0, '2,5': 7.0, '3': 1.0, '2][': 14.0, '2,5][': 1.0, 'N': 28.0, 'L][': 3.0, 'LM][': 14.0, 'Pufa 112x84': 10.0, 'Pufa 112x97': 15.0, 'Pufa 64x64': 2.0})"
   ]
  },
  {
   "cell_type": "code",
   "execution_count": 3,
   "metadata": {},
   "outputs": [],
   "source": [
    "zsto, sto = Analiza_Rodziny(STONE_P).Bryly_do_zamowienia(wszystkie_bryly=True, korekta_zam={\n",
    "    '1,5': 40,\n",
    "    # '2,5': 6.0,\n",
    "    '3': 30.0,\n",
    "    # '4': 15.0,\n",
    "    # '5': 0.0,\n",
    "    # 'ON': 15.0,\n",
    "    'NW140x150': 25.0,\n",
    "    'NW MEM': 40.0,\n",
    "    'WN MEM': 60.0,\n",
    "    '[LH': 10.0,\n",
    "    # 'E30': 2.0,\n",
    "    # 'P106x106': 1.0,\n",
    "    # 'P106x82': 4.0,\n",
    "    # 'P82x82': 3.0,\n",
    "    # 'Z50': 8.0,\n",
    "    # 'Z70': 0.0,\n",
    "    'STONE ][': 50.0,\n",
    "    # 'CUPIDO ][': 0.0\n",
    " })\n",
    "\n",
    "zeli, eli = Analiza_Rodziny(ELIXIR_P).Bryly_do_zamowienia(wszystkie_bryly=True, korekta_zam={\n",
    "    # '2,5': 5.0,\n",
    "    '3': 15.0,\n",
    "    '3,5': 30.0,\n",
    "    '4': 40.0,\n",
    "    'N': 40.0,\n",
    "    '[': 65.0,\n",
    "    'Pufa 98x120': 10.0,\n",
    "    # 'Pufa 98x100': 0.0\n",
    " })"
   ]
  },
  {
   "cell_type": "code",
   "execution_count": 4,
   "metadata": {},
   "outputs": [
    {
     "data": {
      "text/plain": [
       "(45.76474999999999, 0, 0)"
      ]
     },
     "execution_count": 4,
     "metadata": {},
     "output_type": "execute_result"
    }
   ],
   "source": [
    "sto.pianpol_VOL, sto.ciech_VOL, sto.vita_VOL"
   ]
  },
  {
   "cell_type": "code",
   "execution_count": 5,
   "metadata": {},
   "outputs": [],
   "source": [
    "zmod = [zsto, zeli]"
   ]
  },
  {
   "cell_type": "code",
   "execution_count": 6,
   "metadata": {},
   "outputs": [
    {
     "name": "stdout",
     "output_type": "stream",
     "text": [
      "O1 zielona: 5 rolek\n",
      "O2 niebieska: 0 rolek\n",
      "O3 czerwona: 22 rolek\n"
     ]
    },
    {
     "data": {
      "text/plain": [
       "Index(['KOD', 'OPIS', 'DO_ZAMOWIENIA', 'ZIELONA', 'NIEBIESKA', 'CZERWONA',\n",
       "       'ŻÓŁTA', 'W3'],\n",
       "      dtype='object')"
      ]
     },
     "execution_count": 6,
     "metadata": {},
     "output_type": "execute_result"
    }
   ],
   "source": [
    "df, _ = Raport_zamowionych_pianek_i_owat(zmod)#, \"PIANPOL_2421.xlsx\")\n",
    "df.columns"
   ]
  },
  {
   "cell_type": "code",
   "execution_count": 8,
   "metadata": {},
   "outputs": [],
   "source": [
    "\n",
    "# Dodaj_pozycje_do_ZAM_PIANKI(2420, \"P\", \"3_24\", zsam, sam, \"24/0516\", nr_partii=\"20/01\")#, DODAJ_DO_BAZY=True)\n",
    "# Dodaj_pozycje_do_ZAM_PIANKI(2420, \"P\", \"2_24\", zhud, hud, \"24/0516\", nr_partii=\"20/01\")#, DODAJ_DO_BAZY=True)\n",
    "# Dodaj_pozycje_do_ZAM_PIANKI(2420, \"P\", \"3_24\", zcoc, coc, \"24/0516\", nr_partii=\"20/01\")#, DODAJ_DO_BAZY=True)\n",
    "# Dodaj_pozycje_do_ZAM_PIANKI(2420, \"P\", \"3_24\", zcal, cal, \"24/0516\", nr_partii=\"20/01\")#, DODAJ_DO_BAZY=True)\n",
    "\n",
    "\n",
    "\n"
   ]
  },
  {
   "cell_type": "code",
   "execution_count": 9,
   "metadata": {},
   "outputs": [],
   "source": [
    "# gre = pobierz_zamowienie_z_ZAM_PIANKI(2411, GREY_C)\n",
    "# raport_dostarczonych_pianek(gre, \"24/0327\",)"
   ]
  },
  {
   "cell_type": "code",
   "execution_count": 10,
   "metadata": {},
   "outputs": [],
   "source": [
    "# Wozki_do_dostawy(\"PIANPOL\", \"24/0516\", drukuj_do_excel=True)"
   ]
  },
  {
   "cell_type": "code",
   "execution_count": 11,
   "metadata": {},
   "outputs": [],
   "source": [
    "# raport_dostarczonych_pianek(sam, \"24/0516\",True)\n",
    "# raport_dostarczonych_pianek(hud, \"24/0516\",True)\n",
    "# raport_dostarczonych_pianek(coc, \"24/0516\",True)\n",
    "# raport_dostarczonych_pianek(cal, \"24/0516\",True)\n",
    "\n",
    "\n"
   ]
  },
  {
   "cell_type": "code",
   "execution_count": 12,
   "metadata": {},
   "outputs": [],
   "source": [
    "# zlecenia_produkcyjne_pianki_owaty(\"SAMOA\", \"3_24\", \"20/01\")\n",
    "# zlecenia_produkcyjne_pianki_owaty(\"HUDSON\", \"2_24\", \"20/01\")\n",
    "# zlecenia_produkcyjne_pianki_owaty(\"COCO\", \"3_24\", \"20/01\")\n",
    "# zlecenia_produkcyjne_pianki_owaty(\"CALYPSO\", \"3_24\", \"20/01\")\n",
    "# zlecenia_produkcyjne_pianki_owaty(\"WILLOW\", \"2_24\", \"20/01\")\n",
    "\n",
    "\n",
    "# zlecenia_produkcyjne_pianki_kompletacja(\"SAMOA\", \"3_24\", \"20/01\")\n",
    "# zlecenia_produkcyjne_pianki_kompletacja(\"HUDSON\", \"2_24\", \"20/01\")\n",
    "# zlecenia_produkcyjne_pianki_kompletacja(\"CALYPSO\", \"3_24\", \"20/01\")\n",
    "# zlecenia_produkcyjne_pianki_kompletacja(\"COCO\", \"3_24\", \"20/01\")\n"
   ]
  },
  {
   "cell_type": "code",
   "execution_count": 13,
   "metadata": {},
   "outputs": [],
   "source": [
    "# ava.olta.to_excel(\"AVANT_MEMORY.xlsx\")"
   ]
  },
  {
   "cell_type": "code",
   "execution_count": 14,
   "metadata": {},
   "outputs": [],
   "source": [
    "from Modele_db import engine, text\n",
    "import openpyxl\n",
    "\n",
    "def naklejki_excell():\n",
    "    with engine.begin() as conn:\n",
    "        zp = conn.execute(text(f\"\"\"SELECT MODEL, NR_KOMPLETACJI, OPIS, ILE_ZAMOWIONE,\n",
    "                        NR_PARTII from ZAM_PIANKI WHERE ZAM1 in('24/0486') --AND OPIS NOT LIKE '%AVANT%'\"\"\"))\n",
    "    \n",
    "    zam_pianki = zp.fetchall()\n",
    "    zam_pianki\n",
    "\n",
    "    wb = openpyxl.Workbook()\n",
    "    sheet = wb.active\n",
    "\n",
    "    #NALKEJKI PIANEK\n",
    "    for row in zam_pianki:\n",
    "       \n",
    "        for i in range(row[3]):\n",
    "           \n",
    "            sheet.append([f\"NR PARTII: {row[4]}\", f\"NR KOMPLETACJI: {row[1]}\", f\"NR PACZKI: {i+1}/{row[3]}\"])\n",
    "            sheet.append([row[0]]) #MODEL\n",
    "            sheet.append([row[2].replace(row[0], \"\").strip()]) #BRYLA\n",
    "            sheet.append([\"PACZKA JAKOŚĆ NR PRAC\", \"UWAGI\", \"NR PAKUJĄCEGO\"])\n",
    "\n",
    "   \n",
    "    #NAKLEJKI OWAT\n",
    "    for row in zam_pianki:\n",
    "       \n",
    "        for i in range(row[3]):\n",
    "           \n",
    "            sheet.append([f\"NR PARTII: {row[4]}\", f\"OWATY\", f\"\"])\n",
    "            sheet.append([row[0]]) #MODEL\n",
    "            sheet.append([row[2].replace(row[0], \"\").strip()]) #BRYLA\n",
    "            sheet.append([\"UWAGI\", \"NR PAKUJĄCEGO\"])\n",
    "\n",
    "    wb.save(\"nakl.xlsx\")\n",
    "\n",
    "naklejki_excell()\n"
   ]
  },
  {
   "cell_type": "code",
   "execution_count": null,
   "metadata": {},
   "outputs": [],
   "source": []
  }
 ],
 "metadata": {
  "kernelspec": {
   "display_name": ".venv",
   "language": "python",
   "name": "python3"
  },
  "language_info": {
   "codemirror_mode": {
    "name": "ipython",
    "version": 3
   },
   "file_extension": ".py",
   "mimetype": "text/x-python",
   "name": "python",
   "nbconvert_exporter": "python",
   "pygments_lexer": "ipython3",
   "version": "3.11.6"
  }
 },
 "nbformat": 4,
 "nbformat_minor": 2
}
