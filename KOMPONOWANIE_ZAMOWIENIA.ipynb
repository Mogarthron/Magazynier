{
 "cells": [
  {
   "cell_type": "code",
   "execution_count": 1,
   "metadata": {},
   "outputs": [
    {
     "name": "stdout",
     "output_type": "stream",
     "text": [
      "{'path_dane_pianki': 'Z:/450. PLANISTA - ZAOPATRZENIE/DANE_PIANKI_2409.xlsx', 'owaty': 'Z:/450. PLANISTA - ZAOPATRZENIE/111 KROJOWNIA SUROWKI PIANKI OWATY.xlsx', 'zam_pianki_link': 'Z:/450. PLANISTA - ZAOPATRZENIE/ZAM_PIANKI.xlsx'}\n"
     ]
    }
   ],
   "source": [
    "import pandas as pd\n",
    "from Analiza_pianek import analiza_pianek as ap, owaty as ow\n",
    "\n",
    "analiza = ap.analiza\n",
    "komplety_pianek = ap.komplety_pianek\n",
    "pda = ap.pda\n",
    "zam_pianki = ap.zam_pianki\n",
    "owaty = ow.owaty"
   ]
  },
  {
   "cell_type": "code",
   "execution_count": 2,
   "metadata": {},
   "outputs": [],
   "source": [
    "# @title BRYŁY DO ZAMÓWIENIA FUNKCJE\n",
    "def oblicz_owaty_do_zamowienia(*z_bdz):\n",
    "\n",
    "  df_zam = pd.concat(z_bdz)\n",
    "  df_zam = df_zam.merge(owaty, how=\"left\", on=\"OPIS\")\n",
    "\n",
    "  for c in owaty.columns[1:]:\n",
    "    df_zam[c] = df_zam[c] * df_zam.DO_ZAMOWIENIA * 1.1\n",
    "\n",
    "  return df_zam#[owaty.columns[1:]]\n",
    "\n",
    "\n",
    "def zapotrzebowanie_na_owaty(zam_owaty, wyjatki:list):\n",
    "  _wyjatki = pd.Series({\"O3\":0, \"O2\":0, \"O1\":0, \"L1\":0, \"W3\":0})\n",
    "  for w in wyjatki:\n",
    "    _wyjatki += w\n",
    "\n",
    "  zap = zam_owaty[[\"O3\", \"O2\", \"O1\", \"L1\", \"W3\"]].sum()+_wyjatki\n",
    "\n",
    "  # zap *= 1.1\n",
    "\n",
    "  print(f\"O1 zielona: {(zap['O1']/50).round(0):.0f} rolek\")\n",
    "  print(f\"O2 niebieska: {(zap['O2']/40).round(0):.0f} rolek\")\n",
    "  print(f\"O3 czerwona: {(zap['O3']/40).round(0):.0f} rolek\")\n",
    "  # return zap\n",
    "\n",
    "\n",
    "\n",
    "def pobierz_zamowienie_z_ZAM_PIANKI(tydzien, _cls):\n",
    "  _zam = zam_pianki[(zam_pianki.TYDZIEN == tydzien) & (zam_pianki.OPIS.str.contains(_cls.MODEL))].merge(komplety_pianek[[\"KOD\", \"BRYLA_GEN\"]])[[\"OPIS\", \"BRYLA_GEN\", \"ILE_ZAMOWIONE\"]]\n",
    "  return _cls({i[1].BRYLA_GEN: i[1].ILE_ZAMOWIONE for i in _zam[[\"BRYLA_GEN\", \"ILE_ZAMOWIONE\"]].iterrows()})\n"
   ]
  },
  {
   "cell_type": "code",
   "execution_count": null,
   "metadata": {},
   "outputs": [],
   "source": [
    "zapotrzebowanie_na_owaty(oblicz_owaty_do_zamowienia(zsto, zhor),[])\n",
    "\n",
    "pd.concat([zsto, zhor]).merge(\n",
    "    oblicz_owaty_do_zamowienia(zsto, zhor)[[\"KOD\", \"O1\", \"O2\", \"O3\", \"L1\",\"W3\"]].fillna(0),\n",
    "    how=\"left\",\n",
    "    on=\"KOD\").rename(columns={\"O1\":\"ZIELONA\", \"O2\":\"NIEBIESKA\", \"O3\":\"CZERWONA\", \"L1\":\"ŻÓŁTA\"})#.to_excel(\"PIANPOL_2408.xlsx\")"
   ]
  },
  {
   "cell_type": "code",
   "execution_count": null,
   "metadata": {},
   "outputs": [],
   "source": [
    "from modele_db import *\n",
    "pozycje = list()\n",
    "\n",
    "\n",
    "def Dodaj_pozycje_do_ZAM_PIANKI(tydzien, zancznik_dostawcy, nr_kompletacji, modele:pd.DataFrame, klasa, zam1=None, zam2=None, nr_partii=None, DODAJ_DO_BAZY = False):\n",
    "\n",
    "  model = klasa.MODEL\n",
    "  galanteria = klasa.galanteria\n",
    "  siedziska_HR = klasa.siedziska_HR\n",
    "  leniwa = klasa.leniwa\n",
    "\n",
    "  for r in modele.iterrows():\n",
    "    # tydzien, model, kod, opis, ile_zam, znacznik_dostawcy, galanteria, siedziska_HR, leniwa, nr_kompletacji=None, zam1=None, zam2=None, nr_partii=None\n",
    "    pozycje.append([tydzien, model, r[1].KOD, r[1].OPIS, r[1].DO_ZAMOWIENIA, zancznik_dostawcy, galanteria, siedziska_HR, leniwa, nr_kompletacji, zam1, zam2, \"nr_partii: \" + nr_partii])\n",
    "\n",
    "  if DODAJ_DO_BAZY:\n",
    "\n",
    "    for r in modele.iterrows():\n",
    "      session.add(ZAM_PIANKI(tydzien, model, r[1].KOD, r[1].OPIS, r[1].DO_ZAMOWIENIA, zancznik_dostawcy, galanteria, siedziska_HR, leniwa, nr_kompletacji, zam1, zam2, \"nr_partii: \" + nr_partii))\n",
    "\n",
    "    session.commit()\n",
    "\n",
    "\n",
    "#dos 24/0242 sto 2_24, hor 3_24, nr_sam VITA 7_24,  nr partii 08/01\n",
    "\n",
    "# Dodaj_pozycje_do_ZAM_PIANKI(2407, \"P\", \"2_24\", zoxy, oxy, \"24/0216\", nr_partii=\"07/01,\")#, DODAJ_DO_BAZY=True)\n",
    "\n",
    "pd.DataFrame(pozycje)"
   ]
  }
 ],
 "metadata": {
  "kernelspec": {
   "display_name": ".venv",
   "language": "python",
   "name": "python3"
  },
  "language_info": {
   "codemirror_mode": {
    "name": "ipython",
    "version": 3
   },
   "file_extension": ".py",
   "mimetype": "text/x-python",
   "name": "python",
   "nbconvert_exporter": "python",
   "pygments_lexer": "ipython3",
   "version": "3.11.6"
  }
 },
 "nbformat": 4,
 "nbformat_minor": 2
}
