{
 "cells": [
  {
   "cell_type": "code",
   "execution_count": 2,
   "metadata": {},
   "outputs": [],
   "source": [
    "from Pianki.Analiza_pianek.Analiza_rodziny import Analiza_Rodziny\n",
    "from Pianki.Modele_pianek import *\n",
    "from Pianki.Raporty_do_zamowien.Komponowanie_zamowienia import Raport_zamowionych_pianek_i_owat\n",
    "from Pianki.Raporty_do_zamowien import *\n",
    "import warnings\n",
    "warnings.filterwarnings('ignore')"
   ]
  },
  {
   "cell_type": "markdown",
   "metadata": {},
   "source": [
    "1. Bryly do zamówienia:\n",
    "* `Analiza_Rodziny(SAMOA_P).Bryly_do_zamowienia(wszystkie_bryly=True, lista_korekty_zam=True)`\n",
    "*   `SAMOA_P` klasa opisujaca model do zamówienia\n",
    "* `Bryly_do_zamowienia(wszystkie_bryly=True, lista_korekty_zam=True)` Funkcja wywołująca listę brył do zamówienia\n",
    "2. Przypisanie brył do zmiennych i obliczenie obiętosci zamówienia\n",
    "* `zsam, sam =Analiza_Rodziny(SAMOA_P).Bryly_do_zamowienia(wszystkie_bryly=True, korekta_zam={'1,5': 70.0, 'Pufa 100x82': 20.0,})`\n",
    "* `zsam` tabelka z zamówionymi bryłmi\n",
    "* `sam` klasa z piankami i obiętościami\n",
    "* `korekta_zam={'1,5': 70.0, 'Pufa 100x82': 20.0,}` korekta listy zamówienia, "
   ]
  },
  {
   "cell_type": "code",
   "execution_count": 3,
   "metadata": {},
   "outputs": [],
   "source": [
    "zsto, sto = Analiza_Rodziny(STONE_P).Bryly_do_zamowienia(wszystkie_bryly=True, korekta_zam={\n",
    "    '1,5': 40,\n",
    "    # '2,5': 6.0,\n",
    "    '3': 30.0,\n",
    "    # '4': 15.0,\n",
    "    # '5': 0.0,\n",
    "    # 'ON': 15.0,\n",
    "    'NW140x150': 25.0,\n",
    "    'NW MEM': 40.0,\n",
    "    'WN MEM': 60.0,\n",
    "    '[LH': 10.0,\n",
    "    # 'E30': 2.0,\n",
    "    # 'P106x106': 1.0,\n",
    "    # 'P106x82': 4.0,\n",
    "    # 'P82x82': 3.0,\n",
    "    # 'Z50': 8.0,\n",
    "    # 'Z70': 0.0,\n",
    "    'STONE ][': 50.0,\n",
    "    # 'CUPIDO ][': 0.0\n",
    " })\n",
    "\n",
    "zeli, eli = Analiza_Rodziny(ELIXIR_P).Bryly_do_zamowienia(wszystkie_bryly=True, korekta_zam={\n",
    "    # '2,5': 5.0,\n",
    "    '3': 15.0,\n",
    "    '3,5': 30.0,\n",
    "    '4': 40.0,\n",
    "    'N': 40.0,\n",
    "    '[': 65.0,\n",
    "    'Pufa 98x120': 10.0,\n",
    "    # 'Pufa 98x100': 0.0\n",
    " })"
   ]
  },
  {
   "cell_type": "code",
   "execution_count": 4,
   "metadata": {},
   "outputs": [
    {
     "data": {
      "text/plain": [
       "(45.76474999999999, 0, 0)"
      ]
     },
     "execution_count": 4,
     "metadata": {},
     "output_type": "execute_result"
    }
   ],
   "source": [
    "sto.pianpol_VOL, sto.ciech_VOL, sto.vita_VOL"
   ]
  },
  {
   "cell_type": "code",
   "execution_count": 5,
   "metadata": {},
   "outputs": [],
   "source": [
    "zmod = [zsto, zeli]"
   ]
  },
  {
   "cell_type": "code",
   "execution_count": 6,
   "metadata": {},
   "outputs": [
    {
     "name": "stdout",
     "output_type": "stream",
     "text": [
      "O1 zielona: 5 rolek\n",
      "O2 niebieska: 0 rolek\n",
      "O3 czerwona: 22 rolek\n"
     ]
    },
    {
     "data": {
      "text/plain": [
       "Index(['KOD', 'OPIS', 'DO_ZAMOWIENIA', 'ZIELONA', 'NIEBIESKA', 'CZERWONA',\n",
       "       'ŻÓŁTA', 'W3'],\n",
       "      dtype='object')"
      ]
     },
     "execution_count": 6,
     "metadata": {},
     "output_type": "execute_result"
    }
   ],
   "source": [
    "df, _ = Raport_zamowionych_pianek_i_owat(zmod)#, \"PIANPOL_2421.xlsx\")\n",
    "df.columns"
   ]
  },
  {
   "cell_type": "code",
   "execution_count": 8,
   "metadata": {},
   "outputs": [],
   "source": [
    "\n",
    "# Dodaj_pozycje_do_ZAM_PIANKI(2420, \"P\", \"3_24\", zsam, sam, \"24/0516\", nr_partii=\"20/01\")#, DODAJ_DO_BAZY=True)\n",
    "# Dodaj_pozycje_do_ZAM_PIANKI(2420, \"P\", \"2_24\", zhud, hud, \"24/0516\", nr_partii=\"20/01\")#, DODAJ_DO_BAZY=True)\n",
    "# Dodaj_pozycje_do_ZAM_PIANKI(2420, \"P\", \"3_24\", zcoc, coc, \"24/0516\", nr_partii=\"20/01\")#, DODAJ_DO_BAZY=True)\n",
    "# Dodaj_pozycje_do_ZAM_PIANKI(2420, \"P\", \"3_24\", zcal, cal, \"24/0516\", nr_partii=\"20/01\")#, DODAJ_DO_BAZY=True)\n",
    "\n",
    "\n",
    "\n"
   ]
  },
  {
   "cell_type": "code",
   "execution_count": 5,
   "metadata": {},
   "outputs": [
    {
     "data": {
      "text/html": [
       "<div>\n",
       "<style scoped>\n",
       "    .dataframe tbody tr th:only-of-type {\n",
       "        vertical-align: middle;\n",
       "    }\n",
       "\n",
       "    .dataframe tbody tr th {\n",
       "        vertical-align: top;\n",
       "    }\n",
       "\n",
       "    .dataframe thead th {\n",
       "        text-align: right;\n",
       "    }\n",
       "</style>\n",
       "<table border=\"1\" class=\"dataframe\">\n",
       "  <thead>\n",
       "    <tr style=\"text-align: right;\">\n",
       "      <th></th>\n",
       "      <th>NUMER</th>\n",
       "      <th>ilosc</th>\n",
       "      <th>VOL</th>\n",
       "      <th>TYP</th>\n",
       "      <th>PROFIL</th>\n",
       "      <th>OZN</th>\n",
       "      <th>OPIS</th>\n",
       "      <th>WYMIAR</th>\n",
       "      <th>br1</th>\n",
       "      <th>br2</th>\n",
       "      <th>br3</th>\n",
       "      <th>br4</th>\n",
       "      <th>br5</th>\n",
       "    </tr>\n",
       "  </thead>\n",
       "  <tbody>\n",
       "    <tr>\n",
       "      <th>70</th>\n",
       "      <td>FA0101</td>\n",
       "      <td>20</td>\n",
       "      <td>0.6400</td>\n",
       "      <td>G-401</td>\n",
       "      <td>None</td>\n",
       "      <td>format</td>\n",
       "      <td>siedzisko</td>\n",
       "      <td>50x800x800</td>\n",
       "      <td>HOR P82x82 20szt</td>\n",
       "      <td></td>\n",
       "      <td></td>\n",
       "      <td></td>\n",
       "      <td></td>\n",
       "    </tr>\n",
       "    <tr>\n",
       "      <th>71</th>\n",
       "      <td>FA0125</td>\n",
       "      <td>50</td>\n",
       "      <td>1.0500</td>\n",
       "      <td>G-401</td>\n",
       "      <td>None</td>\n",
       "      <td>format</td>\n",
       "      <td>siedzisko</td>\n",
       "      <td>50x600x700</td>\n",
       "      <td>HOR 2,5z 50szt</td>\n",
       "      <td></td>\n",
       "      <td></td>\n",
       "      <td></td>\n",
       "      <td></td>\n",
       "    </tr>\n",
       "    <tr>\n",
       "      <th>72</th>\n",
       "      <td>FA0127</td>\n",
       "      <td>150</td>\n",
       "      <td>3.6000</td>\n",
       "      <td>G-401</td>\n",
       "      <td>None</td>\n",
       "      <td>format</td>\n",
       "      <td>siedzisko</td>\n",
       "      <td>50x600x800</td>\n",
       "      <td>HOR 1z 150szt</td>\n",
       "      <td></td>\n",
       "      <td></td>\n",
       "      <td></td>\n",
       "      <td></td>\n",
       "    </tr>\n",
       "    <tr>\n",
       "      <th>73</th>\n",
       "      <td>FA0128</td>\n",
       "      <td>200</td>\n",
       "      <td>5.4000</td>\n",
       "      <td>G-401</td>\n",
       "      <td>None</td>\n",
       "      <td>format</td>\n",
       "      <td>siedzisko</td>\n",
       "      <td>50x600x900</td>\n",
       "      <td>HOR [L2Hz 50szt</td>\n",
       "      <td>HOR 1,5z 150szt</td>\n",
       "      <td></td>\n",
       "      <td></td>\n",
       "      <td></td>\n",
       "    </tr>\n",
       "    <tr>\n",
       "      <th>74</th>\n",
       "      <td>FA0200</td>\n",
       "      <td>30</td>\n",
       "      <td>2.3625</td>\n",
       "      <td>G-401</td>\n",
       "      <td>None</td>\n",
       "      <td>format</td>\n",
       "      <td>siedzisko</td>\n",
       "      <td>50x900x1750</td>\n",
       "      <td>HOR [LHz 30szt</td>\n",
       "      <td></td>\n",
       "      <td></td>\n",
       "      <td></td>\n",
       "      <td></td>\n",
       "    </tr>\n",
       "    <tr>\n",
       "      <th>75</th>\n",
       "      <td>FA0201</td>\n",
       "      <td>80</td>\n",
       "      <td>0.5616</td>\n",
       "      <td>G-401</td>\n",
       "      <td>None</td>\n",
       "      <td>format</td>\n",
       "      <td>siedzisko</td>\n",
       "      <td>50x260x540</td>\n",
       "      <td>HOR [LHz 30szt</td>\n",
       "      <td>HOR [L2Hz 50szt</td>\n",
       "      <td></td>\n",
       "      <td></td>\n",
       "      <td></td>\n",
       "    </tr>\n",
       "    <tr>\n",
       "      <th>76</th>\n",
       "      <td>FA0202</td>\n",
       "      <td>50</td>\n",
       "      <td>3.1725</td>\n",
       "      <td>G-401</td>\n",
       "      <td>None</td>\n",
       "      <td>format</td>\n",
       "      <td>siedzisko</td>\n",
       "      <td>50x900x1410</td>\n",
       "      <td>HOR [L2Hz 50szt</td>\n",
       "      <td></td>\n",
       "      <td></td>\n",
       "      <td></td>\n",
       "      <td></td>\n",
       "    </tr>\n",
       "  </tbody>\n",
       "</table>\n",
       "</div>"
      ],
      "text/plain": [
       "     NUMER  ilosc     VOL    TYP PROFIL     OZN       OPIS       WYMIAR  \\\n",
       "70  FA0101     20  0.6400  G-401   None  format  siedzisko   50x800x800   \n",
       "71  FA0125     50  1.0500  G-401   None  format  siedzisko   50x600x700   \n",
       "72  FA0127    150  3.6000  G-401   None  format  siedzisko   50x600x800   \n",
       "73  FA0128    200  5.4000  G-401   None  format  siedzisko   50x600x900   \n",
       "74  FA0200     30  2.3625  G-401   None  format  siedzisko  50x900x1750   \n",
       "75  FA0201     80  0.5616  G-401   None  format  siedzisko   50x260x540   \n",
       "76  FA0202     50  3.1725  G-401   None  format  siedzisko  50x900x1410   \n",
       "\n",
       "                 br1              br2 br3 br4 br5  \n",
       "70  HOR P82x82 20szt                               \n",
       "71    HOR 2,5z 50szt                               \n",
       "72     HOR 1z 150szt                               \n",
       "73   HOR [L2Hz 50szt  HOR 1,5z 150szt              \n",
       "74    HOR [LHz 30szt                               \n",
       "75    HOR [LHz 30szt  HOR [L2Hz 50szt              \n",
       "76   HOR [L2Hz 50szt                               "
      ]
     },
     "execution_count": 5,
     "metadata": {},
     "output_type": "execute_result"
    }
   ],
   "source": [
    "hor = pobierz_zamowienie_z_ZAM_PIANKI(2422, HORIZON_PV)\n",
    "# raport_dostarczonych_pianek(gre, \"24/0327\",)\n",
    "hor.pianpol"
   ]
  },
  {
   "cell_type": "code",
   "execution_count": 7,
   "metadata": {},
   "outputs": [],
   "source": [
    "# Wozki_do_dostawy(\"VITA\",\"24/0558\",zam=\"ZAM2\", drukuj_do_excel=True)"
   ]
  },
  {
   "cell_type": "code",
   "execution_count": 11,
   "metadata": {},
   "outputs": [],
   "source": [
    "# raport_dostarczonych_pianek(sam, \"24/0516\",True)\n",
    "# raport_dostarczonych_pianek(hud, \"24/0516\",True)\n",
    "# raport_dostarczonych_pianek(coc, \"24/0516\",True)\n",
    "# raport_dostarczonych_pianek(cal, \"24/0516\",True)\n",
    "\n",
    "\n"
   ]
  },
  {
   "cell_type": "code",
   "execution_count": 4,
   "metadata": {},
   "outputs": [
    {
     "name": "stdout",
     "output_type": "stream",
     "text": [
      "OWATY HORIZON 5_24  1z.xlsx\n",
      "OWATY HORIZON 5_24  1,5z.xlsx\n",
      "OWATY HORIZON 5_24  2,5z.xlsx\n",
      "OWATY HORIZON 5_24  LHz][.xlsx\n",
      "OWATY HORIZON 5_24  L2Hz][.xlsx\n",
      "OWATY HORIZON 5_24  P82x82.xlsx\n",
      "OWATY HORIZON 5_24  ][.xlsx\n",
      "path: Z:/160. ROZKRÓJ PIANEK/160.10 DOSTAWY PIANEK/160.10.60 ZLECENIE DOKLADANIE OWAT I PIANEK/HORIZON/HORIZON 5_24/\n",
      "KOMPLETACJA HORIZON 5_24  1z.xlsx\n",
      "KOMPLETACJA HORIZON 5_24  1,5z.xlsx\n",
      "KOMPLETACJA HORIZON 5_24  2,5z.xlsx\n",
      "KOMPLETACJA HORIZON 5_24  LHz][.xlsx\n",
      "KOMPLETACJA HORIZON 5_24  L2Hz][.xlsx\n",
      "KOMPLETACJA HORIZON 5_24  P82x82.xlsx\n",
      "KOMPLETACJA HORIZON 5_24  ][.xlsx\n"
     ]
    }
   ],
   "source": [
    "# zlecenia_produkcyjne_pianki_owaty(\"SAMOA\", \"3_24\", \"20/01\")\n",
    "# zlecenia_produkcyjne_pianki_owaty(\"HUDSON\", \"2_24\", \"20/01\")\n",
    "# zlecenia_produkcyjne_pianki_owaty(\"COCO\", \"3_24\", \"20/01\")\n",
    "# zlecenia_produkcyjne_pianki_owaty(\"CALYPSO\", \"3_24\", \"20/01\")\n",
    "# zlecenia_produkcyjne_pianki_owaty(\"HORIZON\", \"5_24\", \"22/01\")\n",
    "\n",
    "\n",
    "# zlecenia_produkcyjne_pianki_kompletacja(\"HORIZON\", \"5_24\", \"22/01\")\n",
    "# zlecenia_produkcyjne_pianki_kompletacja(\"HUDSON\", \"2_24\", \"20/01\")\n",
    "# zlecenia_produkcyjne_pianki_kompletacja(\"CALYPSO\", \"3_24\", \"20/01\")\n",
    "# zlecenia_produkcyjne_pianki_kompletacja(\"COCO\", \"3_24\", \"20/01\")\n"
   ]
  },
  {
   "cell_type": "code",
   "execution_count": 13,
   "metadata": {},
   "outputs": [],
   "source": [
    "# ava.olta.to_excel(\"AVANT_MEMORY.xlsx\")"
   ]
  },
  {
   "cell_type": "code",
   "execution_count": 1,
   "metadata": {},
   "outputs": [],
   "source": [
    "from Modele_db import engine, text\n",
    "import openpyxl\n",
    "\n",
    "def naklejki_excell():\n",
    "    with engine.begin() as conn:\n",
    "        zp = conn.execute(text(f\"\"\"SELECT MODEL, NR_KOMPLETACJI, OPIS, ILE_ZAMOWIONE,\n",
    "                        NR_PARTII from ZAM_PIANKI WHERE ZAM1 in('24/0486') --AND OPIS NOT LIKE '%AVANT%'\"\"\"))\n",
    "    \n",
    "    zam_pianki = zp.fetchall()\n",
    "    zam_pianki\n",
    "\n",
    "    wb = openpyxl.Workbook()\n",
    "    sheet = wb.active\n",
    "\n",
    "    #NALKEJKI PIANEK\n",
    "    for row in zam_pianki:\n",
    "       \n",
    "        for i in range(row[3]):\n",
    "           \n",
    "            sheet.append([f\"NR PARTII: {row[4]}\", f\"NR KOMPLETACJI: {row[1]}\", f\"NR PACZKI: {i+1}/{row[3]}\"])\n",
    "            sheet.append([row[0]]) #MODEL\n",
    "            sheet.append([row[2].replace(row[0], \"\").strip()]) #BRYLA\n",
    "            sheet.append([\"PACZKA JAKOŚĆ NR PRAC\", \"UWAGI\", \"NR PAKUJĄCEGO\"])\n",
    "\n",
    "   \n",
    "    #NAKLEJKI OWAT\n",
    "    for row in zam_pianki:\n",
    "       \n",
    "        for i in range(row[3]):\n",
    "           \n",
    "            sheet.append([f\"NR PARTII: {row[4]}\", f\"OWATY\", f\"\"])\n",
    "            sheet.append([row[0]]) #MODEL\n",
    "            sheet.append([row[2].replace(row[0], \"\").strip()]) #BRYLA\n",
    "            sheet.append([\"UWAGI\", \"NR PAKUJĄCEGO\"])\n",
    "\n",
    "    wb.save(\"nakl.xlsx\")\n",
    "\n",
    "naklejki_excell()\n"
   ]
  },
  {
   "cell_type": "code",
   "execution_count": null,
   "metadata": {},
   "outputs": [],
   "source": []
  }
 ],
 "metadata": {
  "kernelspec": {
   "display_name": ".venv",
   "language": "python",
   "name": "python3"
  },
  "language_info": {
   "codemirror_mode": {
    "name": "ipython",
    "version": 3
   },
   "file_extension": ".py",
   "mimetype": "text/x-python",
   "name": "python",
   "nbconvert_exporter": "python",
   "pygments_lexer": "ipython3",
   "version": "3.11.6"
  }
 },
 "nbformat": 4,
 "nbformat_minor": 2
}
