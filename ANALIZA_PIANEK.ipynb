{
 "cells": [
  {
   "cell_type": "code",
   "execution_count": 1,
   "metadata": {},
   "outputs": [],
   "source": [
    "from Modele_db.modele_db import *\n",
    "from Pianki.Analiza_pianek.funkcje_analizy_pianek import *\n",
    "\n",
    "# pd.set_option()"
   ]
  },
  {
   "cell_type": "code",
   "execution_count": null,
   "metadata": {},
   "outputs": [],
   "source": [
    "analiza[analiza.OPIS.str.contains(\"GOYA\")]"
   ]
  },
  {
   "cell_type": "code",
   "execution_count": 2,
   "metadata": {},
   "outputs": [
    {
     "name": "stdout",
     "output_type": "stream",
     "text": [
      "OBIĘTOSC PACZEK (Z OWATAMI)\n",
      "17/01: 161m3\n",
      "18/01: 128m3\n",
      "18/03: 18m3\n",
      "WST: 125m3\n",
      "Objetość wszystkich paczek: 433m3\n",
      "PW 24/42 spakowano: 47M3\n"
     ]
    }
   ],
   "source": [
    "Podsumowanie_paczek_i_Pw(\"24/42\")"
   ]
  },
  {
   "cell_type": "code",
   "execution_count": null,
   "metadata": {},
   "outputs": [],
   "source": [
    "br = Braki(WOLNE=\"SALDO\")[0] #USUNAC PROBLEM Z DUBLUJACYMI SIE ZAMOWIANIAMI(JEDNO DOSTARCZONE DRUGIE W DRODZE TWORZĄ SIĘ DWIE POZYCJE)\n",
    "br.sort_values(by=[\"GRUPA\", \"OPIS\"])\n",
    "# br.to_excel(\"BRAKI.xlsx\")"
   ]
  },
  {
   "cell_type": "code",
   "execution_count": null,
   "metadata": {},
   "outputs": [],
   "source": [
    "Zagrozone(WOLNE=\"SALDO\")\n",
    "zgr = Zagrozone(False,WOLNE=\"SALDO\")\n",
    "# zgr\n",
    "# zgr[((zgr.ZAMOWIONE + zgr.CZEKA_NA_SPAKOWANIE) == 0)]\n",
    "# zgr[(zgr.SALDO < zgr.MIN)]\n",
    "zgr[((zgr.ZAMOWIONE + zgr.CZEKA_NA_SPAKOWANIE) == 0)&(zgr.SALDO < zgr.MIN)]"
   ]
  },
  {
   "cell_type": "code",
   "execution_count": null,
   "metadata": {},
   "outputs": [],
   "source": [
    "Ogolna_analiza_objetosci()\n",
    "print(\"---\\nZAPEŁNIENIE MAGAZYNU\")\n",
    "Ogolna_analiza_objetosci(\"podsum_prc\")"
   ]
  },
  {
   "cell_type": "code",
   "execution_count": null,
   "metadata": {},
   "outputs": [],
   "source": [
    "#IMPORT ANAMLIZY PIANEK\n",
    "from Pianki.Analiza_pianek.instrukcje_zamawiana import instrukcja_zamawiania_pianpol as izp, instrukcja_zamawiania_ciech as izc\n",
    "from Pianki.Analiza_pianek.Podsumowanie_analizy_pianek import Podsumowanie_analizy_pianek\n",
    "\n",
    "arp = Podsumowanie_analizy_pianek(izp)\n",
    "# arc = Podsumowanie_analizy_pianek(izc)\n",
    "\n"
   ]
  },
  {
   "cell_type": "code",
   "execution_count": null,
   "metadata": {},
   "outputs": [],
   "source": [
    "arp[\"GOYA\"].ar"
   ]
  },
  {
   "cell_type": "code",
   "execution_count": null,
   "metadata": {},
   "outputs": [],
   "source": [
    "arp.Tabela_podsumowania_analizy"
   ]
  },
  {
   "cell_type": "code",
   "execution_count": null,
   "metadata": {},
   "outputs": [],
   "source": [
    "\"sqlite:///Z:/450. PLANISTA - ZAOPATRZENIE/ARCHIWUM_ANALIZ.db\"\n",
    "\n"
   ]
  },
  {
   "cell_type": "code",
   "execution_count": null,
   "metadata": {},
   "outputs": [],
   "source": [
    "# Zapis_danych_do_Archiwum(24X, analiza, arp._Tabela_podsumowania_analizy, \"sqlite:///Z:/450. PLANISTA - ZAOPATRZENIE/ARCHIWUM_ANALIZ.db\")"
   ]
  },
  {
   "cell_type": "code",
   "execution_count": null,
   "metadata": {},
   "outputs": [],
   "source": []
  }
 ],
 "metadata": {
  "kernelspec": {
   "display_name": ".venv",
   "language": "python",
   "name": "python3"
  },
  "language_info": {
   "codemirror_mode": {
    "name": "ipython",
    "version": 3
   },
   "file_extension": ".py",
   "mimetype": "text/x-python",
   "name": "python",
   "nbconvert_exporter": "python",
   "pygments_lexer": "ipython3",
   "version": "3.11.6"
  }
 },
 "nbformat": 4,
 "nbformat_minor": 2
}
