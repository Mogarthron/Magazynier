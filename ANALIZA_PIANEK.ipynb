{
 "cells": [
  {
   "cell_type": "code",
   "execution_count": null,
   "metadata": {},
   "outputs": [],
   "source": [
    "# from Pianki.Analiza_pianek import saldo, naliczone, wstrzymane, pda\n",
    "# from Pianki.Analiza_pianek.przygotowanie_danych import aktualizuj_saldo, aktualizuj_zamowienia\n",
    "# aktualizuj_saldo()\n",
    "# aktualizuj_zamowienia(pda, \"2024-08-12\")\n"
   ]
  },
  {
   "cell_type": "code",
   "execution_count": 1,
   "metadata": {},
   "outputs": [],
   "source": [
    "from Modele_db.modele_db import *\n",
    "from Pianki.Analiza_pianek.funkcje_analizy_pianek import *\n",
    "\n",
    "# pd.set_option()"
   ]
  },
  {
   "cell_type": "code",
   "execution_count": 2,
   "metadata": {},
   "outputs": [
    {
     "data": {
      "text/html": [
       "<div>\n",
       "<style scoped>\n",
       "    .dataframe tbody tr th:only-of-type {\n",
       "        vertical-align: middle;\n",
       "    }\n",
       "\n",
       "    .dataframe tbody tr th {\n",
       "        vertical-align: top;\n",
       "    }\n",
       "\n",
       "    .dataframe thead th {\n",
       "        text-align: right;\n",
       "    }\n",
       "</style>\n",
       "<table border=\"1\" class=\"dataframe\">\n",
       "  <thead>\n",
       "    <tr style=\"text-align: right;\">\n",
       "      <th></th>\n",
       "      <th>ZAPOTRZ</th>\n",
       "      <th>ROLKI</th>\n",
       "      <th>ILE ROLEK ZPOTRZ</th>\n",
       "    </tr>\n",
       "  </thead>\n",
       "  <tbody>\n",
       "    <tr>\n",
       "      <th>L1</th>\n",
       "      <td>134.10</td>\n",
       "      <td>60.0</td>\n",
       "      <td>2.23500</td>\n",
       "    </tr>\n",
       "    <tr>\n",
       "      <th>O1</th>\n",
       "      <td>1274.15</td>\n",
       "      <td>50.0</td>\n",
       "      <td>25.48300</td>\n",
       "    </tr>\n",
       "    <tr>\n",
       "      <th>O2</th>\n",
       "      <td>558.50</td>\n",
       "      <td>40.0</td>\n",
       "      <td>13.96250</td>\n",
       "    </tr>\n",
       "    <tr>\n",
       "      <th>O3</th>\n",
       "      <td>2421.55</td>\n",
       "      <td>40.0</td>\n",
       "      <td>60.53875</td>\n",
       "    </tr>\n",
       "    <tr>\n",
       "      <th>W3</th>\n",
       "      <td>737.50</td>\n",
       "      <td>1000.0</td>\n",
       "      <td>0.73750</td>\n",
       "    </tr>\n",
       "  </tbody>\n",
       "</table>\n",
       "</div>"
      ],
      "text/plain": [
       "    ZAPOTRZ   ROLKI  ILE ROLEK ZPOTRZ\n",
       "L1   134.10    60.0           2.23500\n",
       "O1  1274.15    50.0          25.48300\n",
       "O2   558.50    40.0          13.96250\n",
       "O3  2421.55    40.0          60.53875\n",
       "W3   737.50  1000.0           0.73750"
      ]
     },
     "execution_count": 2,
     "metadata": {},
     "output_type": "execute_result"
    }
   ],
   "source": [
    "from Modele_db.modele_db import ZAM_PIANKI, OWATY, session\n",
    "import pandas as pd\n",
    "\n",
    "owaty_w_toku = pd.DataFrame(session.query(ZAM_PIANKI.nr_partii, ZAM_PIANKI.opis, ZAM_PIANKI.ile_zam).filter(\n",
    "                    ZAM_PIANKI.owaty_kompletacja == None, ZAM_PIANKI.data_zakonczenia == None).all(),\n",
    "            columns=[\"NR_PARTII\", \"OPIS\", \"ILE_ZAM\"]).merge(\n",
    "    pd.pivot_table(pd.DataFrame(session.query(OWATY.OPIS, OWATY.TYP_OWATY, OWATY.ZUZYCIE).all()), values=\"ZUZYCIE\", columns=\"TYP_OWATY\", index=\"OPIS\", fill_value=0),\n",
    "    how=\"left\",\n",
    "    on=\"OPIS\"\n",
    ").dropna(axis=0)\n",
    "\n",
    "owaty_w_toku[\"L1\"] = owaty_w_toku.L1 * owaty_w_toku.ILE_ZAM  \n",
    "owaty_w_toku[\"O1\"] = owaty_w_toku.O1 * owaty_w_toku.ILE_ZAM  \n",
    "owaty_w_toku[\"O2\"] = owaty_w_toku.O2 * owaty_w_toku.ILE_ZAM  \n",
    "owaty_w_toku[\"O3\"] = owaty_w_toku.O3 * owaty_w_toku.ILE_ZAM  \n",
    "owaty_w_toku[\"W3\"] = owaty_w_toku.W3 * owaty_w_toku.ILE_ZAM  \n",
    "           \n",
    "\n",
    "ozn_owat = {                  #g/m2, szer, mb\n",
    "    \"O1\": [\"B/16/150 (1.6x50)\", 150, 1.6, 50, \"zielona\", \"73.115.00001\"],\n",
    "    \"O2\": [\"B/16/200 (1.2x40)\", 200, 1.2, 40, \"niebieska\", \"73.120.00001\"],\n",
    "    \"O3\": [\"B/16/200 (1.6x40)\", 200, 1.6, 40, \"czerwona\", \"73.120.00002\"],\n",
    "}\n",
    "\n",
    "owaty_podsumowanie = owaty_w_toku.iloc[:,3:].sum()\n",
    "owaty_Rolki = pd.Series({\"L1\": 60, \n",
    "                         \"O1\": 50, \n",
    "                         \"O2\": 40, \n",
    "                         \"O3\": 40, \n",
    "                         \"W3\":1000})\n",
    "\n",
    "owaty = pd.DataFrame([owaty_podsumowanie, owaty_Rolki]).T\n",
    "owaty.columns = [\"ZAPOTRZ\", \"ROLKI\"]\n",
    "owaty[\"ILE ROLEK ZPOTRZ\"] = owaty.ZAPOTRZ / owaty.ROLKI\n",
    "owaty\n"
   ]
  },
  {
   "cell_type": "code",
   "execution_count": 7,
   "metadata": {},
   "outputs": [
    {
     "data": {
      "text/plain": [
       "[(86.78499999999998,)]"
      ]
     },
     "execution_count": 7,
     "metadata": {},
     "output_type": "execute_result"
    }
   ],
   "source": [
    "from Modele_db.modele_db import session, ZAM_PIANKI, KOMPLETY_PIANEK\n",
    "from sqlalchemy import func\n",
    "from datetime import datetime as dt\n",
    "\n",
    "\n",
    "session.query(func.sum(ZAM_PIANKI.ile_zam * KOMPLETY_PIANEK.obj)).join(KOMPLETY_PIANEK, KOMPLETY_PIANEK.kod == ZAM_PIANKI.kod).filter(\n",
    "# session.query(ZAM_PIANKI.opis, ZAM_PIANKI.ile_zam, KOMPLETY_PIANEK.obj).join(KOMPLETY_PIANEK, KOMPLETY_PIANEK.kod == ZAM_PIANKI.kod).filter(\n",
    "# session.query(ZAM_PIANKI.opis, ZAM_PIANKI.ile_zam).filter(\n",
    "    ZAM_PIANKI.data_zakonczenia.between(dt(2024,11,3), dt(2024,11,10))).all()\n"
   ]
  },
  {
   "cell_type": "code",
   "execution_count": 8,
   "metadata": {},
   "outputs": [
    {
     "name": "stdout",
     "output_type": "stream",
     "text": [
      "MIN_obj:                     1767\n",
      "MAX_obj:                     3525\n",
      "ZAMOWIONE_obj:               836\n",
      "CZEKA_NA_SPAKOWANIE_obj:     408\n",
      "CZESCIOWO_DOSTARCZONE_obj:   0\n",
      "SALDO_obj:                   2302\n",
      "WOLNE_obj:                   2003\n",
      "WOLNE_NIE_SPAK_obj:          2411\n",
      "DO_ZAM_obj:                  514\n",
      "---\n",
      "ZAPEŁNIENIE MAGAZYNU\n",
      "SALDO / MAX: 65.3%\n",
      "WOLNE / MAX: 56.8%\n",
      "WOLNE_NIE_SPAK / MAX: 68.4%\n",
      "ZAPEŁNIENIE MAG PO ZDJECIU 2 PACZEK RAZEM Z ZAMOWIENIAMI: 92.1%\n"
     ]
    }
   ],
   "source": [
    "Ogolna_analiza_objetosci()\n",
    "print(\"---\\nZAPEŁNIENIE MAGAZYNU\")\n",
    "Ogolna_analiza_objetosci(\"podsum_prc\")"
   ]
  },
  {
   "cell_type": "code",
   "execution_count": null,
   "metadata": {},
   "outputs": [],
   "source": [
    "br = Braki(WOLNE=\"SALDO\")[0] #USUNAC PROBLEM Z DUBLUJACYMI SIE ZAMOWIANIAMI(JEDNO DOSTARCZONE DRUGIE W DRODZE TWORZĄ SIĘ DWIE POZYCJE)\n",
    "br.sort_values(by=[\"GRUPA\", \"OPIS\"]).drop_duplicates(\"OPIS\")\n",
    "# br.to_excel(\"BRAKI.xlsx\")"
   ]
  },
  {
   "cell_type": "code",
   "execution_count": 4,
   "metadata": {},
   "outputs": [
    {
     "name": "stdout",
     "output_type": "stream",
     "text": [
      "WOLNE PONIZEJ MIN: 84 POZYCJE\n",
      "WOLNE PONIZEJ MIN NIE ZAMOWIONE: 22 POZYCJE\n",
      "SALDO PONIZEJ MIN: 70 POZYCJE\n",
      "SALDO PONIZEJ MIN NIE ZAMOWIONE: 13 POZYCJE\n"
     ]
    },
    {
     "data": {
      "text/html": [
       "<div>\n",
       "<style scoped>\n",
       "    .dataframe tbody tr th:only-of-type {\n",
       "        vertical-align: middle;\n",
       "    }\n",
       "\n",
       "    .dataframe tbody tr th {\n",
       "        vertical-align: top;\n",
       "    }\n",
       "\n",
       "    .dataframe thead th {\n",
       "        text-align: right;\n",
       "    }\n",
       "</style>\n",
       "<table border=\"1\" class=\"dataframe\">\n",
       "  <thead>\n",
       "    <tr style=\"text-align: right;\">\n",
       "      <th></th>\n",
       "      <th>OPIS</th>\n",
       "      <th>ZAMOWIONE</th>\n",
       "      <th>CZEKA_NA_SPAKOWANIE</th>\n",
       "      <th>SALDO</th>\n",
       "      <th>MIN</th>\n",
       "      <th>WOLNE_SALDO</th>\n",
       "    </tr>\n",
       "  </thead>\n",
       "  <tbody>\n",
       "    <tr>\n",
       "      <th>7</th>\n",
       "      <td>AVANT 2</td>\n",
       "      <td>0.0</td>\n",
       "      <td>0.0</td>\n",
       "      <td>3.0</td>\n",
       "      <td>5</td>\n",
       "      <td>1.0</td>\n",
       "    </tr>\n",
       "    <tr>\n",
       "      <th>23</th>\n",
       "      <td>AVANT P64x64</td>\n",
       "      <td>0.0</td>\n",
       "      <td>0.0</td>\n",
       "      <td>7.0</td>\n",
       "      <td>10</td>\n",
       "      <td>7.0</td>\n",
       "    </tr>\n",
       "    <tr>\n",
       "      <th>94</th>\n",
       "      <td>EXTREME 1,5s</td>\n",
       "      <td>0.0</td>\n",
       "      <td>0.0</td>\n",
       "      <td>0.0</td>\n",
       "      <td>8</td>\n",
       "      <td>0.0</td>\n",
       "    </tr>\n",
       "    <tr>\n",
       "      <th>97</th>\n",
       "      <td>EXTREME [1,5s</td>\n",
       "      <td>0.0</td>\n",
       "      <td>0.0</td>\n",
       "      <td>0.0</td>\n",
       "      <td>8</td>\n",
       "      <td>0.0</td>\n",
       "    </tr>\n",
       "    <tr>\n",
       "      <th>107</th>\n",
       "      <td>EXTREME P80x105</td>\n",
       "      <td>0.0</td>\n",
       "      <td>0.0</td>\n",
       "      <td>0.0</td>\n",
       "      <td>8</td>\n",
       "      <td>0.0</td>\n",
       "    </tr>\n",
       "    <tr>\n",
       "      <th>132</th>\n",
       "      <td>HUDSON [LH</td>\n",
       "      <td>0.0</td>\n",
       "      <td>0.0</td>\n",
       "      <td>6.0</td>\n",
       "      <td>8</td>\n",
       "      <td>6.0</td>\n",
       "    </tr>\n",
       "    <tr>\n",
       "      <th>145</th>\n",
       "      <td>MAXWELL P103x92</td>\n",
       "      <td>0.0</td>\n",
       "      <td>0.0</td>\n",
       "      <td>1.0</td>\n",
       "      <td>3</td>\n",
       "      <td>1.0</td>\n",
       "    </tr>\n",
       "    <tr>\n",
       "      <th>165</th>\n",
       "      <td>ONYX [LA</td>\n",
       "      <td>0.0</td>\n",
       "      <td>0.0</td>\n",
       "      <td>6.0</td>\n",
       "      <td>8</td>\n",
       "      <td>3.0</td>\n",
       "    </tr>\n",
       "    <tr>\n",
       "      <th>197</th>\n",
       "      <td>RITZ 4</td>\n",
       "      <td>0.0</td>\n",
       "      <td>0.0</td>\n",
       "      <td>0.0</td>\n",
       "      <td>4</td>\n",
       "      <td>0.0</td>\n",
       "    </tr>\n",
       "    <tr>\n",
       "      <th>219</th>\n",
       "      <td>SPECTRA ][</td>\n",
       "      <td>0.0</td>\n",
       "      <td>0.0</td>\n",
       "      <td>34.0</td>\n",
       "      <td>50</td>\n",
       "      <td>32.0</td>\n",
       "    </tr>\n",
       "    <tr>\n",
       "      <th>233</th>\n",
       "      <td>STONE P106x106</td>\n",
       "      <td>0.0</td>\n",
       "      <td>0.0</td>\n",
       "      <td>7.0</td>\n",
       "      <td>10</td>\n",
       "      <td>5.0</td>\n",
       "    </tr>\n",
       "    <tr>\n",
       "      <th>279</th>\n",
       "      <td>MISTRAL 3</td>\n",
       "      <td>0.0</td>\n",
       "      <td>0.0</td>\n",
       "      <td>9.0</td>\n",
       "      <td>10</td>\n",
       "      <td>9.0</td>\n",
       "    </tr>\n",
       "    <tr>\n",
       "      <th>281</th>\n",
       "      <td>MISTRAL 4</td>\n",
       "      <td>0.0</td>\n",
       "      <td>0.0</td>\n",
       "      <td>8.0</td>\n",
       "      <td>10</td>\n",
       "      <td>7.0</td>\n",
       "    </tr>\n",
       "  </tbody>\n",
       "</table>\n",
       "</div>"
      ],
      "text/plain": [
       "                OPIS  ZAMOWIONE  CZEKA_NA_SPAKOWANIE  SALDO  MIN  WOLNE_SALDO\n",
       "7            AVANT 2        0.0                  0.0    3.0    5          1.0\n",
       "23      AVANT P64x64        0.0                  0.0    7.0   10          7.0\n",
       "94      EXTREME 1,5s        0.0                  0.0    0.0    8          0.0\n",
       "97     EXTREME [1,5s        0.0                  0.0    0.0    8          0.0\n",
       "107  EXTREME P80x105        0.0                  0.0    0.0    8          0.0\n",
       "132       HUDSON [LH        0.0                  0.0    6.0    8          6.0\n",
       "145  MAXWELL P103x92        0.0                  0.0    1.0    3          1.0\n",
       "165         ONYX [LA        0.0                  0.0    6.0    8          3.0\n",
       "197           RITZ 4        0.0                  0.0    0.0    4          0.0\n",
       "219       SPECTRA ][        0.0                  0.0   34.0   50         32.0\n",
       "233   STONE P106x106        0.0                  0.0    7.0   10          5.0\n",
       "279        MISTRAL 3        0.0                  0.0    9.0   10          9.0\n",
       "281        MISTRAL 4        0.0                  0.0    8.0   10          7.0"
      ]
     },
     "execution_count": 4,
     "metadata": {},
     "output_type": "execute_result"
    }
   ],
   "source": [
    "Zagrozone(WOLNE=\"SALDO\")\n",
    "zgr = Zagrozone(False,WOLNE=\"SALDO\")\n",
    "# zgr\n",
    "# zgr[((zgr.ZAMOWIONE + zgr.CZEKA_NA_SPAKOWANIE) == 0)]\n",
    "# zgr[(zgr.SALDO < zgr.MIN)]\n",
    "zgr[((zgr.ZAMOWIONE + zgr.CZEKA_NA_SPAKOWANIE) == 0)&(zgr.SALDO < zgr.MIN)]"
   ]
  },
  {
   "cell_type": "code",
   "execution_count": null,
   "metadata": {},
   "outputs": [],
   "source": [
    "#IMPORT ANAMLIZY PIANEK\n",
    "from Pianki.Analiza_pianek.instrukcje_zamawiana import instrukcja_zamawiania_pianpol as izp\n",
    "from Pianki.Analiza_pianek.Podsumowanie_analizy_pianek import Podsumowanie_analizy_pianek\n",
    "\n",
    "arp = Podsumowanie_analizy_pianek(izp)\n",
    "# arc = Podsumowanie_analizy_pianek(izc)"
   ]
  },
  {
   "cell_type": "code",
   "execution_count": null,
   "metadata": {},
   "outputs": [],
   "source": [
    "arp"
   ]
  },
  {
   "cell_type": "code",
   "execution_count": null,
   "metadata": {},
   "outputs": [],
   "source": [
    "arp._Tabela_podsumowania_analizy"
   ]
  },
  {
   "cell_type": "code",
   "execution_count": null,
   "metadata": {},
   "outputs": [],
   "source": [
    "arp[\"ELI_MIS\"].ar"
   ]
  },
  {
   "cell_type": "code",
   "execution_count": null,
   "metadata": {},
   "outputs": [],
   "source": [
    "analiza[analiza.OPIS.str.contains(\"WIL\")][['KOD', 'OPIS', 'MAX','SALDO',\n",
    "       'ZLECENIA', 'WST', 'CZEKA_NA_SPAKOWANIE', 'ZAMOWIONE',\n",
    "       'CZESIOWO_DOSTARCZONE', 'MIN', 'SUMA_ZLEC',\n",
    "       'SALDO_Z_NIE_SPAK', 'WOLNE_SALDO', 'WOLNE_NIE_SPAK', 'DO_ZAM_SZT',\n",
    "       ]]"
   ]
  },
  {
   "cell_type": "code",
   "execution_count": null,
   "metadata": {},
   "outputs": [],
   "source": [
    "(arp > 1).query(\"GRUPA < 4\")"
   ]
  },
  {
   "cell_type": "code",
   "execution_count": null,
   "metadata": {},
   "outputs": [],
   "source": [
    "arp.Tabela_podsumowania_analizy#.query(\"GRUPA == 4\")"
   ]
  },
  {
   "cell_type": "code",
   "execution_count": null,
   "metadata": {},
   "outputs": [],
   "source": [
    "arp[\"STONE\"].ar"
   ]
  },
  {
   "cell_type": "code",
   "execution_count": null,
   "metadata": {},
   "outputs": [],
   "source": [
    "\"sqlite:///Z:/450. PLANISTA - ZAOPATRZENIE/ARCHIWUM_ANALIZ.db\"\n",
    "\n"
   ]
  }
 ],
 "metadata": {
  "kernelspec": {
   "display_name": ".venv",
   "language": "python",
   "name": "python3"
  },
  "language_info": {
   "codemirror_mode": {
    "name": "ipython",
    "version": 3
   },
   "file_extension": ".py",
   "mimetype": "text/x-python",
   "name": "python",
   "nbconvert_exporter": "python",
   "pygments_lexer": "ipython3",
   "version": "3.11.6"
  }
 },
 "nbformat": 4,
 "nbformat_minor": 2
}
