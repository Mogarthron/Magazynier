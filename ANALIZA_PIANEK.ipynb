{
 "cells": [
  {
   "cell_type": "code",
   "execution_count": 2,
   "metadata": {},
   "outputs": [],
   "source": [
    "from Pianki.Analiza_pianek import saldo, naliczone, wstrzymane\n",
    "# from Pianki.Analiza_pianek.przygotowanie_danych import aktualizuj_saldo\n",
    "\n",
    "# aktualizuj_saldo()\n",
    "# from Modele_db import engine\n",
    "\n",
    "# with engine.begin() as conn:\n",
    "#     saldo.rename(columns={\"KOD\": \"kod\", \"SALDO\": \"stan\"}).to_sql(\"SALDO\", conn, if_exists=\"replace\")\n",
    "#     naliczone.rename(columns={'LIMIT_NAZWA':\"limit_nazwa\", 'KOD':\"kod\", 'ZAPOT_ZLEC':\"zapot_zlec\", 'LIMIT_DATA_PROD':\"limit_data_prod\"}).to_sql(\"NALICZONE\", conn, if_exists=\"replace\")\n",
    "#     wstrzymane.rename(columns={\"KOD\":\"kod\", 'ILOSC':\"ilosc\"}).to_sql(\"WSTRZYMANE\", conn, if_exists=\"replace\")"
   ]
  },
  {
   "cell_type": "code",
   "execution_count": 3,
   "metadata": {},
   "outputs": [],
   "source": [
    "from Modele_db.modele_db import *\n",
    "from Pianki.Analiza_pianek.funkcje_analizy_pianek import *\n",
    "\n",
    "# pd.set_option()"
   ]
  },
  {
   "cell_type": "code",
   "execution_count": 4,
   "metadata": {},
   "outputs": [
    {
     "name": "stdout",
     "output_type": "stream",
     "text": [
      "MIN_obj:                     1846\n",
      "MAX_obj:                     3691\n",
      "ZAMOWIONE_obj:               1314\n",
      "CZEKA_NA_SPAKOWANIE_obj:     462\n",
      "CZESCIOWO_DOSTARCZONE_obj:   22\n",
      "SALDO_obj:                   2161\n",
      "WOLNE_obj:                   1815\n",
      "WOLNE_NIE_SPAK_obj:          2278\n",
      "DO_ZAM_obj:                  422\n",
      "---\n",
      "ZAPEŁNIENIE MAGAZYNU\n",
      "SALDO / MAX: 58.5%\n",
      "WOLNE / MAX: 49.2%\n",
      "WOLNE_NIE_SPAK / MAX: 61.7%\n",
      "ZAPEŁNIENIE MAG PO ZDJECIU 2 PACZEK RAZEM Z ZAMOWIENIAMI: 97.3%\n"
     ]
    }
   ],
   "source": [
    "Ogolna_analiza_objetosci()\n",
    "print(\"---\\nZAPEŁNIENIE MAGAZYNU\")\n",
    "Ogolna_analiza_objetosci(\"podsum_prc\")"
   ]
  },
  {
   "cell_type": "code",
   "execution_count": 6,
   "metadata": {},
   "outputs": [
    {
     "data": {
      "text/plain": [
       "[(194.93999999999994,)]"
      ]
     },
     "execution_count": 6,
     "metadata": {},
     "output_type": "execute_result"
    }
   ],
   "source": [
    "from Modele_db.modele_db import session, ZAM_PIANKI, KOMPLETY_PIANEK\n",
    "from sqlalchemy import func\n",
    "from datetime import datetime as dt\n",
    "\n",
    "\n",
    "session.query(func.sum(ZAM_PIANKI.ile_zam * KOMPLETY_PIANEK.obj)).join(KOMPLETY_PIANEK, KOMPLETY_PIANEK.kod == ZAM_PIANKI.kod).filter(ZAM_PIANKI.data_zakonczenia.between(dt(2024,10,7), dt(2024,10,13))).all()\n"
   ]
  },
  {
   "cell_type": "code",
   "execution_count": 8,
   "metadata": {},
   "outputs": [],
   "source": [
    "br = Braki(WOLNE=\"SALDO\")[0] #USUNAC PROBLEM Z DUBLUJACYMI SIE ZAMOWIANIAMI(JEDNO DOSTARCZONE DRUGIE W DRODZE TWORZĄ SIĘ DWIE POZYCJE)\n",
    "br.sort_values(by=[\"GRUPA\", \"OPIS\"]).drop_duplicates(\"OPIS\")\n",
    "br.to_excel(\"BRAKI.xlsx\")"
   ]
  },
  {
   "cell_type": "code",
   "execution_count": 9,
   "metadata": {},
   "outputs": [
    {
     "name": "stdout",
     "output_type": "stream",
     "text": [
      "WOLNE PONIZEJ MIN: 79 POZYCJE\n",
      "WOLNE PONIZEJ MIN NIE ZAMOWIONE: 10 POZYCJE\n",
      "SALDO PONIZEJ MIN: 66 POZYCJE\n",
      "SALDO PONIZEJ MIN NIE ZAMOWIONE: 9 POZYCJE\n"
     ]
    },
    {
     "data": {
      "text/html": [
       "<div>\n",
       "<style scoped>\n",
       "    .dataframe tbody tr th:only-of-type {\n",
       "        vertical-align: middle;\n",
       "    }\n",
       "\n",
       "    .dataframe tbody tr th {\n",
       "        vertical-align: top;\n",
       "    }\n",
       "\n",
       "    .dataframe thead th {\n",
       "        text-align: right;\n",
       "    }\n",
       "</style>\n",
       "<table border=\"1\" class=\"dataframe\">\n",
       "  <thead>\n",
       "    <tr style=\"text-align: right;\">\n",
       "      <th></th>\n",
       "      <th>OPIS</th>\n",
       "      <th>ZAMOWIONE</th>\n",
       "      <th>CZEKA_NA_SPAKOWANIE</th>\n",
       "      <th>SALDO</th>\n",
       "      <th>MIN</th>\n",
       "      <th>WOLNE_SALDO</th>\n",
       "    </tr>\n",
       "  </thead>\n",
       "  <tbody>\n",
       "    <tr>\n",
       "      <th>94</th>\n",
       "      <td>EXTREME 1,5s</td>\n",
       "      <td>0.0</td>\n",
       "      <td>0.0</td>\n",
       "      <td>0.0</td>\n",
       "      <td>8</td>\n",
       "      <td>0.0</td>\n",
       "    </tr>\n",
       "    <tr>\n",
       "      <th>97</th>\n",
       "      <td>EXTREME [1,5s</td>\n",
       "      <td>0.0</td>\n",
       "      <td>0.0</td>\n",
       "      <td>0.0</td>\n",
       "      <td>8</td>\n",
       "      <td>0.0</td>\n",
       "    </tr>\n",
       "    <tr>\n",
       "      <th>107</th>\n",
       "      <td>EXTREME P80x105</td>\n",
       "      <td>0.0</td>\n",
       "      <td>0.0</td>\n",
       "      <td>0.0</td>\n",
       "      <td>8</td>\n",
       "      <td>0.0</td>\n",
       "    </tr>\n",
       "    <tr>\n",
       "      <th>146</th>\n",
       "      <td>MAXWELL P82x82</td>\n",
       "      <td>0.0</td>\n",
       "      <td>0.0</td>\n",
       "      <td>0.0</td>\n",
       "      <td>2</td>\n",
       "      <td>0.0</td>\n",
       "    </tr>\n",
       "    <tr>\n",
       "      <th>191</th>\n",
       "      <td>REVERSO ][</td>\n",
       "      <td>0.0</td>\n",
       "      <td>0.0</td>\n",
       "      <td>22.0</td>\n",
       "      <td>35</td>\n",
       "      <td>19.0</td>\n",
       "    </tr>\n",
       "    <tr>\n",
       "      <th>219</th>\n",
       "      <td>SPECTRA ][</td>\n",
       "      <td>0.0</td>\n",
       "      <td>0.0</td>\n",
       "      <td>35.0</td>\n",
       "      <td>50</td>\n",
       "      <td>34.0</td>\n",
       "    </tr>\n",
       "    <tr>\n",
       "      <th>255</th>\n",
       "      <td>WIL 1,5 SIED BEZ BOCZ - OWA</td>\n",
       "      <td>0.0</td>\n",
       "      <td>0.0</td>\n",
       "      <td>18.0</td>\n",
       "      <td>30</td>\n",
       "      <td>9.0</td>\n",
       "    </tr>\n",
       "    <tr>\n",
       "      <th>261</th>\n",
       "      <td>LENOX [1o]</td>\n",
       "      <td>0.0</td>\n",
       "      <td>0.0</td>\n",
       "      <td>29.0</td>\n",
       "      <td>60</td>\n",
       "      <td>21.0</td>\n",
       "    </tr>\n",
       "    <tr>\n",
       "      <th>274</th>\n",
       "      <td>GOYA N</td>\n",
       "      <td>0.0</td>\n",
       "      <td>0.0</td>\n",
       "      <td>9.0</td>\n",
       "      <td>15</td>\n",
       "      <td>7.0</td>\n",
       "    </tr>\n",
       "  </tbody>\n",
       "</table>\n",
       "</div>"
      ],
      "text/plain": [
       "                            OPIS  ZAMOWIONE  CZEKA_NA_SPAKOWANIE  SALDO  MIN  \\\n",
       "94                  EXTREME 1,5s        0.0                  0.0    0.0    8   \n",
       "97                 EXTREME [1,5s        0.0                  0.0    0.0    8   \n",
       "107              EXTREME P80x105        0.0                  0.0    0.0    8   \n",
       "146               MAXWELL P82x82        0.0                  0.0    0.0    2   \n",
       "191                   REVERSO ][        0.0                  0.0   22.0   35   \n",
       "219                   SPECTRA ][        0.0                  0.0   35.0   50   \n",
       "255  WIL 1,5 SIED BEZ BOCZ - OWA        0.0                  0.0   18.0   30   \n",
       "261                   LENOX [1o]        0.0                  0.0   29.0   60   \n",
       "274                       GOYA N        0.0                  0.0    9.0   15   \n",
       "\n",
       "     WOLNE_SALDO  \n",
       "94           0.0  \n",
       "97           0.0  \n",
       "107          0.0  \n",
       "146          0.0  \n",
       "191         19.0  \n",
       "219         34.0  \n",
       "255          9.0  \n",
       "261         21.0  \n",
       "274          7.0  "
      ]
     },
     "execution_count": 9,
     "metadata": {},
     "output_type": "execute_result"
    }
   ],
   "source": [
    "Zagrozone(WOLNE=\"SALDO\")\n",
    "zgr = Zagrozone(False,WOLNE=\"SALDO\")\n",
    "# zgr\n",
    "# zgr[((zgr.ZAMOWIONE + zgr.CZEKA_NA_SPAKOWANIE) == 0)]\n",
    "# zgr[(zgr.SALDO < zgr.MIN)]\n",
    "zgr[((zgr.ZAMOWIONE + zgr.CZEKA_NA_SPAKOWANIE) == 0)&(zgr.SALDO < zgr.MIN)]"
   ]
  },
  {
   "cell_type": "code",
   "execution_count": 1,
   "metadata": {},
   "outputs": [
    {
     "name": "stdout",
     "output_type": "stream",
     "text": [
      "VOL 0!! ELI_MIS\n"
     ]
    }
   ],
   "source": [
    "#IMPORT ANAMLIZY PIANEK\n",
    "from Pianki.Analiza_pianek.instrukcje_zamawiana import instrukcja_zamawiania_pianpol as izp, instrukcja_zamawiania_ciech as izc\n",
    "from Pianki.Analiza_pianek.Podsumowanie_analizy_pianek import Podsumowanie_analizy_pianek\n",
    "\n",
    "arp = Podsumowanie_analizy_pianek(izp)\n",
    "# arc = Podsumowanie_analizy_pianek(izc)"
   ]
  },
  {
   "cell_type": "code",
   "execution_count": 2,
   "metadata": {},
   "outputs": [
    {
     "data": {
      "text/plain": [
       "OBJ_CIECH        0.00\n",
       "OBJ_VITA        69.18\n",
       "OBJ_PIANPOL    174.58\n",
       "RAZEM          243.76\n",
       "---------\n",
       "SALDO\tWOLNE\tMAX\n",
       "2161\t1815\t3691\n",
       "59%\t49%\t98%"
      ]
     },
     "execution_count": 2,
     "metadata": {},
     "output_type": "execute_result"
    }
   ],
   "source": [
    "arp"
   ]
  },
  {
   "cell_type": "code",
   "execution_count": null,
   "metadata": {},
   "outputs": [],
   "source": [
    "arp._Tabela_podsumowania_analizy"
   ]
  },
  {
   "cell_type": "code",
   "execution_count": null,
   "metadata": {},
   "outputs": [],
   "source": [
    "ava = arp[\"AVANT\"].ar\n",
    "ava.DO_ZAM_SZT.mean()"
   ]
  },
  {
   "cell_type": "code",
   "execution_count": null,
   "metadata": {},
   "outputs": [],
   "source": [
    "analiza[analiza.OPIS.str.contains(\"WIL\")][['index', 'KOD', 'OPIS', 'MAX','SALDO',\n",
    "       'ZLECENIA', 'WST', 'CZEKA_NA_SPAKOWANIE', 'ZAMOWIONE',\n",
    "       'CZESIOWO_DOSTARCZONE', '29/01', '30/01', 'MIN', 'SUMA_ZLEC',\n",
    "       'SALDO_Z_NIE_SPAK', 'WOLNE_SALDO', 'WOLNE_NIE_SPAK', 'DO_ZAM_SZT',\n",
    "       ]]"
   ]
  },
  {
   "cell_type": "code",
   "execution_count": null,
   "metadata": {},
   "outputs": [],
   "source": [
    "ava[ava.DO_ZAM_SZT > ava.MIN]"
   ]
  },
  {
   "cell_type": "code",
   "execution_count": null,
   "metadata": {},
   "outputs": [],
   "source": [
    "(arp > 1).query(\"GRUPA < 4\")"
   ]
  },
  {
   "cell_type": "code",
   "execution_count": null,
   "metadata": {},
   "outputs": [],
   "source": [
    "arp.Tabela_podsumowania_analizy#.query(\"GRUPA == 4\")"
   ]
  },
  {
   "cell_type": "code",
   "execution_count": null,
   "metadata": {},
   "outputs": [],
   "source": [
    "arp[\"STONE\"].ar"
   ]
  },
  {
   "cell_type": "code",
   "execution_count": null,
   "metadata": {},
   "outputs": [],
   "source": [
    "\"sqlite:///Z:/450. PLANISTA - ZAOPATRZENIE/ARCHIWUM_ANALIZ.db\"\n",
    "\n"
   ]
  },
  {
   "cell_type": "code",
   "execution_count": null,
   "metadata": {},
   "outputs": [],
   "source": [
    "arp._Tabela_podsumowania_analizy.columns"
   ]
  },
  {
   "cell_type": "code",
   "execution_count": 4,
   "metadata": {},
   "outputs": [],
   "source": [
    "Zapis_danych_do_Archiwum(243m, analiza, arp._Tabela_podsumowania_analizy, \"sqlite:///Z:/450. PLANISTA - ZAOPATRZENIE/ARCHIWUM_ANALIZ.db\")"
   ]
  },
  {
   "cell_type": "code",
   "execution_count": null,
   "metadata": {},
   "outputs": [],
   "source": []
  },
  {
   "cell_type": "code",
   "execution_count": null,
   "metadata": {},
   "outputs": [],
   "source": []
  }
 ],
 "metadata": {
  "kernelspec": {
   "display_name": ".venv",
   "language": "python",
   "name": "python3"
  },
  "language_info": {
   "codemirror_mode": {
    "name": "ipython",
    "version": 3
   },
   "file_extension": ".py",
   "mimetype": "text/x-python",
   "name": "python",
   "nbconvert_exporter": "python",
   "pygments_lexer": "ipython3",
   "version": "3.11.6"
  }
 },
 "nbformat": 4,
 "nbformat_minor": 2
}
