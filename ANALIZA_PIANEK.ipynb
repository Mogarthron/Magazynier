{
 "cells": [
  {
   "cell_type": "code",
   "execution_count": 1,
   "metadata": {},
   "outputs": [],
   "source": [
    "from Modele_db.modele_db import *\n",
    "from Pianki.Analiza_pianek.funkcje_analizy_pianek import *\n",
    "\n",
    "# pd.set_option()"
   ]
  },
  {
   "cell_type": "code",
   "execution_count": 3,
   "metadata": {},
   "outputs": [
    {
     "data": {
      "text/html": [
       "<div>\n",
       "<style scoped>\n",
       "    .dataframe tbody tr th:only-of-type {\n",
       "        vertical-align: middle;\n",
       "    }\n",
       "\n",
       "    .dataframe tbody tr th {\n",
       "        vertical-align: top;\n",
       "    }\n",
       "\n",
       "    .dataframe thead th {\n",
       "        text-align: right;\n",
       "    }\n",
       "</style>\n",
       "<table border=\"1\" class=\"dataframe\">\n",
       "  <thead>\n",
       "    <tr style=\"text-align: right;\">\n",
       "      <th></th>\n",
       "      <th>KOD</th>\n",
       "      <th>OPIS</th>\n",
       "      <th>MAX</th>\n",
       "      <th>CZY_BRYLA</th>\n",
       "      <th>obj</th>\n",
       "      <th>BRYLA_GEN</th>\n",
       "      <th>PREFEROWANY_CZAS_KJ</th>\n",
       "      <th>PREFEROWANY_CZAS_PAKOWANIA</th>\n",
       "      <th>RODZINA_NAZWA</th>\n",
       "      <th>SALDO</th>\n",
       "      <th>...</th>\n",
       "      <th>WOLNE_NIE_SPAK</th>\n",
       "      <th>MAX_obj</th>\n",
       "      <th>ZAMOWIONE_obj</th>\n",
       "      <th>CZEKA_NA_SPAKOWANIE_obj</th>\n",
       "      <th>CZESCIOWO_DOSTARCZONE_obj</th>\n",
       "      <th>SALDO_obj</th>\n",
       "      <th>WOLNE_obj</th>\n",
       "      <th>WOLNE_NIE_SPAK_obj</th>\n",
       "      <th>DO_ZAM_SZT</th>\n",
       "      <th>DO_ZAM_obj</th>\n",
       "    </tr>\n",
       "  </thead>\n",
       "  <tbody>\n",
       "  </tbody>\n",
       "</table>\n",
       "<p>0 rows × 36 columns</p>\n",
       "</div>"
      ],
      "text/plain": [
       "Empty DataFrame\n",
       "Columns: [KOD, OPIS, MAX, CZY_BRYLA, obj, BRYLA_GEN, PREFEROWANY_CZAS_KJ, PREFEROWANY_CZAS_PAKOWANIA, RODZINA_NAZWA, SALDO, LIMIT_NAZWA, TK_ZLEC, OPIS_ART, ZLECENIA, Unnamed: 0, WST, CZEKA_NA_SPAKOWANIE, ZAMOWIONE, CZESIOWO_DOSTARCZONE, 17/01, 18/01, 18/03, MIN, SUMA_ZLEC, SALDO_Z_NIE_SPAK, WOLNE_SALDO, WOLNE_NIE_SPAK, MAX_obj, ZAMOWIONE_obj, CZEKA_NA_SPAKOWANIE_obj, CZESCIOWO_DOSTARCZONE_obj, SALDO_obj, WOLNE_obj, WOLNE_NIE_SPAK_obj, DO_ZAM_SZT, DO_ZAM_obj]\n",
       "Index: []\n",
       "\n",
       "[0 rows x 36 columns]"
      ]
     },
     "execution_count": 3,
     "metadata": {},
     "output_type": "execute_result"
    }
   ],
   "source": [
    "analiza[analiza.OPIS.str.contains(\"GOYA\")]"
   ]
  },
  {
   "cell_type": "code",
   "execution_count": null,
   "metadata": {},
   "outputs": [],
   "source": [
    "Podsumowanie_paczek_i_Pw(\"\")"
   ]
  },
  {
   "cell_type": "code",
   "execution_count": null,
   "metadata": {},
   "outputs": [],
   "source": [
    "br = Braki(WOLNE=\"SALDO\")[0] #USUNAC PROBLEM Z DUBLUJACYMI SIE ZAMOWIANIAMI(JEDNO DOSTARCZONE DRUGIE W DRODZE TWORZĄ SIĘ DWIE POZYCJE)\n",
    "br.sort_values(by=[\"GRUPA\", \"OPIS\"])\n",
    "# br.to_excel(\"BRAKI.xlsx\")"
   ]
  },
  {
   "cell_type": "code",
   "execution_count": null,
   "metadata": {},
   "outputs": [],
   "source": [
    "Zagrozone(WOLNE=\"SALDO\")\n",
    "zgr = Zagrozone(False,WOLNE=\"SALDO\")\n",
    "# zgr\n",
    "# zgr[((zgr.ZAMOWIONE + zgr.CZEKA_NA_SPAKOWANIE) == 0)]\n",
    "# zgr[(zgr.SALDO < zgr.MIN)]\n",
    "zgr[((zgr.ZAMOWIONE + zgr.CZEKA_NA_SPAKOWANIE) == 0)&(zgr.SALDO < zgr.MIN)]"
   ]
  },
  {
   "cell_type": "code",
   "execution_count": null,
   "metadata": {},
   "outputs": [],
   "source": [
    "Ogolna_analiza_objetosci()\n",
    "print(\"---\\nZAPEŁNIENIE MAGAZYNU\")\n",
    "Ogolna_analiza_objetosci(\"podsum_prc\")"
   ]
  },
  {
   "cell_type": "code",
   "execution_count": null,
   "metadata": {},
   "outputs": [],
   "source": [
    "#IMPORT ANAMLIZY PIANEK\n",
    "from Pianki.Analiza_pianek.instrukcje_zamawiana import instrukcja_zamawiania_pianpol as izp, instrukcja_zamawiania_ciech as izc\n",
    "from Pianki.Analiza_pianek.Podsumowanie_analizy_pianek import Podsumowanie_analizy_pianek\n",
    "\n",
    "arp = Podsumowanie_analizy_pianek(izp)\n",
    "# arc = Podsumowanie_analizy_pianek(izc)\n",
    "\n"
   ]
  },
  {
   "cell_type": "code",
   "execution_count": null,
   "metadata": {},
   "outputs": [],
   "source": [
    "arp"
   ]
  },
  {
   "cell_type": "code",
   "execution_count": null,
   "metadata": {},
   "outputs": [],
   "source": [
    "arp>20"
   ]
  },
  {
   "cell_type": "code",
   "execution_count": null,
   "metadata": {},
   "outputs": [],
   "source": [
    "\"sqlite:///Z:/450. PLANISTA - ZAOPATRZENIE/ARCHIWUM_ANALIZ.db\"\n",
    "\n"
   ]
  },
  {
   "cell_type": "code",
   "execution_count": null,
   "metadata": {},
   "outputs": [],
   "source": [
    "# Zapis_danych_do_Archiwum(24x, analiza, arp._Tabela_podsumowania_analizy, \"sqlite:///Z:/450. PLANISTA - ZAOPATRZENIE/ARCHIWUM_ANALIZ.db\")"
   ]
  },
  {
   "cell_type": "code",
   "execution_count": null,
   "metadata": {},
   "outputs": [],
   "source": []
  }
 ],
 "metadata": {
  "kernelspec": {
   "display_name": ".venv",
   "language": "python",
   "name": "python3"
  },
  "language_info": {
   "codemirror_mode": {
    "name": "ipython",
    "version": 3
   },
   "file_extension": ".py",
   "mimetype": "text/x-python",
   "name": "python",
   "nbconvert_exporter": "python",
   "pygments_lexer": "ipython3",
   "version": "3.11.6"
  }
 },
 "nbformat": 4,
 "nbformat_minor": 2
}
