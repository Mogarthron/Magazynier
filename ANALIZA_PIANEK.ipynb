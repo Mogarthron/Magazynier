{
 "cells": [
  {
   "cell_type": "code",
   "execution_count": 1,
   "metadata": {},
   "outputs": [],
   "source": [
    "from Pianki.Analiza_pianek import pda\n",
    "from Pianki.Analiza_pianek.przygotowanie_danych import aktualizuj_saldo, aktualizuj_zamowienia\n",
    "aktualizuj_saldo()\n",
    "aktualizuj_zamowienia(pda, \"2024-08-26\")\n"
   ]
  },
  {
   "cell_type": "code",
   "execution_count": 2,
   "metadata": {},
   "outputs": [
    {
     "data": {
      "text/plain": [
       "['36/01']"
      ]
     },
     "execution_count": 2,
     "metadata": {},
     "output_type": "execute_result"
    }
   ],
   "source": [
    "pda"
   ]
  },
  {
   "cell_type": "code",
   "execution_count": null,
   "metadata": {},
   "outputs": [],
   "source": [
    "from Modele_db.modele_db import *\n",
    "from Pianki.Analiza_pianek.funkcje_analizy_pianek import *\n",
    "\n",
    "# pd.set_option()"
   ]
  },
  {
   "cell_type": "code",
   "execution_count": null,
   "metadata": {},
   "outputs": [],
   "source": [
    "from Modele_db.modele_db import session, ZAM_PIANKI, KOMPLETY_PIANEK\n",
    "from sqlalchemy import func\n",
    "from datetime import datetime as dt\n",
    "\n",
    "\n",
    "session.query(func.sum(ZAM_PIANKI.ile_zam * KOMPLETY_PIANEK.obj)).join(KOMPLETY_PIANEK, KOMPLETY_PIANEK.kod == ZAM_PIANKI.kod).filter(\n",
    "# session.query(ZAM_PIANKI.opis, ZAM_PIANKI.ile_zam, KOMPLETY_PIANEK.obj, ZAM_PIANKI.ile_zam * KOMPLETY_PIANEK.obj).join(KOMPLETY_PIANEK, KOMPLETY_PIANEK.kod == ZAM_PIANKI.kod).filter(\n",
    "# session.query(ZAM_PIANKI.opis, ZAM_PIANKI.ile_zam).filter(\n",
    "    ZAM_PIANKI.data_zakonczenia.between(dt(2024,11,17), dt(2024,11,24))).all()\n"
   ]
  },
  {
   "cell_type": "code",
   "execution_count": null,
   "metadata": {},
   "outputs": [],
   "source": [
    "Ogolna_analiza_objetosci()\n",
    "print(\"---\\nZAPEŁNIENIE MAGAZYNU\")\n",
    "Ogolna_analiza_objetosci(\"podsum_prc\")"
   ]
  },
  {
   "cell_type": "code",
   "execution_count": null,
   "metadata": {},
   "outputs": [],
   "source": [
    "br = Braki(WOLNE=\"SALDO\")[0] #USUNAC PROBLEM Z DUBLUJACYMI SIE ZAMOWIANIAMI(JEDNO DOSTARCZONE DRUGIE W DRODZE TWORZĄ SIĘ DWIE POZYCJE)\n",
    "br.sort_values(by=[\"GRUPA\", \"OPIS\"]).drop_duplicates(\"OPIS\")\n",
    "# br.drop(\"SALDO\", axis=1).to_excel(\"BRAKI.xlsx\", index=False)"
   ]
  },
  {
   "cell_type": "code",
   "execution_count": null,
   "metadata": {},
   "outputs": [],
   "source": [
    "Zagrozone(WOLNE=\"SALDO\")\n",
    "zgr = Zagrozone(False,WOLNE=\"SALDO\")\n",
    "# zgr\n",
    "# zgr[((zgr.ZAMOWIONE + zgr.CZEKA_NA_SPAKOWANIE) == 0)]\n",
    "# zgr[(zgr.SALDO < zgr.MIN)]\n",
    "zgr[((zgr.ZAMOWIONE + zgr.CZEKA_NA_SPAKOWANIE) == 0)&(zgr.SALDO < zgr.MIN)]"
   ]
  },
  {
   "cell_type": "code",
   "execution_count": null,
   "metadata": {},
   "outputs": [],
   "source": [
    "#IMPORT ANAMLIZY PIANEK\n",
    "from Pianki.Analiza_pianek.instrukcje_zamawiana import instrukcja_zamawiania_pianpol as izp\n",
    "from Pianki.Analiza_pianek.Podsumowanie_analizy_pianek import Podsumowanie_analizy_pianek\n",
    "\n",
    "arp = Podsumowanie_analizy_pianek(izp)\n",
    "# arc = Podsumowanie_analizy_pianek(izc)"
   ]
  },
  {
   "cell_type": "code",
   "execution_count": null,
   "metadata": {},
   "outputs": [],
   "source": [
    "arp"
   ]
  },
  {
   "cell_type": "code",
   "execution_count": null,
   "metadata": {},
   "outputs": [],
   "source": [
    "(arp > 1).query(\"GRUPA < 4\")"
   ]
  },
  {
   "cell_type": "code",
   "execution_count": null,
   "metadata": {},
   "outputs": [],
   "source": [
    "arp.Tabela_podsumowania_analizy#.query(\"GRUPA == 4\")"
   ]
  },
  {
   "cell_type": "code",
   "execution_count": null,
   "metadata": {},
   "outputs": [],
   "source": [
    "arp[\"STONE\"].ar\n"
   ]
  },
  {
   "cell_type": "code",
   "execution_count": null,
   "metadata": {},
   "outputs": [],
   "source": [
    "\"sqlite:///Z:/450. PLANISTA - ZAOPATRZENIE/ARCHIWUM_ANALIZ.db\"\n",
    "\n"
   ]
  }
 ],
 "metadata": {
  "kernelspec": {
   "display_name": ".venv",
   "language": "python",
   "name": "python3"
  },
  "language_info": {
   "codemirror_mode": {
    "name": "ipython",
    "version": 3
   },
   "file_extension": ".py",
   "mimetype": "text/x-python",
   "name": "python",
   "nbconvert_exporter": "python",
   "pygments_lexer": "ipython3",
   "version": "3.11.6"
  }
 },
 "nbformat": 4,
 "nbformat_minor": 2
}
