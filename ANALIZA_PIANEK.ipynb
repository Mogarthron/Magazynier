{
 "cells": [
  {
   "cell_type": "code",
   "execution_count": 1,
   "metadata": {},
   "outputs": [],
   "source": [
    "from Pianki.Analiza_pianek import pda\n",
    "from Pianki.Analiza_pianek.przygotowanie_danych import aktualizuj_saldo, aktualizuj_zamowienia\n",
    "aktualizuj_saldo()\n",
    "aktualizuj_zamowienia(pda, \"2024-08-26\")\n"
   ]
  },
  {
   "cell_type": "code",
   "execution_count": 4,
   "metadata": {},
   "outputs": [
    {
     "data": {
      "text/plain": [
       "[(109.82,)]"
      ]
     },
     "execution_count": 4,
     "metadata": {},
     "output_type": "execute_result"
    }
   ],
   "source": [
    "from Modele_db.modele_db import session, ZAM_PIANKI, KOMPLETY_PIANEK\n",
    "from sqlalchemy import func\n",
    "from datetime import datetime as dt\n",
    "\n",
    "\n",
    "session.query(func.sum(ZAM_PIANKI.ile_zam * KOMPLETY_PIANEK.obj)).join(KOMPLETY_PIANEK, KOMPLETY_PIANEK.kod == ZAM_PIANKI.kod).filter(\n",
    "# session.query(ZAM_PIANKI.opis, ZAM_PIANKI.ile_zam, KOMPLETY_PIANEK.obj, ZAM_PIANKI.ile_zam * KOMPLETY_PIANEK.obj).join(KOMPLETY_PIANEK, KOMPLETY_PIANEK.kod == ZAM_PIANKI.kod).filter(\n",
    "# session.query(ZAM_PIANKI.opis, ZAM_PIANKI.ile_zam).filter(\n",
    "    ZAM_PIANKI.data_zakonczenia.between(dt(2024,11,17), dt(2024,11,24))).all()\n"
   ]
  },
  {
   "cell_type": "code",
   "execution_count": 3,
   "metadata": {},
   "outputs": [],
   "source": [
    "from Modele_db.modele_db import *\n",
    "from Pianki.Analiza_pianek.funkcje_analizy_pianek import *\n",
    "\n",
    "# pd.set_option()"
   ]
  },
  {
   "cell_type": "code",
   "execution_count": 5,
   "metadata": {},
   "outputs": [
    {
     "name": "stdout",
     "output_type": "stream",
     "text": [
      "MIN_obj:                     1778\n",
      "MAX_obj:                     3547\n",
      "ZAMOWIONE_obj:               678\n",
      "CZEKA_NA_SPAKOWANIE_obj:     291\n",
      "CZESCIOWO_DOSTARCZONE_obj:   5\n",
      "SALDO_obj:                   2694\n",
      "WOLNE_obj:                   2299\n",
      "WOLNE_NIE_SPAK_obj:          2590\n",
      "DO_ZAM_obj:                  462\n",
      "---\n",
      "ZAPEŁNIENIE MAGAZYNU\n",
      "SALDO / MAX: 75.9%\n",
      "WOLNE / MAX: 64.8%\n",
      "WOLNE_NIE_SPAK / MAX: 73.0%\n",
      "ZAPEŁNIENIE MAG PO ZDJECIU 1 PACZEK RAZEM Z ZAMOWIENIAMI: 92.3%\n"
     ]
    }
   ],
   "source": [
    "Ogolna_analiza_objetosci()\n",
    "print(\"---\\nZAPEŁNIENIE MAGAZYNU\")\n",
    "Ogolna_analiza_objetosci(\"podsum_prc\")"
   ]
  },
  {
   "cell_type": "code",
   "execution_count": 6,
   "metadata": {},
   "outputs": [
    {
     "data": {
      "text/html": [
       "<div>\n",
       "<style scoped>\n",
       "    .dataframe tbody tr th:only-of-type {\n",
       "        vertical-align: middle;\n",
       "    }\n",
       "\n",
       "    .dataframe tbody tr th {\n",
       "        vertical-align: top;\n",
       "    }\n",
       "\n",
       "    .dataframe thead th {\n",
       "        text-align: right;\n",
       "    }\n",
       "</style>\n",
       "<table border=\"1\" class=\"dataframe\">\n",
       "  <thead>\n",
       "    <tr style=\"text-align: right;\">\n",
       "      <th></th>\n",
       "      <th>OPIS</th>\n",
       "      <th>WOLNE_SALDO</th>\n",
       "      <th>SALDO</th>\n",
       "      <th>PACZKA</th>\n",
       "      <th>DATA_KOMPLETACJI</th>\n",
       "      <th>ZAMOWIONE</th>\n",
       "      <th>UWAGI</th>\n",
       "      <th>GRUPA</th>\n",
       "    </tr>\n",
       "  </thead>\n",
       "  <tbody>\n",
       "    <tr>\n",
       "      <th>9</th>\n",
       "      <td>COCO [1M]</td>\n",
       "      <td>-11.0</td>\n",
       "      <td>20.0</td>\n",
       "      <td>WST</td>\n",
       "      <td>2024-12-04</td>\n",
       "      <td>0.0</td>\n",
       "      <td>...</td>\n",
       "      <td>1</td>\n",
       "    </tr>\n",
       "    <tr>\n",
       "      <th>5</th>\n",
       "      <td>RITZ P103x62</td>\n",
       "      <td>-1.0</td>\n",
       "      <td>2.0</td>\n",
       "      <td></td>\n",
       "      <td>2024-12-04</td>\n",
       "      <td>0.0</td>\n",
       "      <td>...</td>\n",
       "      <td>1</td>\n",
       "    </tr>\n",
       "    <tr>\n",
       "      <th>0</th>\n",
       "      <td>AVANT 2</td>\n",
       "      <td>-2.0</td>\n",
       "      <td>0.0</td>\n",
       "      <td>WST</td>\n",
       "      <td>2024-12-04</td>\n",
       "      <td>12.0</td>\n",
       "      <td>PIANKI ZAMOWIONE P, , ,</td>\n",
       "      <td>2</td>\n",
       "    </tr>\n",
       "    <tr>\n",
       "      <th>4</th>\n",
       "      <td>MAXWELL P103x92</td>\n",
       "      <td>-1.0</td>\n",
       "      <td>1.0</td>\n",
       "      <td>36/01</td>\n",
       "      <td>2024-11-27</td>\n",
       "      <td>6.0</td>\n",
       "      <td>PIANKI ZAMOWIONE P, , 2024-11-29,</td>\n",
       "      <td>2</td>\n",
       "    </tr>\n",
       "    <tr>\n",
       "      <th>7</th>\n",
       "      <td>STONE 4</td>\n",
       "      <td>-1.0</td>\n",
       "      <td>8.0</td>\n",
       "      <td></td>\n",
       "      <td>2024-12-04</td>\n",
       "      <td>36.0</td>\n",
       "      <td>PIANKI ZAMOWIONE PV, , ,</td>\n",
       "      <td>2</td>\n",
       "    </tr>\n",
       "    <tr>\n",
       "      <th>1</th>\n",
       "      <td>CALYPSO [L2H</td>\n",
       "      <td>-1.0</td>\n",
       "      <td>1.0</td>\n",
       "      <td>WST</td>\n",
       "      <td>2024-12-04</td>\n",
       "      <td>20.0</td>\n",
       "      <td>CZEKA NA SPAKOWANIE</td>\n",
       "      <td>4</td>\n",
       "    </tr>\n",
       "    <tr>\n",
       "      <th>10</th>\n",
       "      <td>COCO [1o] = [1]</td>\n",
       "      <td>-31.0</td>\n",
       "      <td>30.0</td>\n",
       "      <td>WST</td>\n",
       "      <td>2024-12-04</td>\n",
       "      <td>70.0</td>\n",
       "      <td>CZEKA NA SPAKOWANIE</td>\n",
       "      <td>4</td>\n",
       "    </tr>\n",
       "    <tr>\n",
       "      <th>2</th>\n",
       "      <td>HUDSON WN</td>\n",
       "      <td>-1.0</td>\n",
       "      <td>0.0</td>\n",
       "      <td></td>\n",
       "      <td>2024-12-04</td>\n",
       "      <td>8.0</td>\n",
       "      <td>CZEKA NA SPAKOWANIE</td>\n",
       "      <td>4</td>\n",
       "    </tr>\n",
       "    <tr>\n",
       "      <th>3</th>\n",
       "      <td>MAXWELL [LH</td>\n",
       "      <td>-2.0</td>\n",
       "      <td>0.0</td>\n",
       "      <td></td>\n",
       "      <td>2024-12-04</td>\n",
       "      <td>10.0</td>\n",
       "      <td>CZEKA NA SPAKOWANIE</td>\n",
       "      <td>4</td>\n",
       "    </tr>\n",
       "  </tbody>\n",
       "</table>\n",
       "</div>"
      ],
      "text/plain": [
       "               OPIS  WOLNE_SALDO  SALDO PACZKA DATA_KOMPLETACJI ZAMOWIONE  \\\n",
       "9         COCO [1M]        -11.0   20.0    WST       2024-12-04       0.0   \n",
       "5      RITZ P103x62         -1.0    2.0              2024-12-04       0.0   \n",
       "0           AVANT 2         -2.0    0.0    WST       2024-12-04      12.0   \n",
       "4   MAXWELL P103x92         -1.0    1.0  36/01       2024-11-27       6.0   \n",
       "7           STONE 4         -1.0    8.0              2024-12-04      36.0   \n",
       "1      CALYPSO [L2H         -1.0    1.0    WST       2024-12-04      20.0   \n",
       "10  COCO [1o] = [1]        -31.0   30.0    WST       2024-12-04      70.0   \n",
       "2         HUDSON WN         -1.0    0.0              2024-12-04       8.0   \n",
       "3       MAXWELL [LH         -2.0    0.0              2024-12-04      10.0   \n",
       "\n",
       "                                 UWAGI  GRUPA  \n",
       "9                                  ...      1  \n",
       "5                                  ...      1  \n",
       "0             PIANKI ZAMOWIONE P, , ,       2  \n",
       "4   PIANKI ZAMOWIONE P, , 2024-11-29,       2  \n",
       "7            PIANKI ZAMOWIONE PV, , ,       2  \n",
       "1                  CZEKA NA SPAKOWANIE      4  \n",
       "10                 CZEKA NA SPAKOWANIE      4  \n",
       "2                  CZEKA NA SPAKOWANIE      4  \n",
       "3                  CZEKA NA SPAKOWANIE      4  "
      ]
     },
     "execution_count": 6,
     "metadata": {},
     "output_type": "execute_result"
    }
   ],
   "source": [
    "br = Braki(WOLNE=\"SALDO\")[0] #USUNAC PROBLEM Z DUBLUJACYMI SIE ZAMOWIANIAMI(JEDNO DOSTARCZONE DRUGIE W DRODZE TWORZĄ SIĘ DWIE POZYCJE)\n",
    "br.sort_values(by=[\"GRUPA\", \"OPIS\"]).drop_duplicates(\"OPIS\")\n",
    "# br.drop(\"SALDO\", axis=1).to_excel(\"BRAKI.xlsx\", index=False)"
   ]
  },
  {
   "cell_type": "code",
   "execution_count": null,
   "metadata": {},
   "outputs": [],
   "source": [
    "Zagrozone(WOLNE=\"SALDO\")\n",
    "zgr = Zagrozone(False,WOLNE=\"SALDO\")\n",
    "# zgr\n",
    "# zgr[((zgr.ZAMOWIONE + zgr.CZEKA_NA_SPAKOWANIE) == 0)]\n",
    "# zgr[(zgr.SALDO < zgr.MIN)]\n",
    "zgr[((zgr.ZAMOWIONE + zgr.CZEKA_NA_SPAKOWANIE) == 0)&(zgr.SALDO < zgr.MIN)]"
   ]
  },
  {
   "cell_type": "code",
   "execution_count": null,
   "metadata": {},
   "outputs": [],
   "source": [
    "#IMPORT ANAMLIZY PIANEK\n",
    "from Pianki.Analiza_pianek.instrukcje_zamawiana import instrukcja_zamawiania_pianpol as izp\n",
    "from Pianki.Analiza_pianek.Podsumowanie_analizy_pianek import Podsumowanie_analizy_pianek\n",
    "\n",
    "arp = Podsumowanie_analizy_pianek(izp)\n",
    "# arc = Podsumowanie_analizy_pianek(izc)"
   ]
  },
  {
   "cell_type": "code",
   "execution_count": null,
   "metadata": {},
   "outputs": [],
   "source": [
    "arp"
   ]
  },
  {
   "cell_type": "code",
   "execution_count": null,
   "metadata": {},
   "outputs": [],
   "source": [
    "(arp > 1).query(\"GRUPA < 4\")"
   ]
  },
  {
   "cell_type": "code",
   "execution_count": null,
   "metadata": {},
   "outputs": [],
   "source": [
    "arp.Tabela_podsumowania_analizy#.query(\"GRUPA == 4\")"
   ]
  },
  {
   "cell_type": "code",
   "execution_count": null,
   "metadata": {},
   "outputs": [],
   "source": [
    "arp[\"STONE\"].ar\n"
   ]
  },
  {
   "cell_type": "code",
   "execution_count": null,
   "metadata": {},
   "outputs": [],
   "source": [
    "\"sqlite:///Z:/450. PLANISTA - ZAOPATRZENIE/ARCHIWUM_ANALIZ.db\"\n",
    "\n"
   ]
  }
 ],
 "metadata": {
  "kernelspec": {
   "display_name": ".venv",
   "language": "python",
   "name": "python3"
  },
  "language_info": {
   "codemirror_mode": {
    "name": "ipython",
    "version": 3
   },
   "file_extension": ".py",
   "mimetype": "text/x-python",
   "name": "python",
   "nbconvert_exporter": "python",
   "pygments_lexer": "ipython3",
   "version": "3.11.6"
  }
 },
 "nbformat": 4,
 "nbformat_minor": 2
}
