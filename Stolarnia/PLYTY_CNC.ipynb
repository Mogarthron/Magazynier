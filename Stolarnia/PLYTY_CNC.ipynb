{
 "cells": [
  {
   "cell_type": "code",
   "execution_count": 1,
   "metadata": {},
   "outputs": [
    {
     "data": {
      "text/plain": [
       "['SAM_3_1_24_SKL_01_Sklejka.fmc',\n",
       " 'SAM_3_1_24_SKL_02_Sklejka (2).fmc',\n",
       " 'SAM_3_1_24_SKL_03_Sklejka (3).fmc',\n",
       " 'SAM_3_1_24_SKL_04_Sklejka (4).fmc',\n",
       " 'SAM_3_1_24_SKL_05_Sklejka (5).fmc',\n",
       " 'SAM_3_1_24_SKL_06_Sklejka (6).fmc',\n",
       " 'SAM_3_1_24_SKL_07_Sklejka (7).fmc',\n",
       " 'SAM_3_1_24_SKL_08_Sklejka (8).fmc',\n",
       " 'SAM_3_1_24_SKL_09_Sklejka (9).fmc',\n",
       " 'SAM_3_1_24_SKL_10_Sklejka (10).fmc',\n",
       " 'SAM_3_1_24_SKL_11_Sklejka (11).fmc',\n",
       " 'SAM_3_1_24_SKL_12_Sklejka (12).fmc',\n",
       " 'SAM_3_1_24_SKL_13_Sklejka (13).fmc',\n",
       " 'SAM_3_1_24_SKL_14_Sklejka (14).fmc',\n",
       " 'SAM_3_1_24_SKL_15_Sklejka (15).fmc',\n",
       " 'SAM_3_1_24_SKL_16_Sklejka (16).fmc',\n",
       " 'SAM_3_1_24_SKL_17_Sklejka (17).fmc',\n",
       " 'SAM_3_1_24_SKL_18_Sklejka (18).fmc',\n",
       " 'SAM_3_1_24_SKL_19_Sklejka (19).fmc',\n",
       " 'SAM_3_1_24_SKL_20_Sklejka (20).fmc',\n",
       " 'SAM_3_1_24_SKL_21_Sklejka (21).fmc',\n",
       " 'SAM_3_1_24_SKL_22_Sklejka (22).fmc',\n",
       " 'SAM_3_1_24_SKL_23_Sklejka (23).fmc',\n",
       " 'SAM_3_1_24_SKL_24_Sklejka (24).fmc',\n",
       " 'SAM_3_1_24_SKL_25_Sklejka (25).fmc',\n",
       " 'SAM_3_1_24_SKL_26_Sklejka (26).fmc',\n",
       " 'SAM_3_1_24_SKL_27_Sklejka (27).fmc',\n",
       " 'SAM_3_1_24_SKL_28_Sklejka (28).fmc']"
      ]
     },
     "execution_count": 1,
     "metadata": {},
     "output_type": "execute_result"
    }
   ],
   "source": [
    "import os \n",
    "os.listdir(\"Z:/COBUS_BAZA/CCW2022_N/fmc/Nesting/Ziel/SAM_3_1_24_SKL\")"
   ]
  },
  {
   "cell_type": "code",
   "execution_count": null,
   "metadata": {},
   "outputs": [],
   "source": []
  }
 ],
 "metadata": {
  "kernelspec": {
   "display_name": ".venv",
   "language": "python",
   "name": "python3"
  },
  "language_info": {
   "codemirror_mode": {
    "name": "ipython",
    "version": 3
   },
   "file_extension": ".py",
   "mimetype": "text/x-python",
   "name": "python",
   "nbconvert_exporter": "python",
   "pygments_lexer": "ipython3",
   "version": "3.11.6"
  }
 },
 "nbformat": 4,
 "nbformat_minor": 2
}
