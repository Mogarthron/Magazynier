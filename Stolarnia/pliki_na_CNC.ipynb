{
  "cells": [
    {
      "cell_type": "code",
      "execution_count": 1,
      "metadata": {
        "id": "iV6GwuxJWGcF"
      },
      "outputs": [],
      "source": [
        "import pandas as pd \n",
        "from numpy import int16"
      ]
    },
    {
      "cell_type": "code",
      "execution_count": 2,
      "metadata": {
        "id": "lyD_5nMA7bS5"
      },
      "outputs": [],
      "source": [
        "#DODAC ROZDIZAŁ NA ZLECENI Z PŁYTĄ PROSTOKĄTNĄ 1250x2500MM"
      ]
    },
    {
      "cell_type": "code",
      "execution_count": 3,
      "metadata": {
        "id": "gcxyc0u8SxJ3"
      },
      "outputs": [],
      "source": [
        "#@title Funkcje\n",
        "def generuj_tableke_na_cnc(_zlecenie):\n",
        "  # zlecenie_ngl = _zlecenie.split(\"\\n\")[1].split(\"\\t\")[1:]\n",
        "  zlecenie_ngl = [\"MATERIAŁ\",\t\"NUMER\",\t\"ILOŚĆ\",\t\"WYMIAR\",\t\"OZNACZ.\",\t\"CZAS\"]\n",
        "  zlecenie = list()\n",
        "  for r in _zlecenie.split(\"\\n\")[2:]:\n",
        "    r = r.split(\"\\t\")\n",
        "    if len(r) == 7 and r[0] not in [\"\", \"L.P.\"]:\n",
        "      zlecenie.append(r[1:])\n",
        "\n",
        "  df = pd.DataFrame(zlecenie, columns=zlecenie_ngl)\n",
        "\n",
        "  df[\"GRUBOSC\"] = df[\"MATERIAŁ\"].apply(lambda x: x[-4:])\n",
        "\n",
        "\n",
        "  def mat_typ(x):\n",
        "    if \"Sklejka\" in x:\n",
        "      return \"SKL\"\n",
        "    elif \"wiórowa\" in x:\n",
        "      return \"PWI\"\n",
        "\n",
        "  def szer(x):\n",
        "    new_str = \"\"\n",
        "    x = x.lower()\n",
        "    for c in x:\n",
        "      if c not in \"* \":\n",
        "        new_str += c\n",
        "    return new_str.strip().split(\"x\")[0]\n",
        "\n",
        "  def dlug(x):\n",
        "    new_str = \"\"\n",
        "    x = x.lower()\n",
        "    for c in x:\n",
        "      if c != \"*\" or c != \" \":\n",
        "        new_str += c\n",
        "    return new_str.strip().split(\"x\")[1]\n",
        "\n",
        "  df[\"SZER\"] = df[\"WYMIAR\"].apply(szer).astype(int16)\n",
        "  df[\"DLUG\"] = df[\"WYMIAR\"].apply(dlug).astype(int16)\n",
        "  df[\"MAT_TYP\"] = df[\"MATERIAŁ\"].apply(mat_typ)\n",
        "  df[\"ILOSC\"] = df[\"ILOŚĆ\"].astype(int16)\n",
        "\n",
        "  return df\n",
        "\n",
        "def drukuj_dane_cnc(df,MAT):\n",
        "\n",
        "  _naglowek = \"index$,material$,krok,sloje,grubosc,ilosc,mosty,nazwafmc$,kolor,fmcinclude$\\n\"\n",
        "  content = list()\n",
        "  content.append(_naglowek)\n",
        "  # print(pwi_naglowek)\n",
        "  for i in df[[\"NUMER\", \"ILOSC\"]].values.tolist():\n",
        "    if MAT == \"S\":\n",
        "      a = [f\"{i[0]}_SKL_X1_Msklejka,Sklejka,90,0,0,{i[1]},0,SKL\",f\"{i[0]}_SKL_X1_MSklejka.fmc,2,SKL\",\"kontury\"]\n",
        "    elif MAT == \"P\":\n",
        "      a = [f\"{i[0]}_PWI_X1_MWIOR,WIOR,90,0,0,{i[1]},0,WIOR\",f\"{i[0]}_PWI_X1_MWIOR.fmc,2,WIOR\",\"kontury\"]\n",
        "    b = chr(92).join(a)+chr(92)+\"\\n\"\n",
        "    # b = \"/\".join(a)+\"/\"+\"\\n\"\n",
        "    # print(b)\n",
        "    content.append(b)\n",
        "\n",
        "  content[-1] = content[-1].replace(\"\\n\", \"\")\n",
        "  return content\n",
        "\n",
        "def podziel_zlecenie(zlec):\n",
        "  naglowki_zlecen = list(zlec.keys())\n",
        "\n",
        "  for n in naglowki_zlecen:\n",
        "    df = generuj_tableke_na_cnc(zlec[n])\n",
        "    filtry = list(df.groupby([\"MAT_TYP\", \"GRUBOSC\"]).indices.keys())\n",
        "\n",
        "    for f in filtry:\n",
        "      if f[0] == \"PWI\":\n",
        "        content = drukuj_dane_cnc(df[(df.MAT_TYP==f[0]) & (df.GRUBOSC == f[1])], \"P\")\n",
        "\n",
        "      elif f[0] == \"SKL\":\n",
        "        content = drukuj_dane_cnc(df[(df.MAT_TYP==f[0]) & (df.GRUBOSC == f[1]) & (df.DLUG <= 1525)], \"S\")\n",
        "\n",
        "      fi = open(f\"{n}_{f[0]}_{f[1].upper()}.csv\", \"w\")\n",
        "      # fi = open(f\"{n}_{f[0]}.csv\", \"w\")\n",
        "      fi.writelines(content)\n",
        "      fi.close()\n",
        "\n",
        "def podziel_zlecenie_SKLP(zlec):\n",
        "  naglowki_zlecen = list(zlec.keys())\n",
        "\n",
        "  for n in naglowki_zlecen:\n",
        "    df = generuj_tableke_na_cnc(zlec[n])\n",
        "    filtry = list(df[(df.MAT_TYP==\"SKL\")].groupby([\"MAT_TYP\", \"GRUBOSC\"]).indices.keys())\n",
        "\n",
        "    for f in filtry:\n",
        "\n",
        "      content = drukuj_dane_cnc(df[(df.MAT_TYP==\"SKL\") & (df.GRUBOSC == f[1]) & (df.DLUG > 1525)], \"S\")\n",
        "\n",
        "      fi = open(f\"{n}_SKLP_{f[1].upper()}.csv\", \"w\")\n",
        "      # fi = open(f\"{n}_{f[0]}.csv\", \"w\")\n",
        "      fi.writelines(content)\n",
        "      fi.close()"
      ]
    },
    {
      "cell_type": "code",
      "execution_count": 4,
      "metadata": {
        "id": "7rB5OAlSRqu0"
      },
      "outputs": [],
      "source": [
        "\n",
        "#wzór na zlecenie\n",
        "# \"\"\"\n",
        "# L.P.\tMATERIAŁ\tNUMER\tILOŚĆ\tWYMIAR\tOZNACZ.\tCZAS\n",
        "# 1\tPłyta wiórowa 16mm\t1278\t40\t*** 115x245\tCN\t20\n",
        "# 2\tPłyta wiórowa 16mm\t1279\t80\t*** 110x222\tCN\t40\n",
        "# 3\tPłyta wiórowa 16mm\t1393\t40\t*** 158x260\tCN\t20\n",
        "_zlecenie = {\n",
        "\n",
        "\"HOR_5_1_24\":\n",
        "              \"\"\"\n",
        "L.P.\tMATERIAŁ\tNUMER\tILOŚĆ\tWYMIAR\tOZNACZ.\tCZAS\n",
        "1\tSklejka 18mm\t1545\t165\t*** 120x960\tCN\t46:45 (17)\n",
        "2\tSklejka 18mm\t1549\t100\t*** 120x1110\tCN\t23:20 (14)\n",
        "3\tSklejka 18mm\t1551\t40\t*** 120x1110\tCN\t9:20 (14)\n",
        "4\tSklejka 18mm\t1933\t0\t*** 100x161\tCN\t25:20 (19)\n",
        "5\tSklejka 18mm\t1934\t0\t*** 100x155\tCN\t80:40 ()\n",
        "6\tSklejka 18mm\t1936\t190\t*** 120x960\tCN\t60:10 (19)\n",
        "\n",
        "\n",
        "\n",
        "\n",
        "\n",
        " \"\"\"\n",
        "\n",
        "}\n"
      ]
    },
    {
      "cell_type": "code",
      "execution_count": 5,
      "metadata": {
        "id": "4Ajos4xCBQMH"
      },
      "outputs": [],
      "source": [
        "podziel_zlecenie(_zlecenie)"
      ]
    },
    {
      "cell_type": "code",
      "execution_count": 23,
      "metadata": {},
      "outputs": [],
      "source": [
        "podziel_zlecenie_SKLP(_zlecenie)"
      ]
    },
    {
      "cell_type": "code",
      "execution_count": null,
      "metadata": {},
      "outputs": [],
      "source": []
    }
  ],
  "metadata": {
    "colab": {
      "provenance": []
    },
    "kernelspec": {
      "display_name": "Python 3",
      "name": "python3"
    },
    "language_info": {
      "codemirror_mode": {
        "name": "ipython",
        "version": 3
      },
      "file_extension": ".py",
      "mimetype": "text/x-python",
      "name": "python",
      "nbconvert_exporter": "python",
      "pygments_lexer": "ipython3",
      "version": "3.11.6"
    }
  },
  "nbformat": 4,
  "nbformat_minor": 0
}
