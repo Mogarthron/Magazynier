{
  "cells": [
    {
      "cell_type": "code",
      "execution_count": 1,
      "metadata": {
        "id": "iV6GwuxJWGcF"
      },
      "outputs": [],
      "source": [
        "import pandas as pd \n",
        "from numpy import int16"
      ]
    },
    {
      "cell_type": "code",
      "execution_count": 2,
      "metadata": {
        "id": "lyD_5nMA7bS5"
      },
      "outputs": [],
      "source": [
        "#DODAC ROZDIZAŁ NA ZLECENI Z PŁYTĄ PROSTOKĄTNĄ 1250x2500MM"
      ]
    },
    {
      "cell_type": "code",
      "execution_count": 3,
      "metadata": {
        "id": "gcxyc0u8SxJ3"
      },
      "outputs": [],
      "source": [
        "#@title Funkcje\n",
        "def generuj_tableke_na_cnc(_zlecenie):\n",
        "  # zlecenie_ngl = _zlecenie.split(\"\\n\")[1].split(\"\\t\")[1:]\n",
        "  zlecenie_ngl = [\"MATERIAŁ\",\t\"NUMER\",\t\"ILOŚĆ\",\t\"WYMIAR\",\t\"OZNACZ.\",\t\"CZAS\"]\n",
        "  zlecenie = list()\n",
        "  for r in _zlecenie.split(\"\\n\")[2:]:\n",
        "    r = r.split(\"\\t\")\n",
        "    if len(r) == 7 and r[0] not in [\"\", \"L.P.\"]:\n",
        "      zlecenie.append(r[1:])\n",
        "\n",
        "  df = pd.DataFrame(zlecenie, columns=zlecenie_ngl)\n",
        "\n",
        "  df[\"GRUBOSC\"] = df[\"MATERIAŁ\"].apply(lambda x: x[-4:])\n",
        "\n",
        "\n",
        "  def mat_typ(x):\n",
        "    if \"Sklejka\" in x:\n",
        "      return \"SKL\"\n",
        "    elif \"wiórowa\" in x:\n",
        "      return \"PWI\"\n",
        "\n",
        "  def szer(x):\n",
        "    new_str = \"\"\n",
        "    x = x.lower()\n",
        "    for c in x:\n",
        "      if c not in \"* \":\n",
        "        new_str += c\n",
        "    return new_str.strip().split(\"x\")[0]\n",
        "\n",
        "  def dlug(x):\n",
        "    new_str = \"\"\n",
        "    x = x.lower()\n",
        "    for c in x:\n",
        "      if c != \"*\" or c != \" \":\n",
        "        new_str += c\n",
        "    return new_str.strip().split(\"x\")[1]\n",
        "\n",
        "  df[\"SZER\"] = df[\"WYMIAR\"].apply(szer).astype(int16)\n",
        "  df[\"DLUG\"] = df[\"WYMIAR\"].apply(dlug).astype(int16)\n",
        "  df[\"MAT_TYP\"] = df[\"MATERIAŁ\"].apply(mat_typ)\n",
        "  df[\"ILOSC\"] = df[\"ILOŚĆ\"].astype(int16)\n",
        "\n",
        "  return df\n",
        "\n",
        "def drukuj_dane_cnc(df,MAT):\n",
        "\n",
        "  _naglowek = \"index$,material$,krok,sloje,grubosc,ilosc,mosty,nazwafmc$,kolor,fmcinclude$\\n\"\n",
        "  content = list()\n",
        "  content.append(_naglowek)\n",
        "  # print(pwi_naglowek)\n",
        "  for i in df[[\"NUMER\", \"ILOSC\"]].values.tolist():\n",
        "    if MAT == \"S\":\n",
        "      a = [f\"{i[0]}_SKL_X1_Msklejka,Sklejka,90,0,0,{i[1]},0,SKL\",f\"{i[0]}_SKL_X1_MSklejka.fmc,2,SKL\",\"kontury\"]\n",
        "    elif MAT == \"P\":\n",
        "      a = [f\"{i[0]}_PWI_X1_MWIOR,WIOR,90,0,0,{i[1]},0,WIOR\",f\"{i[0]}_PWI_X1_MWIOR.fmc,2,WIOR\",\"kontury\"]\n",
        "    b = chr(92).join(a)+chr(92)+\"\\n\"\n",
        "    # b = \"/\".join(a)+\"/\"+\"\\n\"\n",
        "    # print(b)\n",
        "    content.append(b)\n",
        "\n",
        "  content[-1] = content[-1].replace(\"\\n\", \"\")\n",
        "  return content\n",
        "\n",
        "def podziel_zlecenie(zlec):\n",
        "  naglowki_zlecen = list(zlec.keys())\n",
        "\n",
        "  for n in naglowki_zlecen:\n",
        "    df = generuj_tableke_na_cnc(zlec[n])\n",
        "    filtry = list(df.groupby([\"MAT_TYP\", \"GRUBOSC\"]).indices.keys())\n",
        "\n",
        "    for f in filtry:\n",
        "      if f[0] == \"PWI\":\n",
        "        content = drukuj_dane_cnc(df[(df.MAT_TYP==f[0]) & (df.GRUBOSC == f[1])], \"P\")\n",
        "\n",
        "      elif f[0] == \"SKL\":\n",
        "        content = drukuj_dane_cnc(df[(df.MAT_TYP==f[0]) & (df.GRUBOSC == f[1]) & (df.DLUG <= 1525)], \"S\")\n",
        "\n",
        "      fi = open(f\"{n}_{f[0]}_{f[1].upper()}.csv\", \"w\")\n",
        "      # fi = open(f\"{n}_{f[0]}.csv\", \"w\")\n",
        "      fi.writelines(content)\n",
        "      fi.close()\n",
        "\n",
        "def podziel_zlecenie_SKLP(zlec):\n",
        "  naglowki_zlecen = list(zlec.keys())\n",
        "\n",
        "  for n in naglowki_zlecen:\n",
        "    df = generuj_tableke_na_cnc(zlec[n])\n",
        "    filtry = list(df[(df.MAT_TYP==\"SKL\")].groupby([\"MAT_TYP\", \"GRUBOSC\"]).indices.keys())\n",
        "\n",
        "    for f in filtry:\n",
        "\n",
        "      content = drukuj_dane_cnc(df[(df.MAT_TYP==\"SKL\") & (df.GRUBOSC == f[1]) & (df.DLUG > 1525)], \"S\")\n",
        "\n",
        "      fi = open(f\"{n}_SKLP_{f[1].upper()}.csv\", \"w\")\n",
        "      # fi = open(f\"{n}_{f[0]}.csv\", \"w\")\n",
        "      fi.writelines(content)\n",
        "      fi.close()"
      ]
    },
    {
      "cell_type": "code",
      "execution_count": 4,
      "metadata": {
        "id": "7rB5OAlSRqu0"
      },
      "outputs": [],
      "source": [
        "\n",
        "#wzór na zlecenie\n",
        "# \"\"\"\n",
        "# L.P.\tMATERIAŁ\tNUMER\tILOŚĆ\tWYMIAR\tOZNACZ.\tCZAS\n",
        "# 1\tPłyta wiórowa 16mm\t1278\t40\t*** 115x245\tCN\t20\n",
        "# 2\tPłyta wiórowa 16mm\t1279\t80\t*** 110x222\tCN\t40\n",
        "# 3\tPłyta wiórowa 16mm\t1393\t40\t*** 158x260\tCN\t20\n",
        "_zlecenie = {\n",
        "\n",
        "\"CAL 2_1_24\":\n",
        "              \"\"\"\n",
        "L.P.\tMATERIAŁ\tNUMER\tILOŚĆ\tWYMIAR\tOZNACZ.\tCZAS\n",
        "1\tPłyta wiórowa 16mm\t1688\t30\t*** 170x296\tCN\t5:00 (10)\n",
        "2\tPłyta wiórowa 16mm\t1689\t60\t*** 186x314\tCN\t10:00 (10)\n",
        "3\tPłyta wiórowa 16mm\t1715\t25\t*** 170x336\tCN\t4:10 (10)\n",
        "4\tPłyta wiórowa 16mm\t1716\t25\t*** 170x336\tCN\t4:10 (10)\n",
        "5\tPłyta wiórowa 16mm\t1717\t25\t*** 186x384\tCN\t4:10 (10)\n",
        "\tRAZEM :\t\t165\t\t\t27:30\n",
        "\n",
        "\n",
        "\n",
        "L.P.\tMATERIAŁ\tNUMER\tILOŚĆ\tWYMIAR\tOZNACZ.\tCZAS\n",
        "1\tSklejka 18mm\t1951\t275\t*** 170x384\tCN \t967:05 (211)\n",
        "2\tSklejka 18mm\t1952\t45\t*** 186x354\tCN \t158:15 (211)\n",
        "3\tSklejka 18mm\t1953\t70\t*** 80x960\tCN \t246:10 (211)\n",
        "4\tSklejka 18mm\t1954\t40\t*** 80x960\tCN \t140:40 (211)\n",
        "5\tSklejka 18mm\t1955\t110\t*** 80x960\tCN \t386:50 (211)\n",
        "6\tSklejka 18mm\t1956\t110\t*** 80x860\tCN \t386:50 (211)\n",
        "7\tSklejka 18mm\t1957\t30\t*** 186x928\tCN \t105:30 (211)\n",
        "8\tSklejka 18mm\t1958\t90\t*** 114x168\tCN \t316:30 (211)\n",
        "9\tSklejka 18mm\t1965\t20\t*** 80x744\tCN\t70:20 (211)\n",
        "10\tSklejka 18mm\t1966\t40\t*** 80x944\tCN\t140:40 (211)\n",
        "11\tSklejka 18mm\t1967\t20\t*** 114x744\tCN\t70:20 (211)\n",
        "12\tSklejka 18mm\t1970\t40\t*** 170x464\tCN\t140:40 (211)\n",
        "13\tSklejka 18mm\t1977\t25\t*** 186x638\tCN\t87:55 (211)\n",
        "14\tSklejka 18mm\t1978\t100\t*** 80x1450\tCN\t351:40 (211)\n",
        "15\tSklejka 18mm\t1979\t25\t*** 80x1450\tCN\t87:55 (211)\n",
        "16\tSklejka 18mm\t1980\t25\t*** 114x1200\tCN\t87:55 (211)\n",
        "17\tSklejka 18mm\t1981\t50\t*** 80x1350\tCN\t175:50 (211)\n",
        "\tRAZEM :\t\t1115\t\t\t3921:05\n",
        "\n",
        "\n",
        "\n",
        "\n",
        "\n",
        "\n",
        "\n",
        "\n",
        " \"\"\"\n",
        "\n",
        "}\n"
      ]
    },
    {
      "cell_type": "code",
      "execution_count": 5,
      "metadata": {
        "id": "4Ajos4xCBQMH"
      },
      "outputs": [],
      "source": [
        "podziel_zlecenie(_zlecenie)"
      ]
    },
    {
      "cell_type": "code",
      "execution_count": 6,
      "metadata": {},
      "outputs": [],
      "source": [
        "podziel_zlecenie_SKLP(_zlecenie)"
      ]
    },
    {
      "cell_type": "code",
      "execution_count": null,
      "metadata": {},
      "outputs": [],
      "source": []
    }
  ],
  "metadata": {
    "colab": {
      "provenance": []
    },
    "kernelspec": {
      "display_name": "Python 3",
      "name": "python3"
    },
    "language_info": {
      "codemirror_mode": {
        "name": "ipython",
        "version": 3
      },
      "file_extension": ".py",
      "mimetype": "text/x-python",
      "name": "python",
      "nbconvert_exporter": "python",
      "pygments_lexer": "ipython3",
      "version": "3.11.6"
    }
  },
  "nbformat": 4,
  "nbformat_minor": 0
}
