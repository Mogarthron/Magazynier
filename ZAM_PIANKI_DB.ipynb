{
  "cells": [
    {
      "cell_type": "markdown",
      "metadata": {
        "colab_type": "text",
        "id": "view-in-github"
      },
      "source": [
        "<a href=\"https://colab.research.google.com/github/Mogarthron/Magazynier/blob/master/ZAM_PIANKI_DB.ipynb\" target=\"_parent\"><img src=\"https://colab.research.google.com/assets/colab-badge.svg\" alt=\"Open In Colab\"/></a>"
      ]
    },
    {
      "cell_type": "code",
      "execution_count": 1,
      "metadata": {
        "id": "kJUpVq3Fs7B3"
      },
      "outputs": [],
      "source": [
        "from modele_db import *\n",
        "import pandas as pd\n",
        "\n",
        "import warnings\n",
        "warnings.filterwarnings('ignore')"
      ]
    },
    {
      "cell_type": "code",
      "execution_count": 2,
      "metadata": {
        "id": "DOHKvixV5BSt"
      },
      "outputs": [],
      "source": [
        "zam_pianki_xlsx = \"Z:/450. PLANISTA - ZAOPATRZENIE/ZAM_PIANKI.xlsx\"\n",
        "pz = pd.read_excel(zam_pianki_xlsx, sheet_name=\"PZ\")\n",
        "pz_poz = pd.read_excel(zam_pianki_xlsx, sheet_name=\"PZ_POZ\")\n",
        "aktywne_dos = pd.read_excel(zam_pianki_xlsx, sheet_name=\"AKTYWNE_DOS\")\n",
        "pw = pd.read_excel(zam_pianki_xlsx, sheet_name=\"PW\")\n",
        "\n",
        "pz[\"PZ\"] = pz.Numer.apply(lambda x: x[-7:])\n",
        "pz[\"DOS\"] = pz.KARTA_LIMIT.apply(lambda x: x[4:11])\n",
        "\n",
        "pz_poz = pz_poz.merge(pz[[\"PZ\", \"DOS\", \"Data\", \"Obiekt docelowy\"]], how=\"left\", on=\"PZ\")"
      ]
    },
    {
      "cell_type": "code",
      "execution_count": 3,
      "metadata": {
        "id": "o5Et9zxcGnk6"
      },
      "outputs": [],
      "source": [
        "# stmt = (update(ZAM_PIANKI)\n",
        "#          .where(ZAM_PIANKI.lp.in_([148, 147, 149, 150, 151, 136, 138, 139, 134, 135, 140, 141, 143, 142, 146, 152, 153, 154, 157, 156,  75,  41,  47,  44,  43,  52, 46]))\n",
        "#         # .where((ZAM_PIANKI.model == \"HUDSON\"))# & (~ZAM_PIANKI.lp.in_([38,39,48,49,50,51])))\n",
        "#           .values(status_kompletacja = \"1\" , nr_pw=\"24/15\"))\n",
        "# #          # .values(galanteria = \"C\", siedziska_HR = \"C\", leniwa = \"C\"))#, pz = \"24/0009\"))\n",
        "# #          # .values(model = \"HORIZON\"))\n",
        "\n",
        "# session.execute(stmt)\n",
        "# session.commit()"
      ]
    },
    {
      "cell_type": "code",
      "execution_count": null,
      "metadata": {
        "id": "yPjXYntssT9x"
      },
      "outputs": [],
      "source": [
        "# stmt = (update(ZAM_PIANKI)\n",
        "#         # .where(ZAM_PIANKI.lp.in_([77]))\n",
        "#         .where((ZAM_PIANKI.zam1 == \"24/0242\"))# & (~ZAM_PIANKI.lp.in_([38,39,48,49,50,51])))\n",
        "#         .values(nr_samochodu = \"VITA 7_24\"))\n",
        "#         # .values(potw_dos1=\"29.01\", potw_dos2=\"29.01>30.01>31.01\", nr_kompletacji=\"1_24\"))\n",
        "#         # .values(galanteria = \"C\", siedziska_HR = \"C\", leniwa = \"C\"))#, pz = \"24/0009\"))\n",
        "#         # .values(model = \"HORIZON\"))\n",
        "\n",
        "# session.execute(stmt)\n",
        "# session.commit()"
      ]
    },
    {
      "cell_type": "code",
      "execution_count": null,
      "metadata": {
        "id": "wlXaK5BSB_Ye"
      },
      "outputs": [],
      "source": [
        "# delete_stmt = (\n",
        "#      delete(ZAM_PIANKI)\n",
        "#      .where(ZAM_PIANKI.lp.in_([28,29])))\n",
        "\n",
        "# session.execute(delete_stmt)\n",
        "# session.commit()\n"
      ]
    },
    {
      "cell_type": "code",
      "execution_count": null,
      "metadata": {
        "id": "aZbGNu8Esiyu"
      },
      "outputs": [],
      "source": [
        "with engine.begin() as conn:\n",
        "  zam_pianki_db = pd.read_sql(text(\"select * from ZAM_PIANKI\"), conn)\n",
        "  zamowienia_niedostarczone = pd.read_sql(text(\"select LP, TYDZIEN, KOD, NR_KOMPLETACJI, OPIS, ILE_ZAMOWIONE, ZNACZNIK_DOSTAWCY, ZAM1, ZAM2, POTW_DATA_DOS_1, POTW_DATA_DOS_2, nr_SAMOCHODU from ZAM_PIANKI where STATUS_KOMPLETACJA is null\"), conn)\n",
        "  zns = pd.read_sql(text(\"select LP, KOD, NR_KOMPLETACJI, OPIS, ILE_ZAMOWIONE, ZNACZNIK_DOSTAWCY, POTW_DATA_DOS_1, POTW_DATA_DOS_2, DATA_DOSTARCZENIA_1, DATA_DOSTARCZENIA_2, nr_PZ, nr_PW, STATUS_KOMPLETACJA from ZAM_PIANKI where STATUS_KOMPLETACJA is not null and STATUS_KOMPLETACJA <> '1'\"), conn)\n",
        "\n",
        "zns[\"dostarczone\"] = zns.apply(lambda x: x.ZNACZNIK_DOSTAWCY.__len__() == x.STATUS_KOMPLETACJA.__len__(), axis=1)\n",
        "zamowienia_niespakowane = zns[zns.dostarczone][zns.columns[:-1]]\n",
        "\n",
        "zpd = zam_pianki_db[[\"LP\", \"KOD\", \"TYDZIEN\", \"NR_KOMPLETACJI\", \"OPIS\", \"ILE_ZAMOWIONE\", \"ZNACZNIK_DOSTAWCY\", \"STATUS_KOMPLETACJA\"]]\n",
        "# zam_pianki_db[zam_pianki_db.MODEL == \"STONE\"][[\"LP\", \"MODEL\", \"TYDZIEN\", \"OPIS\", \"ILE_ZAMOWIONE\", \"ZAM1\", \"ZAM2\", \"UWAGI\",\"POTW_DATA_DOS_1\",\"POTW_DATA_DOS_2\", \"DATA_DOSTARCZENIA_1\", \"DATA_DOSTARCZENIA_2\"]]\n",
        "#DATY DOSTARCZENIA\n",
        "# zam_pianki_db[zam_pianki_db.DATA_DOSTARCZENIA_2 == \"2024-01-09\"][[\"LP\", \"nr_PZ\", \"MODEL\", \"NR_KOMPLETACJI\", \"TYDZIEN\", \"OPIS\", \"ILE_ZAMOWIONE\", \"ZAM1\", \"ZAM2\",\"POTW_DATA_DOS_1\",\"POTW_DATA_DOS_2\", \"DATA_DOSTARCZENIA_1\", \"DATA_DOSTARCZENIA_2\"]]\n",
        "#SAMOCHODY\n",
        "# zam_pianki_db[zam_pianki_db.POTW_DATA_DOS_1 == \"29/01\"][\n",
        "#     [\"LP\", \"TYDZIEN\", \"OPIS\", \"NR_KOMPLETACJI\", \"ILE_ZAMOWIONE\", \"ZAM1\", \"ZAM2\",\"POTW_DATA_DOS_1\", \"POTW_DATA_DOS_2\", \"nr_SAMOCHODU\"]]\n",
        "#PIANKI\n",
        "# zam_pianki_db[\n",
        "#     [\"LP\", \"MODEL\", \"OPIS\", \"NR_KOMPLETACJI\", \"GALANTERIA\", \"SIEDZISKA_HR\", \"LENIWA\"]]\n",
        "#PW\n",
        "# _pw = pw[pw.PW == \"24/05\"].merge(zam_pianki_db[\n",
        "#      [\"LP\", \"KOD\", \"ILE_ZAMOWIONE\", \"DATA_DOSTARCZENIA_1\", \"DATA_DOSTARCZENIA_2\", \"ZNACZNIK_DOSTAWCY\",\"STATUS_KOMPLETACJA\"]], how=\"left\", on=\"KOD\")\n",
        "# _pw[(_pw.OPIS.str.contains(\"REVERSO\"))]\n",
        "\n",
        "def przesuniecie_daty_dostawy(model, nr_kompletacji):\n",
        "    return zam_pianki_db[(zam_pianki_db.MODEL == model)&(zam_pianki_db.NR_KOMPLETACJI == nr_kompletacji)&(zam_pianki_db.nr_PZ.isna())][[\"LP\",\"OPIS\",\"ILE_ZAMOWIONE\",\"POTW_DATA_DOS_1\",\"POTW_DATA_DOS_2\",\"ZNACZNIK_DOSTAWCY\",\"STATUS_KOMPLETACJA\", \"nr_SAMOCHODU\"]]\n",
        "\n",
        "\n",
        "#PZ\n",
        "def przyjecie_pz(zam,model,nr_kompletacji):\n",
        "  kol1 = [\"LP\", \"KOD\",\"OPIS\",\"ILE_ZAMOWIONE\"]\n",
        "  if zam == \"ZAM1\":\n",
        "    kol2 = [\"POTW_DATA_DOS_1\"]\n",
        "  else:\n",
        "    kol2 = [\"POTW_DATA_DOS_2\"]\n",
        "\n",
        "  kol3 = [\"ZNACZNIK_DOSTAWCY\",\"STATUS_KOMPLETACJA\", \"nr_PZ\"]\n",
        "\n",
        "  return zam_pianki_db[(zam_pianki_db.MODEL == model)&(zam_pianki_db.NR_KOMPLETACJI == nr_kompletacji)&(zam_pianki_db.nr_PZ.isna())][kol1+kol2+kol3]\n",
        "\n",
        "\n",
        "# przesuniecie_daty_dostawy(\"AMALFI\", \"2_23\")\n",
        "# zam_pianki_db[(zam_pianki_db.MODEL == \"ONYX\")&(zam_pianki_db.NR_KOMPLETACJI == \"3_23\")&(~zam_pianki_db.nr_PZ.isna())][[\"LP\",\"OPIS\",\"ILE_ZAMOWIONE\",\"POTW_DATA_DOS_1\",\"POTW_DATA_DOS_2\",\"ZNACZNIK_DOSTAWCY\",\"STATUS_KOMPLETACJA\", \"nr_SAMOCHODU\"]]"
      ]
    },
    {
      "cell_type": "code",
      "execution_count": null,
      "metadata": {
        "colab": {
          "base_uri": "https://localhost:8080/",
          "height": 865
        },
        "id": "IWSdPPx_QHFq",
        "outputId": "368c31a3-aefa-4891-8462-1485fa7d289c"
      },
      "outputs": [],
      "source": [
        "# zpd.merge(pw[pw.PW == \"24/10\"], on=\"KOD\", how=\"right\")\n",
        "pw_zpd = pw[pw.PW == \"24/15\"][[\"PW\", \"KOD\", \"OPIS\", \"ILOSC\", \"KOMPLETACJA\"]].merge(zpd[~zpd.STATUS_KOMPLETACJA.isin([\"1\",None])][[\"TYDZIEN\", \"NR_KOMPLETACJI\", \"KOD\", \"LP\", \"ILE_ZAMOWIONE\", \"ZNACZNIK_DOSTAWCY\", \"STATUS_KOMPLETACJA\"]], on=\"KOD\", how=\"left\")\n",
        "# pw_zpd[~pw_zpd.STATUS_KOMPLETACJA.isin([\"1\",None])]\n",
        "pw_zpd.dropna().LP.astype(int).values"
      ]
    },
    {
      "cell_type": "code",
      "execution_count": null,
      "metadata": {
        "colab": {
          "base_uri": "https://localhost:8080/",
          "height": 424
        },
        "id": "1gA2Nvrp-GWr",
        "outputId": "2fcbe499-340c-4908-a828-347e93a9f951"
      },
      "outputs": [],
      "source": [
        "nr_dostaw = zam_pianki_db[[\"LP\", \"MODEL\", \"NR_KOMPLETACJI\", \"OPIS\", \"DATA_DOSTARCZENIA_1\", \"DATA_DOSTARCZENIA_2\", \"nr_SAMOCHODU\"]]\n",
        "nr_dostaw[\"KOMPLETACJA\"] = nr_dostaw.NR_KOMPLETACJI + \" \" + nr_dostaw.MODEL\n",
        "nr_dostaw = nr_dostaw[[\"LP\", \"KOMPLETACJA\", \"OPIS\", \"DATA_DOSTARCZENIA_1\", \"DATA_DOSTARCZENIA_2\", \"nr_SAMOCHODU\"]]\n",
        "# nr_dostaw[(nr_dostaw.KOMPLETACJA == \"2_23 CALYPSO\")]#.LP.values\n",
        "nr_dostaw"
      ]
    },
    {
      "cell_type": "code",
      "execution_count": null,
      "metadata": {
        "id": "z6Q5MyAuIR5j"
      },
      "outputs": [],
      "source": [
        "# stmt_update = (update(ZAM_PIANKI)\n",
        "#         .where((ZAM_PIANKI.lp.in_([52])))\n",
        "#         .values(nr_samochodu = \"CIECH 8_24,VITA 3_23\"))\n",
        "# session.execute(stmt_update)\n",
        "# session.commit()"
      ]
    },
    {
      "cell_type": "code",
      "execution_count": null,
      "metadata": {
        "id": "GwF9NrLE9rt1"
      },
      "outputs": [],
      "source": [
        "from sqlalchemy import update, insert, delete\n",
        "def przyjecie_dostawy(model, nr_kompl, lista_dostarczonych_bryl=None, szybkie_uzupelnienie=None):\n",
        "  lbp = zam_pianki_db[(zam_pianki_db.MODEL == model)&(zam_pianki_db.NR_KOMPLETACJI == nr_kompl)][[\"LP\", \"MODEL\", \"NR_KOMPLETACJI\", \"OPIS\", \"ILE_ZAMOWIONE\", \"ZNACZNIK_DOSTAWCY\", \"ZAM1\", \"ZAM2\", \"DATA_DOSTARCZENIA_1\", \"DATA_DOSTARCZENIA_2\", \"nr_SAMOCHODU\", \"STATUS_KOMPLETACJA\", \"nr_PZ\",  ]]\n",
        "\n",
        "  if lista_dostarczonych_bryl == None:\n",
        "    return lbp\n",
        "  elif lista_dostarczonych_bryl == True:\n",
        "    return {i[1].OPIS: {\"LP\": i[1].LP, \"SK\": i[1].STATUS_KOMPLETACJA, \"DATA_DOS1\": i[1].DATA_DOSTARCZENIA_1, \"DATA_DOS2\": i[1].DATA_DOSTARCZENIA_2, \"nr_PZ\": i[1].nr_PZ} for i in lbp.iterrows()}\n",
        "  elif type(lista_dostarczonych_bryl) == dict:\n",
        "    for k in lista_dostarczonych_bryl.values():\n",
        "      stmt_update = (update(ZAM_PIANKI)\n",
        "        .where((ZAM_PIANKI.lp == k[\"LP\"]))\n",
        "        .values(data_dos1 = k[\"DATA_DOS1\"],\n",
        "                data_dos2 = k[\"DATA_DOS2\"],\n",
        "                status_kompletacja = k[\"SK\"],\n",
        "                nr_pz = k[\"nr_PZ\"]))\n",
        "\n",
        "      session.execute(stmt_update)\n",
        "      session.commit()\n"
      ]
    },
    {
      "cell_type": "code",
      "execution_count": null,
      "metadata": {
        "colab": {
          "base_uri": "https://localhost:8080/",
          "height": 424
        },
        "id": "-2iZt3tCWofh",
        "outputId": "75d41908-22e6-48b5-f163-f1376356620a"
      },
      "outputs": [],
      "source": [
        "zpd[zpd.STATUS_KOMPLETACJA != \"1\"]"
      ]
    },
    {
      "cell_type": "code",
      "execution_count": null,
      "metadata": {
        "colab": {
          "base_uri": "https://localhost:8080/",
          "height": 452
        },
        "id": "kgCOul9-q5cr",
        "outputId": "cc9001ec-46d0-431b-820e-226b693616b7"
      },
      "outputs": [],
      "source": [
        "pz_poz"
      ]
    },
    {
      "cell_type": "code",
      "execution_count": null,
      "metadata": {
        "id": "kqhhZ2YwAkHJ"
      },
      "outputs": [],
      "source": [
        "data_dos = '2024-03-01'\n",
        "nr_pz = '24/0037'\n",
        "\n",
        "przyjecie_dostawy(\"HORIZON\", \"2_24\")"
      ]
    },
    {
      "cell_type": "code",
      "execution_count": null,
      "metadata": {
        "colab": {
          "base_uri": "https://localhost:8080/",
          "height": 1000
        },
        "id": "k83uiwyd3Coy",
        "outputId": "de9b9b4c-ccf0-47a2-adab-865c5d89ac74"
      },
      "outputs": [],
      "source": [
        "with engine.begin() as conn:\n",
        "  zns = pd.read_sql(text(\"select LP, NR_KOMPLETACJI, OPIS, ILE_ZAMOWIONE, ZNACZNIK_DOSTAWCY, POTW_DATA_DOS_1, POTW_DATA_DOS_2, DATA_DOSTARCZENIA_1, DATA_DOSTARCZENIA_2, nr_PZ, STATUS_KOMPLETACJA, nr_SAMOCHODU from ZAM_PIANKI where STATUS_KOMPLETACJA is not null and STATUS_KOMPLETACJA <> '1'\"), conn)\n",
        "\n",
        "zns[\"dostarczone\"] = zns.apply(lambda x: x.ZNACZNIK_DOSTAWCY.__len__() == x.STATUS_KOMPLETACJA.__len__(), axis=1)\n",
        "zns[zns.dostarczone][zns.columns[:-1]]\n",
        "\n",
        "\n",
        "#29.01>30.01>31.01>12.01 calypso 1_24 pot_data_dos_1"
      ]
    },
    {
      "cell_type": "code",
      "execution_count": null,
      "metadata": {
        "colab": {
          "base_uri": "https://localhost:8080/"
        },
        "id": "1FoqxXhHilXf",
        "outputId": "870b03a5-64c4-4f93-f8cf-52c23cc483de"
      },
      "outputs": [],
      "source": [
        "from sqlalchemy import select\n",
        "\n",
        "# pod = zam_pianki_db[[\"LP\",\"OPIS\", \"NR_KOMPLETACJI\", \"ILE_ZAMOWIONE\", \"STATUS_KOMPLETACJA\", \"ZAM1\", \"ZAM2\", \"POTW_DATA_DOS_1\", \"DATA_DOSTARCZENIA_1\", \"nr_PZ\", \"nr_PW\"]]\n",
        "# pod['STATUS_KOMPLETACJA'] = pod.STATUS_KOMPLETACJA.fillna(\"\")\n",
        "# pod['ZAM1'] = pod.ZAM1.fillna(\"\")\n",
        "# war = ~(pod.STATUS_KOMPLETACJA.str.contains(\"P|C\"))\n",
        "# war1 = (pod.ZAM1.str.contains(\"0007|0036|1486|1517\"))\n",
        "# pod = pod[(pod.STATUS_KOMPLETACJA != \"1\") & war & war1][[\"LP\", \"POTW_DATA_DOS_1\"]] #0007,0036,1486,1517\n",
        "\n",
        "\n",
        "# for i in pod.iterrows():\n",
        "#   stmt = select(ZAM_PIANKI.lp, ZAM_PIANKI.potw_dos1).where(ZAM_PIANKI.lp == i[1].LP)\n",
        "#   with engine.connect() as conn:\n",
        "#     lp, potw_data_dos = list(conn.execute(stmt))[0]\n",
        "#     print(lp, potw_data_dos+\">12.01\")\n",
        "\n",
        "  # stmt_update = (update(ZAM_PIANKI)\n",
        "  #       .where((ZAM_PIANKI.lp == lp))\n",
        "  #       .values(potw_dos1 = potw_data_dos+\">12.01\"))\n",
        "  # session.execute(stmt_update)\n",
        "  # session.commit()"
      ]
    },
    {
      "cell_type": "code",
      "execution_count": null,
      "metadata": {
        "colab": {
          "base_uri": "https://localhost:8080/",
          "height": 81
        },
        "id": "LiU6_b2dTGa7",
        "outputId": "9b0d26eb-43d2-4fea-970b-5e000798cee8"
      },
      "outputs": [],
      "source": [
        "with engine.begin() as conn:\n",
        "  zam_pianki_db = pd.read_sql(text(\"select * from ZAM_PIANKI\"), conn)\n",
        "\n",
        "pod = zam_pianki_db[[\"LP\",\"OPIS\", \"NR_KOMPLETACJI\", \"ILE_ZAMOWIONE\", \"STATUS_KOMPLETACJA\", \"ZAM1\", \"ZAM2\", \"POTW_DATA_DOS_1\", \"DATA_DOSTARCZENIA_1\", \"nr_PZ\", \"nr_PW\"]]\n",
        "pod['STATUS_KOMPLETACJA'] = pod.STATUS_KOMPLETACJA.fillna(\"\")\n",
        "pod['ZAM1'] = pod.ZAM1.fillna(\"\")\n",
        "war = ~(pod.STATUS_KOMPLETACJA.str.contains(\"P|C\"))\n",
        "war1 = (pod.ZAM1.str.contains(\"0007|0036|1486|1517\"))\n",
        "pod[(pod.STATUS_KOMPLETACJA != \"1\") & war & war1][[\"LP\", \"POTW_DATA_DOS_1\"]]"
      ]
    },
    {
      "cell_type": "code",
      "execution_count": null,
      "metadata": {
        "id": "GxHbpOYI9b7j"
      },
      "outputs": [],
      "source": [
        "# stmt = (update(ZAM_PIANKI)\n",
        "#         .where(ZAM_PIANKI.lp.in_([158, 159, 160, 161, 162, 163, 164, 165, 166, 167]))\n",
        "#         # .where((ZAM_PIANKI.nr_pz == \"24/0022\"))# & (~ZAM_PIANKI.lp.in_([38,39,48,49,50,51])))\n",
        "#         .values(nr_samochodu = \"PIANPOL 6_24\"))\n",
        "#         # .values(potw_dos1=\"29.01\", potw_dos2=\"29.01>30.01>31.01\", nr_kompletacji=\"1_24\"))\n",
        "#         # .values(galanteria = \"C\", siedziska_HR = \"C\", leniwa = \"C\"))#, pz = \"24/0009\"))\n",
        "#         # .values(model = \"HORIZON\"))\n",
        "\n",
        "# session.execute(stmt)\n",
        "# session.commit()"
      ]
    },
    {
      "cell_type": "code",
      "execution_count": null,
      "metadata": {
        "colab": {
          "base_uri": "https://localhost:8080/",
          "height": 53
        },
        "id": "HUTdxG9Vu24T",
        "outputId": "c1aa0d0d-7324-44b7-ac5e-a1bcddbb4f2c"
      },
      "outputs": [],
      "source": [
        "zam_pw = zam_pianki_db\n",
        "zam_pw[(zam_pw.MODEL == \"STONE\")&(zam_pw.STATUS_KOMPLETACJA != \"1\")][[\"LP\", \"NR_KOMPLETACJI\", \"OPIS\", \"ILE_ZAMOWIONE\", \"DATA_DOSTARCZENIA_1\", \"DATA_DOSTARCZENIA_2\",\"STATUS_KOMPLETACJA\", \"nr_PZ\"]]"
      ]
    },
    {
      "cell_type": "code",
      "execution_count": null,
      "metadata": {
        "colab": {
          "base_uri": "https://localhost:8080/",
          "height": 363
        },
        "id": "MbzDCukBfhWs",
        "outputId": "bc3c92d5-9c7e-4681-b70e-8049acba5df0"
      },
      "outputs": [],
      "source": [
        "pw[pw.PW == \"24/03\"]"
      ]
    },
    {
      "cell_type": "code",
      "execution_count": null,
      "metadata": {
        "id": "BC6CddOh9sJm"
      },
      "outputs": [],
      "source": [
        "zamowienia_niedostarczone = zamowienia_niedostarczone.fillna(\"\")\n",
        "zamowienia_niedostarczone.to_excel(\"DOS.xlsx\")"
      ]
    },
    {
      "cell_type": "code",
      "execution_count": null,
      "metadata": {
        "id": "otzDb5Y6O1Hw"
      },
      "outputs": [],
      "source": []
    }
  ],
  "metadata": {
    "colab": {
      "authorship_tag": "ABX9TyOTtH7cbiC2XGfnyXcznTNr",
      "include_colab_link": true,
      "mount_file_id": "1B_08jQIeg9D1FxCQOCKADhL0EFRZJ-mF",
      "provenance": []
    },
    "kernelspec": {
      "display_name": "Python 3",
      "name": "python3"
    },
    "language_info": {
      "codemirror_mode": {
        "name": "ipython",
        "version": 3
      },
      "file_extension": ".py",
      "mimetype": "text/x-python",
      "name": "python",
      "nbconvert_exporter": "python",
      "pygments_lexer": "ipython3",
      "version": "3.11.6"
    }
  },
  "nbformat": 4,
  "nbformat_minor": 0
}
