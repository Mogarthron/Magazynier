{
  "cells": [
    {
      "cell_type": "markdown",
      "metadata": {
        "id": "HUdpeF3CoBk8"
      },
      "source": [
        "# IMPORTY"
      ]
    },
    {
      "cell_type": "code",
      "execution_count": 1,
      "metadata": {
        "id": "-maxPD43rC4n"
      },
      "outputs": [],
      "source": [
        "import pandas as pd\n",
        "import numpy as np\n",
        "\n",
        "import warnings\n",
        "warnings.filterwarnings('ignore')"
      ]
    },
    {
      "cell_type": "code",
      "execution_count": 2,
      "metadata": {
        "id": "Y9f7ISk9bLjh"
      },
      "outputs": [],
      "source": [
        "from modele_db import *\n",
        "lista_bryl = dict()\n",
        "with engine.begin() as conn:\n",
        "      lb = conn.execute(text(f\"SELECT * from lista_bryl_pianki\"))\n",
        "      tab = pd.read_sql(text(\"SELECT * from baza_PIANKI\"), conn)\n",
        "for i in lb:\n",
        "  # print(i[0], i[1].split(\"_\"))\n",
        "  lista_bryl[i[0]] = [x for x in i[1].split(\"_\")]"
      ]
    },
    {
      "cell_type": "markdown",
      "metadata": {
        "id": "qpH5STEun-Ap"
      },
      "source": [
        "#PIANKI"
      ]
    },
    {
      "cell_type": "code",
      "execution_count": 3,
      "metadata": {},
      "outputs": [],
      "source": [
        "from modele_pianek import *"
      ]
    },
    {
      "cell_type": "markdown",
      "metadata": {
        "id": "YU1WSgumt-1j"
      },
      "source": [
        "# ANALIZA PIANEK"
      ]
    },
    {
      "cell_type": "code",
      "execution_count": 10,
      "metadata": {
        "id": "i7lNPpjNeOer"
      },
      "outputs": [],
      "source": []
    },
    {
      "cell_type": "code",
      "execution_count": 14,
      "metadata": {},
      "outputs": [],
      "source": []
    },
    {
      "cell_type": "code",
      "execution_count": null,
      "metadata": {
        "id": "TgDcGxzr4Z0O"
      },
      "outputs": [],
      "source": [
        "# nr_tygodnia = 2409\n",
        "# zapis_analizy =analiza[[\"KOD\",\"MAX\",\"SALDO\",\"SUMA_ZLEC\",\"ZAMOWIONE\", \"CZESIOWO_DOSTARCZONE\", \"CZEKA_NA_SPAKOWANIE\",]]\n",
        "# zapis_analizy[\"TYDZIEN\"] = nr_tygodnia\n",
        "# zapis_analizy[[\"MAX\",\"SALDO\",\"SUMA_ZLEC\",\"ZAMOWIONE\", \"CZESIOWO_DOSTARCZONE\", \"CZEKA_NA_SPAKOWANIE\"]] = zapis_analizy[[\"MAX\",\"SALDO\",\"SUMA_ZLEC\",\"ZAMOWIONE\", \"CZESIOWO_DOSTARCZONE\", \"CZEKA_NA_SPAKOWANIE\"]].astype(\"int16\")\n",
        "# zapis_analizy\n",
        "\n",
        "# # zapis_analizy_engine = create_engine(\"sqlite:///drive/MyDrive/ARCHIWOM_ANALIZ.db\", echo=False)\n",
        "# # zapis_analizy.to_sql(\"ZAPIS_ANALIZY_PIANKI\", zapis_analizy_engine, if_exists=\"append\")"
      ]
    },
    {
      "cell_type": "code",
      "execution_count": 15,
      "metadata": {
        "colab": {
          "base_uri": "https://localhost:8080/"
        },
        "id": "-B2_nu9R_rq3",
        "outputId": "e3860bc6-b323-4d92-b13e-6cc7b5ca2704"
      },
      "outputs": [
        {
          "name": "stdout",
          "output_type": "stream",
          "text": [
            "OBIĘTOSC PACZEK (Z OWATAMI)\n",
            "05/01: 173m3\n",
            "06/01: 184m3\n",
            "07/01: 176m3\n",
            "08/01: 176m3\n",
            "09/01: 168m3\n",
            "WST: 115m3\n",
            "Objetość wszystkich paczek: 991m3\n",
            "PW 24/14 spakowano: 265M3\n"
          ]
        }
      ],
      "source": [
        "nr_pw = \"24/14\"\n",
        "pw = pd.read_excel(\"Z:/450. PLANISTA - ZAOPATRZENIE/ZAM_PIANKI.xlsx\", sheet_name=\"PW\")\n",
        "pw= pw[pw.PW.str.contains(nr_pw)].merge(komplety_pianek[[\"KOD\", \"obj\"]], how=\"left\", on=\"KOD\")\n",
        "pw[\"SPAKOWANE_M3\"] = pw.ILOSC * pw.obj\n",
        "\n",
        "print(\"OBIĘTOSC PACZEK (Z OWATAMI)\")\n",
        "sum_obj = 0\n",
        "for p in pda:\n",
        "  p_obj = (analiza[p]*analiza.obj).sum()\n",
        "  sum_obj += p_obj\n",
        "  print(f\"{p}: {p_obj:.0f}m3\")\n",
        "\n",
        "\n",
        "print(f\"WST: {(analiza.WST*analiza.obj).sum():.0f}m3\")\n",
        "print(f\"Objetość wszystkich paczek: {sum_obj + (analiza.WST*analiza.obj).sum():.0f}m3\")\n",
        "print(f\"PW {nr_pw} spakowano: {pw.SPAKOWANE_M3.sum():.0f}M3\")\n",
        "# pw"
      ]
    },
    {
      "cell_type": "code",
      "execution_count": null,
      "metadata": {
        "colab": {
          "base_uri": "https://localhost:8080/",
          "height": 1000
        },
        "id": "ZWFbxMzJLzCD",
        "outputId": "0b01f1d0-cef4-48ca-ea47-6fe92f6eb1f7"
      },
      "outputs": [],
      "source": [
        "zam_pianki[zam_pianki.dostarczono == 2]"
      ]
    },
    {
      "cell_type": "code",
      "execution_count": null,
      "metadata": {
        "colab": {
          "base_uri": "https://localhost:8080/",
          "height": 802
        },
        "id": "kQUiJAPDKb7R",
        "outputId": "2d11e9cf-5e6e-4dc1-eb93-cea4e2cc33e7"
      },
      "outputs": [],
      "source": [
        "br = Braki(WOLNE=\"SALDO\")[0] #USUNAC PROBLEM Z DUBLUJACYMI SIE ZAMOWIANIAMI(JEDNO DOSTARCZONE DRUGIE W DRODZE TWORZĄ SIĘ DWIE POZYCJE)\n",
        "br#.to_excel(\"BRAKI.xlsx\")\n",
        "# br#.sort_values(by=[\"GRUPA\", \"OPIS\"])"
      ]
    },
    {
      "cell_type": "code",
      "execution_count": null,
      "metadata": {
        "colab": {
          "base_uri": "https://localhost:8080/"
        },
        "id": "E-Ani2-Zd2C_",
        "outputId": "01fd5b79-6e64-4e04-b509-da117d81643e"
      },
      "outputs": [],
      "source": [
        "Zagrozone(WOLNE=\"SALDO\")"
      ]
    },
    {
      "cell_type": "markdown",
      "metadata": {
        "id": "KAZDRoPp17_p"
      },
      "source": [
        "##ANALIZA RODZINY"
      ]
    },
    {
      "cell_type": "code",
      "execution_count": null,
      "metadata": {
        "id": "F13pUjCftEkZ"
      },
      "outputs": [],
      "source": [
        "ar=[Analiza_Rodziny(AMALFI_P,2,1),\n",
        "    Analiza_Rodziny(AVANT_P,1,1),\n",
        "    Analiza_Rodziny(CALYPSO,3,2),\n",
        "    Analiza_Rodziny(COCO_PV,4),\n",
        "    Analiza_Rodziny(DIVA,2,10),\n",
        "    Analiza_Rodziny(DUO,3),\n",
        "    Analiza_Rodziny(ELIXIR,1,1),\n",
        "    # Analiza_Rodziny(EXTREME,3), #ZROBIC KLASE\n",
        "    Analiza_Rodziny(GREY,4),\n",
        "    Analiza_Rodziny(HUDSON,3,2),\n",
        "    Analiza_Rodziny(HORIZON_PV,1,1),\n",
        "    # Analiza_Rodziny(KELLY), #POPRAWIC KLASE!!!!\n",
        "    Analiza_Rodziny(LENOX,4),\n",
        "    Analiza_Rodziny(MAXWELL_P,2,2),\n",
        "    # Analiza_Rodziny(MYSTIC,3), #NIE/ZROBIC KLASE?\n",
        "    Analiza_Rodziny(ONYX,3,2),\n",
        "    Analiza_Rodziny(OVAL_P,4),\n",
        "    Analiza_Rodziny(OXYGEN_P,2),\n",
        "    Analiza_Rodziny(RITZ,3),\n",
        "    Analiza_Rodziny(WILLOW,2,2),\n",
        "    Analiza_Rodziny(REVERSO,2,1),\n",
        "    Analiza_Rodziny(SPECTRA,3),\n",
        "    Analiza_Rodziny(SAMOA,3,2),\n",
        "    Analiza_Rodziny(UNO,4),\n",
        "    Analiza_Rodziny(STONE,1,1)]\n",
        "\n",
        "ar_podsum = pd.DataFrame([x.Raport() for x in ar])"
      ]
    },
    {
      "cell_type": "code",
      "execution_count": null,
      "metadata": {
        "id": "mlSbC0H26xF6"
      },
      "outputs": [],
      "source": [
        "ard = {a.MODEL: a for a in ar}"
      ]
    },
    {
      "cell_type": "code",
      "execution_count": null,
      "metadata": {
        "colab": {
          "base_uri": "https://localhost:8080/",
          "height": 759
        },
        "id": "UY_qTkHGno4R",
        "outputId": "2cb508f9-c769-47ae-b61a-46d6ac9c7ab6"
      },
      "outputs": [],
      "source": [
        "ar_podsum.sort_values(by=[\"GRUPA\", \"OBJ_BRYL_DO_ZAM_DO_OBJ_MAX\"], ascending=[True,False])"
      ]
    },
    {
      "cell_type": "code",
      "execution_count": null,
      "metadata": {
        "colab": {
          "base_uri": "https://localhost:8080/"
        },
        "id": "f0JUirVBhJYy",
        "outputId": "b85c706f-3cc7-4ac2-fdb8-2bd15681dea3"
      },
      "outputs": [],
      "source": [
        "podsumowanie_VOL = ar_podsum[[\"OBJ_CIECH\",\t\"OBJ_VITA\",\t\"OBJ_PIANPOL\"]].sum()\n",
        "podsumowanie_VOL[\"RAZEM\"] = podsumowanie_VOL.sum()\n",
        "podsumowanie_VOL"
      ]
    },
    {
      "cell_type": "code",
      "execution_count": null,
      "metadata": {
        "colab": {
          "base_uri": "https://localhost:8080/",
          "height": 885
        },
        "id": "9SnEXcilpXHW",
        "outputId": "5f322d9e-65da-4f7e-837e-a53101fbb82e"
      },
      "outputs": [],
      "source": [
        "ard[\"ELIXIR\"].Raport(\"prtW\")"
      ]
    },
    {
      "cell_type": "markdown",
      "metadata": {
        "id": "e1SJ8WBwUpzL"
      },
      "source": [
        "#BRYŁY DO ZAMÓWIENIA"
      ]
    },
    {
      "cell_type": "code",
      "execution_count": null,
      "metadata": {
        "id": "BSMUebJz3NgD"
      },
      "outputs": [],
      "source": [
        "# @title BRYŁY DO ZAMÓWIENIA FUNKCJE\n",
        "def oblicz_owaty_do_zamowienia(*z_bdz):\n",
        "\n",
        "  df_zam = pd.concat(z_bdz)\n",
        "  df_zam = df_zam.merge(owaty, how=\"left\", on=\"OPIS\")\n",
        "\n",
        "  for c in owaty.columns[1:]:\n",
        "    df_zam[c] = df_zam[c] * df_zam.DO_ZAMOWIENIA * 1.1\n",
        "\n",
        "  return df_zam#[owaty.columns[1:]]\n",
        "\n",
        "\n",
        "def zapotrzebowanie_na_owaty(zam_owaty, wyjatki:list):\n",
        "  _wyjatki = pd.Series({\"O3\":0, \"O2\":0, \"O1\":0, \"L1\":0, \"W3\":0})\n",
        "  for w in wyjatki:\n",
        "    _wyjatki += w\n",
        "\n",
        "  zap = zam_owaty[[\"O3\", \"O2\", \"O1\", \"L1\", \"W3\"]].sum()+_wyjatki\n",
        "\n",
        "  # zap *= 1.1\n",
        "\n",
        "  print(f\"O1 zielona: {(zap['O1']/50).round(0):.0f} rolek\")\n",
        "  print(f\"O2 niebieska: {(zap['O2']/40).round(0):.0f} rolek\")\n",
        "  print(f\"O3 czerwona: {(zap['O3']/40).round(0):.0f} rolek\")\n",
        "  # return zap\n",
        "\n",
        "\n",
        "\n",
        "def pobierz_zamowienie_z_ZAM_PIANKI(tydzien, _cls):\n",
        "  _zam = zam_pianki[(zam_pianki.TYDZIEN == tydzien) & (zam_pianki.OPIS.str.contains(_cls.MODEL))].merge(komplety_pianek[[\"KOD\", \"BRYLA_GEN\"]])[[\"OPIS\", \"BRYLA_GEN\", \"ILE_ZAMOWIONE\"]]\n",
        "  return _cls({i[1].BRYLA_GEN: i[1].ILE_ZAMOWIONE for i in _zam[[\"BRYLA_GEN\", \"ILE_ZAMOWIONE\"]].iterrows()})\n",
        "\n"
      ]
    },
    {
      "cell_type": "markdown",
      "metadata": {
        "id": "Pu7Rp96Zuzhp"
      },
      "source": [
        "##KOMPONOWANIE ZAMOWIENIA"
      ]
    },
    {
      "cell_type": "code",
      "execution_count": null,
      "metadata": {
        "colab": {
          "base_uri": "https://localhost:8080/"
        },
        "id": "RccM6KFdLUcQ",
        "outputId": "22e33caf-16b8-42b6-bb32-31a86c6131ff"
      },
      "outputs": [],
      "source": [
        "#dos 24/0242 sto 2_24, hor 3_24, nr_sam VITA 7_24,  nr partii 08/01\n",
        "zsto,sto = ard[\"STONE\"].Bryly_do_zamowienia(wszystkie_bryly=True, korekta_zam={\n",
        "    '1,5': 150.0,\n",
        " '2,5': 25.0,\n",
        " '3': 45.0,\n",
        " '4': 10.0,\n",
        "#  '5': 0.0,\n",
        " 'ON': 15.0,\n",
        "#  'NW140x150': 5.0,\n",
        "#  '': 50.0,\n",
        " '[LH': 25.0,\n",
        " 'E30': 10.0,\n",
        " 'P106x106': 10.0,\n",
        " 'P106x82': 20.0,\n",
        "#  'P82x82': 2.0,\n",
        "#  'Z50': 1.0,\n",
        " 'Z70': 190.0,\n",
        " 'STONE ][': 250.0})\n",
        "\n",
        "\n",
        "\n",
        "zhor, hor = ard[\"HORIZON\"].Bryly_do_zamowienia(wszystkie_bryly=True, korekta_zam={\n",
        " 'ONz': 20.0,\n",
        "})\n",
        "\n",
        "sto, hor# + blok t35 1.2x1.2x2 +hr3020"
      ]
    },
    {
      "cell_type": "code",
      "execution_count": null,
      "metadata": {},
      "outputs": [],
      "source": [
        "ard[\"WILLOW\"].Bryly_do_zamowienia(wszystkie_bryly=True, korekta_zam={\n",
        "#     '1': 35.0,\n",
        "#  '1,5': 3.0,\n",
        "#  '2,5': 1.0,\n",
        "#  '4': 15.0,\n",
        "#  'N': 0.0,\n",
        "#  '[L': 9.0,\n",
        "#  '[L2Hz': 0.0,\n",
        "#  'P106x106': 0.0,\n",
        "#  'P82x106': 6.0,\n",
        "#  'P82x82': 6.0,\n",
        "#  '[': 26.0,\n",
        " ']': 0.0,\n",
        " 'OWA 1][': 40.0,\n",
        " 'OWA 1': 20.0,\n",
        " 'OWA 1,5][': 70.0,\n",
        " 'OWA 1,5': 50.0,\n",
        " 'OWA 2,5][': 10.0,\n",
        " 'OWA 2,5': 10.0,\n",
        " 'OWA 4][': 25.0,\n",
        " 'OWA 4': 0.0})"
      ]
    },
    {
      "cell_type": "code",
      "execution_count": null,
      "metadata": {
        "colab": {
          "base_uri": "https://localhost:8080/"
        },
        "id": "Ytz_9pE5ebCZ",
        "outputId": "8dfd5bd1-0f9a-40d3-eca8-3d86e7a0e362"
      },
      "outputs": [],
      "source": [
        "sto+hor"
      ]
    },
    {
      "cell_type": "code",
      "execution_count": null,
      "metadata": {
        "colab": {
          "base_uri": "https://localhost:8080/"
        },
        "id": "ckBCZT0LbgI4",
        "outputId": "963f5818-cc71-4f15-88ed-62c906edfd28"
      },
      "outputs": [],
      "source": [
        "1.2*1.2*2*3\n"
      ]
    },
    {
      "cell_type": "code",
      "execution_count": null,
      "metadata": {
        "colab": {
          "base_uri": "https://localhost:8080/"
        },
        "id": "Q9LvaJJMs864",
        "outputId": "b09960bf-90b6-40fb-b037-5087d6e95d67"
      },
      "outputs": [],
      "source": [
        "ozn_owat"
      ]
    },
    {
      "cell_type": "code",
      "execution_count": null,
      "metadata": {
        "id": "nojLTF5Lh_yI"
      },
      "outputs": [],
      "source": []
    },
    {
      "cell_type": "code",
      "execution_count": null,
      "metadata": {
        "colab": {
          "base_uri": "https://localhost:8080/",
          "height": 478
        },
        "id": "l6sG2ga7cYMA",
        "outputId": "094675ca-cd1d-4a46-d4f6-7db1c63242eb"
      },
      "outputs": [],
      "source": [
        "zapotrzebowanie_na_owaty(oblicz_owaty_do_zamowienia(zsto, zhor),[])\n",
        "\n",
        "pd.concat([zsto, zhor]).merge(\n",
        "    oblicz_owaty_do_zamowienia(zsto, zhor)[[\"KOD\", \"O1\", \"O2\", \"O3\", \"L1\",\"W3\"]].fillna(0),\n",
        "    how=\"left\",\n",
        "    on=\"KOD\").rename(columns={\"O1\":\"ZIELONA\", \"O2\":\"NIEBIESKA\", \"O3\":\"CZERWONA\", \"L1\":\"ŻÓŁTA\"})#.to_excel(\"PIANPOL_2408.xlsx\")"
      ]
    },
    {
      "cell_type": "code",
      "execution_count": null,
      "metadata": {
        "colab": {
          "base_uri": "https://localhost:8080/"
        },
        "id": "ET6InCWDg4Oa",
        "outputId": "3a64c79e-eba5-4167-9305-c22f1cc893e1"
      },
      "outputs": [],
      "source": [
        "ozn_owat"
      ]
    },
    {
      "cell_type": "markdown",
      "metadata": {
        "id": "-x8gK1BRuqLR"
      },
      "source": [
        "##DODANIE ZAMÓWIENIA DO BAZY"
      ]
    },
    {
      "cell_type": "code",
      "execution_count": null,
      "metadata": {
        "colab": {
          "base_uri": "https://localhost:8080/",
          "height": 426
        },
        "id": "TvWq4N5Ldi99",
        "outputId": "b3ea823e-2741-454f-f844-d74ccfb86d47"
      },
      "outputs": [],
      "source": [
        "pozycje = list()\n",
        "\n",
        "\n",
        "def Dodaj_pozycje_do_ZAM_PIANKI(tydzien, zancznik_dostawcy, nr_kompletacji, modele:pd.DataFrame, klasa, zam1=None, zam2=None, nr_partii=None, DODAJ_DO_BAZY = False):\n",
        "\n",
        "  model = klasa.MODEL\n",
        "  galanteria = klasa.galanteria\n",
        "  siedziska_HR = klasa.siedziska_HR\n",
        "  leniwa = klasa.leniwa\n",
        "\n",
        "  for r in modele.iterrows():\n",
        "    # tydzien, model, kod, opis, ile_zam, znacznik_dostawcy, galanteria, siedziska_HR, leniwa, nr_kompletacji=None, zam1=None, zam2=None, nr_partii=None\n",
        "    pozycje.append([tydzien, model, r[1].KOD, r[1].OPIS, r[1].DO_ZAMOWIENIA, zancznik_dostawcy, galanteria, siedziska_HR, leniwa, nr_kompletacji, zam1, zam2, \"nr_partii: \" + nr_partii])\n",
        "\n",
        "  if DODAJ_DO_BAZY:\n",
        "\n",
        "    for r in modele.iterrows():\n",
        "      session.add(ZAM_PIANKI(tydzien, model, r[1].KOD, r[1].OPIS, r[1].DO_ZAMOWIENIA, zancznik_dostawcy, galanteria, siedziska_HR, leniwa, nr_kompletacji, zam1, zam2, \"nr_partii: \" + nr_partii))\n",
        "\n",
        "    session.commit()\n",
        "\n",
        "\n",
        "#dos 24/0242 sto 2_24, hor 3_24, nr_sam VITA 7_24,  nr partii 08/01\n",
        "\n",
        "# Dodaj_pozycje_do_ZAM_PIANKI(2407, \"P\", \"2_24\", zoxy, oxy, \"24/0216\", nr_partii=\"07/01,\")#, DODAJ_DO_BAZY=True)\n",
        "\n",
        "pd.DataFrame(pozycje)"
      ]
    },
    {
      "cell_type": "code",
      "execution_count": null,
      "metadata": {
        "colab": {
          "base_uri": "https://localhost:8080/",
          "height": 990
        },
        "id": "ZbkvPj3sg-Pz",
        "outputId": "409af77a-6503-48df-f6ba-827d732a40d8"
      },
      "outputs": [],
      "source": [
        "with engine.begin() as conn:\n",
        "  zam_pianki_db = pd.read_sql(text(\"SELECT * from ZAM_PIANKI ORDER BY TYDZIEN DESC LIMIT 30\"), conn) # ORDER BY TYDZIEN DESC LIMIT 30\n",
        "\n",
        "zam_pianki_db[[\"LP\", \"TYDZIEN\", \"OPIS\", \"ILE_ZAMOWIONE\", \"ZNACZNIK_DOSTAWCY\", \"GALANTERIA\", \"SIEDZISKA_HR\", \"LENIWA\", \"ZAM1\", \"ZAM2\", \"UWAGI\"]]"
      ]
    },
    {
      "cell_type": "markdown",
      "metadata": {
        "id": "GKoUEgnLfBBq"
      },
      "source": [
        "#RAPORTY DO ZAMÓWIENIA"
      ]
    },
    {
      "cell_type": "code",
      "execution_count": null,
      "metadata": {
        "id": "gOokp3zHQjd4"
      },
      "outputs": [],
      "source": [
        "import openpyxl\n",
        "from openpyxl.utils.dataframe import dataframe_to_rows\n",
        "from openpyxl.styles import Border, Side\n",
        "from datetime import datetime as dt"
      ]
    },
    {
      "cell_type": "code",
      "execution_count": null,
      "metadata": {
        "id": "YNdKgRdvoMyG"
      },
      "outputs": [],
      "source": [
        "_tab = tab.copy()\n",
        "_tab[\"vol\"] = _tab.DLUG*_tab.SZER*_tab.WYS/1000_000_000\n",
        "_tab[\"VOL\"] = _tab.vol*_tab.ilosc"
      ]
    },
    {
      "cell_type": "code",
      "execution_count": null,
      "metadata": {
        "colab": {
          "base_uri": "https://localhost:8080/",
          "height": 802
        },
        "id": "xHtYhd2PgitL",
        "outputId": "f274ec5d-9c7f-4f27-f3e5-70409a6ee36f"
      },
      "outputs": [],
      "source": [
        "dostawca = \"CIECH\"\n",
        "with engine.begin() as conn:\n",
        "  wnd = pd.read_sql(text(\"SELECT KOD, OPIS, MODEL, NR_KOMPLETACJI, ILE_ZAMOWIONE, ZNACZNIK_DOSTAWCY, ZAM1, ZAM2, GALANTERIA, SIEDZISKA_HR, LENIWA, UWAGI, nr_SAMOCHODU from ZAM_PIANKI WHERE ZAM1 = '24/0151'\"), conn)\n",
        "\n",
        "wnd = wnd.merge(komplety_pianek[[\"KOD\", \"BRYLA_GEN\", \"obj\"]], how=\"left\", on=\"KOD\")\n",
        "\n",
        "\n",
        "\n",
        "def obj_typ(m,bg,i,g,s,l):\n",
        "\n",
        "    war_len = (_tab.TYP == \"G-401\")\n",
        "    war_shr = (_tab.TYP.str.contains(\"HR|EE\"))\n",
        "\n",
        "    gal = _tab[(_tab.MODEL == m) & (_tab.BRYLA == bg) & ~war_len & ~war_shr].VOL.sum()*i if g == dostawca[0] else 0\n",
        "    shr = _tab[(_tab.MODEL == m) & (_tab.BRYLA == bg) & (war_shr)].VOL.sum()*i if s == dostawca[0] else 0\n",
        "    len = _tab[(_tab.MODEL == m) & (_tab.BRYLA == bg) & (war_len)].VOL.sum()*i if l == dostawca[0] else 0\n",
        "\n",
        "    # return f\"{gal} + {shr} + {len}\"\n",
        "    return gal + shr + len\n",
        "\n",
        "\n",
        "wnd[\"OBJ_DOSTAWA\"] = wnd.apply(lambda x: obj_typ(x.MODEL, x.BRYLA_GEN, x.ILE_ZAMOWIONE, x.GALANTERIA, x.SIEDZISKA_HR, x.LENIWA), axis=1)\n",
        "wnd[\"ILE_WOZKOW\"] = (wnd.OBJ_DOSTAWA / 5.5)\n",
        "wnd[\"ILE_WOZKOW\"] = wnd[\"ILE_WOZKOW\"].apply(np.ceil)\n",
        "wnd[\"OBJ_KOMPLETACJA\"] = wnd.ILE_ZAMOWIONE * wnd.obj\n",
        "wnd[[\"MODEL\", \"NR_KOMPLETACJI\", \"OPIS\", \"ILE_ZAMOWIONE\", \"OBJ_DOSTAWA\", \"ILE_WOZKOW\"]]#.to_excel(\"ILE_PRZYJECHALO_24_0151.xlsx\")\n",
        "# wnd"
      ]
    },
    {
      "cell_type": "code",
      "execution_count": null,
      "metadata": {},
      "outputs": [],
      "source": [
        "zam_pianki"
      ]
    },
    {
      "cell_type": "code",
      "execution_count": null,
      "metadata": {
        "id": "0sNAkKevxbaW"
      },
      "outputs": [],
      "source": [
        "from analiza_pianek import _owaty\n",
        "\n",
        "def zlecenia_produkcyjne_pianki_owaty(model, nr_kompletacji, nr_partii):\n",
        "  \"\"\"\n",
        "  nr_partii -> numer tygodnia / np.: 07/1\n",
        "  \"\"\"\n",
        "  zp = zam_pianki[(zam_pianki.OPIS.str.contains(model))&(zam_pianki.NR_KOMPLETACJI == nr_kompletacji)][[\"OPIS\", \"ILE_ZAMOWIONE\"]]\n",
        "\n",
        "  for p in range(zp.shape[0]):\n",
        "\n",
        "    ow = _owaty[_owaty.OPIS == zp.iloc[p].OPIS][[\"TYP_OWATY\", \"ZUZYCIE\", \"RODZAJ_CIECIA\", \"NAZWA_UKL\"]].reset_index()\n",
        "    ow[\"ZUZYCIE\"] = ow.ZUZYCIE*zp.iloc[p].ILE_ZAMOWIONE*1.1\n",
        "    ow[\"KATER_UKL\"] = ow.apply(lambda x: x.NAZWA_UKL if x.RODZAJ_CIECIA == \"K\" else \"\", axis=1)\n",
        "\n",
        "    wb = openpyxl.Workbook()\n",
        "    sheet = wb.active\n",
        "\n",
        "    sheet[\"A1\"] = \"ZLECENIE PRODUKCYJNE: WYDZIAŁ ROZKRÓJ OWAT / KOMPLETACJA OWATY\"\n",
        "    sheet[\"A3\"] = f\"NR PARTII: {nr_partii}\"\n",
        "    sheet[\"A4\"] = f\"NR ZAMÓWIENIA: {model} {nr_kompletacji}\"\n",
        "    sheet[\"A5\"] = f\"MODEL: {model}\"\n",
        "    sheet[\"H1\"] = f\"DZIEŃ WYDRUKU      {dt.now().strftime('%Y-%m-%d')}\"\n",
        "    sheet[\"E4\"] = \"TYP\"\n",
        "    sheet[\"F4\"] = \"MB\"\n",
        "    sheet[\"G4\"] = \"R/K\"\n",
        "    sheet[\"H4\"] = \"KATER_UKL\"\n",
        "\n",
        "    start_row = 5\n",
        "    for r in ow.iterrows():\n",
        "\n",
        "      sheet.cell(row=r[0]+start_row, column=5, value=r[1].TYP_OWATY)\n",
        "      sheet.cell(row=r[0]+start_row, column=6, value=r[1].ZUZYCIE)\n",
        "      sheet.cell(row=r[0]+start_row, column=7, value=r[1].RODZAJ_CIECIA)\n",
        "      sheet.cell(row=r[0]+start_row, column=8, value=r[1].KATER_UKL)\n",
        "\n",
        "\n",
        "    sheet[\"A15\"] = \"BRYŁA\"\n",
        "    sheet[\"B15\"] = \"ILOŚĆ PACZEK\"\n",
        "    sheet[\"C15\"] = \"CZAS\"\n",
        "    sheet[\"A16\"] = zp.iloc[p].OPIS\n",
        "    sheet[\"B16\"] = zp.iloc[p].ILE_ZAMOWIONE\n",
        "\n",
        "    sheet[\"A18\"] = \"UWAGI:\"\n",
        "    sheet[\"H18\"] = \"PODPIS, DZIEN:\"\n",
        "\n",
        "    thin = Side(border_style=\"thin\", color=\"000000\")\n",
        "    for row in sheet[f\"E4:i{ow.shape[0]+4}\"]:\n",
        "        for cell in row:\n",
        "          cell.border = Border(bottom=thin)\n",
        "\n",
        "    wb.save(f\"OWATY/OWATY {model} {nr_kompletacji} {zp.iloc[p].OPIS.replace(model, '')}.xlsx\")\n",
        "\n",
        "\n",
        "def zlecenia_produkcyjne_pianki_kompletacja(model, nr_kompletacji, nr_partii):\n",
        "  \"\"\"\n",
        "  nr_partii -> numer tygodnia / np.: 07/1\n",
        "  \"\"\"\n",
        "  zp = zam_pianki[(zam_pianki.OPIS.str.contains(model))&(zam_pianki.NR_KOMPLETACJI == nr_kompletacji)][[\"OPIS\", \"ILE_ZAMOWIONE\"]]\n",
        "\n",
        "  for p in range(zp.shape[0]):\n",
        "\n",
        "    ow = _owaty[_owaty.OPIS == zp.iloc[p].OPIS][[\"TYP_OWATY\", \"ZUZYCIE\", \"RODZAJ_CIECIA\", \"NAZWA_UKL\"]].reset_index()\n",
        "    ow[\"ZUZYCIE\"] = ow.ZUZYCIE*zp.iloc[p].ILE_ZAMOWIONE*1.1\n",
        "    ow[\"KATER_UKL\"] = ow.apply(lambda x: x.NAZWA_UKL if x.RODZAJ_CIECIA == \"K\" else \"\", axis=1)\n",
        "\n",
        "    wb = openpyxl.Workbook()\n",
        "    sheet = wb.active\n",
        "\n",
        "    sheet[\"A1\"] = \"ZLECENIE PRODUKCYJNE: KOMPLETACJA PIANKI\"\n",
        "    sheet[\"A3\"] = f\"NR PARTII: {nr_partii}\"\n",
        "    sheet[\"A4\"] = f\"NR ZAMÓWIENIA: {model} {nr_kompletacji}\"\n",
        "    sheet[\"A5\"] = f\"MODEL: {model}\"\n",
        "    sheet[\"H1\"] = f\"DZIEŃ WYDRUKU      {dt.now().strftime('%Y-%m-%d')}\"\n",
        "\n",
        "    sheet[\"A15\"] = \"BRYŁA\"\n",
        "    sheet[\"B15\"] = \"ILOŚĆ PACZEK\"\n",
        "    sheet[\"C15\"] = \"CZAS\"\n",
        "    sheet[\"A16\"] = zp.iloc[p].OPIS\n",
        "    sheet[\"B16\"] = zp.iloc[p].ILE_ZAMOWIONE\n",
        "\n",
        "    sheet[\"A18\"] = \"UWAGI:\"\n",
        "    sheet[\"H18\"] = \"PODPIS, DZIEN:\"\n",
        "\n",
        "\n",
        "\n",
        "    wb.save(f\"KOMPLETACJA/KOMPLETACJA {model} {nr_kompletacji} {zp.iloc[p].OPIS.replace(model, '')}.xlsx\")\n",
        "\n"
      ]
    },
    {
      "cell_type": "code",
      "execution_count": null,
      "metadata": {
        "id": "EY59NQ8DgDZg"
      },
      "outputs": [],
      "source": [
        "# zlecenia_produkcyjne_pianki_owaty(\"WIL\", \"owa_1\", \"\")\n"
      ]
    },
    {
      "cell_type": "code",
      "execution_count": null,
      "metadata": {
        "id": "X33xz2bc3xOI"
      },
      "outputs": [],
      "source": [
        "# @title RAPORTY DO ZAMÓWIENIA FUNKCJE\n",
        "\n",
        "def specyfikacja_zam_vita_xlsx(NR_zam:str, raport_vita:pd.DataFrame):\n",
        "  wb = openpyxl.Workbook()\n",
        "  sheet = wb.active\n",
        "\n",
        "  sheet[\"B1\"] = f\"SPECYFIKACJA ZAMÓWIENIE DOS/{NR_zam}\"\n",
        "  sheet[\"H1\"] = dt.now().strftime(\"%Y-%m-%d\")\n",
        "  sheet[\"B3\"] = \"Zamawiajacy\"\n",
        "  sheet[\"B4\"] = \"OLTA K.K. Zawistowscy sp. j\"\n",
        "  sheet[\"B5\"] = \"Ignatki 40/6\"\n",
        "  sheet[\"B6\"] = \"16-001 Kleosin\"\n",
        "  sheet[\"B7\"] = \"NIP 966 14 08 783\"\n",
        "  sheet[\"H3\"] = \"Dostawca\"\n",
        "  sheet[\"H4\"] = \"VITA POLYMERS POLAND SP. Z O.O.\"\n",
        "  sheet[\"A8\"] = \"LP\"\n",
        "  sheet[\"I8\"] = \"UWAGI\"\n",
        "\n",
        "  rows = dataframe_to_rows(raport_vita)\n",
        "  for r_idx, row in enumerate(rows, 1):\n",
        "      for c_idx, value in enumerate(row, 1):\n",
        "          sheet.cell(row=r_idx+7, column=c_idx, value=value)\n",
        "\n",
        "  thin = Side(border_style=\"thin\", color=\"000000\")\n",
        "  for row in sheet[f\"A9:i{raport_vita.shape[0]+9}\"]:\n",
        "      for cell in row:\n",
        "        cell.border = Border(top=thin, left=thin, right=thin, bottom=thin)\n",
        "\n",
        "  wb.save(f\"SPECYFIKACJA DO ZAMÓWIENIA DOS {' '.join(NR_zam.split('/'))}.xlsx\")\n",
        "\n",
        "def raport_vita(*args):\n",
        "  \"\"\"\n",
        "  Zesatwaienie zamówionych pianek do VITA ilośiowe i z podziałem na bryły\n",
        "  \"\"\"\n",
        "\n",
        "\n",
        "  pianki = [x.vita for x in args]\n",
        "  zam_pianek_vita = pd.concat(pianki).fillna(\"\")[[\"TYP\", \"NUMER\", \"ilosc\", \"PROFIL\", \"OZN\", \"OPIS\", \"WYMIAR\"]]\n",
        "  zam_pianek_vita.set_index(pd.Index([x for x in range(1,zam_pianek_vita.shape[0]+1)]),inplace=True)\n",
        "\n",
        "  podsumowanie_zamowienia_vita = pd.concat(pianki).fillna(\"\").sort_values(by=\"NUMER\")\n",
        "  podsumowanie_zamowienia_vita.set_index(pd.Index([x for x in range(1,podsumowanie_zamowienia_vita.shape[0]+1)]),inplace=True)\n",
        "\n",
        "\n",
        "\n",
        "  return zam_pianek_vita, podsumowanie_zamowienia_vita[[\"TYP\", \"NUMER\", \"ilosc\", \"VOL\", \"PROFIL\", \"OZN\", \"OPIS\", \"WYMIAR\"] + [x for x in podsumowanie_zamowienia_vita.columns if \"br\" in x]]\n",
        "\n",
        "\n",
        "def raport_dostarczonych_pianek(cls, drukuj_excel=False):\n",
        "  \"\"\"\n",
        "  Zesatwianie ilosci pianek do modelu z dostawy\n",
        "  komplety_pianek -> df z kopletami pianek\n",
        "  cls -> zinicjalizowana instacja klasy zawierająca odpowiedni model\n",
        "  \"\"\"\n",
        "  zestawienie_pianek_do_bryly = list()\n",
        "\n",
        "  for br in cls.bryly.keys():\n",
        "    df = tab[(tab.MODEL == cls.MODEL) & (tab.BRYLA == br)]\n",
        "    df[\"ILOŚĆ\"] = (df.ilosc * cls.bryly[br]).astype(int)\n",
        "    df[\"DOSTARCZONO/UWAGI\"] = \"\"\n",
        "    df = df[['TYP', 'PRZEZ', 'OR', 'OZN', 'PROFIL', 'NUMER', 'WYMIAR', 'ILOŚĆ', 'DOSTARCZONO/UWAGI']].fillna(\"-\")\n",
        "    df.set_index(pd.Index([x for x in range(1,df.shape[0]+1)]),inplace=True)\n",
        "    zestawienie_pianek_do_bryly.append([br, df])\n",
        "\n",
        "  def drukuj_zestawienie_dla_bryly_xlsx(zpdb_n):\n",
        "    _df = zpdb_n[1]\n",
        "    # _df = _df[_df.TYP != \"G-401\"]\n",
        "    header = f\"{cls.MODEL} {zpdb_n[0]} - {cls.bryly[zpdb_n[0]]:.0f}szt\"\n",
        "    print(header)\n",
        "    wb = openpyxl.Workbook()\n",
        "    sheet = wb.active\n",
        "    sheet.oddHeader.left.text = header\n",
        "    sheet.oddHeader.left.size = 18\n",
        "    sheet.oddHeader.left.font = \"Calibry,Bold\"\n",
        "    # sheet.oddHeader.right.text = \"Data dostawy:            \\nNr dostawy:           \"\n",
        "    sheet.append([\"LP\"]+list(_df.columns))\n",
        "    rows = dataframe_to_rows(_df,header=False)\n",
        "    for r in list(rows)[1:]:\n",
        "      sheet.append(r)\n",
        "\n",
        "    thin = Side(border_style=\"thin\", color=\"000000\")\n",
        "    sheet.page_setup.orientation = sheet.ORIENTATION_LANDSCAPE\n",
        "    for row in sheet[f\"A1:J{_df.shape[0]+1}\"]:\n",
        "      for cell in row:\n",
        "        cell.border = Border(top=thin, left=thin, right=thin, bottom=thin)\n",
        "\n",
        "    wb.save(f\"{cls.MODEL[:3]} {zpdb_n[0]}.xlsx\")\n",
        "\n",
        "  if drukuj_excel:\n",
        "    for i in zestawienie_pianek_do_bryly:\n",
        "      drukuj_zestawienie_dla_bryly_xlsx(i)\n",
        "    return 0\n",
        "\n",
        "  return zestawienie_pianek_do_bryly"
      ]
    },
    {
      "cell_type": "code",
      "execution_count": null,
      "metadata": {
        "id": "a_kxsuD8zo2O"
      },
      "outputs": [],
      "source": []
    },
    {
      "cell_type": "code",
      "execution_count": null,
      "metadata": {
        "id": "Whkd0LWcF8dy"
      },
      "outputs": [],
      "source": [
        "r = raport_vita(sto, hor)"
      ]
    },
    {
      "cell_type": "code",
      "execution_count": null,
      "metadata": {
        "colab": {
          "base_uri": "https://localhost:8080/",
          "height": 424
        },
        "id": "nBRGIil8IniW",
        "outputId": "4631a8ad-057b-4fd6-9e9f-d8f5431c01ca"
      },
      "outputs": [],
      "source": [
        "r[1]"
      ]
    },
    {
      "cell_type": "code",
      "execution_count": null,
      "metadata": {
        "id": "dWRHuiv6mOJc"
      },
      "outputs": [],
      "source": [
        "specyfikacja_zam_vita_xlsx(\"24/0242\",r[0])"
      ]
    },
    {
      "cell_type": "code",
      "execution_count": null,
      "metadata": {
        "id": "s8J8aUwSXdzk"
      },
      "outputs": [],
      "source": [
        "r[1].to_excel(\"ZESTAWIENIE PIANEK DO ZAMOWIENIA DOS 24_0242.xlsx\")"
      ]
    },
    {
      "cell_type": "code",
      "execution_count": null,
      "metadata": {
        "id": "QK0ekt1MYoL-"
      },
      "outputs": [],
      "source": [
        "# raport_dostarczonych_pianek(sto, drukuj_excel=True)"
      ]
    },
    {
      "cell_type": "code",
      "execution_count": null,
      "metadata": {
        "id": "0SUWVELOq1P4"
      },
      "outputs": [],
      "source": [
        "# raport_dostarczonych_pianek(hor, drukuj_excel=True)"
      ]
    },
    {
      "cell_type": "code",
      "execution_count": null,
      "metadata": {
        "id": "3DyRXjgYYvME"
      },
      "outputs": [],
      "source": []
    }
  ],
  "metadata": {
    "colab": {
      "authorship_tag": "ABX9TyNL9TVqWv7eQBYJQLbDdIcq",
      "include_colab_link": true,
      "mount_file_id": "1Yo6o-on1cUlvI-0-Dw_pplKni0YiD3yW",
      "provenance": []
    },
    "kernelspec": {
      "display_name": "Python 3",
      "name": "python3"
    },
    "language_info": {
      "codemirror_mode": {
        "name": "ipython",
        "version": 3
      },
      "file_extension": ".py",
      "mimetype": "text/x-python",
      "name": "python",
      "nbconvert_exporter": "python",
      "pygments_lexer": "ipython3",
      "version": "3.11.6"
    }
  },
  "nbformat": 4,
  "nbformat_minor": 0
}
