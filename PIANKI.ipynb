{
  "cells": [
    {
      "cell_type": "markdown",
      "metadata": {
        "colab_type": "text",
        "id": "view-in-github"
      },
      "source": [
        "<a href=\"https://colab.research.google.com/github/Mogarthron/Magazynier/blob/master/PIANKI.ipynb\" target=\"_parent\"><img src=\"https://colab.research.google.com/assets/colab-badge.svg\" alt=\"Open In Colab\"/></a>"
      ]
    },
    {
      "cell_type": "markdown",
      "metadata": {
        "id": "HUdpeF3CoBk8"
      },
      "source": [
        "# IMPORTY"
      ]
    },
    {
      "cell_type": "code",
      "execution_count": 1,
      "metadata": {
        "id": "-maxPD43rC4n"
      },
      "outputs": [],
      "source": [
        "import pandas as pd\n",
        "import numpy as np\n",
        "\n",
        "import warnings\n",
        "warnings.filterwarnings('ignore')"
      ]
    },
    {
      "cell_type": "code",
      "execution_count": 2,
      "metadata": {
        "id": "Y9f7ISk9bLjh"
      },
      "outputs": [],
      "source": [
        "from modele_db import *\n",
        "lista_bryl = dict()\n",
        "with engine.begin() as conn:\n",
        "      lb = conn.execute(text(f\"SELECT * from lista_bryl_pianki\"))\n",
        "      tab = pd.read_sql(text(\"SELECT * from baza_PIANKI\"), conn)\n",
        "for i in lb:\n",
        "  # print(i[0], i[1].split(\"_\"))\n",
        "  lista_bryl[i[0]] = [x for x in i[1].split(\"_\")]"
      ]
    },
    {
      "cell_type": "markdown",
      "metadata": {
        "id": "qpH5STEun-Ap"
      },
      "source": [
        "#PIANKI"
      ]
    },
    {
      "cell_type": "code",
      "execution_count": 3,
      "metadata": {},
      "outputs": [],
      "source": [
        "from modele_pianek import *"
      ]
    },
    {
      "cell_type": "markdown",
      "metadata": {
        "id": "YU1WSgumt-1j"
      },
      "source": [
        "# ANALIZA PIANEK"
      ]
    },
    {
      "cell_type": "code",
      "execution_count": 16,
      "metadata": {
        "id": "i7lNPpjNeOer"
      },
      "outputs": [],
      "source": [
        "from analiza_pianek import *"
      ]
    },
    {
      "cell_type": "code",
      "execution_count": 17,
      "metadata": {
        "id": "TgDcGxzr4Z0O"
      },
      "outputs": [],
      "source": [
        "# nr_tygodnia = 2409\n",
        "# zapis_analizy =analiza[[\"KOD\",\"MAX\",\"SALDO\",\"SUMA_ZLEC\",\"ZAMOWIONE\", \"CZESIOWO_DOSTARCZONE\", \"CZEKA_NA_SPAKOWANIE\",]]\n",
        "# zapis_analizy[\"TYDZIEN\"] = nr_tygodnia\n",
        "# zapis_analizy[[\"MAX\",\"SALDO\",\"SUMA_ZLEC\",\"ZAMOWIONE\", \"CZESIOWO_DOSTARCZONE\", \"CZEKA_NA_SPAKOWANIE\"]] = zapis_analizy[[\"MAX\",\"SALDO\",\"SUMA_ZLEC\",\"ZAMOWIONE\", \"CZESIOWO_DOSTARCZONE\", \"CZEKA_NA_SPAKOWANIE\"]].astype(\"int16\")\n",
        "# zapis_analizy\n",
        "\n",
        "# # zapis_analizy_engine = create_engine(\"sqlite:///drive/MyDrive/ARCHIWOM_ANALIZ.db\", echo=False)\n",
        "# # zapis_analizy.to_sql(\"ZAPIS_ANALIZY_PIANKI\", zapis_analizy_engine, if_exists=\"append\")"
      ]
    },
    {
      "cell_type": "code",
      "execution_count": 31,
      "metadata": {
        "colab": {
          "base_uri": "https://localhost:8080/"
        },
        "id": "-B2_nu9R_rq3",
        "outputId": "e3860bc6-b323-4d92-b13e-6cc7b5ca2704"
      },
      "outputs": [
        {
          "name": "stdout",
          "output_type": "stream",
          "text": [
            "OBIĘTOSC PACZEK (Z OWATAMI)\n",
            "05/01: 173m3\n",
            "06/01: 184m3\n",
            "07/01: 176m3\n",
            "08/01: 176m3\n",
            "09/01: 168m3\n",
            "WST: 115m3\n",
            "Objetość wszystkich paczek: 991m3\n",
            "PW 24/14 spakowano: 265M3\n"
          ]
        }
      ],
      "source": [
        "nr_pw = \"24/14\"\n",
        "pw = pd.read_excel(\"dane_excel/ZAM_PIANKI.xlsx\", sheet_name=\"PW\")\n",
        "pw= pw[pw.PW.str.contains(nr_pw)].merge(komplety_pianek[[\"KOD\", \"obj\"]], how=\"left\", on=\"KOD\")\n",
        "pw[\"SPAKOWANE_M3\"] = pw.ILOSC * pw.obj\n",
        "\n",
        "print(\"OBIĘTOSC PACZEK (Z OWATAMI)\")\n",
        "sum_obj = 0\n",
        "for p in pda:\n",
        "  p_obj = (analiza[p]*analiza.obj).sum()\n",
        "  sum_obj += p_obj\n",
        "  print(f\"{p}: {p_obj:.0f}m3\")\n",
        "\n",
        "\n",
        "print(f\"WST: {(analiza.WST*analiza.obj).sum():.0f}m3\")\n",
        "print(f\"Objetość wszystkich paczek: {sum_obj + (analiza.WST*analiza.obj).sum():.0f}m3\")\n",
        "print(f\"PW {nr_pw} spakowano: {pw.SPAKOWANE_M3.sum():.0f}M3\")\n",
        "# pw"
      ]
    },
    {
      "cell_type": "code",
      "execution_count": 32,
      "metadata": {
        "colab": {
          "base_uri": "https://localhost:8080/",
          "height": 1000
        },
        "id": "ZWFbxMzJLzCD",
        "outputId": "0b01f1d0-cef4-48ca-ea47-6fe92f6eb1f7"
      },
      "outputs": [
        {
          "data": {
            "text/html": [
              "<div>\n",
              "<style scoped>\n",
              "    .dataframe tbody tr th:only-of-type {\n",
              "        vertical-align: middle;\n",
              "    }\n",
              "\n",
              "    .dataframe tbody tr th {\n",
              "        vertical-align: top;\n",
              "    }\n",
              "\n",
              "    .dataframe thead th {\n",
              "        text-align: right;\n",
              "    }\n",
              "</style>\n",
              "<table border=\"1\" class=\"dataframe\">\n",
              "  <thead>\n",
              "    <tr style=\"text-align: right;\">\n",
              "      <th></th>\n",
              "      <th>TYDZIEN</th>\n",
              "      <th>KOD</th>\n",
              "      <th>NR_KOMPLETACJI</th>\n",
              "      <th>OPIS</th>\n",
              "      <th>ILE_ZAMOWIONE</th>\n",
              "      <th>ZNACZNIK_DOSTAWCY</th>\n",
              "      <th>ZAM1</th>\n",
              "      <th>ZAM2</th>\n",
              "      <th>dos1</th>\n",
              "      <th>dos2</th>\n",
              "      <th>STATUS_KOMPLETACJA</th>\n",
              "      <th>UWAGI</th>\n",
              "      <th>dostarczono</th>\n",
              "    </tr>\n",
              "  </thead>\n",
              "  <tbody>\n",
              "    <tr>\n",
              "      <th>0</th>\n",
              "      <td>2346</td>\n",
              "      <td>16.135.69502.60</td>\n",
              "      <td>1_23</td>\n",
              "      <td>AMALFI RS] MEMORY</td>\n",
              "      <td>10</td>\n",
              "      <td>C</td>\n",
              "      <td>23/1358</td>\n",
              "      <td></td>\n",
              "      <td>None</td>\n",
              "      <td>None</td>\n",
              "      <td>C</td>\n",
              "      <td>pw 23/64 6szt</td>\n",
              "      <td>2</td>\n",
              "    </tr>\n",
              "    <tr>\n",
              "      <th>1</th>\n",
              "      <td>2346</td>\n",
              "      <td>16.135.63072.60</td>\n",
              "      <td>1_23</td>\n",
              "      <td>AMALFI LA] MEMORY</td>\n",
              "      <td>15</td>\n",
              "      <td>C</td>\n",
              "      <td>23/1358</td>\n",
              "      <td></td>\n",
              "      <td>None</td>\n",
              "      <td>None</td>\n",
              "      <td>C</td>\n",
              "      <td>pw 23/64 4szt</td>\n",
              "      <td>2</td>\n",
              "    </tr>\n",
              "    <tr>\n",
              "      <th>2</th>\n",
              "      <td>2349</td>\n",
              "      <td>16.135.25000.60</td>\n",
              "      <td>2_23</td>\n",
              "      <td>AMALFI 2,5</td>\n",
              "      <td>25</td>\n",
              "      <td>CV</td>\n",
              "      <td>23/1486</td>\n",
              "      <td>23/1488</td>\n",
              "      <td>15.01&gt;22.01&gt;29.01&gt;30.01&gt;31.01&gt;12.01</td>\n",
              "      <td>None</td>\n",
              "      <td>CV</td>\n",
              "      <td>SIEDZISKA VITA RESZTA CIECH</td>\n",
              "      <td>2</td>\n",
              "    </tr>\n",
              "    <tr>\n",
              "      <th>3</th>\n",
              "      <td>2349</td>\n",
              "      <td>16.135.40000.60</td>\n",
              "      <td>2_23</td>\n",
              "      <td>AMALFI 4</td>\n",
              "      <td>10</td>\n",
              "      <td>CV</td>\n",
              "      <td>23/1486</td>\n",
              "      <td>23/1488</td>\n",
              "      <td>15.01&gt;22.01&gt;29.01&gt;30.01&gt;31.01&gt;12.01</td>\n",
              "      <td>None</td>\n",
              "      <td>CV</td>\n",
              "      <td>SIEDZISKA VITA RESZTA CIECH</td>\n",
              "      <td>2</td>\n",
              "    </tr>\n",
              "    <tr>\n",
              "      <th>4</th>\n",
              "      <td>2349</td>\n",
              "      <td>16.135.69031.60</td>\n",
              "      <td>2_23</td>\n",
              "      <td>AMALFI NT</td>\n",
              "      <td>15</td>\n",
              "      <td>CV</td>\n",
              "      <td>23/1486</td>\n",
              "      <td>23/1488</td>\n",
              "      <td>15.01&gt;22.01&gt;29.01&gt;30.01&gt;31.01&gt;12.01</td>\n",
              "      <td>None</td>\n",
              "      <td>CV</td>\n",
              "      <td>SIEDZISKA VITA RESZTA CIECH</td>\n",
              "      <td>2</td>\n",
              "    </tr>\n",
              "    <tr>\n",
              "      <th>5</th>\n",
              "      <td>2349</td>\n",
              "      <td>16.135.69200.60</td>\n",
              "      <td>2_23</td>\n",
              "      <td>AMALFI NW = WN</td>\n",
              "      <td>45</td>\n",
              "      <td>CV</td>\n",
              "      <td>23/1486</td>\n",
              "      <td>23/1488</td>\n",
              "      <td>15.01&gt;22.01&gt;29.01&gt;30.01&gt;31.01&gt;12.01</td>\n",
              "      <td>None</td>\n",
              "      <td>CV</td>\n",
              "      <td>SIEDZISKA VITA RESZTA CIECH</td>\n",
              "      <td>2</td>\n",
              "    </tr>\n",
              "    <tr>\n",
              "      <th>6</th>\n",
              "      <td>2349</td>\n",
              "      <td>16.135.69400.60</td>\n",
              "      <td>2_23</td>\n",
              "      <td>AMALFI [RS = RS]</td>\n",
              "      <td>25</td>\n",
              "      <td>CV</td>\n",
              "      <td>23/1486</td>\n",
              "      <td>23/1488</td>\n",
              "      <td>15.01&gt;22.01&gt;29.01&gt;30.01&gt;31.01&gt;12.01</td>\n",
              "      <td>None</td>\n",
              "      <td>CV</td>\n",
              "      <td>SIEDZISKA VITA RESZTA CIECH</td>\n",
              "      <td>2</td>\n",
              "    </tr>\n",
              "    <tr>\n",
              "      <th>7</th>\n",
              "      <td>2349</td>\n",
              "      <td>16.135.69201.60</td>\n",
              "      <td>2_23</td>\n",
              "      <td>AMALFI NW MEMORY</td>\n",
              "      <td>35</td>\n",
              "      <td>C</td>\n",
              "      <td>23/1486</td>\n",
              "      <td></td>\n",
              "      <td>15.01&gt;22.01&gt;29.01</td>\n",
              "      <td>None</td>\n",
              "      <td>C</td>\n",
              "      <td>FA0344, FA0345</td>\n",
              "      <td>2</td>\n",
              "    </tr>\n",
              "    <tr>\n",
              "      <th>8</th>\n",
              "      <td>2349</td>\n",
              "      <td>16.135.69302.60</td>\n",
              "      <td>2_23</td>\n",
              "      <td>AMALFI WN MEMORY</td>\n",
              "      <td>25</td>\n",
              "      <td>C</td>\n",
              "      <td>23/1486</td>\n",
              "      <td></td>\n",
              "      <td>15.01&gt;22.01&gt;29.01</td>\n",
              "      <td>None</td>\n",
              "      <td>C</td>\n",
              "      <td>FA0333, FA0334</td>\n",
              "      <td>2</td>\n",
              "    </tr>\n",
              "    <tr>\n",
              "      <th>9</th>\n",
              "      <td>2349</td>\n",
              "      <td>16.135.69502.60</td>\n",
              "      <td>2_23</td>\n",
              "      <td>AMALFI RS] MEMORY</td>\n",
              "      <td>20</td>\n",
              "      <td>C</td>\n",
              "      <td>23/1486</td>\n",
              "      <td></td>\n",
              "      <td>15.01&gt;22.01&gt;29.01</td>\n",
              "      <td>None</td>\n",
              "      <td>C</td>\n",
              "      <td>FA0331, FA0332</td>\n",
              "      <td>2</td>\n",
              "    </tr>\n",
              "    <tr>\n",
              "      <th>10</th>\n",
              "      <td>2349</td>\n",
              "      <td>16.135.78500.60</td>\n",
              "      <td>2_23</td>\n",
              "      <td>AMALFI P102x80</td>\n",
              "      <td>10</td>\n",
              "      <td>CV</td>\n",
              "      <td>23/1486</td>\n",
              "      <td>23/1488</td>\n",
              "      <td>15.01&gt;22.01&gt;29.01&gt;30.01&gt;31.01&gt;12.01</td>\n",
              "      <td>None</td>\n",
              "      <td>CV</td>\n",
              "      <td>SIEDZISKA VITA RESZTA CIECH</td>\n",
              "      <td>2</td>\n",
              "    </tr>\n",
              "    <tr>\n",
              "      <th>11</th>\n",
              "      <td>2347</td>\n",
              "      <td>16.133.78100.60</td>\n",
              "      <td>2_23</td>\n",
              "      <td>REVERSO 106x82</td>\n",
              "      <td>15</td>\n",
              "      <td>CV</td>\n",
              "      <td>23/1406</td>\n",
              "      <td>23/1411</td>\n",
              "      <td>None</td>\n",
              "      <td>None</td>\n",
              "      <td>CV</td>\n",
              "      <td>SIEDISKA VITA RESZTA CIECH</td>\n",
              "      <td>2</td>\n",
              "    </tr>\n",
              "    <tr>\n",
              "      <th>12</th>\n",
              "      <td>2347</td>\n",
              "      <td>16.133.20000.60</td>\n",
              "      <td>2_23</td>\n",
              "      <td>REVERSO 2</td>\n",
              "      <td>20</td>\n",
              "      <td>CV</td>\n",
              "      <td>23/1416</td>\n",
              "      <td>23/1411</td>\n",
              "      <td>None</td>\n",
              "      <td>None</td>\n",
              "      <td>CV</td>\n",
              "      <td>SIEDISKA VITA RESZTA CIECH</td>\n",
              "      <td>2</td>\n",
              "    </tr>\n",
              "    <tr>\n",
              "      <th>13</th>\n",
              "      <td>2349</td>\n",
              "      <td>16.133.63001.60</td>\n",
              "      <td>3_23</td>\n",
              "      <td>REVERSO ][ - L</td>\n",
              "      <td>20</td>\n",
              "      <td>CV</td>\n",
              "      <td>23/1486</td>\n",
              "      <td>23/1488</td>\n",
              "      <td>15.01&gt;22.01&gt;29.01&gt;12.01</td>\n",
              "      <td>None</td>\n",
              "      <td>CV</td>\n",
              "      <td>SIEDZISKA VITA RESZTA CIECH</td>\n",
              "      <td>2</td>\n",
              "    </tr>\n",
              "    <tr>\n",
              "      <th>14</th>\n",
              "      <td>2351</td>\n",
              "      <td>16.130.63100.60</td>\n",
              "      <td>2_23</td>\n",
              "      <td>WILLOW [L</td>\n",
              "      <td>10</td>\n",
              "      <td>CV</td>\n",
              "      <td>23/1517</td>\n",
              "      <td>23/1518</td>\n",
              "      <td>29.01&gt;30.01&gt;31.01</td>\n",
              "      <td>24/01</td>\n",
              "      <td>CV</td>\n",
              "      <td>SIEDZISKA VITA RESZTA CIECH</td>\n",
              "      <td>2</td>\n",
              "    </tr>\n",
              "    <tr>\n",
              "      <th>15</th>\n",
              "      <td>2351</td>\n",
              "      <td>16.130.00001.60</td>\n",
              "      <td>2_23</td>\n",
              "      <td>WILLOW [</td>\n",
              "      <td>100</td>\n",
              "      <td>CV</td>\n",
              "      <td>23/1517</td>\n",
              "      <td>23/1518</td>\n",
              "      <td>29.01&gt;30.01&gt;31.01</td>\n",
              "      <td>24/01</td>\n",
              "      <td>CV</td>\n",
              "      <td>SIEDZISKA VITA RESZTA CIECH</td>\n",
              "      <td>2</td>\n",
              "    </tr>\n",
              "    <tr>\n",
              "      <th>16</th>\n",
              "      <td>2351</td>\n",
              "      <td>16.130.00002.60</td>\n",
              "      <td>2_23</td>\n",
              "      <td>WILLOW ]</td>\n",
              "      <td>100</td>\n",
              "      <td>CV</td>\n",
              "      <td>23/1517</td>\n",
              "      <td>23/1518</td>\n",
              "      <td>29.01&gt;30.01&gt;31.01</td>\n",
              "      <td>24/01</td>\n",
              "      <td>CV</td>\n",
              "      <td>SIEDZISKA VITA RESZTA CIECH</td>\n",
              "      <td>2</td>\n",
              "    </tr>\n",
              "    <tr>\n",
              "      <th>17</th>\n",
              "      <td>2350</td>\n",
              "      <td>16.022.63004.60</td>\n",
              "      <td>1_23</td>\n",
              "      <td>DUO L][</td>\n",
              "      <td>15</td>\n",
              "      <td>CV</td>\n",
              "      <td>23/1517</td>\n",
              "      <td>23/1518</td>\n",
              "      <td>29/01</td>\n",
              "      <td>24/01</td>\n",
              "      <td>CV</td>\n",
              "      <td>ciech leniwa</td>\n",
              "      <td>2</td>\n",
              "    </tr>\n",
              "    <tr>\n",
              "      <th>18</th>\n",
              "      <td>2350</td>\n",
              "      <td>16.086.35000.60</td>\n",
              "      <td>2_23</td>\n",
              "      <td>ELIXIR 3,5</td>\n",
              "      <td>55</td>\n",
              "      <td>CV</td>\n",
              "      <td>23/1517</td>\n",
              "      <td>23/1518</td>\n",
              "      <td>29.01&gt;30.01&gt;31.01</td>\n",
              "      <td>24/01</td>\n",
              "      <td>CV</td>\n",
              "      <td>SIEDZISKA VITA RESZTA CIECH</td>\n",
              "      <td>2</td>\n",
              "    </tr>\n",
              "    <tr>\n",
              "      <th>35</th>\n",
              "      <td>2405</td>\n",
              "      <td>16.115.25000.60</td>\n",
              "      <td>1_24</td>\n",
              "      <td>RITZ 2,5</td>\n",
              "      <td>10</td>\n",
              "      <td>C</td>\n",
              "      <td>24/0151</td>\n",
              "      <td></td>\n",
              "      <td>26.02</td>\n",
              "      <td>None</td>\n",
              "      <td>C</td>\n",
              "      <td>None</td>\n",
              "      <td>2</td>\n",
              "    </tr>\n",
              "    <tr>\n",
              "      <th>36</th>\n",
              "      <td>2405</td>\n",
              "      <td>16.115.35000.60</td>\n",
              "      <td>1_24</td>\n",
              "      <td>RITZ 3,5</td>\n",
              "      <td>30</td>\n",
              "      <td>C</td>\n",
              "      <td>24/0151</td>\n",
              "      <td></td>\n",
              "      <td>26.02</td>\n",
              "      <td>None</td>\n",
              "      <td>C</td>\n",
              "      <td>None</td>\n",
              "      <td>2</td>\n",
              "    </tr>\n",
              "    <tr>\n",
              "      <th>37</th>\n",
              "      <td>2405</td>\n",
              "      <td>16.115.00004.60</td>\n",
              "      <td>1_24</td>\n",
              "      <td>RITZ ][</td>\n",
              "      <td>130</td>\n",
              "      <td>C</td>\n",
              "      <td>24/0151</td>\n",
              "      <td></td>\n",
              "      <td>26.02</td>\n",
              "      <td>None</td>\n",
              "      <td>C</td>\n",
              "      <td>None</td>\n",
              "      <td>2</td>\n",
              "    </tr>\n",
              "    <tr>\n",
              "      <th>38</th>\n",
              "      <td>2405</td>\n",
              "      <td>16.129.30000.60</td>\n",
              "      <td>1_24</td>\n",
              "      <td>HUDSON 3</td>\n",
              "      <td>10</td>\n",
              "      <td>C</td>\n",
              "      <td>24/0151</td>\n",
              "      <td></td>\n",
              "      <td>26.02</td>\n",
              "      <td>None</td>\n",
              "      <td>C</td>\n",
              "      <td>None</td>\n",
              "      <td>2</td>\n",
              "    </tr>\n",
              "    <tr>\n",
              "      <th>39</th>\n",
              "      <td>2405</td>\n",
              "      <td>16.129.35000.60</td>\n",
              "      <td>1_24</td>\n",
              "      <td>HUDSON 3,5</td>\n",
              "      <td>20</td>\n",
              "      <td>C</td>\n",
              "      <td>24/0151</td>\n",
              "      <td></td>\n",
              "      <td>26.02</td>\n",
              "      <td>None</td>\n",
              "      <td>C</td>\n",
              "      <td>None</td>\n",
              "      <td>2</td>\n",
              "    </tr>\n",
              "    <tr>\n",
              "      <th>40</th>\n",
              "      <td>2405</td>\n",
              "      <td>16.129.40000.60</td>\n",
              "      <td>1_24</td>\n",
              "      <td>HUDSON 4</td>\n",
              "      <td>15</td>\n",
              "      <td>C</td>\n",
              "      <td>24/0151</td>\n",
              "      <td></td>\n",
              "      <td>26.02</td>\n",
              "      <td>None</td>\n",
              "      <td>C</td>\n",
              "      <td>None</td>\n",
              "      <td>2</td>\n",
              "    </tr>\n",
              "    <tr>\n",
              "      <th>41</th>\n",
              "      <td>2405</td>\n",
              "      <td>16.129.73800.60</td>\n",
              "      <td>1_24</td>\n",
              "      <td>HUDSON P82x62</td>\n",
              "      <td>10</td>\n",
              "      <td>C</td>\n",
              "      <td>24/0151</td>\n",
              "      <td></td>\n",
              "      <td>26.02</td>\n",
              "      <td>None</td>\n",
              "      <td>C</td>\n",
              "      <td>None</td>\n",
              "      <td>2</td>\n",
              "    </tr>\n",
              "    <tr>\n",
              "      <th>42</th>\n",
              "      <td>2405</td>\n",
              "      <td>16.129.00001.60</td>\n",
              "      <td>1_24</td>\n",
              "      <td>HUDSON ][</td>\n",
              "      <td>120</td>\n",
              "      <td>C</td>\n",
              "      <td>24/0151</td>\n",
              "      <td></td>\n",
              "      <td>26.02</td>\n",
              "      <td>None</td>\n",
              "      <td>C</td>\n",
              "      <td>None</td>\n",
              "      <td>2</td>\n",
              "    </tr>\n",
              "    <tr>\n",
              "      <th>43</th>\n",
              "      <td>2405</td>\n",
              "      <td>16.118.35200.60</td>\n",
              "      <td>1_24</td>\n",
              "      <td>SPECTRA 3,5z</td>\n",
              "      <td>20</td>\n",
              "      <td>C</td>\n",
              "      <td>24/0151</td>\n",
              "      <td></td>\n",
              "      <td>26.02</td>\n",
              "      <td>None</td>\n",
              "      <td>C</td>\n",
              "      <td>None</td>\n",
              "      <td>2</td>\n",
              "    </tr>\n",
              "    <tr>\n",
              "      <th>44</th>\n",
              "      <td>2405</td>\n",
              "      <td>16.118.40200.60</td>\n",
              "      <td>1_24</td>\n",
              "      <td>SPECTRA 4z</td>\n",
              "      <td>10</td>\n",
              "      <td>C</td>\n",
              "      <td>24/0151</td>\n",
              "      <td></td>\n",
              "      <td>26.02</td>\n",
              "      <td>None</td>\n",
              "      <td>C</td>\n",
              "      <td>None</td>\n",
              "      <td>2</td>\n",
              "    </tr>\n",
              "    <tr>\n",
              "      <th>45</th>\n",
              "      <td>2405</td>\n",
              "      <td>16.118.63101.60</td>\n",
              "      <td>1_24</td>\n",
              "      <td>SPECTRA [Lz</td>\n",
              "      <td>10</td>\n",
              "      <td>C</td>\n",
              "      <td>24/0151</td>\n",
              "      <td></td>\n",
              "      <td>26.02</td>\n",
              "      <td>None</td>\n",
              "      <td>C</td>\n",
              "      <td>None</td>\n",
              "      <td>2</td>\n",
              "    </tr>\n",
              "    <tr>\n",
              "      <th>46</th>\n",
              "      <td>2405</td>\n",
              "      <td>16.118.65001.60</td>\n",
              "      <td>1_24</td>\n",
              "      <td>SPECTRA [L2Hz</td>\n",
              "      <td>15</td>\n",
              "      <td>C</td>\n",
              "      <td>24/0151</td>\n",
              "      <td></td>\n",
              "      <td>26.02</td>\n",
              "      <td>None</td>\n",
              "      <td>C</td>\n",
              "      <td>None</td>\n",
              "      <td>2</td>\n",
              "    </tr>\n",
              "    <tr>\n",
              "      <th>47</th>\n",
              "      <td>2405</td>\n",
              "      <td>16.118.00004.60</td>\n",
              "      <td>1_24</td>\n",
              "      <td>SPECTRA ][</td>\n",
              "      <td>140</td>\n",
              "      <td>C</td>\n",
              "      <td>24/0151</td>\n",
              "      <td></td>\n",
              "      <td>26.02</td>\n",
              "      <td>None</td>\n",
              "      <td>C</td>\n",
              "      <td>None</td>\n",
              "      <td>2</td>\n",
              "    </tr>\n",
              "    <tr>\n",
              "      <th>48</th>\n",
              "      <td>2405</td>\n",
              "      <td>16.118.73900.60</td>\n",
              "      <td>1_24</td>\n",
              "      <td>SPECTRA P86x82</td>\n",
              "      <td>15</td>\n",
              "      <td>C</td>\n",
              "      <td>24/0151</td>\n",
              "      <td></td>\n",
              "      <td>26.02</td>\n",
              "      <td>None</td>\n",
              "      <td>C</td>\n",
              "      <td>None</td>\n",
              "      <td>2</td>\n",
              "    </tr>\n",
              "  </tbody>\n",
              "</table>\n",
              "</div>"
            ],
            "text/plain": [
              "    TYDZIEN              KOD NR_KOMPLETACJI               OPIS  ILE_ZAMOWIONE  \\\n",
              "0      2346  16.135.69502.60           1_23  AMALFI RS] MEMORY             10   \n",
              "1      2346  16.135.63072.60           1_23  AMALFI LA] MEMORY             15   \n",
              "2      2349  16.135.25000.60           2_23         AMALFI 2,5             25   \n",
              "3      2349  16.135.40000.60           2_23           AMALFI 4             10   \n",
              "4      2349  16.135.69031.60           2_23          AMALFI NT             15   \n",
              "5      2349  16.135.69200.60           2_23     AMALFI NW = WN             45   \n",
              "6      2349  16.135.69400.60           2_23   AMALFI [RS = RS]             25   \n",
              "7      2349  16.135.69201.60           2_23   AMALFI NW MEMORY             35   \n",
              "8      2349  16.135.69302.60           2_23   AMALFI WN MEMORY             25   \n",
              "9      2349  16.135.69502.60           2_23  AMALFI RS] MEMORY             20   \n",
              "10     2349  16.135.78500.60           2_23     AMALFI P102x80             10   \n",
              "11     2347  16.133.78100.60           2_23     REVERSO 106x82             15   \n",
              "12     2347  16.133.20000.60           2_23          REVERSO 2             20   \n",
              "13     2349  16.133.63001.60           3_23     REVERSO ][ - L             20   \n",
              "14     2351  16.130.63100.60           2_23          WILLOW [L             10   \n",
              "15     2351  16.130.00001.60           2_23           WILLOW [            100   \n",
              "16     2351  16.130.00002.60           2_23           WILLOW ]            100   \n",
              "17     2350  16.022.63004.60           1_23            DUO L][             15   \n",
              "18     2350  16.086.35000.60           2_23         ELIXIR 3,5             55   \n",
              "35     2405  16.115.25000.60           1_24           RITZ 2,5             10   \n",
              "36     2405  16.115.35000.60           1_24           RITZ 3,5             30   \n",
              "37     2405  16.115.00004.60           1_24            RITZ ][            130   \n",
              "38     2405  16.129.30000.60           1_24           HUDSON 3             10   \n",
              "39     2405  16.129.35000.60           1_24         HUDSON 3,5             20   \n",
              "40     2405  16.129.40000.60           1_24           HUDSON 4             15   \n",
              "41     2405  16.129.73800.60           1_24      HUDSON P82x62             10   \n",
              "42     2405  16.129.00001.60           1_24          HUDSON ][            120   \n",
              "43     2405  16.118.35200.60           1_24       SPECTRA 3,5z             20   \n",
              "44     2405  16.118.40200.60           1_24         SPECTRA 4z             10   \n",
              "45     2405  16.118.63101.60           1_24        SPECTRA [Lz             10   \n",
              "46     2405  16.118.65001.60           1_24      SPECTRA [L2Hz             15   \n",
              "47     2405  16.118.00004.60           1_24         SPECTRA ][            140   \n",
              "48     2405  16.118.73900.60           1_24     SPECTRA P86x82             15   \n",
              "\n",
              "   ZNACZNIK_DOSTAWCY     ZAM1     ZAM2                                 dos1  \\\n",
              "0                  C  23/1358                                          None   \n",
              "1                  C  23/1358                                          None   \n",
              "2                 CV  23/1486  23/1488  15.01>22.01>29.01>30.01>31.01>12.01   \n",
              "3                 CV  23/1486  23/1488  15.01>22.01>29.01>30.01>31.01>12.01   \n",
              "4                 CV  23/1486  23/1488  15.01>22.01>29.01>30.01>31.01>12.01   \n",
              "5                 CV  23/1486  23/1488  15.01>22.01>29.01>30.01>31.01>12.01   \n",
              "6                 CV  23/1486  23/1488  15.01>22.01>29.01>30.01>31.01>12.01   \n",
              "7                  C  23/1486                             15.01>22.01>29.01   \n",
              "8                  C  23/1486                             15.01>22.01>29.01   \n",
              "9                  C  23/1486                             15.01>22.01>29.01   \n",
              "10                CV  23/1486  23/1488  15.01>22.01>29.01>30.01>31.01>12.01   \n",
              "11                CV  23/1406  23/1411                                 None   \n",
              "12                CV  23/1416  23/1411                                 None   \n",
              "13                CV  23/1486  23/1488              15.01>22.01>29.01>12.01   \n",
              "14                CV  23/1517  23/1518                    29.01>30.01>31.01   \n",
              "15                CV  23/1517  23/1518                    29.01>30.01>31.01   \n",
              "16                CV  23/1517  23/1518                    29.01>30.01>31.01   \n",
              "17                CV  23/1517  23/1518                                29/01   \n",
              "18                CV  23/1517  23/1518                    29.01>30.01>31.01   \n",
              "35                 C  24/0151                                         26.02   \n",
              "36                 C  24/0151                                         26.02   \n",
              "37                 C  24/0151                                         26.02   \n",
              "38                 C  24/0151                                         26.02   \n",
              "39                 C  24/0151                                         26.02   \n",
              "40                 C  24/0151                                         26.02   \n",
              "41                 C  24/0151                                         26.02   \n",
              "42                 C  24/0151                                         26.02   \n",
              "43                 C  24/0151                                         26.02   \n",
              "44                 C  24/0151                                         26.02   \n",
              "45                 C  24/0151                                         26.02   \n",
              "46                 C  24/0151                                         26.02   \n",
              "47                 C  24/0151                                         26.02   \n",
              "48                 C  24/0151                                         26.02   \n",
              "\n",
              "     dos2 STATUS_KOMPLETACJA                        UWAGI  dostarczono  \n",
              "0    None                  C                pw 23/64 6szt            2  \n",
              "1    None                  C                pw 23/64 4szt            2  \n",
              "2    None                 CV  SIEDZISKA VITA RESZTA CIECH            2  \n",
              "3    None                 CV  SIEDZISKA VITA RESZTA CIECH            2  \n",
              "4    None                 CV  SIEDZISKA VITA RESZTA CIECH            2  \n",
              "5    None                 CV  SIEDZISKA VITA RESZTA CIECH            2  \n",
              "6    None                 CV  SIEDZISKA VITA RESZTA CIECH            2  \n",
              "7    None                  C               FA0344, FA0345            2  \n",
              "8    None                  C               FA0333, FA0334            2  \n",
              "9    None                  C               FA0331, FA0332            2  \n",
              "10   None                 CV  SIEDZISKA VITA RESZTA CIECH            2  \n",
              "11   None                 CV   SIEDISKA VITA RESZTA CIECH            2  \n",
              "12   None                 CV   SIEDISKA VITA RESZTA CIECH            2  \n",
              "13   None                 CV  SIEDZISKA VITA RESZTA CIECH            2  \n",
              "14  24/01                 CV  SIEDZISKA VITA RESZTA CIECH            2  \n",
              "15  24/01                 CV  SIEDZISKA VITA RESZTA CIECH            2  \n",
              "16  24/01                 CV  SIEDZISKA VITA RESZTA CIECH            2  \n",
              "17  24/01                 CV                 ciech leniwa            2  \n",
              "18  24/01                 CV  SIEDZISKA VITA RESZTA CIECH            2  \n",
              "35   None                  C                         None            2  \n",
              "36   None                  C                         None            2  \n",
              "37   None                  C                         None            2  \n",
              "38   None                  C                         None            2  \n",
              "39   None                  C                         None            2  \n",
              "40   None                  C                         None            2  \n",
              "41   None                  C                         None            2  \n",
              "42   None                  C                         None            2  \n",
              "43   None                  C                         None            2  \n",
              "44   None                  C                         None            2  \n",
              "45   None                  C                         None            2  \n",
              "46   None                  C                         None            2  \n",
              "47   None                  C                         None            2  \n",
              "48   None                  C                         None            2  "
            ]
          },
          "execution_count": 32,
          "metadata": {},
          "output_type": "execute_result"
        }
      ],
      "source": [
        "zam_pianki[zam_pianki.dostarczono == 2]"
      ]
    },
    {
      "cell_type": "code",
      "execution_count": 33,
      "metadata": {
        "colab": {
          "base_uri": "https://localhost:8080/",
          "height": 802
        },
        "id": "kQUiJAPDKb7R",
        "outputId": "2d11e9cf-5e6e-4dc1-eb93-cea4e2cc33e7"
      },
      "outputs": [
        {
          "data": {
            "text/html": [
              "<div>\n",
              "<style scoped>\n",
              "    .dataframe tbody tr th:only-of-type {\n",
              "        vertical-align: middle;\n",
              "    }\n",
              "\n",
              "    .dataframe tbody tr th {\n",
              "        vertical-align: top;\n",
              "    }\n",
              "\n",
              "    .dataframe thead th {\n",
              "        text-align: right;\n",
              "    }\n",
              "</style>\n",
              "<table border=\"1\" class=\"dataframe\">\n",
              "  <thead>\n",
              "    <tr style=\"text-align: right;\">\n",
              "      <th></th>\n",
              "      <th>OPIS</th>\n",
              "      <th>WOLNE_SALDO</th>\n",
              "      <th>SALDO</th>\n",
              "      <th>PACZKA</th>\n",
              "      <th>DATA_KOMPLETACJI</th>\n",
              "      <th>ZAMOWIONE</th>\n",
              "      <th>UWAGI</th>\n",
              "      <th>GRUPA</th>\n",
              "    </tr>\n",
              "  </thead>\n",
              "  <tbody>\n",
              "    <tr>\n",
              "      <th>0</th>\n",
              "      <td>AMALFI 2,5</td>\n",
              "      <td>-9.0</td>\n",
              "      <td>3.0</td>\n",
              "      <td>06/01</td>\n",
              "      <td>2024-03-06</td>\n",
              "      <td>45.0</td>\n",
              "      <td>CZEKA NA SPAKOWANIE</td>\n",
              "      <td>4</td>\n",
              "    </tr>\n",
              "    <tr>\n",
              "      <th>1</th>\n",
              "      <td>AMALFI 2,5</td>\n",
              "      <td>-9.0</td>\n",
              "      <td>3.0</td>\n",
              "      <td>06/01</td>\n",
              "      <td>2024-03-06</td>\n",
              "      <td>45.0</td>\n",
              "      <td>PIANKI ZAMOWIONE P, , ,</td>\n",
              "      <td>2</td>\n",
              "    </tr>\n",
              "    <tr>\n",
              "      <th>2</th>\n",
              "      <td>AMALFI NW = WN</td>\n",
              "      <td>-21.0</td>\n",
              "      <td>8.0</td>\n",
              "      <td>06/01</td>\n",
              "      <td>2024-03-06</td>\n",
              "      <td>90.0</td>\n",
              "      <td>CZEKA NA SPAKOWANIE</td>\n",
              "      <td>4</td>\n",
              "    </tr>\n",
              "    <tr>\n",
              "      <th>3</th>\n",
              "      <td>AMALFI NW = WN</td>\n",
              "      <td>-21.0</td>\n",
              "      <td>8.0</td>\n",
              "      <td>06/01</td>\n",
              "      <td>2024-03-06</td>\n",
              "      <td>90.0</td>\n",
              "      <td>PIANKI ZAMOWIONE P, , ,</td>\n",
              "      <td>2</td>\n",
              "    </tr>\n",
              "    <tr>\n",
              "      <th>4</th>\n",
              "      <td>AMALFI [RS = RS]</td>\n",
              "      <td>-19.0</td>\n",
              "      <td>2.0</td>\n",
              "      <td>06/01</td>\n",
              "      <td>2024-03-06</td>\n",
              "      <td>45.0</td>\n",
              "      <td>CZEKA NA SPAKOWANIE</td>\n",
              "      <td>4</td>\n",
              "    </tr>\n",
              "    <tr>\n",
              "      <th>5</th>\n",
              "      <td>AMALFI [RS = RS]</td>\n",
              "      <td>-19.0</td>\n",
              "      <td>2.0</td>\n",
              "      <td>06/01</td>\n",
              "      <td>2024-03-06</td>\n",
              "      <td>45.0</td>\n",
              "      <td>PIANKI ZAMOWIONE P, , ,</td>\n",
              "      <td>2</td>\n",
              "    </tr>\n",
              "    <tr>\n",
              "      <th>6</th>\n",
              "      <td>AMALFI NW MEMORY</td>\n",
              "      <td>-4.0</td>\n",
              "      <td>16.0</td>\n",
              "      <td>09/01</td>\n",
              "      <td>2024-03-27</td>\n",
              "      <td>65.0</td>\n",
              "      <td>CZEKA NA SPAKOWANIE</td>\n",
              "      <td>4</td>\n",
              "    </tr>\n",
              "    <tr>\n",
              "      <th>7</th>\n",
              "      <td>AMALFI NW MEMORY</td>\n",
              "      <td>-4.0</td>\n",
              "      <td>16.0</td>\n",
              "      <td>09/01</td>\n",
              "      <td>2024-03-27</td>\n",
              "      <td>65.0</td>\n",
              "      <td>PIANKI ZAMOWIONE P, , ,</td>\n",
              "      <td>2</td>\n",
              "    </tr>\n",
              "    <tr>\n",
              "      <th>8</th>\n",
              "      <td>AMALFI P102x80</td>\n",
              "      <td>-2.0</td>\n",
              "      <td>1.0</td>\n",
              "      <td>08/01</td>\n",
              "      <td>2024-03-20</td>\n",
              "      <td>10.0</td>\n",
              "      <td>CZEKA NA SPAKOWANIE</td>\n",
              "      <td>4</td>\n",
              "    </tr>\n",
              "    <tr>\n",
              "      <th>9</th>\n",
              "      <td>CALYPSO P102x102</td>\n",
              "      <td>-1.0</td>\n",
              "      <td>1.0</td>\n",
              "      <td>09/01</td>\n",
              "      <td>2024-03-27</td>\n",
              "      <td>0.0</td>\n",
              "      <td>...</td>\n",
              "      <td>1</td>\n",
              "    </tr>\n",
              "    <tr>\n",
              "      <th>10</th>\n",
              "      <td>EXTREME 1,5s</td>\n",
              "      <td>-3.0</td>\n",
              "      <td>0.0</td>\n",
              "      <td>09/01</td>\n",
              "      <td>2024-03-27</td>\n",
              "      <td>0.0</td>\n",
              "      <td>...</td>\n",
              "      <td>1</td>\n",
              "    </tr>\n",
              "    <tr>\n",
              "      <th>11</th>\n",
              "      <td>EXTREME [1s</td>\n",
              "      <td>-4.0</td>\n",
              "      <td>1.0</td>\n",
              "      <td>06/01</td>\n",
              "      <td>2024-03-06</td>\n",
              "      <td>0.0</td>\n",
              "      <td>...</td>\n",
              "      <td>1</td>\n",
              "    </tr>\n",
              "    <tr>\n",
              "      <th>12</th>\n",
              "      <td>EXTREME [1,5s</td>\n",
              "      <td>-2.0</td>\n",
              "      <td>0.0</td>\n",
              "      <td>09/01</td>\n",
              "      <td>2024-03-27</td>\n",
              "      <td>0.0</td>\n",
              "      <td>...</td>\n",
              "      <td>1</td>\n",
              "    </tr>\n",
              "    <tr>\n",
              "      <th>13</th>\n",
              "      <td>EXTREME Ns - ZAG</td>\n",
              "      <td>-1.0</td>\n",
              "      <td>0.0</td>\n",
              "      <td>09/01</td>\n",
              "      <td>2024-03-27</td>\n",
              "      <td>0.0</td>\n",
              "      <td>...</td>\n",
              "      <td>1</td>\n",
              "    </tr>\n",
              "    <tr>\n",
              "      <th>14</th>\n",
              "      <td>EXTREME P80x105</td>\n",
              "      <td>-1.0</td>\n",
              "      <td>0.0</td>\n",
              "      <td>09/01</td>\n",
              "      <td>2024-03-27</td>\n",
              "      <td>0.0</td>\n",
              "      <td>...</td>\n",
              "      <td>1</td>\n",
              "    </tr>\n",
              "    <tr>\n",
              "      <th>15</th>\n",
              "      <td>MYSTIC 3N</td>\n",
              "      <td>-1.0</td>\n",
              "      <td>0.0</td>\n",
              "      <td>09/01</td>\n",
              "      <td>2024-03-27</td>\n",
              "      <td>0.0</td>\n",
              "      <td>...</td>\n",
              "      <td>1</td>\n",
              "    </tr>\n",
              "    <tr>\n",
              "      <th>16</th>\n",
              "      <td>REVERSO Ps82x102</td>\n",
              "      <td>-3.0</td>\n",
              "      <td>0.0</td>\n",
              "      <td>07/01</td>\n",
              "      <td>2024-03-13</td>\n",
              "      <td>0.0</td>\n",
              "      <td>...</td>\n",
              "      <td>1</td>\n",
              "    </tr>\n",
              "    <tr>\n",
              "      <th>17</th>\n",
              "      <td>RITZ ][</td>\n",
              "      <td>-20.0</td>\n",
              "      <td>2.0</td>\n",
              "      <td>05/01</td>\n",
              "      <td>2024-02-28</td>\n",
              "      <td>130.0</td>\n",
              "      <td>CZEKA NA SPAKOWANIE</td>\n",
              "      <td>4</td>\n",
              "    </tr>\n",
              "    <tr>\n",
              "      <th>18</th>\n",
              "      <td>RITZ Z60</td>\n",
              "      <td>-2.0</td>\n",
              "      <td>0.0</td>\n",
              "      <td>07/01</td>\n",
              "      <td>2024-03-13</td>\n",
              "      <td>0.0</td>\n",
              "      <td>...</td>\n",
              "      <td>1</td>\n",
              "    </tr>\n",
              "    <tr>\n",
              "      <th>19</th>\n",
              "      <td>SPECTRA P86x82</td>\n",
              "      <td>-1.0</td>\n",
              "      <td>2.0</td>\n",
              "      <td>WST</td>\n",
              "      <td>2024-04-03</td>\n",
              "      <td>15.0</td>\n",
              "      <td>CZEKA NA SPAKOWANIE</td>\n",
              "      <td>4</td>\n",
              "    </tr>\n",
              "    <tr>\n",
              "      <th>20</th>\n",
              "      <td>STONE ][</td>\n",
              "      <td>-4.0</td>\n",
              "      <td>57.0</td>\n",
              "      <td>WST</td>\n",
              "      <td>2024-04-03</td>\n",
              "      <td>250.0</td>\n",
              "      <td>PIANKI ZAMOWIONE V, , ,</td>\n",
              "      <td>2</td>\n",
              "    </tr>\n",
              "    <tr>\n",
              "      <th>21</th>\n",
              "      <td>WIL. 1  Z BOCZ - OWA</td>\n",
              "      <td>-2.0</td>\n",
              "      <td>11.0</td>\n",
              "      <td>09/01</td>\n",
              "      <td>2024-03-27</td>\n",
              "      <td>0.0</td>\n",
              "      <td>...</td>\n",
              "      <td>1</td>\n",
              "    </tr>\n",
              "    <tr>\n",
              "      <th>22</th>\n",
              "      <td>WIL. 1,5  Z BOCZ - OWA</td>\n",
              "      <td>-8.0</td>\n",
              "      <td>10.0</td>\n",
              "      <td>07/01</td>\n",
              "      <td>2024-03-13</td>\n",
              "      <td>0.0</td>\n",
              "      <td>...</td>\n",
              "      <td>1</td>\n",
              "    </tr>\n",
              "    <tr>\n",
              "      <th>23</th>\n",
              "      <td>WIL. 4 Z BOCZ - OWA</td>\n",
              "      <td>-9.0</td>\n",
              "      <td>7.0</td>\n",
              "      <td>07/01</td>\n",
              "      <td>2024-03-13</td>\n",
              "      <td>0.0</td>\n",
              "      <td>...</td>\n",
              "      <td>1</td>\n",
              "    </tr>\n",
              "  </tbody>\n",
              "</table>\n",
              "</div>"
            ],
            "text/plain": [
              "                      OPIS  WOLNE_SALDO  SALDO PACZKA DATA_KOMPLETACJI  \\\n",
              "0               AMALFI 2,5         -9.0    3.0  06/01       2024-03-06   \n",
              "1               AMALFI 2,5         -9.0    3.0  06/01       2024-03-06   \n",
              "2           AMALFI NW = WN        -21.0    8.0  06/01       2024-03-06   \n",
              "3           AMALFI NW = WN        -21.0    8.0  06/01       2024-03-06   \n",
              "4         AMALFI [RS = RS]        -19.0    2.0  06/01       2024-03-06   \n",
              "5         AMALFI [RS = RS]        -19.0    2.0  06/01       2024-03-06   \n",
              "6         AMALFI NW MEMORY         -4.0   16.0  09/01       2024-03-27   \n",
              "7         AMALFI NW MEMORY         -4.0   16.0  09/01       2024-03-27   \n",
              "8           AMALFI P102x80         -2.0    1.0  08/01       2024-03-20   \n",
              "9         CALYPSO P102x102         -1.0    1.0  09/01       2024-03-27   \n",
              "10            EXTREME 1,5s         -3.0    0.0  09/01       2024-03-27   \n",
              "11             EXTREME [1s         -4.0    1.0  06/01       2024-03-06   \n",
              "12           EXTREME [1,5s         -2.0    0.0  09/01       2024-03-27   \n",
              "13        EXTREME Ns - ZAG         -1.0    0.0  09/01       2024-03-27   \n",
              "14         EXTREME P80x105         -1.0    0.0  09/01       2024-03-27   \n",
              "15               MYSTIC 3N         -1.0    0.0  09/01       2024-03-27   \n",
              "16        REVERSO Ps82x102         -3.0    0.0  07/01       2024-03-13   \n",
              "17                 RITZ ][        -20.0    2.0  05/01       2024-02-28   \n",
              "18                RITZ Z60         -2.0    0.0  07/01       2024-03-13   \n",
              "19          SPECTRA P86x82         -1.0    2.0    WST       2024-04-03   \n",
              "20                STONE ][         -4.0   57.0    WST       2024-04-03   \n",
              "21    WIL. 1  Z BOCZ - OWA         -2.0   11.0  09/01       2024-03-27   \n",
              "22  WIL. 1,5  Z BOCZ - OWA         -8.0   10.0  07/01       2024-03-13   \n",
              "23     WIL. 4 Z BOCZ - OWA         -9.0    7.0  07/01       2024-03-13   \n",
              "\n",
              "   ZAMOWIONE                     UWAGI  GRUPA  \n",
              "0       45.0       CZEKA NA SPAKOWANIE      4  \n",
              "1       45.0  PIANKI ZAMOWIONE P, , ,       2  \n",
              "2       90.0       CZEKA NA SPAKOWANIE      4  \n",
              "3       90.0  PIANKI ZAMOWIONE P, , ,       2  \n",
              "4       45.0       CZEKA NA SPAKOWANIE      4  \n",
              "5       45.0  PIANKI ZAMOWIONE P, , ,       2  \n",
              "6       65.0       CZEKA NA SPAKOWANIE      4  \n",
              "7       65.0  PIANKI ZAMOWIONE P, , ,       2  \n",
              "8       10.0       CZEKA NA SPAKOWANIE      4  \n",
              "9        0.0                       ...      1  \n",
              "10       0.0                       ...      1  \n",
              "11       0.0                       ...      1  \n",
              "12       0.0                       ...      1  \n",
              "13       0.0                       ...      1  \n",
              "14       0.0                       ...      1  \n",
              "15       0.0                       ...      1  \n",
              "16       0.0                       ...      1  \n",
              "17     130.0       CZEKA NA SPAKOWANIE      4  \n",
              "18       0.0                       ...      1  \n",
              "19      15.0       CZEKA NA SPAKOWANIE      4  \n",
              "20     250.0  PIANKI ZAMOWIONE V, , ,       2  \n",
              "21       0.0                       ...      1  \n",
              "22       0.0                       ...      1  \n",
              "23       0.0                       ...      1  "
            ]
          },
          "execution_count": 33,
          "metadata": {},
          "output_type": "execute_result"
        }
      ],
      "source": [
        "br = Braki(WOLNE=\"SALDO\")[0] #USUNAC PROBLEM Z DUBLUJACYMI SIE ZAMOWIANIAMI(JEDNO DOSTARCZONE DRUGIE W DRODZE TWORZĄ SIĘ DWIE POZYCJE)\n",
        "br#.to_excel(\"BRAKI.xlsx\")\n",
        "# br#.sort_values(by=[\"GRUPA\", \"OPIS\"])"
      ]
    },
    {
      "cell_type": "code",
      "execution_count": 22,
      "metadata": {
        "colab": {
          "base_uri": "https://localhost:8080/"
        },
        "id": "E-Ani2-Zd2C_",
        "outputId": "01fd5b79-6e64-4e04-b509-da117d81643e"
      },
      "outputs": [
        {
          "name": "stdout",
          "output_type": "stream",
          "text": [
            "PONIZEJ MIN: 76 POZYCJE\n",
            "PONIZEJ MIN NIE ZAMOWIONE: 42 POZYCJE\n"
          ]
        }
      ],
      "source": [
        "Zagrozone(WOLNE=\"SALDO\")"
      ]
    },
    {
      "cell_type": "markdown",
      "metadata": {
        "id": "KAZDRoPp17_p"
      },
      "source": [
        "##ANALIZA RODZINY"
      ]
    },
    {
      "cell_type": "code",
      "execution_count": 24,
      "metadata": {
        "id": "F13pUjCftEkZ"
      },
      "outputs": [],
      "source": [
        "ar=[Analiza_Rodziny(AMALFI_P,2,1),\n",
        "    Analiza_Rodziny(AVANT_P,1,1),\n",
        "    Analiza_Rodziny(CALYPSO,3,2),\n",
        "    Analiza_Rodziny(COCO_PV,4),\n",
        "    Analiza_Rodziny(DIVA,2,10),\n",
        "    Analiza_Rodziny(DUO,3),\n",
        "    Analiza_Rodziny(ELIXIR,1,1),\n",
        "    # Analiza_Rodziny(EXTREME,3), #ZROBIC KLASE\n",
        "    Analiza_Rodziny(GREY,4),\n",
        "    Analiza_Rodziny(HUDSON,3,2),\n",
        "    Analiza_Rodziny(HORIZON_PV,1,1),\n",
        "    # Analiza_Rodziny(KELLY), #POPRAWIC KLASE!!!!\n",
        "    Analiza_Rodziny(LENOX,4),\n",
        "    Analiza_Rodziny(MAXWELL_P,2,2),\n",
        "    # Analiza_Rodziny(MYSTIC,3), #NIE/ZROBIC KLASE?\n",
        "    Analiza_Rodziny(ONYX,3,2),\n",
        "    Analiza_Rodziny(OVAL_P,4),\n",
        "    Analiza_Rodziny(OXYGEN_P,2),\n",
        "    Analiza_Rodziny(RITZ,3),\n",
        "    Analiza_Rodziny(WILLOW,2,2),\n",
        "    Analiza_Rodziny(REVERSO,2,1),\n",
        "    Analiza_Rodziny(SPECTRA,3),\n",
        "    Analiza_Rodziny(SAMOA,3,2),\n",
        "    Analiza_Rodziny(UNO,4),\n",
        "    Analiza_Rodziny(STONE,1,1)]\n",
        "\n",
        "ar_podsum = pd.DataFrame([x.Raport() for x in ar])"
      ]
    },
    {
      "cell_type": "code",
      "execution_count": 25,
      "metadata": {
        "id": "mlSbC0H26xF6"
      },
      "outputs": [],
      "source": [
        "ard = {a.MODEL: a for a in ar}"
      ]
    },
    {
      "cell_type": "code",
      "execution_count": 26,
      "metadata": {
        "colab": {
          "base_uri": "https://localhost:8080/",
          "height": 759
        },
        "id": "UY_qTkHGno4R",
        "outputId": "2cb508f9-c769-47ae-b61a-46d6ac9c7ab6"
      },
      "outputs": [
        {
          "data": {
            "text/html": [
              "<div>\n",
              "<style scoped>\n",
              "    .dataframe tbody tr th:only-of-type {\n",
              "        vertical-align: middle;\n",
              "    }\n",
              "\n",
              "    .dataframe tbody tr th {\n",
              "        vertical-align: top;\n",
              "    }\n",
              "\n",
              "    .dataframe thead th {\n",
              "        text-align: right;\n",
              "    }\n",
              "</style>\n",
              "<table border=\"1\" class=\"dataframe\">\n",
              "  <thead>\n",
              "    <tr style=\"text-align: right;\">\n",
              "      <th></th>\n",
              "      <th>GRUPA</th>\n",
              "      <th>MODEL</th>\n",
              "      <th>POZYCJE_ZAGROZONE</th>\n",
              "      <th>BRAKI</th>\n",
              "      <th>ILOSC_BRAKOW</th>\n",
              "      <th>BRYL_DO_ZAMOWIENIA</th>\n",
              "      <th>OBJ_BRYL_DO_ZAM_DO_OBJ_MAX</th>\n",
              "      <th>OBJ_CIECH</th>\n",
              "      <th>OBJ_VITA</th>\n",
              "      <th>OBJ_PIANPOL</th>\n",
              "    </tr>\n",
              "  </thead>\n",
              "  <tbody>\n",
              "    <tr>\n",
              "      <th>6</th>\n",
              "      <td>1</td>\n",
              "      <td>ELIXIR</td>\n",
              "      <td>2</td>\n",
              "      <td>0</td>\n",
              "      <td>0.0</td>\n",
              "      <td>143.0</td>\n",
              "      <td>0.392547</td>\n",
              "      <td>35.903556</td>\n",
              "      <td>26.355456</td>\n",
              "      <td>0.000000</td>\n",
              "    </tr>\n",
              "    <tr>\n",
              "      <th>9</th>\n",
              "      <td>1</td>\n",
              "      <td>HORIZON</td>\n",
              "      <td>6</td>\n",
              "      <td>0</td>\n",
              "      <td>0.0</td>\n",
              "      <td>197.0</td>\n",
              "      <td>0.167574</td>\n",
              "      <td>0.000000</td>\n",
              "      <td>46.682635</td>\n",
              "      <td>9.845820</td>\n",
              "    </tr>\n",
              "    <tr>\n",
              "      <th>1</th>\n",
              "      <td>1</td>\n",
              "      <td>AVANT</td>\n",
              "      <td>10</td>\n",
              "      <td>0</td>\n",
              "      <td>0.0</td>\n",
              "      <td>147.0</td>\n",
              "      <td>0.161025</td>\n",
              "      <td>0.000000</td>\n",
              "      <td>0.000000</td>\n",
              "      <td>38.590499</td>\n",
              "    </tr>\n",
              "    <tr>\n",
              "      <th>21</th>\n",
              "      <td>1</td>\n",
              "      <td>STONE</td>\n",
              "      <td>6</td>\n",
              "      <td>1</td>\n",
              "      <td>4.0</td>\n",
              "      <td>109.0</td>\n",
              "      <td>0.034404</td>\n",
              "      <td>0.000000</td>\n",
              "      <td>5.393110</td>\n",
              "      <td>0.000000</td>\n",
              "    </tr>\n",
              "    <tr>\n",
              "      <th>17</th>\n",
              "      <td>2</td>\n",
              "      <td>REVERSO</td>\n",
              "      <td>4</td>\n",
              "      <td>1</td>\n",
              "      <td>3.0</td>\n",
              "      <td>287.0</td>\n",
              "      <td>0.386123</td>\n",
              "      <td>35.232233</td>\n",
              "      <td>27.398147</td>\n",
              "      <td>0.000000</td>\n",
              "    </tr>\n",
              "    <tr>\n",
              "      <th>4</th>\n",
              "      <td>2</td>\n",
              "      <td>DIVA</td>\n",
              "      <td>8</td>\n",
              "      <td>0</td>\n",
              "      <td>0.0</td>\n",
              "      <td>54.0</td>\n",
              "      <td>0.196104</td>\n",
              "      <td>15.308384</td>\n",
              "      <td>0.000000</td>\n",
              "      <td>0.000000</td>\n",
              "    </tr>\n",
              "    <tr>\n",
              "      <th>0</th>\n",
              "      <td>2</td>\n",
              "      <td>AMALFI</td>\n",
              "      <td>8</td>\n",
              "      <td>5</td>\n",
              "      <td>55.0</td>\n",
              "      <td>82.0</td>\n",
              "      <td>0.173634</td>\n",
              "      <td>0.000000</td>\n",
              "      <td>0.000000</td>\n",
              "      <td>33.849460</td>\n",
              "    </tr>\n",
              "    <tr>\n",
              "      <th>16</th>\n",
              "      <td>2</td>\n",
              "      <td>WILLOW</td>\n",
              "      <td>8</td>\n",
              "      <td>3</td>\n",
              "      <td>19.0</td>\n",
              "      <td>75.0</td>\n",
              "      <td>0.167063</td>\n",
              "      <td>15.268644</td>\n",
              "      <td>9.047669</td>\n",
              "      <td>0.000000</td>\n",
              "    </tr>\n",
              "    <tr>\n",
              "      <th>14</th>\n",
              "      <td>2</td>\n",
              "      <td>OXYGEN</td>\n",
              "      <td>0</td>\n",
              "      <td>0</td>\n",
              "      <td>0.0</td>\n",
              "      <td>4.0</td>\n",
              "      <td>0.011136</td>\n",
              "      <td>0.000000</td>\n",
              "      <td>0.000000</td>\n",
              "      <td>0.698308</td>\n",
              "    </tr>\n",
              "    <tr>\n",
              "      <th>11</th>\n",
              "      <td>2</td>\n",
              "      <td>MAXWELL</td>\n",
              "      <td>2</td>\n",
              "      <td>0</td>\n",
              "      <td>0.0</td>\n",
              "      <td>1.0</td>\n",
              "      <td>0.006704</td>\n",
              "      <td>0.000000</td>\n",
              "      <td>0.000000</td>\n",
              "      <td>0.502864</td>\n",
              "    </tr>\n",
              "    <tr>\n",
              "      <th>19</th>\n",
              "      <td>3</td>\n",
              "      <td>SAMOA</td>\n",
              "      <td>0</td>\n",
              "      <td>0</td>\n",
              "      <td>0.0</td>\n",
              "      <td>81.0</td>\n",
              "      <td>0.338304</td>\n",
              "      <td>18.737316</td>\n",
              "      <td>0.000000</td>\n",
              "      <td>0.000000</td>\n",
              "    </tr>\n",
              "    <tr>\n",
              "      <th>15</th>\n",
              "      <td>3</td>\n",
              "      <td>RITZ</td>\n",
              "      <td>3</td>\n",
              "      <td>2</td>\n",
              "      <td>22.0</td>\n",
              "      <td>28.0</td>\n",
              "      <td>0.239539</td>\n",
              "      <td>5.420890</td>\n",
              "      <td>0.000000</td>\n",
              "      <td>0.000000</td>\n",
              "    </tr>\n",
              "    <tr>\n",
              "      <th>12</th>\n",
              "      <td>3</td>\n",
              "      <td>ONYX</td>\n",
              "      <td>2</td>\n",
              "      <td>0</td>\n",
              "      <td>0.0</td>\n",
              "      <td>38.0</td>\n",
              "      <td>0.222886</td>\n",
              "      <td>2.759040</td>\n",
              "      <td>9.089415</td>\n",
              "      <td>0.000000</td>\n",
              "    </tr>\n",
              "    <tr>\n",
              "      <th>2</th>\n",
              "      <td>3</td>\n",
              "      <td>CALYPSO</td>\n",
              "      <td>1</td>\n",
              "      <td>1</td>\n",
              "      <td>1.0</td>\n",
              "      <td>42.0</td>\n",
              "      <td>0.192205</td>\n",
              "      <td>10.509145</td>\n",
              "      <td>0.000000</td>\n",
              "      <td>0.000000</td>\n",
              "    </tr>\n",
              "    <tr>\n",
              "      <th>8</th>\n",
              "      <td>3</td>\n",
              "      <td>HUDSON</td>\n",
              "      <td>2</td>\n",
              "      <td>0</td>\n",
              "      <td>0.0</td>\n",
              "      <td>29.0</td>\n",
              "      <td>0.142260</td>\n",
              "      <td>7.200117</td>\n",
              "      <td>0.000000</td>\n",
              "      <td>0.000000</td>\n",
              "    </tr>\n",
              "    <tr>\n",
              "      <th>18</th>\n",
              "      <td>3</td>\n",
              "      <td>SPECTRA</td>\n",
              "      <td>5</td>\n",
              "      <td>1</td>\n",
              "      <td>1.0</td>\n",
              "      <td>8.0</td>\n",
              "      <td>0.077797</td>\n",
              "      <td>4.029223</td>\n",
              "      <td>0.000000</td>\n",
              "      <td>0.000000</td>\n",
              "    </tr>\n",
              "    <tr>\n",
              "      <th>5</th>\n",
              "      <td>3</td>\n",
              "      <td>DUO</td>\n",
              "      <td>1</td>\n",
              "      <td>0</td>\n",
              "      <td>0.0</td>\n",
              "      <td>5.0</td>\n",
              "      <td>0.031022</td>\n",
              "      <td>0.188325</td>\n",
              "      <td>0.861370</td>\n",
              "      <td>0.000000</td>\n",
              "    </tr>\n",
              "    <tr>\n",
              "      <th>13</th>\n",
              "      <td>4</td>\n",
              "      <td>OVAL</td>\n",
              "      <td>1</td>\n",
              "      <td>0</td>\n",
              "      <td>0.0</td>\n",
              "      <td>199.0</td>\n",
              "      <td>0.621875</td>\n",
              "      <td>0.000000</td>\n",
              "      <td>0.000000</td>\n",
              "      <td>23.234981</td>\n",
              "    </tr>\n",
              "    <tr>\n",
              "      <th>7</th>\n",
              "      <td>4</td>\n",
              "      <td>GREY</td>\n",
              "      <td>1</td>\n",
              "      <td>0</td>\n",
              "      <td>0.0</td>\n",
              "      <td>96.0</td>\n",
              "      <td>0.600000</td>\n",
              "      <td>6.978336</td>\n",
              "      <td>0.000000</td>\n",
              "      <td>0.000000</td>\n",
              "    </tr>\n",
              "    <tr>\n",
              "      <th>20</th>\n",
              "      <td>4</td>\n",
              "      <td>UNO</td>\n",
              "      <td>1</td>\n",
              "      <td>0</td>\n",
              "      <td>0.0</td>\n",
              "      <td>36.0</td>\n",
              "      <td>0.450000</td>\n",
              "      <td>0.000000</td>\n",
              "      <td>0.608640</td>\n",
              "      <td>0.000000</td>\n",
              "    </tr>\n",
              "    <tr>\n",
              "      <th>10</th>\n",
              "      <td>4</td>\n",
              "      <td>LENOX</td>\n",
              "      <td>0</td>\n",
              "      <td>0</td>\n",
              "      <td>0.0</td>\n",
              "      <td>93.0</td>\n",
              "      <td>0.329947</td>\n",
              "      <td>10.344547</td>\n",
              "      <td>0.000000</td>\n",
              "      <td>0.000000</td>\n",
              "    </tr>\n",
              "    <tr>\n",
              "      <th>3</th>\n",
              "      <td>4</td>\n",
              "      <td>COCO</td>\n",
              "      <td>1</td>\n",
              "      <td>0</td>\n",
              "      <td>0.0</td>\n",
              "      <td>52.0</td>\n",
              "      <td>0.300000</td>\n",
              "      <td>0.000000</td>\n",
              "      <td>6.980715</td>\n",
              "      <td>1.476598</td>\n",
              "    </tr>\n",
              "  </tbody>\n",
              "</table>\n",
              "</div>"
            ],
            "text/plain": [
              "    GRUPA    MODEL  POZYCJE_ZAGROZONE  BRAKI  ILOSC_BRAKOW  \\\n",
              "6       1   ELIXIR                  2      0           0.0   \n",
              "9       1  HORIZON                  6      0           0.0   \n",
              "1       1    AVANT                 10      0           0.0   \n",
              "21      1    STONE                  6      1           4.0   \n",
              "17      2  REVERSO                  4      1           3.0   \n",
              "4       2     DIVA                  8      0           0.0   \n",
              "0       2   AMALFI                  8      5          55.0   \n",
              "16      2   WILLOW                  8      3          19.0   \n",
              "14      2   OXYGEN                  0      0           0.0   \n",
              "11      2  MAXWELL                  2      0           0.0   \n",
              "19      3    SAMOA                  0      0           0.0   \n",
              "15      3     RITZ                  3      2          22.0   \n",
              "12      3     ONYX                  2      0           0.0   \n",
              "2       3  CALYPSO                  1      1           1.0   \n",
              "8       3   HUDSON                  2      0           0.0   \n",
              "18      3  SPECTRA                  5      1           1.0   \n",
              "5       3      DUO                  1      0           0.0   \n",
              "13      4     OVAL                  1      0           0.0   \n",
              "7       4     GREY                  1      0           0.0   \n",
              "20      4      UNO                  1      0           0.0   \n",
              "10      4    LENOX                  0      0           0.0   \n",
              "3       4     COCO                  1      0           0.0   \n",
              "\n",
              "    BRYL_DO_ZAMOWIENIA  OBJ_BRYL_DO_ZAM_DO_OBJ_MAX  OBJ_CIECH   OBJ_VITA  \\\n",
              "6                143.0                    0.392547  35.903556  26.355456   \n",
              "9                197.0                    0.167574   0.000000  46.682635   \n",
              "1                147.0                    0.161025   0.000000   0.000000   \n",
              "21               109.0                    0.034404   0.000000   5.393110   \n",
              "17               287.0                    0.386123  35.232233  27.398147   \n",
              "4                 54.0                    0.196104  15.308384   0.000000   \n",
              "0                 82.0                    0.173634   0.000000   0.000000   \n",
              "16                75.0                    0.167063  15.268644   9.047669   \n",
              "14                 4.0                    0.011136   0.000000   0.000000   \n",
              "11                 1.0                    0.006704   0.000000   0.000000   \n",
              "19                81.0                    0.338304  18.737316   0.000000   \n",
              "15                28.0                    0.239539   5.420890   0.000000   \n",
              "12                38.0                    0.222886   2.759040   9.089415   \n",
              "2                 42.0                    0.192205  10.509145   0.000000   \n",
              "8                 29.0                    0.142260   7.200117   0.000000   \n",
              "18                 8.0                    0.077797   4.029223   0.000000   \n",
              "5                  5.0                    0.031022   0.188325   0.861370   \n",
              "13               199.0                    0.621875   0.000000   0.000000   \n",
              "7                 96.0                    0.600000   6.978336   0.000000   \n",
              "20                36.0                    0.450000   0.000000   0.608640   \n",
              "10                93.0                    0.329947  10.344547   0.000000   \n",
              "3                 52.0                    0.300000   0.000000   6.980715   \n",
              "\n",
              "    OBJ_PIANPOL  \n",
              "6      0.000000  \n",
              "9      9.845820  \n",
              "1     38.590499  \n",
              "21     0.000000  \n",
              "17     0.000000  \n",
              "4      0.000000  \n",
              "0     33.849460  \n",
              "16     0.000000  \n",
              "14     0.698308  \n",
              "11     0.502864  \n",
              "19     0.000000  \n",
              "15     0.000000  \n",
              "12     0.000000  \n",
              "2      0.000000  \n",
              "8      0.000000  \n",
              "18     0.000000  \n",
              "5      0.000000  \n",
              "13    23.234981  \n",
              "7      0.000000  \n",
              "20     0.000000  \n",
              "10     0.000000  \n",
              "3      1.476598  "
            ]
          },
          "execution_count": 26,
          "metadata": {},
          "output_type": "execute_result"
        }
      ],
      "source": [
        "ar_podsum.sort_values(by=[\"GRUPA\", \"OBJ_BRYL_DO_ZAM_DO_OBJ_MAX\"], ascending=[True,False])"
      ]
    },
    {
      "cell_type": "code",
      "execution_count": 27,
      "metadata": {
        "colab": {
          "base_uri": "https://localhost:8080/"
        },
        "id": "f0JUirVBhJYy",
        "outputId": "b85c706f-3cc7-4ac2-fdb8-2bd15681dea3"
      },
      "outputs": [
        {
          "data": {
            "text/plain": [
              "OBJ_CIECH      167.879756\n",
              "OBJ_VITA       132.417157\n",
              "OBJ_PIANPOL    108.198530\n",
              "RAZEM          408.495444\n",
              "dtype: float64"
            ]
          },
          "execution_count": 27,
          "metadata": {},
          "output_type": "execute_result"
        }
      ],
      "source": [
        "podsumowanie_VOL = ar_podsum[[\"OBJ_CIECH\",\t\"OBJ_VITA\",\t\"OBJ_PIANPOL\"]].sum()\n",
        "podsumowanie_VOL[\"RAZEM\"] = podsumowanie_VOL.sum()\n",
        "podsumowanie_VOL"
      ]
    },
    {
      "cell_type": "code",
      "execution_count": 28,
      "metadata": {
        "colab": {
          "base_uri": "https://localhost:8080/",
          "height": 542
        },
        "id": "qn4sNEoYwmKt",
        "outputId": "e4d0668e-1cc4-4f30-d085-68238b3cb7ee"
      },
      "outputs": [
        {
          "data": {
            "application/vnd.plotly.v1+json": {
              "config": {
                "plotlyServerURL": "https://plot.ly"
              },
              "data": [
                {
                  "alignmentgroup": "True",
                  "customdata": [
                    [
                      0.5423591734400907
                    ],
                    [
                      0.871955086796176
                    ],
                    [
                      0.9104094721262951
                    ],
                    [
                      0.7000000000000001
                    ],
                    [
                      0.8288874215912843
                    ],
                    [
                      1.0864183093885733
                    ],
                    [
                      0.4490608209757146
                    ],
                    [
                      0.8281345728669988
                    ],
                    [
                      0.39999999999999997
                    ],
                    [
                      0.8572383555179803
                    ],
                    [
                      0.6617257429287505
                    ],
                    [
                      0.3875
                    ],
                    [
                      0.6700525394045534
                    ],
                    [
                      1.8658845437616387
                    ],
                    [
                      0.8154574132492115
                    ],
                    [
                      0.8007584207004238
                    ],
                    [
                      0.378125
                    ],
                    [
                      1.479510022271715
                    ],
                    [
                      0.5978813559322034
                    ],
                    [
                      0.5462714592274678
                    ],
                    [
                      0.838303640588691
                    ],
                    [
                      0.41730286619997353
                    ],
                    [
                      1.0286324654014056
                    ],
                    [
                      0.7
                    ],
                    [
                      0.7789537651288803
                    ]
                  ],
                  "hovertemplate": "RODZINA_NAZWA=%{x}<br>DO_ZAM_prc=%{y}<br>ZAM_I_WOLNE_prc=%{customdata[0]}<extra></extra>",
                  "legendgroup": "",
                  "marker": {
                    "color": "#636efa",
                    "pattern": {
                      "shape": ""
                    }
                  },
                  "name": "",
                  "offsetgroup": "",
                  "orientation": "v",
                  "showlegend": false,
                  "textposition": "auto",
                  "type": "bar",
                  "x": [
                    "AMA",
                    "AVA",
                    "CAL",
                    "COC",
                    "DIV",
                    "DUO",
                    "ELI",
                    "EXT",
                    "GRE",
                    "HOR",
                    "HUD",
                    "KEL",
                    "LEN",
                    "MAX",
                    "MYS",
                    "ONY",
                    "OVA",
                    "OXY",
                    "REV",
                    "RIT",
                    "SAM",
                    "SPE",
                    "STO",
                    "UNO",
                    "WIL"
                  ],
                  "xaxis": "x",
                  "y": [
                    0.17363419467022526,
                    0.16102511099105024,
                    0.1922052294030587,
                    0.3,
                    0.19610432485968968,
                    0.031022385566321416,
                    0.3925467440361058,
                    0.5186862363815562,
                    0.6,
                    0.16757436935962722,
                    0.14226041293710467,
                    0.6125,
                    0.32994746059544655,
                    0.0067039106145251395,
                    0.6356466876971609,
                    0.2228864599598483,
                    0.621875,
                    0.011135857461024499,
                    0.3861228813559322,
                    0.23953862660944206,
                    0.33830364058869095,
                    0.07779685642583542,
                    0.034403541905322146,
                    0.44999999999999996,
                    0.16706335139514863
                  ],
                  "yaxis": "y"
                }
              ],
              "layout": {
                "barmode": "relative",
                "legend": {
                  "tracegroupgap": 0
                },
                "shapes": [
                  {
                    "type": "line",
                    "x0": 0,
                    "x1": 1,
                    "xref": "x domain",
                    "y0": 0.2,
                    "y1": 0.2,
                    "yref": "y"
                  }
                ],
                "template": {
                  "data": {
                    "bar": [
                      {
                        "error_x": {
                          "color": "#2a3f5f"
                        },
                        "error_y": {
                          "color": "#2a3f5f"
                        },
                        "marker": {
                          "line": {
                            "color": "#E5ECF6",
                            "width": 0.5
                          },
                          "pattern": {
                            "fillmode": "overlay",
                            "size": 10,
                            "solidity": 0.2
                          }
                        },
                        "type": "bar"
                      }
                    ],
                    "barpolar": [
                      {
                        "marker": {
                          "line": {
                            "color": "#E5ECF6",
                            "width": 0.5
                          },
                          "pattern": {
                            "fillmode": "overlay",
                            "size": 10,
                            "solidity": 0.2
                          }
                        },
                        "type": "barpolar"
                      }
                    ],
                    "carpet": [
                      {
                        "aaxis": {
                          "endlinecolor": "#2a3f5f",
                          "gridcolor": "white",
                          "linecolor": "white",
                          "minorgridcolor": "white",
                          "startlinecolor": "#2a3f5f"
                        },
                        "baxis": {
                          "endlinecolor": "#2a3f5f",
                          "gridcolor": "white",
                          "linecolor": "white",
                          "minorgridcolor": "white",
                          "startlinecolor": "#2a3f5f"
                        },
                        "type": "carpet"
                      }
                    ],
                    "choropleth": [
                      {
                        "colorbar": {
                          "outlinewidth": 0,
                          "ticks": ""
                        },
                        "type": "choropleth"
                      }
                    ],
                    "contour": [
                      {
                        "colorbar": {
                          "outlinewidth": 0,
                          "ticks": ""
                        },
                        "colorscale": [
                          [
                            0,
                            "#0d0887"
                          ],
                          [
                            0.1111111111111111,
                            "#46039f"
                          ],
                          [
                            0.2222222222222222,
                            "#7201a8"
                          ],
                          [
                            0.3333333333333333,
                            "#9c179e"
                          ],
                          [
                            0.4444444444444444,
                            "#bd3786"
                          ],
                          [
                            0.5555555555555556,
                            "#d8576b"
                          ],
                          [
                            0.6666666666666666,
                            "#ed7953"
                          ],
                          [
                            0.7777777777777778,
                            "#fb9f3a"
                          ],
                          [
                            0.8888888888888888,
                            "#fdca26"
                          ],
                          [
                            1,
                            "#f0f921"
                          ]
                        ],
                        "type": "contour"
                      }
                    ],
                    "contourcarpet": [
                      {
                        "colorbar": {
                          "outlinewidth": 0,
                          "ticks": ""
                        },
                        "type": "contourcarpet"
                      }
                    ],
                    "heatmap": [
                      {
                        "colorbar": {
                          "outlinewidth": 0,
                          "ticks": ""
                        },
                        "colorscale": [
                          [
                            0,
                            "#0d0887"
                          ],
                          [
                            0.1111111111111111,
                            "#46039f"
                          ],
                          [
                            0.2222222222222222,
                            "#7201a8"
                          ],
                          [
                            0.3333333333333333,
                            "#9c179e"
                          ],
                          [
                            0.4444444444444444,
                            "#bd3786"
                          ],
                          [
                            0.5555555555555556,
                            "#d8576b"
                          ],
                          [
                            0.6666666666666666,
                            "#ed7953"
                          ],
                          [
                            0.7777777777777778,
                            "#fb9f3a"
                          ],
                          [
                            0.8888888888888888,
                            "#fdca26"
                          ],
                          [
                            1,
                            "#f0f921"
                          ]
                        ],
                        "type": "heatmap"
                      }
                    ],
                    "heatmapgl": [
                      {
                        "colorbar": {
                          "outlinewidth": 0,
                          "ticks": ""
                        },
                        "colorscale": [
                          [
                            0,
                            "#0d0887"
                          ],
                          [
                            0.1111111111111111,
                            "#46039f"
                          ],
                          [
                            0.2222222222222222,
                            "#7201a8"
                          ],
                          [
                            0.3333333333333333,
                            "#9c179e"
                          ],
                          [
                            0.4444444444444444,
                            "#bd3786"
                          ],
                          [
                            0.5555555555555556,
                            "#d8576b"
                          ],
                          [
                            0.6666666666666666,
                            "#ed7953"
                          ],
                          [
                            0.7777777777777778,
                            "#fb9f3a"
                          ],
                          [
                            0.8888888888888888,
                            "#fdca26"
                          ],
                          [
                            1,
                            "#f0f921"
                          ]
                        ],
                        "type": "heatmapgl"
                      }
                    ],
                    "histogram": [
                      {
                        "marker": {
                          "pattern": {
                            "fillmode": "overlay",
                            "size": 10,
                            "solidity": 0.2
                          }
                        },
                        "type": "histogram"
                      }
                    ],
                    "histogram2d": [
                      {
                        "colorbar": {
                          "outlinewidth": 0,
                          "ticks": ""
                        },
                        "colorscale": [
                          [
                            0,
                            "#0d0887"
                          ],
                          [
                            0.1111111111111111,
                            "#46039f"
                          ],
                          [
                            0.2222222222222222,
                            "#7201a8"
                          ],
                          [
                            0.3333333333333333,
                            "#9c179e"
                          ],
                          [
                            0.4444444444444444,
                            "#bd3786"
                          ],
                          [
                            0.5555555555555556,
                            "#d8576b"
                          ],
                          [
                            0.6666666666666666,
                            "#ed7953"
                          ],
                          [
                            0.7777777777777778,
                            "#fb9f3a"
                          ],
                          [
                            0.8888888888888888,
                            "#fdca26"
                          ],
                          [
                            1,
                            "#f0f921"
                          ]
                        ],
                        "type": "histogram2d"
                      }
                    ],
                    "histogram2dcontour": [
                      {
                        "colorbar": {
                          "outlinewidth": 0,
                          "ticks": ""
                        },
                        "colorscale": [
                          [
                            0,
                            "#0d0887"
                          ],
                          [
                            0.1111111111111111,
                            "#46039f"
                          ],
                          [
                            0.2222222222222222,
                            "#7201a8"
                          ],
                          [
                            0.3333333333333333,
                            "#9c179e"
                          ],
                          [
                            0.4444444444444444,
                            "#bd3786"
                          ],
                          [
                            0.5555555555555556,
                            "#d8576b"
                          ],
                          [
                            0.6666666666666666,
                            "#ed7953"
                          ],
                          [
                            0.7777777777777778,
                            "#fb9f3a"
                          ],
                          [
                            0.8888888888888888,
                            "#fdca26"
                          ],
                          [
                            1,
                            "#f0f921"
                          ]
                        ],
                        "type": "histogram2dcontour"
                      }
                    ],
                    "mesh3d": [
                      {
                        "colorbar": {
                          "outlinewidth": 0,
                          "ticks": ""
                        },
                        "type": "mesh3d"
                      }
                    ],
                    "parcoords": [
                      {
                        "line": {
                          "colorbar": {
                            "outlinewidth": 0,
                            "ticks": ""
                          }
                        },
                        "type": "parcoords"
                      }
                    ],
                    "pie": [
                      {
                        "automargin": true,
                        "type": "pie"
                      }
                    ],
                    "scatter": [
                      {
                        "fillpattern": {
                          "fillmode": "overlay",
                          "size": 10,
                          "solidity": 0.2
                        },
                        "type": "scatter"
                      }
                    ],
                    "scatter3d": [
                      {
                        "line": {
                          "colorbar": {
                            "outlinewidth": 0,
                            "ticks": ""
                          }
                        },
                        "marker": {
                          "colorbar": {
                            "outlinewidth": 0,
                            "ticks": ""
                          }
                        },
                        "type": "scatter3d"
                      }
                    ],
                    "scattercarpet": [
                      {
                        "marker": {
                          "colorbar": {
                            "outlinewidth": 0,
                            "ticks": ""
                          }
                        },
                        "type": "scattercarpet"
                      }
                    ],
                    "scattergeo": [
                      {
                        "marker": {
                          "colorbar": {
                            "outlinewidth": 0,
                            "ticks": ""
                          }
                        },
                        "type": "scattergeo"
                      }
                    ],
                    "scattergl": [
                      {
                        "marker": {
                          "colorbar": {
                            "outlinewidth": 0,
                            "ticks": ""
                          }
                        },
                        "type": "scattergl"
                      }
                    ],
                    "scattermapbox": [
                      {
                        "marker": {
                          "colorbar": {
                            "outlinewidth": 0,
                            "ticks": ""
                          }
                        },
                        "type": "scattermapbox"
                      }
                    ],
                    "scatterpolar": [
                      {
                        "marker": {
                          "colorbar": {
                            "outlinewidth": 0,
                            "ticks": ""
                          }
                        },
                        "type": "scatterpolar"
                      }
                    ],
                    "scatterpolargl": [
                      {
                        "marker": {
                          "colorbar": {
                            "outlinewidth": 0,
                            "ticks": ""
                          }
                        },
                        "type": "scatterpolargl"
                      }
                    ],
                    "scatterternary": [
                      {
                        "marker": {
                          "colorbar": {
                            "outlinewidth": 0,
                            "ticks": ""
                          }
                        },
                        "type": "scatterternary"
                      }
                    ],
                    "surface": [
                      {
                        "colorbar": {
                          "outlinewidth": 0,
                          "ticks": ""
                        },
                        "colorscale": [
                          [
                            0,
                            "#0d0887"
                          ],
                          [
                            0.1111111111111111,
                            "#46039f"
                          ],
                          [
                            0.2222222222222222,
                            "#7201a8"
                          ],
                          [
                            0.3333333333333333,
                            "#9c179e"
                          ],
                          [
                            0.4444444444444444,
                            "#bd3786"
                          ],
                          [
                            0.5555555555555556,
                            "#d8576b"
                          ],
                          [
                            0.6666666666666666,
                            "#ed7953"
                          ],
                          [
                            0.7777777777777778,
                            "#fb9f3a"
                          ],
                          [
                            0.8888888888888888,
                            "#fdca26"
                          ],
                          [
                            1,
                            "#f0f921"
                          ]
                        ],
                        "type": "surface"
                      }
                    ],
                    "table": [
                      {
                        "cells": {
                          "fill": {
                            "color": "#EBF0F8"
                          },
                          "line": {
                            "color": "white"
                          }
                        },
                        "header": {
                          "fill": {
                            "color": "#C8D4E3"
                          },
                          "line": {
                            "color": "white"
                          }
                        },
                        "type": "table"
                      }
                    ]
                  },
                  "layout": {
                    "annotationdefaults": {
                      "arrowcolor": "#2a3f5f",
                      "arrowhead": 0,
                      "arrowwidth": 1
                    },
                    "autotypenumbers": "strict",
                    "coloraxis": {
                      "colorbar": {
                        "outlinewidth": 0,
                        "ticks": ""
                      }
                    },
                    "colorscale": {
                      "diverging": [
                        [
                          0,
                          "#8e0152"
                        ],
                        [
                          0.1,
                          "#c51b7d"
                        ],
                        [
                          0.2,
                          "#de77ae"
                        ],
                        [
                          0.3,
                          "#f1b6da"
                        ],
                        [
                          0.4,
                          "#fde0ef"
                        ],
                        [
                          0.5,
                          "#f7f7f7"
                        ],
                        [
                          0.6,
                          "#e6f5d0"
                        ],
                        [
                          0.7,
                          "#b8e186"
                        ],
                        [
                          0.8,
                          "#7fbc41"
                        ],
                        [
                          0.9,
                          "#4d9221"
                        ],
                        [
                          1,
                          "#276419"
                        ]
                      ],
                      "sequential": [
                        [
                          0,
                          "#0d0887"
                        ],
                        [
                          0.1111111111111111,
                          "#46039f"
                        ],
                        [
                          0.2222222222222222,
                          "#7201a8"
                        ],
                        [
                          0.3333333333333333,
                          "#9c179e"
                        ],
                        [
                          0.4444444444444444,
                          "#bd3786"
                        ],
                        [
                          0.5555555555555556,
                          "#d8576b"
                        ],
                        [
                          0.6666666666666666,
                          "#ed7953"
                        ],
                        [
                          0.7777777777777778,
                          "#fb9f3a"
                        ],
                        [
                          0.8888888888888888,
                          "#fdca26"
                        ],
                        [
                          1,
                          "#f0f921"
                        ]
                      ],
                      "sequentialminus": [
                        [
                          0,
                          "#0d0887"
                        ],
                        [
                          0.1111111111111111,
                          "#46039f"
                        ],
                        [
                          0.2222222222222222,
                          "#7201a8"
                        ],
                        [
                          0.3333333333333333,
                          "#9c179e"
                        ],
                        [
                          0.4444444444444444,
                          "#bd3786"
                        ],
                        [
                          0.5555555555555556,
                          "#d8576b"
                        ],
                        [
                          0.6666666666666666,
                          "#ed7953"
                        ],
                        [
                          0.7777777777777778,
                          "#fb9f3a"
                        ],
                        [
                          0.8888888888888888,
                          "#fdca26"
                        ],
                        [
                          1,
                          "#f0f921"
                        ]
                      ]
                    },
                    "colorway": [
                      "#636efa",
                      "#EF553B",
                      "#00cc96",
                      "#ab63fa",
                      "#FFA15A",
                      "#19d3f3",
                      "#FF6692",
                      "#B6E880",
                      "#FF97FF",
                      "#FECB52"
                    ],
                    "font": {
                      "color": "#2a3f5f"
                    },
                    "geo": {
                      "bgcolor": "white",
                      "lakecolor": "white",
                      "landcolor": "#E5ECF6",
                      "showlakes": true,
                      "showland": true,
                      "subunitcolor": "white"
                    },
                    "hoverlabel": {
                      "align": "left"
                    },
                    "hovermode": "closest",
                    "mapbox": {
                      "style": "light"
                    },
                    "paper_bgcolor": "white",
                    "plot_bgcolor": "#E5ECF6",
                    "polar": {
                      "angularaxis": {
                        "gridcolor": "white",
                        "linecolor": "white",
                        "ticks": ""
                      },
                      "bgcolor": "#E5ECF6",
                      "radialaxis": {
                        "gridcolor": "white",
                        "linecolor": "white",
                        "ticks": ""
                      }
                    },
                    "scene": {
                      "xaxis": {
                        "backgroundcolor": "#E5ECF6",
                        "gridcolor": "white",
                        "gridwidth": 2,
                        "linecolor": "white",
                        "showbackground": true,
                        "ticks": "",
                        "zerolinecolor": "white"
                      },
                      "yaxis": {
                        "backgroundcolor": "#E5ECF6",
                        "gridcolor": "white",
                        "gridwidth": 2,
                        "linecolor": "white",
                        "showbackground": true,
                        "ticks": "",
                        "zerolinecolor": "white"
                      },
                      "zaxis": {
                        "backgroundcolor": "#E5ECF6",
                        "gridcolor": "white",
                        "gridwidth": 2,
                        "linecolor": "white",
                        "showbackground": true,
                        "ticks": "",
                        "zerolinecolor": "white"
                      }
                    },
                    "shapedefaults": {
                      "line": {
                        "color": "#2a3f5f"
                      }
                    },
                    "ternary": {
                      "aaxis": {
                        "gridcolor": "white",
                        "linecolor": "white",
                        "ticks": ""
                      },
                      "baxis": {
                        "gridcolor": "white",
                        "linecolor": "white",
                        "ticks": ""
                      },
                      "bgcolor": "#E5ECF6",
                      "caxis": {
                        "gridcolor": "white",
                        "linecolor": "white",
                        "ticks": ""
                      }
                    },
                    "title": {
                      "x": 0.05
                    },
                    "xaxis": {
                      "automargin": true,
                      "gridcolor": "white",
                      "linecolor": "white",
                      "ticks": "",
                      "title": {
                        "standoff": 15
                      },
                      "zerolinecolor": "white",
                      "zerolinewidth": 2
                    },
                    "yaxis": {
                      "automargin": true,
                      "gridcolor": "white",
                      "linecolor": "white",
                      "ticks": "",
                      "title": {
                        "standoff": 15
                      },
                      "zerolinecolor": "white",
                      "zerolinewidth": 2
                    }
                  }
                },
                "title": {
                  "text": "OBIETOŚĆ BRYL DO ZAMOWIENIA DO MAKSYMALNEGO SALDA"
                },
                "xaxis": {
                  "anchor": "y",
                  "domain": [
                    0,
                    1
                  ],
                  "title": {
                    "text": "RODZINA_NAZWA"
                  }
                },
                "yaxis": {
                  "anchor": "x",
                  "domain": [
                    0,
                    1
                  ],
                  "title": {
                    "text": "DO_ZAM_prc"
                  }
                }
              }
            }
          },
          "metadata": {},
          "output_type": "display_data"
        }
      ],
      "source": [
        "Wykres_propozycji_zamowien()"
      ]
    },
    {
      "cell_type": "code",
      "execution_count": 30,
      "metadata": {
        "colab": {
          "base_uri": "https://localhost:8080/",
          "height": 885
        },
        "id": "9SnEXcilpXHW",
        "outputId": "5f322d9e-65da-4f7e-837e-a53101fbb82e"
      },
      "outputs": [
        {
          "name": "stdout",
          "output_type": "stream",
          "text": [
            "MODEL: ELIXIR\n",
            "POZYCJE ZAGROZONE: 2 pozycji\n",
            "BRAKI: 0 pozycji\n",
            "ILOSC BRAKOW: 0 szt\n",
            "BRYŁ DO ZAMÓWIENIA: 143.0szt\n",
            "OBJ BRYŁ DO ZAMÓWIENIA DO OBJETOSCI MAX: 39.3%\n",
            "------------------------------------------------------------------\n"
          ]
        },
        {
          "data": {
            "application/vnd.plotly.v1+json": {
              "config": {
                "plotlyServerURL": "https://plot.ly"
              },
              "data": [
                {
                  "name": "SALDO_obj",
                  "type": "bar",
                  "x": [
                    "ELIXIR 2,5",
                    "ELIXIR 3",
                    "ELIXIR 3,5",
                    "ELIXIR 4",
                    "ELIXIR N",
                    "ELIXIR ][",
                    "ELIXIR P120x98",
                    "ELIXIR P100x98"
                  ],
                  "y": [
                    22.14,
                    36.6,
                    32.160000000000004,
                    50.25,
                    3.872,
                    8.608,
                    5.2,
                    9.299999999999999
                  ]
                },
                {
                  "name": "ZAMOWIONE_obj",
                  "type": "bar",
                  "x": [
                    "ELIXIR 2,5",
                    "ELIXIR 3",
                    "ELIXIR 3,5",
                    "ELIXIR 4",
                    "ELIXIR N",
                    "ELIXIR ][",
                    "ELIXIR P120x98",
                    "ELIXIR P100x98"
                  ],
                  "y": [
                    0,
                    0,
                    0,
                    0,
                    0,
                    0,
                    0,
                    0
                  ]
                },
                {
                  "name": "MAX_obj",
                  "type": "bar",
                  "x": [
                    "ELIXIR 2,5",
                    "ELIXIR 3",
                    "ELIXIR 3,5",
                    "ELIXIR 4",
                    "ELIXIR N",
                    "ELIXIR ][",
                    "ELIXIR P120x98",
                    "ELIXIR P100x98"
                  ],
                  "y": [
                    24.3,
                    33.55,
                    73.7,
                    75,
                    3.2,
                    6.4,
                    6,
                    10.5
                  ]
                }
              ],
              "layout": {
                "template": {
                  "data": {
                    "bar": [
                      {
                        "error_x": {
                          "color": "#2a3f5f"
                        },
                        "error_y": {
                          "color": "#2a3f5f"
                        },
                        "marker": {
                          "line": {
                            "color": "#E5ECF6",
                            "width": 0.5
                          },
                          "pattern": {
                            "fillmode": "overlay",
                            "size": 10,
                            "solidity": 0.2
                          }
                        },
                        "type": "bar"
                      }
                    ],
                    "barpolar": [
                      {
                        "marker": {
                          "line": {
                            "color": "#E5ECF6",
                            "width": 0.5
                          },
                          "pattern": {
                            "fillmode": "overlay",
                            "size": 10,
                            "solidity": 0.2
                          }
                        },
                        "type": "barpolar"
                      }
                    ],
                    "carpet": [
                      {
                        "aaxis": {
                          "endlinecolor": "#2a3f5f",
                          "gridcolor": "white",
                          "linecolor": "white",
                          "minorgridcolor": "white",
                          "startlinecolor": "#2a3f5f"
                        },
                        "baxis": {
                          "endlinecolor": "#2a3f5f",
                          "gridcolor": "white",
                          "linecolor": "white",
                          "minorgridcolor": "white",
                          "startlinecolor": "#2a3f5f"
                        },
                        "type": "carpet"
                      }
                    ],
                    "choropleth": [
                      {
                        "colorbar": {
                          "outlinewidth": 0,
                          "ticks": ""
                        },
                        "type": "choropleth"
                      }
                    ],
                    "contour": [
                      {
                        "colorbar": {
                          "outlinewidth": 0,
                          "ticks": ""
                        },
                        "colorscale": [
                          [
                            0,
                            "#0d0887"
                          ],
                          [
                            0.1111111111111111,
                            "#46039f"
                          ],
                          [
                            0.2222222222222222,
                            "#7201a8"
                          ],
                          [
                            0.3333333333333333,
                            "#9c179e"
                          ],
                          [
                            0.4444444444444444,
                            "#bd3786"
                          ],
                          [
                            0.5555555555555556,
                            "#d8576b"
                          ],
                          [
                            0.6666666666666666,
                            "#ed7953"
                          ],
                          [
                            0.7777777777777778,
                            "#fb9f3a"
                          ],
                          [
                            0.8888888888888888,
                            "#fdca26"
                          ],
                          [
                            1,
                            "#f0f921"
                          ]
                        ],
                        "type": "contour"
                      }
                    ],
                    "contourcarpet": [
                      {
                        "colorbar": {
                          "outlinewidth": 0,
                          "ticks": ""
                        },
                        "type": "contourcarpet"
                      }
                    ],
                    "heatmap": [
                      {
                        "colorbar": {
                          "outlinewidth": 0,
                          "ticks": ""
                        },
                        "colorscale": [
                          [
                            0,
                            "#0d0887"
                          ],
                          [
                            0.1111111111111111,
                            "#46039f"
                          ],
                          [
                            0.2222222222222222,
                            "#7201a8"
                          ],
                          [
                            0.3333333333333333,
                            "#9c179e"
                          ],
                          [
                            0.4444444444444444,
                            "#bd3786"
                          ],
                          [
                            0.5555555555555556,
                            "#d8576b"
                          ],
                          [
                            0.6666666666666666,
                            "#ed7953"
                          ],
                          [
                            0.7777777777777778,
                            "#fb9f3a"
                          ],
                          [
                            0.8888888888888888,
                            "#fdca26"
                          ],
                          [
                            1,
                            "#f0f921"
                          ]
                        ],
                        "type": "heatmap"
                      }
                    ],
                    "heatmapgl": [
                      {
                        "colorbar": {
                          "outlinewidth": 0,
                          "ticks": ""
                        },
                        "colorscale": [
                          [
                            0,
                            "#0d0887"
                          ],
                          [
                            0.1111111111111111,
                            "#46039f"
                          ],
                          [
                            0.2222222222222222,
                            "#7201a8"
                          ],
                          [
                            0.3333333333333333,
                            "#9c179e"
                          ],
                          [
                            0.4444444444444444,
                            "#bd3786"
                          ],
                          [
                            0.5555555555555556,
                            "#d8576b"
                          ],
                          [
                            0.6666666666666666,
                            "#ed7953"
                          ],
                          [
                            0.7777777777777778,
                            "#fb9f3a"
                          ],
                          [
                            0.8888888888888888,
                            "#fdca26"
                          ],
                          [
                            1,
                            "#f0f921"
                          ]
                        ],
                        "type": "heatmapgl"
                      }
                    ],
                    "histogram": [
                      {
                        "marker": {
                          "pattern": {
                            "fillmode": "overlay",
                            "size": 10,
                            "solidity": 0.2
                          }
                        },
                        "type": "histogram"
                      }
                    ],
                    "histogram2d": [
                      {
                        "colorbar": {
                          "outlinewidth": 0,
                          "ticks": ""
                        },
                        "colorscale": [
                          [
                            0,
                            "#0d0887"
                          ],
                          [
                            0.1111111111111111,
                            "#46039f"
                          ],
                          [
                            0.2222222222222222,
                            "#7201a8"
                          ],
                          [
                            0.3333333333333333,
                            "#9c179e"
                          ],
                          [
                            0.4444444444444444,
                            "#bd3786"
                          ],
                          [
                            0.5555555555555556,
                            "#d8576b"
                          ],
                          [
                            0.6666666666666666,
                            "#ed7953"
                          ],
                          [
                            0.7777777777777778,
                            "#fb9f3a"
                          ],
                          [
                            0.8888888888888888,
                            "#fdca26"
                          ],
                          [
                            1,
                            "#f0f921"
                          ]
                        ],
                        "type": "histogram2d"
                      }
                    ],
                    "histogram2dcontour": [
                      {
                        "colorbar": {
                          "outlinewidth": 0,
                          "ticks": ""
                        },
                        "colorscale": [
                          [
                            0,
                            "#0d0887"
                          ],
                          [
                            0.1111111111111111,
                            "#46039f"
                          ],
                          [
                            0.2222222222222222,
                            "#7201a8"
                          ],
                          [
                            0.3333333333333333,
                            "#9c179e"
                          ],
                          [
                            0.4444444444444444,
                            "#bd3786"
                          ],
                          [
                            0.5555555555555556,
                            "#d8576b"
                          ],
                          [
                            0.6666666666666666,
                            "#ed7953"
                          ],
                          [
                            0.7777777777777778,
                            "#fb9f3a"
                          ],
                          [
                            0.8888888888888888,
                            "#fdca26"
                          ],
                          [
                            1,
                            "#f0f921"
                          ]
                        ],
                        "type": "histogram2dcontour"
                      }
                    ],
                    "mesh3d": [
                      {
                        "colorbar": {
                          "outlinewidth": 0,
                          "ticks": ""
                        },
                        "type": "mesh3d"
                      }
                    ],
                    "parcoords": [
                      {
                        "line": {
                          "colorbar": {
                            "outlinewidth": 0,
                            "ticks": ""
                          }
                        },
                        "type": "parcoords"
                      }
                    ],
                    "pie": [
                      {
                        "automargin": true,
                        "type": "pie"
                      }
                    ],
                    "scatter": [
                      {
                        "fillpattern": {
                          "fillmode": "overlay",
                          "size": 10,
                          "solidity": 0.2
                        },
                        "type": "scatter"
                      }
                    ],
                    "scatter3d": [
                      {
                        "line": {
                          "colorbar": {
                            "outlinewidth": 0,
                            "ticks": ""
                          }
                        },
                        "marker": {
                          "colorbar": {
                            "outlinewidth": 0,
                            "ticks": ""
                          }
                        },
                        "type": "scatter3d"
                      }
                    ],
                    "scattercarpet": [
                      {
                        "marker": {
                          "colorbar": {
                            "outlinewidth": 0,
                            "ticks": ""
                          }
                        },
                        "type": "scattercarpet"
                      }
                    ],
                    "scattergeo": [
                      {
                        "marker": {
                          "colorbar": {
                            "outlinewidth": 0,
                            "ticks": ""
                          }
                        },
                        "type": "scattergeo"
                      }
                    ],
                    "scattergl": [
                      {
                        "marker": {
                          "colorbar": {
                            "outlinewidth": 0,
                            "ticks": ""
                          }
                        },
                        "type": "scattergl"
                      }
                    ],
                    "scattermapbox": [
                      {
                        "marker": {
                          "colorbar": {
                            "outlinewidth": 0,
                            "ticks": ""
                          }
                        },
                        "type": "scattermapbox"
                      }
                    ],
                    "scatterpolar": [
                      {
                        "marker": {
                          "colorbar": {
                            "outlinewidth": 0,
                            "ticks": ""
                          }
                        },
                        "type": "scatterpolar"
                      }
                    ],
                    "scatterpolargl": [
                      {
                        "marker": {
                          "colorbar": {
                            "outlinewidth": 0,
                            "ticks": ""
                          }
                        },
                        "type": "scatterpolargl"
                      }
                    ],
                    "scatterternary": [
                      {
                        "marker": {
                          "colorbar": {
                            "outlinewidth": 0,
                            "ticks": ""
                          }
                        },
                        "type": "scatterternary"
                      }
                    ],
                    "surface": [
                      {
                        "colorbar": {
                          "outlinewidth": 0,
                          "ticks": ""
                        },
                        "colorscale": [
                          [
                            0,
                            "#0d0887"
                          ],
                          [
                            0.1111111111111111,
                            "#46039f"
                          ],
                          [
                            0.2222222222222222,
                            "#7201a8"
                          ],
                          [
                            0.3333333333333333,
                            "#9c179e"
                          ],
                          [
                            0.4444444444444444,
                            "#bd3786"
                          ],
                          [
                            0.5555555555555556,
                            "#d8576b"
                          ],
                          [
                            0.6666666666666666,
                            "#ed7953"
                          ],
                          [
                            0.7777777777777778,
                            "#fb9f3a"
                          ],
                          [
                            0.8888888888888888,
                            "#fdca26"
                          ],
                          [
                            1,
                            "#f0f921"
                          ]
                        ],
                        "type": "surface"
                      }
                    ],
                    "table": [
                      {
                        "cells": {
                          "fill": {
                            "color": "#EBF0F8"
                          },
                          "line": {
                            "color": "white"
                          }
                        },
                        "header": {
                          "fill": {
                            "color": "#C8D4E3"
                          },
                          "line": {
                            "color": "white"
                          }
                        },
                        "type": "table"
                      }
                    ]
                  },
                  "layout": {
                    "annotationdefaults": {
                      "arrowcolor": "#2a3f5f",
                      "arrowhead": 0,
                      "arrowwidth": 1
                    },
                    "autotypenumbers": "strict",
                    "coloraxis": {
                      "colorbar": {
                        "outlinewidth": 0,
                        "ticks": ""
                      }
                    },
                    "colorscale": {
                      "diverging": [
                        [
                          0,
                          "#8e0152"
                        ],
                        [
                          0.1,
                          "#c51b7d"
                        ],
                        [
                          0.2,
                          "#de77ae"
                        ],
                        [
                          0.3,
                          "#f1b6da"
                        ],
                        [
                          0.4,
                          "#fde0ef"
                        ],
                        [
                          0.5,
                          "#f7f7f7"
                        ],
                        [
                          0.6,
                          "#e6f5d0"
                        ],
                        [
                          0.7,
                          "#b8e186"
                        ],
                        [
                          0.8,
                          "#7fbc41"
                        ],
                        [
                          0.9,
                          "#4d9221"
                        ],
                        [
                          1,
                          "#276419"
                        ]
                      ],
                      "sequential": [
                        [
                          0,
                          "#0d0887"
                        ],
                        [
                          0.1111111111111111,
                          "#46039f"
                        ],
                        [
                          0.2222222222222222,
                          "#7201a8"
                        ],
                        [
                          0.3333333333333333,
                          "#9c179e"
                        ],
                        [
                          0.4444444444444444,
                          "#bd3786"
                        ],
                        [
                          0.5555555555555556,
                          "#d8576b"
                        ],
                        [
                          0.6666666666666666,
                          "#ed7953"
                        ],
                        [
                          0.7777777777777778,
                          "#fb9f3a"
                        ],
                        [
                          0.8888888888888888,
                          "#fdca26"
                        ],
                        [
                          1,
                          "#f0f921"
                        ]
                      ],
                      "sequentialminus": [
                        [
                          0,
                          "#0d0887"
                        ],
                        [
                          0.1111111111111111,
                          "#46039f"
                        ],
                        [
                          0.2222222222222222,
                          "#7201a8"
                        ],
                        [
                          0.3333333333333333,
                          "#9c179e"
                        ],
                        [
                          0.4444444444444444,
                          "#bd3786"
                        ],
                        [
                          0.5555555555555556,
                          "#d8576b"
                        ],
                        [
                          0.6666666666666666,
                          "#ed7953"
                        ],
                        [
                          0.7777777777777778,
                          "#fb9f3a"
                        ],
                        [
                          0.8888888888888888,
                          "#fdca26"
                        ],
                        [
                          1,
                          "#f0f921"
                        ]
                      ]
                    },
                    "colorway": [
                      "#636efa",
                      "#EF553B",
                      "#00cc96",
                      "#ab63fa",
                      "#FFA15A",
                      "#19d3f3",
                      "#FF6692",
                      "#B6E880",
                      "#FF97FF",
                      "#FECB52"
                    ],
                    "font": {
                      "color": "#2a3f5f"
                    },
                    "geo": {
                      "bgcolor": "white",
                      "lakecolor": "white",
                      "landcolor": "#E5ECF6",
                      "showlakes": true,
                      "showland": true,
                      "subunitcolor": "white"
                    },
                    "hoverlabel": {
                      "align": "left"
                    },
                    "hovermode": "closest",
                    "mapbox": {
                      "style": "light"
                    },
                    "paper_bgcolor": "white",
                    "plot_bgcolor": "#E5ECF6",
                    "polar": {
                      "angularaxis": {
                        "gridcolor": "white",
                        "linecolor": "white",
                        "ticks": ""
                      },
                      "bgcolor": "#E5ECF6",
                      "radialaxis": {
                        "gridcolor": "white",
                        "linecolor": "white",
                        "ticks": ""
                      }
                    },
                    "scene": {
                      "xaxis": {
                        "backgroundcolor": "#E5ECF6",
                        "gridcolor": "white",
                        "gridwidth": 2,
                        "linecolor": "white",
                        "showbackground": true,
                        "ticks": "",
                        "zerolinecolor": "white"
                      },
                      "yaxis": {
                        "backgroundcolor": "#E5ECF6",
                        "gridcolor": "white",
                        "gridwidth": 2,
                        "linecolor": "white",
                        "showbackground": true,
                        "ticks": "",
                        "zerolinecolor": "white"
                      },
                      "zaxis": {
                        "backgroundcolor": "#E5ECF6",
                        "gridcolor": "white",
                        "gridwidth": 2,
                        "linecolor": "white",
                        "showbackground": true,
                        "ticks": "",
                        "zerolinecolor": "white"
                      }
                    },
                    "shapedefaults": {
                      "line": {
                        "color": "#2a3f5f"
                      }
                    },
                    "ternary": {
                      "aaxis": {
                        "gridcolor": "white",
                        "linecolor": "white",
                        "ticks": ""
                      },
                      "baxis": {
                        "gridcolor": "white",
                        "linecolor": "white",
                        "ticks": ""
                      },
                      "bgcolor": "#E5ECF6",
                      "caxis": {
                        "gridcolor": "white",
                        "linecolor": "white",
                        "ticks": ""
                      }
                    },
                    "title": {
                      "x": 0.05
                    },
                    "xaxis": {
                      "automargin": true,
                      "gridcolor": "white",
                      "linecolor": "white",
                      "ticks": "",
                      "title": {
                        "standoff": 15
                      },
                      "zerolinecolor": "white",
                      "zerolinewidth": 2
                    },
                    "yaxis": {
                      "automargin": true,
                      "gridcolor": "white",
                      "linecolor": "white",
                      "ticks": "",
                      "title": {
                        "standoff": 15
                      },
                      "zerolinecolor": "white",
                      "zerolinewidth": 2
                    }
                  }
                },
                "title": {
                  "text": "OBJETOSC ZAMOWIONA I OBJETOSC SALDA DO OBJETOSCI MAX"
                },
                "xaxis": {
                  "title": {
                    "text": "NAZAWA BRYLY"
                  }
                },
                "yaxis": {
                  "title": {
                    "text": "OBIETOSC M3"
                  }
                }
              }
            }
          },
          "metadata": {},
          "output_type": "display_data"
        },
        {
          "name": "stdout",
          "output_type": "stream",
          "text": [
            "------------------------------------------------------------------\n"
          ]
        },
        {
          "data": {
            "application/vnd.plotly.v1+json": {
              "config": {
                "plotlyServerURL": "https://plot.ly"
              },
              "data": [
                {
                  "labels": [
                    "MAX_obj",
                    "ZAMOWIONE_obj",
                    "CZEKA_NA_SPAKOWANIE_obj",
                    "CZESCIOWO_DOSTARCZONE_obj",
                    "SALDO_obj",
                    "WOLNE_obj",
                    "WOLNE_NIE_SPAK_obj",
                    "DO_ZAM_obj"
                  ],
                  "type": "pie",
                  "values": [
                    232.64999999999998,
                    0,
                    36.85,
                    0,
                    168.13,
                    104.474,
                    141.324,
                    91.32600000000001
                  ]
                }
              ],
              "layout": {
                "template": {
                  "data": {
                    "bar": [
                      {
                        "error_x": {
                          "color": "#2a3f5f"
                        },
                        "error_y": {
                          "color": "#2a3f5f"
                        },
                        "marker": {
                          "line": {
                            "color": "#E5ECF6",
                            "width": 0.5
                          },
                          "pattern": {
                            "fillmode": "overlay",
                            "size": 10,
                            "solidity": 0.2
                          }
                        },
                        "type": "bar"
                      }
                    ],
                    "barpolar": [
                      {
                        "marker": {
                          "line": {
                            "color": "#E5ECF6",
                            "width": 0.5
                          },
                          "pattern": {
                            "fillmode": "overlay",
                            "size": 10,
                            "solidity": 0.2
                          }
                        },
                        "type": "barpolar"
                      }
                    ],
                    "carpet": [
                      {
                        "aaxis": {
                          "endlinecolor": "#2a3f5f",
                          "gridcolor": "white",
                          "linecolor": "white",
                          "minorgridcolor": "white",
                          "startlinecolor": "#2a3f5f"
                        },
                        "baxis": {
                          "endlinecolor": "#2a3f5f",
                          "gridcolor": "white",
                          "linecolor": "white",
                          "minorgridcolor": "white",
                          "startlinecolor": "#2a3f5f"
                        },
                        "type": "carpet"
                      }
                    ],
                    "choropleth": [
                      {
                        "colorbar": {
                          "outlinewidth": 0,
                          "ticks": ""
                        },
                        "type": "choropleth"
                      }
                    ],
                    "contour": [
                      {
                        "colorbar": {
                          "outlinewidth": 0,
                          "ticks": ""
                        },
                        "colorscale": [
                          [
                            0,
                            "#0d0887"
                          ],
                          [
                            0.1111111111111111,
                            "#46039f"
                          ],
                          [
                            0.2222222222222222,
                            "#7201a8"
                          ],
                          [
                            0.3333333333333333,
                            "#9c179e"
                          ],
                          [
                            0.4444444444444444,
                            "#bd3786"
                          ],
                          [
                            0.5555555555555556,
                            "#d8576b"
                          ],
                          [
                            0.6666666666666666,
                            "#ed7953"
                          ],
                          [
                            0.7777777777777778,
                            "#fb9f3a"
                          ],
                          [
                            0.8888888888888888,
                            "#fdca26"
                          ],
                          [
                            1,
                            "#f0f921"
                          ]
                        ],
                        "type": "contour"
                      }
                    ],
                    "contourcarpet": [
                      {
                        "colorbar": {
                          "outlinewidth": 0,
                          "ticks": ""
                        },
                        "type": "contourcarpet"
                      }
                    ],
                    "heatmap": [
                      {
                        "colorbar": {
                          "outlinewidth": 0,
                          "ticks": ""
                        },
                        "colorscale": [
                          [
                            0,
                            "#0d0887"
                          ],
                          [
                            0.1111111111111111,
                            "#46039f"
                          ],
                          [
                            0.2222222222222222,
                            "#7201a8"
                          ],
                          [
                            0.3333333333333333,
                            "#9c179e"
                          ],
                          [
                            0.4444444444444444,
                            "#bd3786"
                          ],
                          [
                            0.5555555555555556,
                            "#d8576b"
                          ],
                          [
                            0.6666666666666666,
                            "#ed7953"
                          ],
                          [
                            0.7777777777777778,
                            "#fb9f3a"
                          ],
                          [
                            0.8888888888888888,
                            "#fdca26"
                          ],
                          [
                            1,
                            "#f0f921"
                          ]
                        ],
                        "type": "heatmap"
                      }
                    ],
                    "heatmapgl": [
                      {
                        "colorbar": {
                          "outlinewidth": 0,
                          "ticks": ""
                        },
                        "colorscale": [
                          [
                            0,
                            "#0d0887"
                          ],
                          [
                            0.1111111111111111,
                            "#46039f"
                          ],
                          [
                            0.2222222222222222,
                            "#7201a8"
                          ],
                          [
                            0.3333333333333333,
                            "#9c179e"
                          ],
                          [
                            0.4444444444444444,
                            "#bd3786"
                          ],
                          [
                            0.5555555555555556,
                            "#d8576b"
                          ],
                          [
                            0.6666666666666666,
                            "#ed7953"
                          ],
                          [
                            0.7777777777777778,
                            "#fb9f3a"
                          ],
                          [
                            0.8888888888888888,
                            "#fdca26"
                          ],
                          [
                            1,
                            "#f0f921"
                          ]
                        ],
                        "type": "heatmapgl"
                      }
                    ],
                    "histogram": [
                      {
                        "marker": {
                          "pattern": {
                            "fillmode": "overlay",
                            "size": 10,
                            "solidity": 0.2
                          }
                        },
                        "type": "histogram"
                      }
                    ],
                    "histogram2d": [
                      {
                        "colorbar": {
                          "outlinewidth": 0,
                          "ticks": ""
                        },
                        "colorscale": [
                          [
                            0,
                            "#0d0887"
                          ],
                          [
                            0.1111111111111111,
                            "#46039f"
                          ],
                          [
                            0.2222222222222222,
                            "#7201a8"
                          ],
                          [
                            0.3333333333333333,
                            "#9c179e"
                          ],
                          [
                            0.4444444444444444,
                            "#bd3786"
                          ],
                          [
                            0.5555555555555556,
                            "#d8576b"
                          ],
                          [
                            0.6666666666666666,
                            "#ed7953"
                          ],
                          [
                            0.7777777777777778,
                            "#fb9f3a"
                          ],
                          [
                            0.8888888888888888,
                            "#fdca26"
                          ],
                          [
                            1,
                            "#f0f921"
                          ]
                        ],
                        "type": "histogram2d"
                      }
                    ],
                    "histogram2dcontour": [
                      {
                        "colorbar": {
                          "outlinewidth": 0,
                          "ticks": ""
                        },
                        "colorscale": [
                          [
                            0,
                            "#0d0887"
                          ],
                          [
                            0.1111111111111111,
                            "#46039f"
                          ],
                          [
                            0.2222222222222222,
                            "#7201a8"
                          ],
                          [
                            0.3333333333333333,
                            "#9c179e"
                          ],
                          [
                            0.4444444444444444,
                            "#bd3786"
                          ],
                          [
                            0.5555555555555556,
                            "#d8576b"
                          ],
                          [
                            0.6666666666666666,
                            "#ed7953"
                          ],
                          [
                            0.7777777777777778,
                            "#fb9f3a"
                          ],
                          [
                            0.8888888888888888,
                            "#fdca26"
                          ],
                          [
                            1,
                            "#f0f921"
                          ]
                        ],
                        "type": "histogram2dcontour"
                      }
                    ],
                    "mesh3d": [
                      {
                        "colorbar": {
                          "outlinewidth": 0,
                          "ticks": ""
                        },
                        "type": "mesh3d"
                      }
                    ],
                    "parcoords": [
                      {
                        "line": {
                          "colorbar": {
                            "outlinewidth": 0,
                            "ticks": ""
                          }
                        },
                        "type": "parcoords"
                      }
                    ],
                    "pie": [
                      {
                        "automargin": true,
                        "type": "pie"
                      }
                    ],
                    "scatter": [
                      {
                        "fillpattern": {
                          "fillmode": "overlay",
                          "size": 10,
                          "solidity": 0.2
                        },
                        "type": "scatter"
                      }
                    ],
                    "scatter3d": [
                      {
                        "line": {
                          "colorbar": {
                            "outlinewidth": 0,
                            "ticks": ""
                          }
                        },
                        "marker": {
                          "colorbar": {
                            "outlinewidth": 0,
                            "ticks": ""
                          }
                        },
                        "type": "scatter3d"
                      }
                    ],
                    "scattercarpet": [
                      {
                        "marker": {
                          "colorbar": {
                            "outlinewidth": 0,
                            "ticks": ""
                          }
                        },
                        "type": "scattercarpet"
                      }
                    ],
                    "scattergeo": [
                      {
                        "marker": {
                          "colorbar": {
                            "outlinewidth": 0,
                            "ticks": ""
                          }
                        },
                        "type": "scattergeo"
                      }
                    ],
                    "scattergl": [
                      {
                        "marker": {
                          "colorbar": {
                            "outlinewidth": 0,
                            "ticks": ""
                          }
                        },
                        "type": "scattergl"
                      }
                    ],
                    "scattermapbox": [
                      {
                        "marker": {
                          "colorbar": {
                            "outlinewidth": 0,
                            "ticks": ""
                          }
                        },
                        "type": "scattermapbox"
                      }
                    ],
                    "scatterpolar": [
                      {
                        "marker": {
                          "colorbar": {
                            "outlinewidth": 0,
                            "ticks": ""
                          }
                        },
                        "type": "scatterpolar"
                      }
                    ],
                    "scatterpolargl": [
                      {
                        "marker": {
                          "colorbar": {
                            "outlinewidth": 0,
                            "ticks": ""
                          }
                        },
                        "type": "scatterpolargl"
                      }
                    ],
                    "scatterternary": [
                      {
                        "marker": {
                          "colorbar": {
                            "outlinewidth": 0,
                            "ticks": ""
                          }
                        },
                        "type": "scatterternary"
                      }
                    ],
                    "surface": [
                      {
                        "colorbar": {
                          "outlinewidth": 0,
                          "ticks": ""
                        },
                        "colorscale": [
                          [
                            0,
                            "#0d0887"
                          ],
                          [
                            0.1111111111111111,
                            "#46039f"
                          ],
                          [
                            0.2222222222222222,
                            "#7201a8"
                          ],
                          [
                            0.3333333333333333,
                            "#9c179e"
                          ],
                          [
                            0.4444444444444444,
                            "#bd3786"
                          ],
                          [
                            0.5555555555555556,
                            "#d8576b"
                          ],
                          [
                            0.6666666666666666,
                            "#ed7953"
                          ],
                          [
                            0.7777777777777778,
                            "#fb9f3a"
                          ],
                          [
                            0.8888888888888888,
                            "#fdca26"
                          ],
                          [
                            1,
                            "#f0f921"
                          ]
                        ],
                        "type": "surface"
                      }
                    ],
                    "table": [
                      {
                        "cells": {
                          "fill": {
                            "color": "#EBF0F8"
                          },
                          "line": {
                            "color": "white"
                          }
                        },
                        "header": {
                          "fill": {
                            "color": "#C8D4E3"
                          },
                          "line": {
                            "color": "white"
                          }
                        },
                        "type": "table"
                      }
                    ]
                  },
                  "layout": {
                    "annotationdefaults": {
                      "arrowcolor": "#2a3f5f",
                      "arrowhead": 0,
                      "arrowwidth": 1
                    },
                    "autotypenumbers": "strict",
                    "coloraxis": {
                      "colorbar": {
                        "outlinewidth": 0,
                        "ticks": ""
                      }
                    },
                    "colorscale": {
                      "diverging": [
                        [
                          0,
                          "#8e0152"
                        ],
                        [
                          0.1,
                          "#c51b7d"
                        ],
                        [
                          0.2,
                          "#de77ae"
                        ],
                        [
                          0.3,
                          "#f1b6da"
                        ],
                        [
                          0.4,
                          "#fde0ef"
                        ],
                        [
                          0.5,
                          "#f7f7f7"
                        ],
                        [
                          0.6,
                          "#e6f5d0"
                        ],
                        [
                          0.7,
                          "#b8e186"
                        ],
                        [
                          0.8,
                          "#7fbc41"
                        ],
                        [
                          0.9,
                          "#4d9221"
                        ],
                        [
                          1,
                          "#276419"
                        ]
                      ],
                      "sequential": [
                        [
                          0,
                          "#0d0887"
                        ],
                        [
                          0.1111111111111111,
                          "#46039f"
                        ],
                        [
                          0.2222222222222222,
                          "#7201a8"
                        ],
                        [
                          0.3333333333333333,
                          "#9c179e"
                        ],
                        [
                          0.4444444444444444,
                          "#bd3786"
                        ],
                        [
                          0.5555555555555556,
                          "#d8576b"
                        ],
                        [
                          0.6666666666666666,
                          "#ed7953"
                        ],
                        [
                          0.7777777777777778,
                          "#fb9f3a"
                        ],
                        [
                          0.8888888888888888,
                          "#fdca26"
                        ],
                        [
                          1,
                          "#f0f921"
                        ]
                      ],
                      "sequentialminus": [
                        [
                          0,
                          "#0d0887"
                        ],
                        [
                          0.1111111111111111,
                          "#46039f"
                        ],
                        [
                          0.2222222222222222,
                          "#7201a8"
                        ],
                        [
                          0.3333333333333333,
                          "#9c179e"
                        ],
                        [
                          0.4444444444444444,
                          "#bd3786"
                        ],
                        [
                          0.5555555555555556,
                          "#d8576b"
                        ],
                        [
                          0.6666666666666666,
                          "#ed7953"
                        ],
                        [
                          0.7777777777777778,
                          "#fb9f3a"
                        ],
                        [
                          0.8888888888888888,
                          "#fdca26"
                        ],
                        [
                          1,
                          "#f0f921"
                        ]
                      ]
                    },
                    "colorway": [
                      "#636efa",
                      "#EF553B",
                      "#00cc96",
                      "#ab63fa",
                      "#FFA15A",
                      "#19d3f3",
                      "#FF6692",
                      "#B6E880",
                      "#FF97FF",
                      "#FECB52"
                    ],
                    "font": {
                      "color": "#2a3f5f"
                    },
                    "geo": {
                      "bgcolor": "white",
                      "lakecolor": "white",
                      "landcolor": "#E5ECF6",
                      "showlakes": true,
                      "showland": true,
                      "subunitcolor": "white"
                    },
                    "hoverlabel": {
                      "align": "left"
                    },
                    "hovermode": "closest",
                    "mapbox": {
                      "style": "light"
                    },
                    "paper_bgcolor": "white",
                    "plot_bgcolor": "#E5ECF6",
                    "polar": {
                      "angularaxis": {
                        "gridcolor": "white",
                        "linecolor": "white",
                        "ticks": ""
                      },
                      "bgcolor": "#E5ECF6",
                      "radialaxis": {
                        "gridcolor": "white",
                        "linecolor": "white",
                        "ticks": ""
                      }
                    },
                    "scene": {
                      "xaxis": {
                        "backgroundcolor": "#E5ECF6",
                        "gridcolor": "white",
                        "gridwidth": 2,
                        "linecolor": "white",
                        "showbackground": true,
                        "ticks": "",
                        "zerolinecolor": "white"
                      },
                      "yaxis": {
                        "backgroundcolor": "#E5ECF6",
                        "gridcolor": "white",
                        "gridwidth": 2,
                        "linecolor": "white",
                        "showbackground": true,
                        "ticks": "",
                        "zerolinecolor": "white"
                      },
                      "zaxis": {
                        "backgroundcolor": "#E5ECF6",
                        "gridcolor": "white",
                        "gridwidth": 2,
                        "linecolor": "white",
                        "showbackground": true,
                        "ticks": "",
                        "zerolinecolor": "white"
                      }
                    },
                    "shapedefaults": {
                      "line": {
                        "color": "#2a3f5f"
                      }
                    },
                    "ternary": {
                      "aaxis": {
                        "gridcolor": "white",
                        "linecolor": "white",
                        "ticks": ""
                      },
                      "baxis": {
                        "gridcolor": "white",
                        "linecolor": "white",
                        "ticks": ""
                      },
                      "bgcolor": "#E5ECF6",
                      "caxis": {
                        "gridcolor": "white",
                        "linecolor": "white",
                        "ticks": ""
                      }
                    },
                    "title": {
                      "x": 0.05
                    },
                    "xaxis": {
                      "automargin": true,
                      "gridcolor": "white",
                      "linecolor": "white",
                      "ticks": "",
                      "title": {
                        "standoff": 15
                      },
                      "zerolinecolor": "white",
                      "zerolinewidth": 2
                    },
                    "yaxis": {
                      "automargin": true,
                      "gridcolor": "white",
                      "linecolor": "white",
                      "ticks": "",
                      "title": {
                        "standoff": 15
                      },
                      "zerolinecolor": "white",
                      "zerolinewidth": 2
                    }
                  }
                },
                "title": {
                  "text": "STOSUNKI OBIETOSCI"
                }
              }
            }
          },
          "metadata": {},
          "output_type": "display_data"
        }
      ],
      "source": [
        "ard[\"ELIXIR\"].Raport(\"prtW\")"
      ]
    },
    {
      "cell_type": "markdown",
      "metadata": {
        "id": "e1SJ8WBwUpzL"
      },
      "source": [
        "#BRYŁY DO ZAMÓWIENIA"
      ]
    },
    {
      "cell_type": "code",
      "execution_count": null,
      "metadata": {
        "id": "ykSXqlBQhlvy"
      },
      "outputs": [],
      "source": [
        "# Ogolna_analiza_objetosci(\"podsum\")"
      ]
    },
    {
      "cell_type": "code",
      "execution_count": 34,
      "metadata": {
        "id": "BSMUebJz3NgD"
      },
      "outputs": [],
      "source": [
        "# @title BRYŁY DO ZAMÓWIENIA FUNKCJE\n",
        "def oblicz_owaty_do_zamowienia(*z_bdz):\n",
        "\n",
        "  df_zam = pd.concat(z_bdz)\n",
        "  df_zam = df_zam.merge(owaty, how=\"left\", on=\"OPIS\")\n",
        "\n",
        "  for c in owaty.columns[1:]:\n",
        "    df_zam[c] = df_zam[c] * df_zam.DO_ZAMOWIENIA * 1.1\n",
        "\n",
        "  return df_zam#[owaty.columns[1:]]\n",
        "\n",
        "\n",
        "def zapotrzebowanie_na_owaty(zam_owaty, wyjatki:list):\n",
        "  _wyjatki = pd.Series({\"O3\":0, \"O2\":0, \"O1\":0, \"L1\":0, \"W3\":0})\n",
        "  for w in wyjatki:\n",
        "    _wyjatki += w\n",
        "\n",
        "  zap = zam_owaty[[\"O3\", \"O2\", \"O1\", \"L1\", \"W3\"]].sum()+_wyjatki\n",
        "\n",
        "  # zap *= 1.1\n",
        "\n",
        "  print(f\"O1 zielona: {(zap['O1']/50).round(0):.0f} rolek\")\n",
        "  print(f\"O2 niebieska: {(zap['O2']/40).round(0):.0f} rolek\")\n",
        "  print(f\"O3 czerwona: {(zap['O3']/40).round(0):.0f} rolek\")\n",
        "  # return zap\n",
        "\n",
        "\n",
        "\n",
        "def pobierz_zamowienie_z_ZAM_PIANKI(tydzien, _cls):\n",
        "  _zam = zam_pianki[(zam_pianki.TYDZIEN == tydzien) & (zam_pianki.OPIS.str.contains(_cls.MODEL))].merge(komplety_pianek[[\"KOD\", \"BRYLA_GEN\"]])[[\"OPIS\", \"BRYLA_GEN\", \"ILE_ZAMOWIONE\"]]\n",
        "  return _cls({i[1].BRYLA_GEN: i[1].ILE_ZAMOWIONE for i in _zam[[\"BRYLA_GEN\", \"ILE_ZAMOWIONE\"]].iterrows()})\n",
        "\n"
      ]
    },
    {
      "cell_type": "markdown",
      "metadata": {
        "id": "Pu7Rp96Zuzhp"
      },
      "source": [
        "##KOMPONOWANIE ZAMOWIENIA"
      ]
    },
    {
      "cell_type": "code",
      "execution_count": 35,
      "metadata": {
        "colab": {
          "base_uri": "https://localhost:8080/"
        },
        "id": "RccM6KFdLUcQ",
        "outputId": "22e33caf-16b8-42b6-bb32-31a86c6131ff"
      },
      "outputs": [
        {
          "data": {
            "text/plain": [
              "(STONE Vol Vita: 74.87m3, HORIZON Vol Vita: 6.73m3, Vol Pianpol: 1.17m3)"
            ]
          },
          "execution_count": 35,
          "metadata": {},
          "output_type": "execute_result"
        }
      ],
      "source": [
        "#dos 24/0242 sto 2_24, hor 3_24, nr_sam VITA 7_24,  nr partii 08/01\n",
        "zsto,sto = ard[\"STONE\"].Bryly_do_zamowienia(wszystkie_bryly=True, korekta_zam={\n",
        "    '1,5': 150.0,\n",
        " '2,5': 25.0,\n",
        " '3': 45.0,\n",
        " '4': 10.0,\n",
        "#  '5': 0.0,\n",
        " 'ON': 15.0,\n",
        "#  'NW140x150': 5.0,\n",
        "#  '': 50.0,\n",
        " '[LH': 25.0,\n",
        " 'E30': 10.0,\n",
        " 'P106x106': 10.0,\n",
        " 'P106x82': 20.0,\n",
        "#  'P82x82': 2.0,\n",
        "#  'Z50': 1.0,\n",
        " 'Z70': 190.0,\n",
        " 'STONE ][': 250.0})\n",
        "\n",
        "\n",
        "\n",
        "zhor, hor = ard[\"HORIZON\"].Bryly_do_zamowienia(wszystkie_bryly=True, korekta_zam={\n",
        " 'ONz': 20.0,\n",
        "})\n",
        "\n",
        "sto, hor# + blok t35 1.2x1.2x2 +hr3020"
      ]
    },
    {
      "cell_type": "code",
      "execution_count": 43,
      "metadata": {},
      "outputs": [
        {
          "data": {
            "text/plain": [
              "(               KOD                      OPIS  DO_ZAMOWIENIA\n",
              " 0  16.130.00002.60                  WILLOW ]            0.0\n",
              " 1  13.130.10205.60      WIL. 1  Z BOCZ - OWA           40.0\n",
              " 2  13.130.10206.60    WIL. 1  BEZ BOCZ - OWA           20.0\n",
              " 3  13.130.15205.60    WIL. 1,5  Z BOCZ - OWA           70.0\n",
              " 4  13.130.15206.60  WIL. 1,5  BEZ BOCZ - OWA           50.0\n",
              " 5  13.130.25205.60    WIL. 2,5  Z BOCZ - OWA           10.0\n",
              " 6  13.130.25206.60  WIL. 2,5  BEZ BOCZ - OWA           10.0\n",
              " 7  13.130.40205.60       WIL. 4 Z BOCZ - OWA           25.0\n",
              " 8  13.130.40206.60    WIL. 4  BEZ BOCZ - OWA            0.0,\n",
              " WILLOW Vol Vita: 0.00m3, Vol Ciech: 0.00m3)"
            ]
          },
          "execution_count": 43,
          "metadata": {},
          "output_type": "execute_result"
        }
      ],
      "source": [
        "ard[\"WILLOW\"].Bryly_do_zamowienia(wszystkie_bryly=True, korekta_zam={\n",
        "#     '1': 35.0,\n",
        "#  '1,5': 3.0,\n",
        "#  '2,5': 1.0,\n",
        "#  '4': 15.0,\n",
        "#  'N': 0.0,\n",
        "#  '[L': 9.0,\n",
        "#  '[L2Hz': 0.0,\n",
        "#  'P106x106': 0.0,\n",
        "#  'P82x106': 6.0,\n",
        "#  'P82x82': 6.0,\n",
        "#  '[': 26.0,\n",
        " ']': 0.0,\n",
        " 'OWA 1][': 40.0,\n",
        " 'OWA 1': 20.0,\n",
        " 'OWA 1,5][': 70.0,\n",
        " 'OWA 1,5': 50.0,\n",
        " 'OWA 2,5][': 10.0,\n",
        " 'OWA 2,5': 10.0,\n",
        " 'OWA 4][': 25.0,\n",
        " 'OWA 4': 0.0})"
      ]
    },
    {
      "cell_type": "code",
      "execution_count": 36,
      "metadata": {
        "colab": {
          "base_uri": "https://localhost:8080/"
        },
        "id": "Ytz_9pE5ebCZ",
        "outputId": "8dfd5bd1-0f9a-40d3-eca8-3d86e7a0e362"
      },
      "outputs": [
        {
          "data": {
            "text/plain": [
              "{'VITA': 81.60095477000002, 'CIECH': 0, 'PIANPOL': 1.1664}"
            ]
          },
          "execution_count": 36,
          "metadata": {},
          "output_type": "execute_result"
        }
      ],
      "source": [
        "sto+hor"
      ]
    },
    {
      "cell_type": "code",
      "execution_count": 37,
      "metadata": {
        "colab": {
          "base_uri": "https://localhost:8080/"
        },
        "id": "ckBCZT0LbgI4",
        "outputId": "963f5818-cc71-4f15-88ed-62c906edfd28"
      },
      "outputs": [
        {
          "data": {
            "text/plain": [
              "8.64"
            ]
          },
          "execution_count": 37,
          "metadata": {},
          "output_type": "execute_result"
        }
      ],
      "source": [
        "1.2*1.2*2*3\n"
      ]
    },
    {
      "cell_type": "code",
      "execution_count": 38,
      "metadata": {
        "colab": {
          "base_uri": "https://localhost:8080/"
        },
        "id": "Q9LvaJJMs864",
        "outputId": "b09960bf-90b6-40fb-b037-5087d6e95d67"
      },
      "outputs": [
        {
          "data": {
            "text/plain": [
              "{'O1': ['B/16/150 (1.6x50)', 150, 1.6, 50, 'zielona'],\n",
              " 'O2': ['B/16/200 (1.2x40)', 200, 1.2, 40, 'niebieska'],\n",
              " 'O3': ['B/16/200 (1.6x40)', 200, 1.6, 40, 'czerwona']}"
            ]
          },
          "execution_count": 38,
          "metadata": {},
          "output_type": "execute_result"
        }
      ],
      "source": [
        "ozn_owat"
      ]
    },
    {
      "cell_type": "code",
      "execution_count": null,
      "metadata": {
        "id": "nojLTF5Lh_yI"
      },
      "outputs": [],
      "source": []
    },
    {
      "cell_type": "code",
      "execution_count": null,
      "metadata": {
        "colab": {
          "base_uri": "https://localhost:8080/",
          "height": 478
        },
        "id": "l6sG2ga7cYMA",
        "outputId": "094675ca-cd1d-4a46-d4f6-7db1c63242eb"
      },
      "outputs": [
        {
          "name": "stdout",
          "output_type": "stream",
          "text": [
            "O1 zielona: 2 rolek\n",
            "O2 niebieska: 0 rolek\n",
            "O3 czerwona: 41 rolek\n"
          ]
        },
        {
          "data": {
            "application/vnd.google.colaboratory.intrinsic+json": {
              "summary": "{\n  \"name\": \"    on=\\\"KOD\\\")\",\n  \"rows\": 12,\n  \"fields\": [\n    {\n      \"column\": \"KOD\",\n      \"properties\": {\n        \"dtype\": \"string\",\n        \"num_unique_values\": 12,\n        \"samples\": [\n          \"16.125.00004.60\",\n          \"16.125.67300.60\",\n          \"16.125.15000.60\"\n        ],\n        \"semantic_type\": \"\",\n        \"description\": \"\"\n      }\n    },\n    {\n      \"column\": \"OPIS\",\n      \"properties\": {\n        \"dtype\": \"string\",\n        \"num_unique_values\": 12,\n        \"samples\": [\n          \"STONE ][\",\n          \"STONE Z70\",\n          \"STONE 1,5\"\n        ],\n        \"semantic_type\": \"\",\n        \"description\": \"\"\n      }\n    },\n    {\n      \"column\": \"DO_ZAMOWIENIA\",\n      \"properties\": {\n        \"dtype\": \"number\",\n        \"std\": 83.2802861462787,\n        \"min\": 10.0,\n        \"max\": 250.0,\n        \"num_unique_values\": 8,\n        \"samples\": [\n          25.0,\n          20.0,\n          150.0\n        ],\n        \"semantic_type\": \"\",\n        \"description\": \"\"\n      }\n    },\n    {\n      \"column\": \"ZIELONA\",\n      \"properties\": {\n        \"dtype\": \"number\",\n        \"std\": 27.05463361422586,\n        \"min\": 0.0,\n        \"max\": 93.72,\n        \"num_unique_values\": 2,\n        \"samples\": [\n          93.72,\n          0.0\n        ],\n        \"semantic_type\": \"\",\n        \"description\": \"\"\n      }\n    },\n    {\n      \"column\": \"NIEBIESKA\",\n      \"properties\": {\n        \"dtype\": \"number\",\n        \"std\": 0.0,\n        \"min\": 0.0,\n        \"max\": 0.0,\n        \"num_unique_values\": 1,\n        \"samples\": [\n          0.0\n        ],\n        \"semantic_type\": \"\",\n        \"description\": \"\"\n      }\n    },\n    {\n      \"column\": \"CZERWONA\",\n      \"properties\": {\n        \"dtype\": \"number\",\n        \"std\": 169.42642563096032,\n        \"min\": 0.0,\n        \"max\": 522.5,\n        \"num_unique_values\": 12,\n        \"samples\": [\n          522.5\n        ],\n        \"semantic_type\": \"\",\n        \"description\": \"\"\n      }\n    },\n    {\n      \"column\": \"\\u017b\\u00d3\\u0141TA\",\n      \"properties\": {\n        \"dtype\": \"number\",\n        \"std\": 0.0,\n        \"min\": 0.0,\n        \"max\": 0.0,\n        \"num_unique_values\": 1,\n        \"samples\": [\n          0.0\n        ],\n        \"semantic_type\": \"\",\n        \"description\": \"\"\n      }\n    },\n    {\n      \"column\": \"W3\",\n      \"properties\": {\n        \"dtype\": \"number\",\n        \"std\": 25.443974401286706,\n        \"min\": 0.0,\n        \"max\": 68.75,\n        \"num_unique_values\": 5,\n        \"samples\": [\n          41.25\n        ],\n        \"semantic_type\": \"\",\n        \"description\": \"\"\n      }\n    }\n  ]\n}",
              "type": "dataframe"
            },
            "text/html": [
              "\n",
              "  <div id=\"df-2fbf4f44-f6cd-4144-ad02-e52f87d15a21\" class=\"colab-df-container\">\n",
              "    <div>\n",
              "<style scoped>\n",
              "    .dataframe tbody tr th:only-of-type {\n",
              "        vertical-align: middle;\n",
              "    }\n",
              "\n",
              "    .dataframe tbody tr th {\n",
              "        vertical-align: top;\n",
              "    }\n",
              "\n",
              "    .dataframe thead th {\n",
              "        text-align: right;\n",
              "    }\n",
              "</style>\n",
              "<table border=\"1\" class=\"dataframe\">\n",
              "  <thead>\n",
              "    <tr style=\"text-align: right;\">\n",
              "      <th></th>\n",
              "      <th>KOD</th>\n",
              "      <th>OPIS</th>\n",
              "      <th>DO_ZAMOWIENIA</th>\n",
              "      <th>ZIELONA</th>\n",
              "      <th>NIEBIESKA</th>\n",
              "      <th>CZERWONA</th>\n",
              "      <th>ŻÓŁTA</th>\n",
              "      <th>W3</th>\n",
              "    </tr>\n",
              "  </thead>\n",
              "  <tbody>\n",
              "    <tr>\n",
              "      <th>0</th>\n",
              "      <td>16.125.15000.60</td>\n",
              "      <td>STONE 1,5</td>\n",
              "      <td>150.0</td>\n",
              "      <td>0.00</td>\n",
              "      <td>0.0</td>\n",
              "      <td>422.400</td>\n",
              "      <td>0.0</td>\n",
              "      <td>0.00</td>\n",
              "    </tr>\n",
              "    <tr>\n",
              "      <th>1</th>\n",
              "      <td>16.125.25000.60</td>\n",
              "      <td>STONE 2,5</td>\n",
              "      <td>25.0</td>\n",
              "      <td>0.00</td>\n",
              "      <td>0.0</td>\n",
              "      <td>103.950</td>\n",
              "      <td>0.0</td>\n",
              "      <td>0.00</td>\n",
              "    </tr>\n",
              "    <tr>\n",
              "      <th>2</th>\n",
              "      <td>16.125.30000.60</td>\n",
              "      <td>STONE 3</td>\n",
              "      <td>45.0</td>\n",
              "      <td>0.00</td>\n",
              "      <td>0.0</td>\n",
              "      <td>206.910</td>\n",
              "      <td>0.0</td>\n",
              "      <td>0.00</td>\n",
              "    </tr>\n",
              "    <tr>\n",
              "      <th>3</th>\n",
              "      <td>16.125.40000.60</td>\n",
              "      <td>STONE 4</td>\n",
              "      <td>10.0</td>\n",
              "      <td>0.00</td>\n",
              "      <td>0.0</td>\n",
              "      <td>54.780</td>\n",
              "      <td>0.0</td>\n",
              "      <td>0.00</td>\n",
              "    </tr>\n",
              "    <tr>\n",
              "      <th>4</th>\n",
              "      <td>16.125.68000.60</td>\n",
              "      <td>STONE ON</td>\n",
              "      <td>15.0</td>\n",
              "      <td>0.00</td>\n",
              "      <td>0.0</td>\n",
              "      <td>79.200</td>\n",
              "      <td>0.0</td>\n",
              "      <td>41.25</td>\n",
              "    </tr>\n",
              "    <tr>\n",
              "      <th>5</th>\n",
              "      <td>16.125.65001.60</td>\n",
              "      <td>STONE [LH</td>\n",
              "      <td>25.0</td>\n",
              "      <td>0.00</td>\n",
              "      <td>0.0</td>\n",
              "      <td>135.575</td>\n",
              "      <td>0.0</td>\n",
              "      <td>68.75</td>\n",
              "    </tr>\n",
              "    <tr>\n",
              "      <th>6</th>\n",
              "      <td>16.125.60100.60</td>\n",
              "      <td>STONE E30</td>\n",
              "      <td>10.0</td>\n",
              "      <td>0.00</td>\n",
              "      <td>0.0</td>\n",
              "      <td>12.320</td>\n",
              "      <td>0.0</td>\n",
              "      <td>0.00</td>\n",
              "    </tr>\n",
              "    <tr>\n",
              "      <th>7</th>\n",
              "      <td>16.125.71600.60</td>\n",
              "      <td>STONE P106x106</td>\n",
              "      <td>10.0</td>\n",
              "      <td>0.00</td>\n",
              "      <td>0.0</td>\n",
              "      <td>18.260</td>\n",
              "      <td>0.0</td>\n",
              "      <td>27.50</td>\n",
              "    </tr>\n",
              "    <tr>\n",
              "      <th>8</th>\n",
              "      <td>16.125.71900.60</td>\n",
              "      <td>STONE P106x82</td>\n",
              "      <td>20.0</td>\n",
              "      <td>0.00</td>\n",
              "      <td>0.0</td>\n",
              "      <td>31.680</td>\n",
              "      <td>0.0</td>\n",
              "      <td>0.00</td>\n",
              "    </tr>\n",
              "    <tr>\n",
              "      <th>9</th>\n",
              "      <td>16.125.67300.60</td>\n",
              "      <td>STONE Z70</td>\n",
              "      <td>190.0</td>\n",
              "      <td>0.00</td>\n",
              "      <td>0.0</td>\n",
              "      <td>0.000</td>\n",
              "      <td>0.0</td>\n",
              "      <td>0.00</td>\n",
              "    </tr>\n",
              "    <tr>\n",
              "      <th>10</th>\n",
              "      <td>16.125.00004.60</td>\n",
              "      <td>STONE ][</td>\n",
              "      <td>250.0</td>\n",
              "      <td>0.00</td>\n",
              "      <td>0.0</td>\n",
              "      <td>522.500</td>\n",
              "      <td>0.0</td>\n",
              "      <td>0.00</td>\n",
              "    </tr>\n",
              "    <tr>\n",
              "      <th>11</th>\n",
              "      <td>16.105.68000.60</td>\n",
              "      <td>HORIZON Onz</td>\n",
              "      <td>20.0</td>\n",
              "      <td>93.72</td>\n",
              "      <td>0.0</td>\n",
              "      <td>36.300</td>\n",
              "      <td>0.0</td>\n",
              "      <td>55.00</td>\n",
              "    </tr>\n",
              "  </tbody>\n",
              "</table>\n",
              "</div>\n",
              "    <div class=\"colab-df-buttons\">\n",
              "\n",
              "  <div class=\"colab-df-container\">\n",
              "    <button class=\"colab-df-convert\" onclick=\"convertToInteractive('df-2fbf4f44-f6cd-4144-ad02-e52f87d15a21')\"\n",
              "            title=\"Convert this dataframe to an interactive table.\"\n",
              "            style=\"display:none;\">\n",
              "\n",
              "  <svg xmlns=\"http://www.w3.org/2000/svg\" height=\"24px\" viewBox=\"0 -960 960 960\">\n",
              "    <path d=\"M120-120v-720h720v720H120Zm60-500h600v-160H180v160Zm220 220h160v-160H400v160Zm0 220h160v-160H400v160ZM180-400h160v-160H180v160Zm440 0h160v-160H620v160ZM180-180h160v-160H180v160Zm440 0h160v-160H620v160Z\"/>\n",
              "  </svg>\n",
              "    </button>\n",
              "\n",
              "  <style>\n",
              "    .colab-df-container {\n",
              "      display:flex;\n",
              "      gap: 12px;\n",
              "    }\n",
              "\n",
              "    .colab-df-convert {\n",
              "      background-color: #E8F0FE;\n",
              "      border: none;\n",
              "      border-radius: 50%;\n",
              "      cursor: pointer;\n",
              "      display: none;\n",
              "      fill: #1967D2;\n",
              "      height: 32px;\n",
              "      padding: 0 0 0 0;\n",
              "      width: 32px;\n",
              "    }\n",
              "\n",
              "    .colab-df-convert:hover {\n",
              "      background-color: #E2EBFA;\n",
              "      box-shadow: 0px 1px 2px rgba(60, 64, 67, 0.3), 0px 1px 3px 1px rgba(60, 64, 67, 0.15);\n",
              "      fill: #174EA6;\n",
              "    }\n",
              "\n",
              "    .colab-df-buttons div {\n",
              "      margin-bottom: 4px;\n",
              "    }\n",
              "\n",
              "    [theme=dark] .colab-df-convert {\n",
              "      background-color: #3B4455;\n",
              "      fill: #D2E3FC;\n",
              "    }\n",
              "\n",
              "    [theme=dark] .colab-df-convert:hover {\n",
              "      background-color: #434B5C;\n",
              "      box-shadow: 0px 1px 3px 1px rgba(0, 0, 0, 0.15);\n",
              "      filter: drop-shadow(0px 1px 2px rgba(0, 0, 0, 0.3));\n",
              "      fill: #FFFFFF;\n",
              "    }\n",
              "  </style>\n",
              "\n",
              "    <script>\n",
              "      const buttonEl =\n",
              "        document.querySelector('#df-2fbf4f44-f6cd-4144-ad02-e52f87d15a21 button.colab-df-convert');\n",
              "      buttonEl.style.display =\n",
              "        google.colab.kernel.accessAllowed ? 'block' : 'none';\n",
              "\n",
              "      async function convertToInteractive(key) {\n",
              "        const element = document.querySelector('#df-2fbf4f44-f6cd-4144-ad02-e52f87d15a21');\n",
              "        const dataTable =\n",
              "          await google.colab.kernel.invokeFunction('convertToInteractive',\n",
              "                                                    [key], {});\n",
              "        if (!dataTable) return;\n",
              "\n",
              "        const docLinkHtml = 'Like what you see? Visit the ' +\n",
              "          '<a target=\"_blank\" href=https://colab.research.google.com/notebooks/data_table.ipynb>data table notebook</a>'\n",
              "          + ' to learn more about interactive tables.';\n",
              "        element.innerHTML = '';\n",
              "        dataTable['output_type'] = 'display_data';\n",
              "        await google.colab.output.renderOutput(dataTable, element);\n",
              "        const docLink = document.createElement('div');\n",
              "        docLink.innerHTML = docLinkHtml;\n",
              "        element.appendChild(docLink);\n",
              "      }\n",
              "    </script>\n",
              "  </div>\n",
              "\n",
              "\n",
              "<div id=\"df-0736978a-1b57-4652-a47c-e918cf811062\">\n",
              "  <button class=\"colab-df-quickchart\" onclick=\"quickchart('df-0736978a-1b57-4652-a47c-e918cf811062')\"\n",
              "            title=\"Suggest charts\"\n",
              "            style=\"display:none;\">\n",
              "\n",
              "<svg xmlns=\"http://www.w3.org/2000/svg\" height=\"24px\"viewBox=\"0 0 24 24\"\n",
              "     width=\"24px\">\n",
              "    <g>\n",
              "        <path d=\"M19 3H5c-1.1 0-2 .9-2 2v14c0 1.1.9 2 2 2h14c1.1 0 2-.9 2-2V5c0-1.1-.9-2-2-2zM9 17H7v-7h2v7zm4 0h-2V7h2v10zm4 0h-2v-4h2v4z\"/>\n",
              "    </g>\n",
              "</svg>\n",
              "  </button>\n",
              "\n",
              "<style>\n",
              "  .colab-df-quickchart {\n",
              "      --bg-color: #E8F0FE;\n",
              "      --fill-color: #1967D2;\n",
              "      --hover-bg-color: #E2EBFA;\n",
              "      --hover-fill-color: #174EA6;\n",
              "      --disabled-fill-color: #AAA;\n",
              "      --disabled-bg-color: #DDD;\n",
              "  }\n",
              "\n",
              "  [theme=dark] .colab-df-quickchart {\n",
              "      --bg-color: #3B4455;\n",
              "      --fill-color: #D2E3FC;\n",
              "      --hover-bg-color: #434B5C;\n",
              "      --hover-fill-color: #FFFFFF;\n",
              "      --disabled-bg-color: #3B4455;\n",
              "      --disabled-fill-color: #666;\n",
              "  }\n",
              "\n",
              "  .colab-df-quickchart {\n",
              "    background-color: var(--bg-color);\n",
              "    border: none;\n",
              "    border-radius: 50%;\n",
              "    cursor: pointer;\n",
              "    display: none;\n",
              "    fill: var(--fill-color);\n",
              "    height: 32px;\n",
              "    padding: 0;\n",
              "    width: 32px;\n",
              "  }\n",
              "\n",
              "  .colab-df-quickchart:hover {\n",
              "    background-color: var(--hover-bg-color);\n",
              "    box-shadow: 0 1px 2px rgba(60, 64, 67, 0.3), 0 1px 3px 1px rgba(60, 64, 67, 0.15);\n",
              "    fill: var(--button-hover-fill-color);\n",
              "  }\n",
              "\n",
              "  .colab-df-quickchart-complete:disabled,\n",
              "  .colab-df-quickchart-complete:disabled:hover {\n",
              "    background-color: var(--disabled-bg-color);\n",
              "    fill: var(--disabled-fill-color);\n",
              "    box-shadow: none;\n",
              "  }\n",
              "\n",
              "  .colab-df-spinner {\n",
              "    border: 2px solid var(--fill-color);\n",
              "    border-color: transparent;\n",
              "    border-bottom-color: var(--fill-color);\n",
              "    animation:\n",
              "      spin 1s steps(1) infinite;\n",
              "  }\n",
              "\n",
              "  @keyframes spin {\n",
              "    0% {\n",
              "      border-color: transparent;\n",
              "      border-bottom-color: var(--fill-color);\n",
              "      border-left-color: var(--fill-color);\n",
              "    }\n",
              "    20% {\n",
              "      border-color: transparent;\n",
              "      border-left-color: var(--fill-color);\n",
              "      border-top-color: var(--fill-color);\n",
              "    }\n",
              "    30% {\n",
              "      border-color: transparent;\n",
              "      border-left-color: var(--fill-color);\n",
              "      border-top-color: var(--fill-color);\n",
              "      border-right-color: var(--fill-color);\n",
              "    }\n",
              "    40% {\n",
              "      border-color: transparent;\n",
              "      border-right-color: var(--fill-color);\n",
              "      border-top-color: var(--fill-color);\n",
              "    }\n",
              "    60% {\n",
              "      border-color: transparent;\n",
              "      border-right-color: var(--fill-color);\n",
              "    }\n",
              "    80% {\n",
              "      border-color: transparent;\n",
              "      border-right-color: var(--fill-color);\n",
              "      border-bottom-color: var(--fill-color);\n",
              "    }\n",
              "    90% {\n",
              "      border-color: transparent;\n",
              "      border-bottom-color: var(--fill-color);\n",
              "    }\n",
              "  }\n",
              "</style>\n",
              "\n",
              "  <script>\n",
              "    async function quickchart(key) {\n",
              "      const quickchartButtonEl =\n",
              "        document.querySelector('#' + key + ' button');\n",
              "      quickchartButtonEl.disabled = true;  // To prevent multiple clicks.\n",
              "      quickchartButtonEl.classList.add('colab-df-spinner');\n",
              "      try {\n",
              "        const charts = await google.colab.kernel.invokeFunction(\n",
              "            'suggestCharts', [key], {});\n",
              "      } catch (error) {\n",
              "        console.error('Error during call to suggestCharts:', error);\n",
              "      }\n",
              "      quickchartButtonEl.classList.remove('colab-df-spinner');\n",
              "      quickchartButtonEl.classList.add('colab-df-quickchart-complete');\n",
              "    }\n",
              "    (() => {\n",
              "      let quickchartButtonEl =\n",
              "        document.querySelector('#df-0736978a-1b57-4652-a47c-e918cf811062 button');\n",
              "      quickchartButtonEl.style.display =\n",
              "        google.colab.kernel.accessAllowed ? 'block' : 'none';\n",
              "    })();\n",
              "  </script>\n",
              "</div>\n",
              "    </div>\n",
              "  </div>\n"
            ],
            "text/plain": [
              "                KOD            OPIS  DO_ZAMOWIENIA  ZIELONA  NIEBIESKA  \\\n",
              "0   16.125.15000.60       STONE 1,5          150.0     0.00        0.0   \n",
              "1   16.125.25000.60       STONE 2,5           25.0     0.00        0.0   \n",
              "2   16.125.30000.60         STONE 3           45.0     0.00        0.0   \n",
              "3   16.125.40000.60         STONE 4           10.0     0.00        0.0   \n",
              "4   16.125.68000.60        STONE ON           15.0     0.00        0.0   \n",
              "5   16.125.65001.60       STONE [LH           25.0     0.00        0.0   \n",
              "6   16.125.60100.60       STONE E30           10.0     0.00        0.0   \n",
              "7   16.125.71600.60  STONE P106x106           10.0     0.00        0.0   \n",
              "8   16.125.71900.60   STONE P106x82           20.0     0.00        0.0   \n",
              "9   16.125.67300.60       STONE Z70          190.0     0.00        0.0   \n",
              "10  16.125.00004.60        STONE ][          250.0     0.00        0.0   \n",
              "11  16.105.68000.60     HORIZON Onz           20.0    93.72        0.0   \n",
              "\n",
              "    CZERWONA  ŻÓŁTA     W3  \n",
              "0    422.400    0.0   0.00  \n",
              "1    103.950    0.0   0.00  \n",
              "2    206.910    0.0   0.00  \n",
              "3     54.780    0.0   0.00  \n",
              "4     79.200    0.0  41.25  \n",
              "5    135.575    0.0  68.75  \n",
              "6     12.320    0.0   0.00  \n",
              "7     18.260    0.0  27.50  \n",
              "8     31.680    0.0   0.00  \n",
              "9      0.000    0.0   0.00  \n",
              "10   522.500    0.0   0.00  \n",
              "11    36.300    0.0  55.00  "
            ]
          },
          "execution_count": 39,
          "metadata": {},
          "output_type": "execute_result"
        }
      ],
      "source": [
        "zapotrzebowanie_na_owaty(oblicz_owaty_do_zamowienia(zsto, zhor),[])\n",
        "\n",
        "pd.concat([zsto, zhor]).merge(\n",
        "    oblicz_owaty_do_zamowienia(zsto, zhor)[[\"KOD\", \"O1\", \"O2\", \"O3\", \"L1\",\"W3\"]].fillna(0),\n",
        "    how=\"left\",\n",
        "    on=\"KOD\").rename(columns={\"O1\":\"ZIELONA\", \"O2\":\"NIEBIESKA\", \"O3\":\"CZERWONA\", \"L1\":\"ŻÓŁTA\"})#.to_excel(\"PIANPOL_2408.xlsx\")"
      ]
    },
    {
      "cell_type": "code",
      "execution_count": null,
      "metadata": {
        "colab": {
          "base_uri": "https://localhost:8080/"
        },
        "id": "ET6InCWDg4Oa",
        "outputId": "3a64c79e-eba5-4167-9305-c22f1cc893e1"
      },
      "outputs": [
        {
          "data": {
            "text/plain": [
              "{'O1': ['B/16/150 (1.6x50)', 150, 1.6, 50, 'zielona'],\n",
              " 'O2': ['B/16/200 (1.2x40)', 200, 1.2, 40, 'niebieska'],\n",
              " 'O3': ['B/16/200 (1.6x40)', 200, 1.6, 40, 'czerwona']}"
            ]
          },
          "execution_count": 99,
          "metadata": {},
          "output_type": "execute_result"
        }
      ],
      "source": [
        "ozn_owat"
      ]
    },
    {
      "cell_type": "markdown",
      "metadata": {
        "id": "-x8gK1BRuqLR"
      },
      "source": [
        "##DODANIE ZAMÓWIENIA DO BAZY"
      ]
    },
    {
      "cell_type": "code",
      "execution_count": null,
      "metadata": {
        "colab": {
          "base_uri": "https://localhost:8080/",
          "height": 426
        },
        "id": "TvWq4N5Ldi99",
        "outputId": "b3ea823e-2741-454f-f844-d74ccfb86d47"
      },
      "outputs": [
        {
          "data": {
            "application/vnd.google.colaboratory.intrinsic+json": {
              "repr_error": "'int' object has no attribute 'empty'",
              "type": "dataframe"
            },
            "text/html": [
              "\n",
              "  <div id=\"df-6464bd4b-5cf3-4351-b9ed-c12a9bcdde4b\" class=\"colab-df-container\">\n",
              "    <div>\n",
              "<style scoped>\n",
              "    .dataframe tbody tr th:only-of-type {\n",
              "        vertical-align: middle;\n",
              "    }\n",
              "\n",
              "    .dataframe tbody tr th {\n",
              "        vertical-align: top;\n",
              "    }\n",
              "\n",
              "    .dataframe thead th {\n",
              "        text-align: right;\n",
              "    }\n",
              "</style>\n",
              "<table border=\"1\" class=\"dataframe\">\n",
              "  <thead>\n",
              "    <tr style=\"text-align: right;\">\n",
              "      <th></th>\n",
              "      <th>0</th>\n",
              "      <th>1</th>\n",
              "      <th>2</th>\n",
              "      <th>3</th>\n",
              "      <th>4</th>\n",
              "      <th>5</th>\n",
              "      <th>6</th>\n",
              "      <th>7</th>\n",
              "      <th>8</th>\n",
              "      <th>9</th>\n",
              "      <th>10</th>\n",
              "      <th>11</th>\n",
              "      <th>12</th>\n",
              "    </tr>\n",
              "  </thead>\n",
              "  <tbody>\n",
              "    <tr>\n",
              "      <th>0</th>\n",
              "      <td>2408</td>\n",
              "      <td>STONE</td>\n",
              "      <td>16.125.15000.60</td>\n",
              "      <td>STONE 1,5</td>\n",
              "      <td>150.0</td>\n",
              "      <td>V</td>\n",
              "      <td>V</td>\n",
              "      <td>V</td>\n",
              "      <td>O</td>\n",
              "      <td>2_24</td>\n",
              "      <td>24/0242</td>\n",
              "      <td>None</td>\n",
              "      <td>nr_partii: 08/01,</td>\n",
              "    </tr>\n",
              "    <tr>\n",
              "      <th>1</th>\n",
              "      <td>2408</td>\n",
              "      <td>STONE</td>\n",
              "      <td>16.125.25000.60</td>\n",
              "      <td>STONE 2,5</td>\n",
              "      <td>25.0</td>\n",
              "      <td>V</td>\n",
              "      <td>V</td>\n",
              "      <td>V</td>\n",
              "      <td>O</td>\n",
              "      <td>2_24</td>\n",
              "      <td>24/0242</td>\n",
              "      <td>None</td>\n",
              "      <td>nr_partii: 08/01,</td>\n",
              "    </tr>\n",
              "    <tr>\n",
              "      <th>2</th>\n",
              "      <td>2408</td>\n",
              "      <td>STONE</td>\n",
              "      <td>16.125.30000.60</td>\n",
              "      <td>STONE 3</td>\n",
              "      <td>45.0</td>\n",
              "      <td>V</td>\n",
              "      <td>V</td>\n",
              "      <td>V</td>\n",
              "      <td>O</td>\n",
              "      <td>2_24</td>\n",
              "      <td>24/0242</td>\n",
              "      <td>None</td>\n",
              "      <td>nr_partii: 08/01,</td>\n",
              "    </tr>\n",
              "    <tr>\n",
              "      <th>3</th>\n",
              "      <td>2408</td>\n",
              "      <td>STONE</td>\n",
              "      <td>16.125.40000.60</td>\n",
              "      <td>STONE 4</td>\n",
              "      <td>10.0</td>\n",
              "      <td>V</td>\n",
              "      <td>V</td>\n",
              "      <td>V</td>\n",
              "      <td>O</td>\n",
              "      <td>2_24</td>\n",
              "      <td>24/0242</td>\n",
              "      <td>None</td>\n",
              "      <td>nr_partii: 08/01,</td>\n",
              "    </tr>\n",
              "    <tr>\n",
              "      <th>4</th>\n",
              "      <td>2408</td>\n",
              "      <td>STONE</td>\n",
              "      <td>16.125.68000.60</td>\n",
              "      <td>STONE ON</td>\n",
              "      <td>15.0</td>\n",
              "      <td>V</td>\n",
              "      <td>V</td>\n",
              "      <td>V</td>\n",
              "      <td>O</td>\n",
              "      <td>2_24</td>\n",
              "      <td>24/0242</td>\n",
              "      <td>None</td>\n",
              "      <td>nr_partii: 08/01,</td>\n",
              "    </tr>\n",
              "    <tr>\n",
              "      <th>5</th>\n",
              "      <td>2408</td>\n",
              "      <td>STONE</td>\n",
              "      <td>16.125.65001.60</td>\n",
              "      <td>STONE [LH</td>\n",
              "      <td>25.0</td>\n",
              "      <td>V</td>\n",
              "      <td>V</td>\n",
              "      <td>V</td>\n",
              "      <td>O</td>\n",
              "      <td>2_24</td>\n",
              "      <td>24/0242</td>\n",
              "      <td>None</td>\n",
              "      <td>nr_partii: 08/01,</td>\n",
              "    </tr>\n",
              "    <tr>\n",
              "      <th>6</th>\n",
              "      <td>2408</td>\n",
              "      <td>STONE</td>\n",
              "      <td>16.125.60100.60</td>\n",
              "      <td>STONE E30</td>\n",
              "      <td>10.0</td>\n",
              "      <td>V</td>\n",
              "      <td>V</td>\n",
              "      <td>V</td>\n",
              "      <td>O</td>\n",
              "      <td>2_24</td>\n",
              "      <td>24/0242</td>\n",
              "      <td>None</td>\n",
              "      <td>nr_partii: 08/01,</td>\n",
              "    </tr>\n",
              "    <tr>\n",
              "      <th>7</th>\n",
              "      <td>2408</td>\n",
              "      <td>STONE</td>\n",
              "      <td>16.125.71600.60</td>\n",
              "      <td>STONE P106x106</td>\n",
              "      <td>10.0</td>\n",
              "      <td>V</td>\n",
              "      <td>V</td>\n",
              "      <td>V</td>\n",
              "      <td>O</td>\n",
              "      <td>2_24</td>\n",
              "      <td>24/0242</td>\n",
              "      <td>None</td>\n",
              "      <td>nr_partii: 08/01,</td>\n",
              "    </tr>\n",
              "    <tr>\n",
              "      <th>8</th>\n",
              "      <td>2408</td>\n",
              "      <td>STONE</td>\n",
              "      <td>16.125.71900.60</td>\n",
              "      <td>STONE P106x82</td>\n",
              "      <td>20.0</td>\n",
              "      <td>V</td>\n",
              "      <td>V</td>\n",
              "      <td>V</td>\n",
              "      <td>O</td>\n",
              "      <td>2_24</td>\n",
              "      <td>24/0242</td>\n",
              "      <td>None</td>\n",
              "      <td>nr_partii: 08/01,</td>\n",
              "    </tr>\n",
              "    <tr>\n",
              "      <th>9</th>\n",
              "      <td>2408</td>\n",
              "      <td>STONE</td>\n",
              "      <td>16.125.67300.60</td>\n",
              "      <td>STONE Z70</td>\n",
              "      <td>190.0</td>\n",
              "      <td>V</td>\n",
              "      <td>V</td>\n",
              "      <td>V</td>\n",
              "      <td>O</td>\n",
              "      <td>2_24</td>\n",
              "      <td>24/0242</td>\n",
              "      <td>None</td>\n",
              "      <td>nr_partii: 08/01,</td>\n",
              "    </tr>\n",
              "    <tr>\n",
              "      <th>10</th>\n",
              "      <td>2408</td>\n",
              "      <td>STONE</td>\n",
              "      <td>16.125.00004.60</td>\n",
              "      <td>STONE ][</td>\n",
              "      <td>250.0</td>\n",
              "      <td>V</td>\n",
              "      <td>V</td>\n",
              "      <td>V</td>\n",
              "      <td>O</td>\n",
              "      <td>2_24</td>\n",
              "      <td>24/0242</td>\n",
              "      <td>None</td>\n",
              "      <td>nr_partii: 08/01,</td>\n",
              "    </tr>\n",
              "    <tr>\n",
              "      <th>11</th>\n",
              "      <td>2408</td>\n",
              "      <td>HORIZON</td>\n",
              "      <td>16.105.68000.60</td>\n",
              "      <td>HORIZON Onz</td>\n",
              "      <td>20.0</td>\n",
              "      <td>V</td>\n",
              "      <td>V</td>\n",
              "      <td>V</td>\n",
              "      <td>P</td>\n",
              "      <td>3_24</td>\n",
              "      <td>24/0242</td>\n",
              "      <td>None</td>\n",
              "      <td>nr_partii: 08/01, leniwa docinamy sami</td>\n",
              "    </tr>\n",
              "  </tbody>\n",
              "</table>\n",
              "</div>\n",
              "    <div class=\"colab-df-buttons\">\n",
              "\n",
              "  <div class=\"colab-df-container\">\n",
              "    <button class=\"colab-df-convert\" onclick=\"convertToInteractive('df-6464bd4b-5cf3-4351-b9ed-c12a9bcdde4b')\"\n",
              "            title=\"Convert this dataframe to an interactive table.\"\n",
              "            style=\"display:none;\">\n",
              "\n",
              "  <svg xmlns=\"http://www.w3.org/2000/svg\" height=\"24px\" viewBox=\"0 -960 960 960\">\n",
              "    <path d=\"M120-120v-720h720v720H120Zm60-500h600v-160H180v160Zm220 220h160v-160H400v160Zm0 220h160v-160H400v160ZM180-400h160v-160H180v160Zm440 0h160v-160H620v160ZM180-180h160v-160H180v160Zm440 0h160v-160H620v160Z\"/>\n",
              "  </svg>\n",
              "    </button>\n",
              "\n",
              "  <style>\n",
              "    .colab-df-container {\n",
              "      display:flex;\n",
              "      gap: 12px;\n",
              "    }\n",
              "\n",
              "    .colab-df-convert {\n",
              "      background-color: #E8F0FE;\n",
              "      border: none;\n",
              "      border-radius: 50%;\n",
              "      cursor: pointer;\n",
              "      display: none;\n",
              "      fill: #1967D2;\n",
              "      height: 32px;\n",
              "      padding: 0 0 0 0;\n",
              "      width: 32px;\n",
              "    }\n",
              "\n",
              "    .colab-df-convert:hover {\n",
              "      background-color: #E2EBFA;\n",
              "      box-shadow: 0px 1px 2px rgba(60, 64, 67, 0.3), 0px 1px 3px 1px rgba(60, 64, 67, 0.15);\n",
              "      fill: #174EA6;\n",
              "    }\n",
              "\n",
              "    .colab-df-buttons div {\n",
              "      margin-bottom: 4px;\n",
              "    }\n",
              "\n",
              "    [theme=dark] .colab-df-convert {\n",
              "      background-color: #3B4455;\n",
              "      fill: #D2E3FC;\n",
              "    }\n",
              "\n",
              "    [theme=dark] .colab-df-convert:hover {\n",
              "      background-color: #434B5C;\n",
              "      box-shadow: 0px 1px 3px 1px rgba(0, 0, 0, 0.15);\n",
              "      filter: drop-shadow(0px 1px 2px rgba(0, 0, 0, 0.3));\n",
              "      fill: #FFFFFF;\n",
              "    }\n",
              "  </style>\n",
              "\n",
              "    <script>\n",
              "      const buttonEl =\n",
              "        document.querySelector('#df-6464bd4b-5cf3-4351-b9ed-c12a9bcdde4b button.colab-df-convert');\n",
              "      buttonEl.style.display =\n",
              "        google.colab.kernel.accessAllowed ? 'block' : 'none';\n",
              "\n",
              "      async function convertToInteractive(key) {\n",
              "        const element = document.querySelector('#df-6464bd4b-5cf3-4351-b9ed-c12a9bcdde4b');\n",
              "        const dataTable =\n",
              "          await google.colab.kernel.invokeFunction('convertToInteractive',\n",
              "                                                    [key], {});\n",
              "        if (!dataTable) return;\n",
              "\n",
              "        const docLinkHtml = 'Like what you see? Visit the ' +\n",
              "          '<a target=\"_blank\" href=https://colab.research.google.com/notebooks/data_table.ipynb>data table notebook</a>'\n",
              "          + ' to learn more about interactive tables.';\n",
              "        element.innerHTML = '';\n",
              "        dataTable['output_type'] = 'display_data';\n",
              "        await google.colab.output.renderOutput(dataTable, element);\n",
              "        const docLink = document.createElement('div');\n",
              "        docLink.innerHTML = docLinkHtml;\n",
              "        element.appendChild(docLink);\n",
              "      }\n",
              "    </script>\n",
              "  </div>\n",
              "\n",
              "\n",
              "<div id=\"df-a65c56bb-53b5-4659-aadf-44032397519a\">\n",
              "  <button class=\"colab-df-quickchart\" onclick=\"quickchart('df-a65c56bb-53b5-4659-aadf-44032397519a')\"\n",
              "            title=\"Suggest charts\"\n",
              "            style=\"display:none;\">\n",
              "\n",
              "<svg xmlns=\"http://www.w3.org/2000/svg\" height=\"24px\"viewBox=\"0 0 24 24\"\n",
              "     width=\"24px\">\n",
              "    <g>\n",
              "        <path d=\"M19 3H5c-1.1 0-2 .9-2 2v14c0 1.1.9 2 2 2h14c1.1 0 2-.9 2-2V5c0-1.1-.9-2-2-2zM9 17H7v-7h2v7zm4 0h-2V7h2v10zm4 0h-2v-4h2v4z\"/>\n",
              "    </g>\n",
              "</svg>\n",
              "  </button>\n",
              "\n",
              "<style>\n",
              "  .colab-df-quickchart {\n",
              "      --bg-color: #E8F0FE;\n",
              "      --fill-color: #1967D2;\n",
              "      --hover-bg-color: #E2EBFA;\n",
              "      --hover-fill-color: #174EA6;\n",
              "      --disabled-fill-color: #AAA;\n",
              "      --disabled-bg-color: #DDD;\n",
              "  }\n",
              "\n",
              "  [theme=dark] .colab-df-quickchart {\n",
              "      --bg-color: #3B4455;\n",
              "      --fill-color: #D2E3FC;\n",
              "      --hover-bg-color: #434B5C;\n",
              "      --hover-fill-color: #FFFFFF;\n",
              "      --disabled-bg-color: #3B4455;\n",
              "      --disabled-fill-color: #666;\n",
              "  }\n",
              "\n",
              "  .colab-df-quickchart {\n",
              "    background-color: var(--bg-color);\n",
              "    border: none;\n",
              "    border-radius: 50%;\n",
              "    cursor: pointer;\n",
              "    display: none;\n",
              "    fill: var(--fill-color);\n",
              "    height: 32px;\n",
              "    padding: 0;\n",
              "    width: 32px;\n",
              "  }\n",
              "\n",
              "  .colab-df-quickchart:hover {\n",
              "    background-color: var(--hover-bg-color);\n",
              "    box-shadow: 0 1px 2px rgba(60, 64, 67, 0.3), 0 1px 3px 1px rgba(60, 64, 67, 0.15);\n",
              "    fill: var(--button-hover-fill-color);\n",
              "  }\n",
              "\n",
              "  .colab-df-quickchart-complete:disabled,\n",
              "  .colab-df-quickchart-complete:disabled:hover {\n",
              "    background-color: var(--disabled-bg-color);\n",
              "    fill: var(--disabled-fill-color);\n",
              "    box-shadow: none;\n",
              "  }\n",
              "\n",
              "  .colab-df-spinner {\n",
              "    border: 2px solid var(--fill-color);\n",
              "    border-color: transparent;\n",
              "    border-bottom-color: var(--fill-color);\n",
              "    animation:\n",
              "      spin 1s steps(1) infinite;\n",
              "  }\n",
              "\n",
              "  @keyframes spin {\n",
              "    0% {\n",
              "      border-color: transparent;\n",
              "      border-bottom-color: var(--fill-color);\n",
              "      border-left-color: var(--fill-color);\n",
              "    }\n",
              "    20% {\n",
              "      border-color: transparent;\n",
              "      border-left-color: var(--fill-color);\n",
              "      border-top-color: var(--fill-color);\n",
              "    }\n",
              "    30% {\n",
              "      border-color: transparent;\n",
              "      border-left-color: var(--fill-color);\n",
              "      border-top-color: var(--fill-color);\n",
              "      border-right-color: var(--fill-color);\n",
              "    }\n",
              "    40% {\n",
              "      border-color: transparent;\n",
              "      border-right-color: var(--fill-color);\n",
              "      border-top-color: var(--fill-color);\n",
              "    }\n",
              "    60% {\n",
              "      border-color: transparent;\n",
              "      border-right-color: var(--fill-color);\n",
              "    }\n",
              "    80% {\n",
              "      border-color: transparent;\n",
              "      border-right-color: var(--fill-color);\n",
              "      border-bottom-color: var(--fill-color);\n",
              "    }\n",
              "    90% {\n",
              "      border-color: transparent;\n",
              "      border-bottom-color: var(--fill-color);\n",
              "    }\n",
              "  }\n",
              "</style>\n",
              "\n",
              "  <script>\n",
              "    async function quickchart(key) {\n",
              "      const quickchartButtonEl =\n",
              "        document.querySelector('#' + key + ' button');\n",
              "      quickchartButtonEl.disabled = true;  // To prevent multiple clicks.\n",
              "      quickchartButtonEl.classList.add('colab-df-spinner');\n",
              "      try {\n",
              "        const charts = await google.colab.kernel.invokeFunction(\n",
              "            'suggestCharts', [key], {});\n",
              "      } catch (error) {\n",
              "        console.error('Error during call to suggestCharts:', error);\n",
              "      }\n",
              "      quickchartButtonEl.classList.remove('colab-df-spinner');\n",
              "      quickchartButtonEl.classList.add('colab-df-quickchart-complete');\n",
              "    }\n",
              "    (() => {\n",
              "      let quickchartButtonEl =\n",
              "        document.querySelector('#df-a65c56bb-53b5-4659-aadf-44032397519a button');\n",
              "      quickchartButtonEl.style.display =\n",
              "        google.colab.kernel.accessAllowed ? 'block' : 'none';\n",
              "    })();\n",
              "  </script>\n",
              "</div>\n",
              "    </div>\n",
              "  </div>\n"
            ],
            "text/plain": [
              "      0        1                2               3      4  5  6  7  8     9   \\\n",
              "0   2408    STONE  16.125.15000.60       STONE 1,5  150.0  V  V  V  O  2_24   \n",
              "1   2408    STONE  16.125.25000.60       STONE 2,5   25.0  V  V  V  O  2_24   \n",
              "2   2408    STONE  16.125.30000.60         STONE 3   45.0  V  V  V  O  2_24   \n",
              "3   2408    STONE  16.125.40000.60         STONE 4   10.0  V  V  V  O  2_24   \n",
              "4   2408    STONE  16.125.68000.60        STONE ON   15.0  V  V  V  O  2_24   \n",
              "5   2408    STONE  16.125.65001.60       STONE [LH   25.0  V  V  V  O  2_24   \n",
              "6   2408    STONE  16.125.60100.60       STONE E30   10.0  V  V  V  O  2_24   \n",
              "7   2408    STONE  16.125.71600.60  STONE P106x106   10.0  V  V  V  O  2_24   \n",
              "8   2408    STONE  16.125.71900.60   STONE P106x82   20.0  V  V  V  O  2_24   \n",
              "9   2408    STONE  16.125.67300.60       STONE Z70  190.0  V  V  V  O  2_24   \n",
              "10  2408    STONE  16.125.00004.60        STONE ][  250.0  V  V  V  O  2_24   \n",
              "11  2408  HORIZON  16.105.68000.60     HORIZON Onz   20.0  V  V  V  P  3_24   \n",
              "\n",
              "         10    11                                      12  \n",
              "0   24/0242  None                       nr_partii: 08/01,  \n",
              "1   24/0242  None                       nr_partii: 08/01,  \n",
              "2   24/0242  None                       nr_partii: 08/01,  \n",
              "3   24/0242  None                       nr_partii: 08/01,  \n",
              "4   24/0242  None                       nr_partii: 08/01,  \n",
              "5   24/0242  None                       nr_partii: 08/01,  \n",
              "6   24/0242  None                       nr_partii: 08/01,  \n",
              "7   24/0242  None                       nr_partii: 08/01,  \n",
              "8   24/0242  None                       nr_partii: 08/01,  \n",
              "9   24/0242  None                       nr_partii: 08/01,  \n",
              "10  24/0242  None                       nr_partii: 08/01,  \n",
              "11  24/0242  None  nr_partii: 08/01, leniwa docinamy sami  "
            ]
          },
          "execution_count": 100,
          "metadata": {},
          "output_type": "execute_result"
        }
      ],
      "source": [
        "pozycje = list()\n",
        "\n",
        "\n",
        "def Dodaj_pozycje_do_ZAM_PIANKI(tydzien, zancznik_dostawcy, nr_kompletacji, modele:pd.DataFrame, klasa, zam1=None, zam2=None, nr_partii=None, DODAJ_DO_BAZY = False):\n",
        "\n",
        "  model = klasa.MODEL\n",
        "  galanteria = klasa.galanteria\n",
        "  siedziska_HR = klasa.siedziska_HR\n",
        "  leniwa = klasa.leniwa\n",
        "\n",
        "  for r in modele.iterrows():\n",
        "    # tydzien, model, kod, opis, ile_zam, znacznik_dostawcy, galanteria, siedziska_HR, leniwa, nr_kompletacji=None, zam1=None, zam2=None, nr_partii=None\n",
        "    pozycje.append([tydzien, model, r[1].KOD, r[1].OPIS, r[1].DO_ZAMOWIENIA, zancznik_dostawcy, galanteria, siedziska_HR, leniwa, nr_kompletacji, zam1, zam2, \"nr_partii: \" + nr_partii])\n",
        "\n",
        "  if DODAJ_DO_BAZY:\n",
        "\n",
        "    for r in modele.iterrows():\n",
        "      session.add(ZAM_PIANKI(tydzien, model, r[1].KOD, r[1].OPIS, r[1].DO_ZAMOWIENIA, zancznik_dostawcy, galanteria, siedziska_HR, leniwa, nr_kompletacji, zam1, zam2, \"nr_partii: \" + nr_partii))\n",
        "\n",
        "    session.commit()\n",
        "\n",
        "\n",
        "#dos 24/0242 sto 2_24, hor 3_24, nr_sam VITA 7_24,  nr partii 08/01\n",
        "Dodaj_pozycje_do_ZAM_PIANKI(2408, \"V\", \"2_24\", zsto, sto, \"24/0242\", nr_partii=\"08/01,\")#, DODAJ_DO_BAZY=True)\n",
        "Dodaj_pozycje_do_ZAM_PIANKI(2408, \"V\", \"3_24\", zhor, hor, \"24/0242\", nr_partii=\"08/01, leniwa docinamy sami\")#, DODAJ_DO_BAZY=True)\n",
        "# Dodaj_pozycje_do_ZAM_PIANKI(2407, \"P\", \"2_24\", zoxy, oxy, \"24/0216\", nr_partii=\"07/01,\")#, DODAJ_DO_BAZY=True)\n",
        "\n",
        "pd.DataFrame(pozycje)"
      ]
    },
    {
      "cell_type": "code",
      "execution_count": null,
      "metadata": {
        "colab": {
          "base_uri": "https://localhost:8080/",
          "height": 990
        },
        "id": "ZbkvPj3sg-Pz",
        "outputId": "409af77a-6503-48df-f6ba-827d732a40d8"
      },
      "outputs": [
        {
          "data": {
            "application/vnd.google.colaboratory.intrinsic+json": {
              "repr_error": "'str' object has no attribute 'empty'",
              "type": "dataframe"
            },
            "text/html": [
              "\n",
              "  <div id=\"df-290376e0-eab0-42bf-8d5b-656cc8e30e22\" class=\"colab-df-container\">\n",
              "    <div>\n",
              "<style scoped>\n",
              "    .dataframe tbody tr th:only-of-type {\n",
              "        vertical-align: middle;\n",
              "    }\n",
              "\n",
              "    .dataframe tbody tr th {\n",
              "        vertical-align: top;\n",
              "    }\n",
              "\n",
              "    .dataframe thead th {\n",
              "        text-align: right;\n",
              "    }\n",
              "</style>\n",
              "<table border=\"1\" class=\"dataframe\">\n",
              "  <thead>\n",
              "    <tr style=\"text-align: right;\">\n",
              "      <th></th>\n",
              "      <th>LP</th>\n",
              "      <th>TYDZIEN</th>\n",
              "      <th>OPIS</th>\n",
              "      <th>ILE_ZAMOWIONE</th>\n",
              "      <th>ZNACZNIK_DOSTAWCY</th>\n",
              "      <th>GALANTERIA</th>\n",
              "      <th>SIEDZISKA_HR</th>\n",
              "      <th>LENIWA</th>\n",
              "      <th>ZAM1</th>\n",
              "      <th>ZAM2</th>\n",
              "      <th>UWAGI</th>\n",
              "    </tr>\n",
              "  </thead>\n",
              "  <tbody>\n",
              "    <tr>\n",
              "      <th>0</th>\n",
              "      <td>199</td>\n",
              "      <td>2408</td>\n",
              "      <td>STONE 1,5</td>\n",
              "      <td>150</td>\n",
              "      <td>V</td>\n",
              "      <td>V</td>\n",
              "      <td>V</td>\n",
              "      <td>O</td>\n",
              "      <td>24/0242</td>\n",
              "      <td>None</td>\n",
              "      <td>nr_partii: 08/01,</td>\n",
              "    </tr>\n",
              "    <tr>\n",
              "      <th>1</th>\n",
              "      <td>200</td>\n",
              "      <td>2408</td>\n",
              "      <td>STONE 2,5</td>\n",
              "      <td>25</td>\n",
              "      <td>V</td>\n",
              "      <td>V</td>\n",
              "      <td>V</td>\n",
              "      <td>O</td>\n",
              "      <td>24/0242</td>\n",
              "      <td>None</td>\n",
              "      <td>nr_partii: 08/01,</td>\n",
              "    </tr>\n",
              "    <tr>\n",
              "      <th>2</th>\n",
              "      <td>201</td>\n",
              "      <td>2408</td>\n",
              "      <td>STONE 3</td>\n",
              "      <td>45</td>\n",
              "      <td>V</td>\n",
              "      <td>V</td>\n",
              "      <td>V</td>\n",
              "      <td>O</td>\n",
              "      <td>24/0242</td>\n",
              "      <td>None</td>\n",
              "      <td>nr_partii: 08/01,</td>\n",
              "    </tr>\n",
              "    <tr>\n",
              "      <th>3</th>\n",
              "      <td>202</td>\n",
              "      <td>2408</td>\n",
              "      <td>STONE 4</td>\n",
              "      <td>10</td>\n",
              "      <td>V</td>\n",
              "      <td>V</td>\n",
              "      <td>V</td>\n",
              "      <td>O</td>\n",
              "      <td>24/0242</td>\n",
              "      <td>None</td>\n",
              "      <td>nr_partii: 08/01,</td>\n",
              "    </tr>\n",
              "    <tr>\n",
              "      <th>4</th>\n",
              "      <td>203</td>\n",
              "      <td>2408</td>\n",
              "      <td>STONE ON</td>\n",
              "      <td>15</td>\n",
              "      <td>V</td>\n",
              "      <td>V</td>\n",
              "      <td>V</td>\n",
              "      <td>O</td>\n",
              "      <td>24/0242</td>\n",
              "      <td>None</td>\n",
              "      <td>nr_partii: 08/01,</td>\n",
              "    </tr>\n",
              "    <tr>\n",
              "      <th>5</th>\n",
              "      <td>204</td>\n",
              "      <td>2408</td>\n",
              "      <td>STONE [LH</td>\n",
              "      <td>25</td>\n",
              "      <td>V</td>\n",
              "      <td>V</td>\n",
              "      <td>V</td>\n",
              "      <td>O</td>\n",
              "      <td>24/0242</td>\n",
              "      <td>None</td>\n",
              "      <td>nr_partii: 08/01,</td>\n",
              "    </tr>\n",
              "    <tr>\n",
              "      <th>6</th>\n",
              "      <td>205</td>\n",
              "      <td>2408</td>\n",
              "      <td>STONE E30</td>\n",
              "      <td>10</td>\n",
              "      <td>V</td>\n",
              "      <td>V</td>\n",
              "      <td>V</td>\n",
              "      <td>O</td>\n",
              "      <td>24/0242</td>\n",
              "      <td>None</td>\n",
              "      <td>nr_partii: 08/01,</td>\n",
              "    </tr>\n",
              "    <tr>\n",
              "      <th>7</th>\n",
              "      <td>206</td>\n",
              "      <td>2408</td>\n",
              "      <td>STONE P106x106</td>\n",
              "      <td>10</td>\n",
              "      <td>V</td>\n",
              "      <td>V</td>\n",
              "      <td>V</td>\n",
              "      <td>O</td>\n",
              "      <td>24/0242</td>\n",
              "      <td>None</td>\n",
              "      <td>nr_partii: 08/01,</td>\n",
              "    </tr>\n",
              "    <tr>\n",
              "      <th>8</th>\n",
              "      <td>207</td>\n",
              "      <td>2408</td>\n",
              "      <td>STONE P106x82</td>\n",
              "      <td>20</td>\n",
              "      <td>V</td>\n",
              "      <td>V</td>\n",
              "      <td>V</td>\n",
              "      <td>O</td>\n",
              "      <td>24/0242</td>\n",
              "      <td>None</td>\n",
              "      <td>nr_partii: 08/01,</td>\n",
              "    </tr>\n",
              "    <tr>\n",
              "      <th>9</th>\n",
              "      <td>208</td>\n",
              "      <td>2408</td>\n",
              "      <td>STONE Z70</td>\n",
              "      <td>190</td>\n",
              "      <td>V</td>\n",
              "      <td>V</td>\n",
              "      <td>V</td>\n",
              "      <td>O</td>\n",
              "      <td>24/0242</td>\n",
              "      <td>None</td>\n",
              "      <td>nr_partii: 08/01,</td>\n",
              "    </tr>\n",
              "    <tr>\n",
              "      <th>10</th>\n",
              "      <td>209</td>\n",
              "      <td>2408</td>\n",
              "      <td>STONE ][</td>\n",
              "      <td>250</td>\n",
              "      <td>V</td>\n",
              "      <td>V</td>\n",
              "      <td>V</td>\n",
              "      <td>O</td>\n",
              "      <td>24/0242</td>\n",
              "      <td>None</td>\n",
              "      <td>nr_partii: 08/01,</td>\n",
              "    </tr>\n",
              "    <tr>\n",
              "      <th>11</th>\n",
              "      <td>210</td>\n",
              "      <td>2408</td>\n",
              "      <td>HORIZON Onz</td>\n",
              "      <td>20</td>\n",
              "      <td>V</td>\n",
              "      <td>V</td>\n",
              "      <td>V</td>\n",
              "      <td>P</td>\n",
              "      <td>24/0242</td>\n",
              "      <td>None</td>\n",
              "      <td>nr_partii: 08/01, leniwa docinamy sami</td>\n",
              "    </tr>\n",
              "    <tr>\n",
              "      <th>12</th>\n",
              "      <td>181</td>\n",
              "      <td>2407</td>\n",
              "      <td>AVANT [3]</td>\n",
              "      <td>10</td>\n",
              "      <td>P</td>\n",
              "      <td>P</td>\n",
              "      <td>P</td>\n",
              "      <td>O</td>\n",
              "      <td>24/0216</td>\n",
              "      <td>None</td>\n",
              "      <td>nr_partii: 07/01,</td>\n",
              "    </tr>\n",
              "    <tr>\n",
              "      <th>13</th>\n",
              "      <td>182</td>\n",
              "      <td>2407</td>\n",
              "      <td>AVANT 1</td>\n",
              "      <td>15</td>\n",
              "      <td>P</td>\n",
              "      <td>P</td>\n",
              "      <td>P</td>\n",
              "      <td>O</td>\n",
              "      <td>24/0216</td>\n",
              "      <td>None</td>\n",
              "      <td>nr_partii: 07/01,</td>\n",
              "    </tr>\n",
              "    <tr>\n",
              "      <th>14</th>\n",
              "      <td>183</td>\n",
              "      <td>2407</td>\n",
              "      <td>AVANT 1,5</td>\n",
              "      <td>15</td>\n",
              "      <td>P</td>\n",
              "      <td>P</td>\n",
              "      <td>P</td>\n",
              "      <td>O</td>\n",
              "      <td>24/0216</td>\n",
              "      <td>None</td>\n",
              "      <td>nr_partii: 07/01,</td>\n",
              "    </tr>\n",
              "    <tr>\n",
              "      <th>15</th>\n",
              "      <td>184</td>\n",
              "      <td>2407</td>\n",
              "      <td>AVANT 2</td>\n",
              "      <td>5</td>\n",
              "      <td>P</td>\n",
              "      <td>P</td>\n",
              "      <td>P</td>\n",
              "      <td>O</td>\n",
              "      <td>24/0216</td>\n",
              "      <td>None</td>\n",
              "      <td>nr_partii: 07/01,</td>\n",
              "    </tr>\n",
              "    <tr>\n",
              "      <th>16</th>\n",
              "      <td>185</td>\n",
              "      <td>2407</td>\n",
              "      <td>AVANT 2,5</td>\n",
              "      <td>10</td>\n",
              "      <td>P</td>\n",
              "      <td>P</td>\n",
              "      <td>P</td>\n",
              "      <td>O</td>\n",
              "      <td>24/0216</td>\n",
              "      <td>None</td>\n",
              "      <td>nr_partii: 07/01,</td>\n",
              "    </tr>\n",
              "    <tr>\n",
              "      <th>17</th>\n",
              "      <td>186</td>\n",
              "      <td>2407</td>\n",
              "      <td>AVANT 3</td>\n",
              "      <td>10</td>\n",
              "      <td>P</td>\n",
              "      <td>P</td>\n",
              "      <td>P</td>\n",
              "      <td>O</td>\n",
              "      <td>24/0216</td>\n",
              "      <td>None</td>\n",
              "      <td>nr_partii: 07/01,</td>\n",
              "    </tr>\n",
              "    <tr>\n",
              "      <th>18</th>\n",
              "      <td>187</td>\n",
              "      <td>2407</td>\n",
              "      <td>AVANT 3,5</td>\n",
              "      <td>10</td>\n",
              "      <td>P</td>\n",
              "      <td>P</td>\n",
              "      <td>P</td>\n",
              "      <td>O</td>\n",
              "      <td>24/0216</td>\n",
              "      <td>None</td>\n",
              "      <td>nr_partii: 07/01,</td>\n",
              "    </tr>\n",
              "    <tr>\n",
              "      <th>19</th>\n",
              "      <td>188</td>\n",
              "      <td>2407</td>\n",
              "      <td>AVANT L][</td>\n",
              "      <td>40</td>\n",
              "      <td>P</td>\n",
              "      <td>P</td>\n",
              "      <td>P</td>\n",
              "      <td>O</td>\n",
              "      <td>24/0216</td>\n",
              "      <td>None</td>\n",
              "      <td>nr_partii: 07/01,</td>\n",
              "    </tr>\n",
              "    <tr>\n",
              "      <th>20</th>\n",
              "      <td>189</td>\n",
              "      <td>2407</td>\n",
              "      <td>AVANT LM][</td>\n",
              "      <td>10</td>\n",
              "      <td>P</td>\n",
              "      <td>P</td>\n",
              "      <td>P</td>\n",
              "      <td>O</td>\n",
              "      <td>24/0216</td>\n",
              "      <td>None</td>\n",
              "      <td>nr_partii: 07/01,</td>\n",
              "    </tr>\n",
              "    <tr>\n",
              "      <th>21</th>\n",
              "      <td>190</td>\n",
              "      <td>2407</td>\n",
              "      <td>AVANT P104x64</td>\n",
              "      <td>10</td>\n",
              "      <td>P</td>\n",
              "      <td>P</td>\n",
              "      <td>P</td>\n",
              "      <td>O</td>\n",
              "      <td>24/0216</td>\n",
              "      <td>None</td>\n",
              "      <td>nr_partii: 07/01,</td>\n",
              "    </tr>\n",
              "    <tr>\n",
              "      <th>22</th>\n",
              "      <td>191</td>\n",
              "      <td>2407</td>\n",
              "      <td>AVANT P112x97</td>\n",
              "      <td>20</td>\n",
              "      <td>P</td>\n",
              "      <td>P</td>\n",
              "      <td>P</td>\n",
              "      <td>O</td>\n",
              "      <td>24/0216</td>\n",
              "      <td>None</td>\n",
              "      <td>nr_partii: 07/01,</td>\n",
              "    </tr>\n",
              "    <tr>\n",
              "      <th>23</th>\n",
              "      <td>192</td>\n",
              "      <td>2407</td>\n",
              "      <td>MAXWELL 1,5</td>\n",
              "      <td>40</td>\n",
              "      <td>P</td>\n",
              "      <td>P</td>\n",
              "      <td>P</td>\n",
              "      <td>P</td>\n",
              "      <td>24/0216</td>\n",
              "      <td>None</td>\n",
              "      <td>nr_partii: 07/01,</td>\n",
              "    </tr>\n",
              "    <tr>\n",
              "      <th>24</th>\n",
              "      <td>193</td>\n",
              "      <td>2407</td>\n",
              "      <td>MAXWELL 3</td>\n",
              "      <td>15</td>\n",
              "      <td>P</td>\n",
              "      <td>P</td>\n",
              "      <td>P</td>\n",
              "      <td>P</td>\n",
              "      <td>24/0216</td>\n",
              "      <td>None</td>\n",
              "      <td>nr_partii: 07/01,</td>\n",
              "    </tr>\n",
              "    <tr>\n",
              "      <th>25</th>\n",
              "      <td>194</td>\n",
              "      <td>2407</td>\n",
              "      <td>MAXWELL N</td>\n",
              "      <td>10</td>\n",
              "      <td>P</td>\n",
              "      <td>P</td>\n",
              "      <td>P</td>\n",
              "      <td>P</td>\n",
              "      <td>24/0216</td>\n",
              "      <td>None</td>\n",
              "      <td>nr_partii: 07/01,</td>\n",
              "    </tr>\n",
              "    <tr>\n",
              "      <th>26</th>\n",
              "      <td>195</td>\n",
              "      <td>2407</td>\n",
              "      <td>MAXWELL [LH</td>\n",
              "      <td>5</td>\n",
              "      <td>P</td>\n",
              "      <td>P</td>\n",
              "      <td>P</td>\n",
              "      <td>P</td>\n",
              "      <td>24/0216</td>\n",
              "      <td>None</td>\n",
              "      <td>nr_partii: 07/01,</td>\n",
              "    </tr>\n",
              "    <tr>\n",
              "      <th>27</th>\n",
              "      <td>196</td>\n",
              "      <td>2407</td>\n",
              "      <td>MAXWELL P103x82</td>\n",
              "      <td>10</td>\n",
              "      <td>P</td>\n",
              "      <td>P</td>\n",
              "      <td>P</td>\n",
              "      <td>P</td>\n",
              "      <td>24/0216</td>\n",
              "      <td>None</td>\n",
              "      <td>nr_partii: 07/01,</td>\n",
              "    </tr>\n",
              "    <tr>\n",
              "      <th>28</th>\n",
              "      <td>197</td>\n",
              "      <td>2407</td>\n",
              "      <td>OXYGEN 3</td>\n",
              "      <td>40</td>\n",
              "      <td>P</td>\n",
              "      <td>P</td>\n",
              "      <td>P</td>\n",
              "      <td>P</td>\n",
              "      <td>24/0216</td>\n",
              "      <td>None</td>\n",
              "      <td>nr_partii: 07/01,</td>\n",
              "    </tr>\n",
              "    <tr>\n",
              "      <th>29</th>\n",
              "      <td>198</td>\n",
              "      <td>2407</td>\n",
              "      <td>OXYGEN 4</td>\n",
              "      <td>20</td>\n",
              "      <td>P</td>\n",
              "      <td>P</td>\n",
              "      <td>P</td>\n",
              "      <td>P</td>\n",
              "      <td>24/0216</td>\n",
              "      <td>None</td>\n",
              "      <td>nr_partii: 07/01,</td>\n",
              "    </tr>\n",
              "  </tbody>\n",
              "</table>\n",
              "</div>\n",
              "    <div class=\"colab-df-buttons\">\n",
              "\n",
              "  <div class=\"colab-df-container\">\n",
              "    <button class=\"colab-df-convert\" onclick=\"convertToInteractive('df-290376e0-eab0-42bf-8d5b-656cc8e30e22')\"\n",
              "            title=\"Convert this dataframe to an interactive table.\"\n",
              "            style=\"display:none;\">\n",
              "\n",
              "  <svg xmlns=\"http://www.w3.org/2000/svg\" height=\"24px\" viewBox=\"0 -960 960 960\">\n",
              "    <path d=\"M120-120v-720h720v720H120Zm60-500h600v-160H180v160Zm220 220h160v-160H400v160Zm0 220h160v-160H400v160ZM180-400h160v-160H180v160Zm440 0h160v-160H620v160ZM180-180h160v-160H180v160Zm440 0h160v-160H620v160Z\"/>\n",
              "  </svg>\n",
              "    </button>\n",
              "\n",
              "  <style>\n",
              "    .colab-df-container {\n",
              "      display:flex;\n",
              "      gap: 12px;\n",
              "    }\n",
              "\n",
              "    .colab-df-convert {\n",
              "      background-color: #E8F0FE;\n",
              "      border: none;\n",
              "      border-radius: 50%;\n",
              "      cursor: pointer;\n",
              "      display: none;\n",
              "      fill: #1967D2;\n",
              "      height: 32px;\n",
              "      padding: 0 0 0 0;\n",
              "      width: 32px;\n",
              "    }\n",
              "\n",
              "    .colab-df-convert:hover {\n",
              "      background-color: #E2EBFA;\n",
              "      box-shadow: 0px 1px 2px rgba(60, 64, 67, 0.3), 0px 1px 3px 1px rgba(60, 64, 67, 0.15);\n",
              "      fill: #174EA6;\n",
              "    }\n",
              "\n",
              "    .colab-df-buttons div {\n",
              "      margin-bottom: 4px;\n",
              "    }\n",
              "\n",
              "    [theme=dark] .colab-df-convert {\n",
              "      background-color: #3B4455;\n",
              "      fill: #D2E3FC;\n",
              "    }\n",
              "\n",
              "    [theme=dark] .colab-df-convert:hover {\n",
              "      background-color: #434B5C;\n",
              "      box-shadow: 0px 1px 3px 1px rgba(0, 0, 0, 0.15);\n",
              "      filter: drop-shadow(0px 1px 2px rgba(0, 0, 0, 0.3));\n",
              "      fill: #FFFFFF;\n",
              "    }\n",
              "  </style>\n",
              "\n",
              "    <script>\n",
              "      const buttonEl =\n",
              "        document.querySelector('#df-290376e0-eab0-42bf-8d5b-656cc8e30e22 button.colab-df-convert');\n",
              "      buttonEl.style.display =\n",
              "        google.colab.kernel.accessAllowed ? 'block' : 'none';\n",
              "\n",
              "      async function convertToInteractive(key) {\n",
              "        const element = document.querySelector('#df-290376e0-eab0-42bf-8d5b-656cc8e30e22');\n",
              "        const dataTable =\n",
              "          await google.colab.kernel.invokeFunction('convertToInteractive',\n",
              "                                                    [key], {});\n",
              "        if (!dataTable) return;\n",
              "\n",
              "        const docLinkHtml = 'Like what you see? Visit the ' +\n",
              "          '<a target=\"_blank\" href=https://colab.research.google.com/notebooks/data_table.ipynb>data table notebook</a>'\n",
              "          + ' to learn more about interactive tables.';\n",
              "        element.innerHTML = '';\n",
              "        dataTable['output_type'] = 'display_data';\n",
              "        await google.colab.output.renderOutput(dataTable, element);\n",
              "        const docLink = document.createElement('div');\n",
              "        docLink.innerHTML = docLinkHtml;\n",
              "        element.appendChild(docLink);\n",
              "      }\n",
              "    </script>\n",
              "  </div>\n",
              "\n",
              "\n",
              "<div id=\"df-2616270e-63fa-4d34-9f6f-0fa92a014f33\">\n",
              "  <button class=\"colab-df-quickchart\" onclick=\"quickchart('df-2616270e-63fa-4d34-9f6f-0fa92a014f33')\"\n",
              "            title=\"Suggest charts\"\n",
              "            style=\"display:none;\">\n",
              "\n",
              "<svg xmlns=\"http://www.w3.org/2000/svg\" height=\"24px\"viewBox=\"0 0 24 24\"\n",
              "     width=\"24px\">\n",
              "    <g>\n",
              "        <path d=\"M19 3H5c-1.1 0-2 .9-2 2v14c0 1.1.9 2 2 2h14c1.1 0 2-.9 2-2V5c0-1.1-.9-2-2-2zM9 17H7v-7h2v7zm4 0h-2V7h2v10zm4 0h-2v-4h2v4z\"/>\n",
              "    </g>\n",
              "</svg>\n",
              "  </button>\n",
              "\n",
              "<style>\n",
              "  .colab-df-quickchart {\n",
              "      --bg-color: #E8F0FE;\n",
              "      --fill-color: #1967D2;\n",
              "      --hover-bg-color: #E2EBFA;\n",
              "      --hover-fill-color: #174EA6;\n",
              "      --disabled-fill-color: #AAA;\n",
              "      --disabled-bg-color: #DDD;\n",
              "  }\n",
              "\n",
              "  [theme=dark] .colab-df-quickchart {\n",
              "      --bg-color: #3B4455;\n",
              "      --fill-color: #D2E3FC;\n",
              "      --hover-bg-color: #434B5C;\n",
              "      --hover-fill-color: #FFFFFF;\n",
              "      --disabled-bg-color: #3B4455;\n",
              "      --disabled-fill-color: #666;\n",
              "  }\n",
              "\n",
              "  .colab-df-quickchart {\n",
              "    background-color: var(--bg-color);\n",
              "    border: none;\n",
              "    border-radius: 50%;\n",
              "    cursor: pointer;\n",
              "    display: none;\n",
              "    fill: var(--fill-color);\n",
              "    height: 32px;\n",
              "    padding: 0;\n",
              "    width: 32px;\n",
              "  }\n",
              "\n",
              "  .colab-df-quickchart:hover {\n",
              "    background-color: var(--hover-bg-color);\n",
              "    box-shadow: 0 1px 2px rgba(60, 64, 67, 0.3), 0 1px 3px 1px rgba(60, 64, 67, 0.15);\n",
              "    fill: var(--button-hover-fill-color);\n",
              "  }\n",
              "\n",
              "  .colab-df-quickchart-complete:disabled,\n",
              "  .colab-df-quickchart-complete:disabled:hover {\n",
              "    background-color: var(--disabled-bg-color);\n",
              "    fill: var(--disabled-fill-color);\n",
              "    box-shadow: none;\n",
              "  }\n",
              "\n",
              "  .colab-df-spinner {\n",
              "    border: 2px solid var(--fill-color);\n",
              "    border-color: transparent;\n",
              "    border-bottom-color: var(--fill-color);\n",
              "    animation:\n",
              "      spin 1s steps(1) infinite;\n",
              "  }\n",
              "\n",
              "  @keyframes spin {\n",
              "    0% {\n",
              "      border-color: transparent;\n",
              "      border-bottom-color: var(--fill-color);\n",
              "      border-left-color: var(--fill-color);\n",
              "    }\n",
              "    20% {\n",
              "      border-color: transparent;\n",
              "      border-left-color: var(--fill-color);\n",
              "      border-top-color: var(--fill-color);\n",
              "    }\n",
              "    30% {\n",
              "      border-color: transparent;\n",
              "      border-left-color: var(--fill-color);\n",
              "      border-top-color: var(--fill-color);\n",
              "      border-right-color: var(--fill-color);\n",
              "    }\n",
              "    40% {\n",
              "      border-color: transparent;\n",
              "      border-right-color: var(--fill-color);\n",
              "      border-top-color: var(--fill-color);\n",
              "    }\n",
              "    60% {\n",
              "      border-color: transparent;\n",
              "      border-right-color: var(--fill-color);\n",
              "    }\n",
              "    80% {\n",
              "      border-color: transparent;\n",
              "      border-right-color: var(--fill-color);\n",
              "      border-bottom-color: var(--fill-color);\n",
              "    }\n",
              "    90% {\n",
              "      border-color: transparent;\n",
              "      border-bottom-color: var(--fill-color);\n",
              "    }\n",
              "  }\n",
              "</style>\n",
              "\n",
              "  <script>\n",
              "    async function quickchart(key) {\n",
              "      const quickchartButtonEl =\n",
              "        document.querySelector('#' + key + ' button');\n",
              "      quickchartButtonEl.disabled = true;  // To prevent multiple clicks.\n",
              "      quickchartButtonEl.classList.add('colab-df-spinner');\n",
              "      try {\n",
              "        const charts = await google.colab.kernel.invokeFunction(\n",
              "            'suggestCharts', [key], {});\n",
              "      } catch (error) {\n",
              "        console.error('Error during call to suggestCharts:', error);\n",
              "      }\n",
              "      quickchartButtonEl.classList.remove('colab-df-spinner');\n",
              "      quickchartButtonEl.classList.add('colab-df-quickchart-complete');\n",
              "    }\n",
              "    (() => {\n",
              "      let quickchartButtonEl =\n",
              "        document.querySelector('#df-2616270e-63fa-4d34-9f6f-0fa92a014f33 button');\n",
              "      quickchartButtonEl.style.display =\n",
              "        google.colab.kernel.accessAllowed ? 'block' : 'none';\n",
              "    })();\n",
              "  </script>\n",
              "</div>\n",
              "    </div>\n",
              "  </div>\n"
            ],
            "text/plain": [
              "     LP  TYDZIEN             OPIS  ILE_ZAMOWIONE ZNACZNIK_DOSTAWCY GALANTERIA  \\\n",
              "0   199     2408        STONE 1,5            150                 V          V   \n",
              "1   200     2408        STONE 2,5             25                 V          V   \n",
              "2   201     2408          STONE 3             45                 V          V   \n",
              "3   202     2408          STONE 4             10                 V          V   \n",
              "4   203     2408         STONE ON             15                 V          V   \n",
              "5   204     2408        STONE [LH             25                 V          V   \n",
              "6   205     2408        STONE E30             10                 V          V   \n",
              "7   206     2408   STONE P106x106             10                 V          V   \n",
              "8   207     2408    STONE P106x82             20                 V          V   \n",
              "9   208     2408        STONE Z70            190                 V          V   \n",
              "10  209     2408         STONE ][            250                 V          V   \n",
              "11  210     2408      HORIZON Onz             20                 V          V   \n",
              "12  181     2407        AVANT [3]             10                 P          P   \n",
              "13  182     2407          AVANT 1             15                 P          P   \n",
              "14  183     2407        AVANT 1,5             15                 P          P   \n",
              "15  184     2407          AVANT 2              5                 P          P   \n",
              "16  185     2407        AVANT 2,5             10                 P          P   \n",
              "17  186     2407          AVANT 3             10                 P          P   \n",
              "18  187     2407        AVANT 3,5             10                 P          P   \n",
              "19  188     2407        AVANT L][             40                 P          P   \n",
              "20  189     2407       AVANT LM][             10                 P          P   \n",
              "21  190     2407    AVANT P104x64             10                 P          P   \n",
              "22  191     2407    AVANT P112x97             20                 P          P   \n",
              "23  192     2407      MAXWELL 1,5             40                 P          P   \n",
              "24  193     2407        MAXWELL 3             15                 P          P   \n",
              "25  194     2407        MAXWELL N             10                 P          P   \n",
              "26  195     2407      MAXWELL [LH              5                 P          P   \n",
              "27  196     2407  MAXWELL P103x82             10                 P          P   \n",
              "28  197     2407         OXYGEN 3             40                 P          P   \n",
              "29  198     2407         OXYGEN 4             20                 P          P   \n",
              "\n",
              "   SIEDZISKA_HR LENIWA     ZAM1  ZAM2                                   UWAGI  \n",
              "0             V      O  24/0242  None                       nr_partii: 08/01,  \n",
              "1             V      O  24/0242  None                       nr_partii: 08/01,  \n",
              "2             V      O  24/0242  None                       nr_partii: 08/01,  \n",
              "3             V      O  24/0242  None                       nr_partii: 08/01,  \n",
              "4             V      O  24/0242  None                       nr_partii: 08/01,  \n",
              "5             V      O  24/0242  None                       nr_partii: 08/01,  \n",
              "6             V      O  24/0242  None                       nr_partii: 08/01,  \n",
              "7             V      O  24/0242  None                       nr_partii: 08/01,  \n",
              "8             V      O  24/0242  None                       nr_partii: 08/01,  \n",
              "9             V      O  24/0242  None                       nr_partii: 08/01,  \n",
              "10            V      O  24/0242  None                       nr_partii: 08/01,  \n",
              "11            V      P  24/0242  None  nr_partii: 08/01, leniwa docinamy sami  \n",
              "12            P      O  24/0216  None                       nr_partii: 07/01,  \n",
              "13            P      O  24/0216  None                       nr_partii: 07/01,  \n",
              "14            P      O  24/0216  None                       nr_partii: 07/01,  \n",
              "15            P      O  24/0216  None                       nr_partii: 07/01,  \n",
              "16            P      O  24/0216  None                       nr_partii: 07/01,  \n",
              "17            P      O  24/0216  None                       nr_partii: 07/01,  \n",
              "18            P      O  24/0216  None                       nr_partii: 07/01,  \n",
              "19            P      O  24/0216  None                       nr_partii: 07/01,  \n",
              "20            P      O  24/0216  None                       nr_partii: 07/01,  \n",
              "21            P      O  24/0216  None                       nr_partii: 07/01,  \n",
              "22            P      O  24/0216  None                       nr_partii: 07/01,  \n",
              "23            P      P  24/0216  None                       nr_partii: 07/01,  \n",
              "24            P      P  24/0216  None                       nr_partii: 07/01,  \n",
              "25            P      P  24/0216  None                       nr_partii: 07/01,  \n",
              "26            P      P  24/0216  None                       nr_partii: 07/01,  \n",
              "27            P      P  24/0216  None                       nr_partii: 07/01,  \n",
              "28            P      P  24/0216  None                       nr_partii: 07/01,  \n",
              "29            P      P  24/0216  None                       nr_partii: 07/01,  "
            ]
          },
          "execution_count": 110,
          "metadata": {},
          "output_type": "execute_result"
        }
      ],
      "source": [
        "with engine.begin() as conn:\n",
        "  zam_pianki_db = pd.read_sql(text(\"SELECT * from ZAM_PIANKI ORDER BY TYDZIEN DESC LIMIT 30\"), conn) # ORDER BY TYDZIEN DESC LIMIT 30\n",
        "\n",
        "zam_pianki_db[[\"LP\", \"TYDZIEN\", \"OPIS\", \"ILE_ZAMOWIONE\", \"ZNACZNIK_DOSTAWCY\", \"GALANTERIA\", \"SIEDZISKA_HR\", \"LENIWA\", \"ZAM1\", \"ZAM2\", \"UWAGI\"]]"
      ]
    },
    {
      "cell_type": "markdown",
      "metadata": {
        "id": "GKoUEgnLfBBq"
      },
      "source": [
        "#RAPORTY DO ZAMÓWIENIA"
      ]
    },
    {
      "cell_type": "code",
      "execution_count": null,
      "metadata": {
        "id": "gOokp3zHQjd4"
      },
      "outputs": [],
      "source": [
        "import openpyxl\n",
        "from openpyxl.utils.dataframe import dataframe_to_rows\n",
        "from openpyxl.styles import Border, Side\n",
        "from datetime import datetime as dt"
      ]
    },
    {
      "cell_type": "code",
      "execution_count": null,
      "metadata": {
        "id": "YNdKgRdvoMyG"
      },
      "outputs": [],
      "source": [
        "_tab = tab.copy()\n",
        "_tab[\"vol\"] = _tab.DLUG*_tab.SZER*_tab.WYS/1000_000_000\n",
        "_tab[\"VOL\"] = _tab.vol*_tab.ilosc"
      ]
    },
    {
      "cell_type": "code",
      "execution_count": null,
      "metadata": {
        "colab": {
          "base_uri": "https://localhost:8080/",
          "height": 802
        },
        "id": "xHtYhd2PgitL",
        "outputId": "f274ec5d-9c7f-4f27-f3e5-70409a6ee36f"
      },
      "outputs": [
        {
          "data": {
            "application/vnd.google.colaboratory.intrinsic+json": {
              "summary": "{\n  \"name\": \"# wnd\",\n  \"rows\": 24,\n  \"fields\": [\n    {\n      \"column\": \"MODEL\",\n      \"properties\": {\n        \"dtype\": \"category\",\n        \"num_unique_values\": 4,\n        \"samples\": [\n          \"RITZ\",\n          \"SPECTRA\",\n          \"DIVA\"\n        ],\n        \"semantic_type\": \"\",\n        \"description\": \"\"\n      }\n    },\n    {\n      \"column\": \"NR_KOMPLETACJI\",\n      \"properties\": {\n        \"dtype\": \"category\",\n        \"num_unique_values\": 1,\n        \"samples\": [\n          \"1_24\"\n        ],\n        \"semantic_type\": \"\",\n        \"description\": \"\"\n      }\n    },\n    {\n      \"column\": \"OPIS\",\n      \"properties\": {\n        \"dtype\": \"string\",\n        \"num_unique_values\": 24,\n        \"samples\": [\n          \"RITZ 2,5\"\n        ],\n        \"semantic_type\": \"\",\n        \"description\": \"\"\n      }\n    },\n    {\n      \"column\": \"ILE_ZAMOWIONE\",\n      \"properties\": {\n        \"dtype\": \"number\",\n        \"std\": 52,\n        \"min\": 5,\n        \"max\": 160,\n        \"num_unique_values\": 10,\n        \"samples\": [\n          15\n        ],\n        \"semantic_type\": \"\",\n        \"description\": \"\"\n      }\n    },\n    {\n      \"column\": \"OBJ_DOSTAWA\",\n      \"properties\": {\n        \"dtype\": \"number\",\n        \"std\": 2.451294605689828,\n        \"min\": 0.08088,\n        \"max\": 8.738145075,\n        \"num_unique_values\": 24,\n        \"samples\": [\n          2.25761\n        ],\n        \"semantic_type\": \"\",\n        \"description\": \"\"\n      }\n    },\n    {\n      \"column\": \"ILE_WOZKOW\",\n      \"properties\": {\n        \"dtype\": \"number\",\n        \"std\": 0.4423258684646914,\n        \"min\": 1.0,\n        \"max\": 2.0,\n        \"num_unique_values\": 2,\n        \"samples\": [\n          2.0\n        ],\n        \"semantic_type\": \"\",\n        \"description\": \"\"\n      }\n    }\n  ]\n}",
              "type": "dataframe"
            },
            "text/html": [
              "\n",
              "  <div id=\"df-64086334-ebd6-4c47-a6b8-83e4c0304a69\" class=\"colab-df-container\">\n",
              "    <div>\n",
              "<style scoped>\n",
              "    .dataframe tbody tr th:only-of-type {\n",
              "        vertical-align: middle;\n",
              "    }\n",
              "\n",
              "    .dataframe tbody tr th {\n",
              "        vertical-align: top;\n",
              "    }\n",
              "\n",
              "    .dataframe thead th {\n",
              "        text-align: right;\n",
              "    }\n",
              "</style>\n",
              "<table border=\"1\" class=\"dataframe\">\n",
              "  <thead>\n",
              "    <tr style=\"text-align: right;\">\n",
              "      <th></th>\n",
              "      <th>MODEL</th>\n",
              "      <th>NR_KOMPLETACJI</th>\n",
              "      <th>OPIS</th>\n",
              "      <th>ILE_ZAMOWIONE</th>\n",
              "      <th>OBJ_DOSTAWA</th>\n",
              "      <th>ILE_WOZKOW</th>\n",
              "    </tr>\n",
              "  </thead>\n",
              "  <tbody>\n",
              "    <tr>\n",
              "      <th>0</th>\n",
              "      <td>DIVA</td>\n",
              "      <td>1_24</td>\n",
              "      <td>DIVA X2,5X</td>\n",
              "      <td>10</td>\n",
              "      <td>2.307280</td>\n",
              "      <td>1.0</td>\n",
              "    </tr>\n",
              "    <tr>\n",
              "      <th>1</th>\n",
              "      <td>DIVA</td>\n",
              "      <td>1_24</td>\n",
              "      <td>DIVA X3,5X</td>\n",
              "      <td>25</td>\n",
              "      <td>7.375200</td>\n",
              "      <td>2.0</td>\n",
              "    </tr>\n",
              "    <tr>\n",
              "      <th>2</th>\n",
              "      <td>DIVA</td>\n",
              "      <td>1_24</td>\n",
              "      <td>DIVA X4X</td>\n",
              "      <td>20</td>\n",
              "      <td>6.492960</td>\n",
              "      <td>2.0</td>\n",
              "    </tr>\n",
              "    <tr>\n",
              "      <th>3</th>\n",
              "      <td>DIVA</td>\n",
              "      <td>1_24</td>\n",
              "      <td>DIVA X5X</td>\n",
              "      <td>10</td>\n",
              "      <td>3.691080</td>\n",
              "      <td>1.0</td>\n",
              "    </tr>\n",
              "    <tr>\n",
              "      <th>4</th>\n",
              "      <td>DIVA</td>\n",
              "      <td>1_24</td>\n",
              "      <td>DIVA 3X</td>\n",
              "      <td>10</td>\n",
              "      <td>2.535500</td>\n",
              "      <td>1.0</td>\n",
              "    </tr>\n",
              "    <tr>\n",
              "      <th>5</th>\n",
              "      <td>DIVA</td>\n",
              "      <td>1_24</td>\n",
              "      <td>DIVA 3,5X</td>\n",
              "      <td>10</td>\n",
              "      <td>2.856900</td>\n",
              "      <td>1.0</td>\n",
              "    </tr>\n",
              "    <tr>\n",
              "      <th>6</th>\n",
              "      <td>DIVA</td>\n",
              "      <td>1_24</td>\n",
              "      <td>DIVA [</td>\n",
              "      <td>160</td>\n",
              "      <td>3.955754</td>\n",
              "      <td>1.0</td>\n",
              "    </tr>\n",
              "    <tr>\n",
              "      <th>7</th>\n",
              "      <td>DIVA</td>\n",
              "      <td>1_24</td>\n",
              "      <td>DIVA ]</td>\n",
              "      <td>140</td>\n",
              "      <td>3.461284</td>\n",
              "      <td>1.0</td>\n",
              "    </tr>\n",
              "    <tr>\n",
              "      <th>8</th>\n",
              "      <td>RITZ</td>\n",
              "      <td>1_24</td>\n",
              "      <td>RITZ 2,5</td>\n",
              "      <td>10</td>\n",
              "      <td>2.257610</td>\n",
              "      <td>1.0</td>\n",
              "    </tr>\n",
              "    <tr>\n",
              "      <th>9</th>\n",
              "      <td>RITZ</td>\n",
              "      <td>1_24</td>\n",
              "      <td>RITZ 3,5</td>\n",
              "      <td>30</td>\n",
              "      <td>8.638230</td>\n",
              "      <td>2.0</td>\n",
              "    </tr>\n",
              "    <tr>\n",
              "      <th>10</th>\n",
              "      <td>RITZ</td>\n",
              "      <td>1_24</td>\n",
              "      <td>RITZ 4</td>\n",
              "      <td>10</td>\n",
              "      <td>3.177810</td>\n",
              "      <td>1.0</td>\n",
              "    </tr>\n",
              "    <tr>\n",
              "      <th>11</th>\n",
              "      <td>RITZ</td>\n",
              "      <td>1_24</td>\n",
              "      <td>RITZ [L</td>\n",
              "      <td>5</td>\n",
              "      <td>1.360155</td>\n",
              "      <td>1.0</td>\n",
              "    </tr>\n",
              "    <tr>\n",
              "      <th>12</th>\n",
              "      <td>RITZ</td>\n",
              "      <td>1_24</td>\n",
              "      <td>RITZ ][</td>\n",
              "      <td>130</td>\n",
              "      <td>1.384955</td>\n",
              "      <td>1.0</td>\n",
              "    </tr>\n",
              "    <tr>\n",
              "      <th>13</th>\n",
              "      <td>HUDSON</td>\n",
              "      <td>1_24</td>\n",
              "      <td>HUDSON 3</td>\n",
              "      <td>10</td>\n",
              "      <td>2.517692</td>\n",
              "      <td>1.0</td>\n",
              "    </tr>\n",
              "    <tr>\n",
              "      <th>14</th>\n",
              "      <td>HUDSON</td>\n",
              "      <td>1_24</td>\n",
              "      <td>HUDSON 3,5</td>\n",
              "      <td>20</td>\n",
              "      <td>5.844185</td>\n",
              "      <td>2.0</td>\n",
              "    </tr>\n",
              "    <tr>\n",
              "      <th>15</th>\n",
              "      <td>HUDSON</td>\n",
              "      <td>1_24</td>\n",
              "      <td>HUDSON 4</td>\n",
              "      <td>15</td>\n",
              "      <td>4.760839</td>\n",
              "      <td>1.0</td>\n",
              "    </tr>\n",
              "    <tr>\n",
              "      <th>16</th>\n",
              "      <td>HUDSON</td>\n",
              "      <td>1_24</td>\n",
              "      <td>HUDSON P82x62</td>\n",
              "      <td>10</td>\n",
              "      <td>0.080880</td>\n",
              "      <td>1.0</td>\n",
              "    </tr>\n",
              "    <tr>\n",
              "      <th>17</th>\n",
              "      <td>HUDSON</td>\n",
              "      <td>1_24</td>\n",
              "      <td>HUDSON ][</td>\n",
              "      <td>120</td>\n",
              "      <td>1.248936</td>\n",
              "      <td>1.0</td>\n",
              "    </tr>\n",
              "    <tr>\n",
              "      <th>18</th>\n",
              "      <td>SPECTRA</td>\n",
              "      <td>1_24</td>\n",
              "      <td>SPECTRA 3,5z</td>\n",
              "      <td>20</td>\n",
              "      <td>8.365997</td>\n",
              "      <td>2.0</td>\n",
              "    </tr>\n",
              "    <tr>\n",
              "      <th>19</th>\n",
              "      <td>SPECTRA</td>\n",
              "      <td>1_24</td>\n",
              "      <td>SPECTRA 4z</td>\n",
              "      <td>10</td>\n",
              "      <td>4.641394</td>\n",
              "      <td>1.0</td>\n",
              "    </tr>\n",
              "    <tr>\n",
              "      <th>20</th>\n",
              "      <td>SPECTRA</td>\n",
              "      <td>1_24</td>\n",
              "      <td>SPECTRA [Lz</td>\n",
              "      <td>10</td>\n",
              "      <td>3.524724</td>\n",
              "      <td>1.0</td>\n",
              "    </tr>\n",
              "    <tr>\n",
              "      <th>21</th>\n",
              "      <td>SPECTRA</td>\n",
              "      <td>1_24</td>\n",
              "      <td>SPECTRA [L2Hz</td>\n",
              "      <td>15</td>\n",
              "      <td>8.738145</td>\n",
              "      <td>2.0</td>\n",
              "    </tr>\n",
              "    <tr>\n",
              "      <th>22</th>\n",
              "      <td>SPECTRA</td>\n",
              "      <td>1_24</td>\n",
              "      <td>SPECTRA ][</td>\n",
              "      <td>140</td>\n",
              "      <td>3.255035</td>\n",
              "      <td>1.0</td>\n",
              "    </tr>\n",
              "    <tr>\n",
              "      <th>23</th>\n",
              "      <td>SPECTRA</td>\n",
              "      <td>1_24</td>\n",
              "      <td>SPECTRA P86x82</td>\n",
              "      <td>15</td>\n",
              "      <td>2.233500</td>\n",
              "      <td>1.0</td>\n",
              "    </tr>\n",
              "  </tbody>\n",
              "</table>\n",
              "</div>\n",
              "    <div class=\"colab-df-buttons\">\n",
              "\n",
              "  <div class=\"colab-df-container\">\n",
              "    <button class=\"colab-df-convert\" onclick=\"convertToInteractive('df-64086334-ebd6-4c47-a6b8-83e4c0304a69')\"\n",
              "            title=\"Convert this dataframe to an interactive table.\"\n",
              "            style=\"display:none;\">\n",
              "\n",
              "  <svg xmlns=\"http://www.w3.org/2000/svg\" height=\"24px\" viewBox=\"0 -960 960 960\">\n",
              "    <path d=\"M120-120v-720h720v720H120Zm60-500h600v-160H180v160Zm220 220h160v-160H400v160Zm0 220h160v-160H400v160ZM180-400h160v-160H180v160Zm440 0h160v-160H620v160ZM180-180h160v-160H180v160Zm440 0h160v-160H620v160Z\"/>\n",
              "  </svg>\n",
              "    </button>\n",
              "\n",
              "  <style>\n",
              "    .colab-df-container {\n",
              "      display:flex;\n",
              "      gap: 12px;\n",
              "    }\n",
              "\n",
              "    .colab-df-convert {\n",
              "      background-color: #E8F0FE;\n",
              "      border: none;\n",
              "      border-radius: 50%;\n",
              "      cursor: pointer;\n",
              "      display: none;\n",
              "      fill: #1967D2;\n",
              "      height: 32px;\n",
              "      padding: 0 0 0 0;\n",
              "      width: 32px;\n",
              "    }\n",
              "\n",
              "    .colab-df-convert:hover {\n",
              "      background-color: #E2EBFA;\n",
              "      box-shadow: 0px 1px 2px rgba(60, 64, 67, 0.3), 0px 1px 3px 1px rgba(60, 64, 67, 0.15);\n",
              "      fill: #174EA6;\n",
              "    }\n",
              "\n",
              "    .colab-df-buttons div {\n",
              "      margin-bottom: 4px;\n",
              "    }\n",
              "\n",
              "    [theme=dark] .colab-df-convert {\n",
              "      background-color: #3B4455;\n",
              "      fill: #D2E3FC;\n",
              "    }\n",
              "\n",
              "    [theme=dark] .colab-df-convert:hover {\n",
              "      background-color: #434B5C;\n",
              "      box-shadow: 0px 1px 3px 1px rgba(0, 0, 0, 0.15);\n",
              "      filter: drop-shadow(0px 1px 2px rgba(0, 0, 0, 0.3));\n",
              "      fill: #FFFFFF;\n",
              "    }\n",
              "  </style>\n",
              "\n",
              "    <script>\n",
              "      const buttonEl =\n",
              "        document.querySelector('#df-64086334-ebd6-4c47-a6b8-83e4c0304a69 button.colab-df-convert');\n",
              "      buttonEl.style.display =\n",
              "        google.colab.kernel.accessAllowed ? 'block' : 'none';\n",
              "\n",
              "      async function convertToInteractive(key) {\n",
              "        const element = document.querySelector('#df-64086334-ebd6-4c47-a6b8-83e4c0304a69');\n",
              "        const dataTable =\n",
              "          await google.colab.kernel.invokeFunction('convertToInteractive',\n",
              "                                                    [key], {});\n",
              "        if (!dataTable) return;\n",
              "\n",
              "        const docLinkHtml = 'Like what you see? Visit the ' +\n",
              "          '<a target=\"_blank\" href=https://colab.research.google.com/notebooks/data_table.ipynb>data table notebook</a>'\n",
              "          + ' to learn more about interactive tables.';\n",
              "        element.innerHTML = '';\n",
              "        dataTable['output_type'] = 'display_data';\n",
              "        await google.colab.output.renderOutput(dataTable, element);\n",
              "        const docLink = document.createElement('div');\n",
              "        docLink.innerHTML = docLinkHtml;\n",
              "        element.appendChild(docLink);\n",
              "      }\n",
              "    </script>\n",
              "  </div>\n",
              "\n",
              "\n",
              "<div id=\"df-09ecdbe7-fc21-42b5-b737-50c041e672aa\">\n",
              "  <button class=\"colab-df-quickchart\" onclick=\"quickchart('df-09ecdbe7-fc21-42b5-b737-50c041e672aa')\"\n",
              "            title=\"Suggest charts\"\n",
              "            style=\"display:none;\">\n",
              "\n",
              "<svg xmlns=\"http://www.w3.org/2000/svg\" height=\"24px\"viewBox=\"0 0 24 24\"\n",
              "     width=\"24px\">\n",
              "    <g>\n",
              "        <path d=\"M19 3H5c-1.1 0-2 .9-2 2v14c0 1.1.9 2 2 2h14c1.1 0 2-.9 2-2V5c0-1.1-.9-2-2-2zM9 17H7v-7h2v7zm4 0h-2V7h2v10zm4 0h-2v-4h2v4z\"/>\n",
              "    </g>\n",
              "</svg>\n",
              "  </button>\n",
              "\n",
              "<style>\n",
              "  .colab-df-quickchart {\n",
              "      --bg-color: #E8F0FE;\n",
              "      --fill-color: #1967D2;\n",
              "      --hover-bg-color: #E2EBFA;\n",
              "      --hover-fill-color: #174EA6;\n",
              "      --disabled-fill-color: #AAA;\n",
              "      --disabled-bg-color: #DDD;\n",
              "  }\n",
              "\n",
              "  [theme=dark] .colab-df-quickchart {\n",
              "      --bg-color: #3B4455;\n",
              "      --fill-color: #D2E3FC;\n",
              "      --hover-bg-color: #434B5C;\n",
              "      --hover-fill-color: #FFFFFF;\n",
              "      --disabled-bg-color: #3B4455;\n",
              "      --disabled-fill-color: #666;\n",
              "  }\n",
              "\n",
              "  .colab-df-quickchart {\n",
              "    background-color: var(--bg-color);\n",
              "    border: none;\n",
              "    border-radius: 50%;\n",
              "    cursor: pointer;\n",
              "    display: none;\n",
              "    fill: var(--fill-color);\n",
              "    height: 32px;\n",
              "    padding: 0;\n",
              "    width: 32px;\n",
              "  }\n",
              "\n",
              "  .colab-df-quickchart:hover {\n",
              "    background-color: var(--hover-bg-color);\n",
              "    box-shadow: 0 1px 2px rgba(60, 64, 67, 0.3), 0 1px 3px 1px rgba(60, 64, 67, 0.15);\n",
              "    fill: var(--button-hover-fill-color);\n",
              "  }\n",
              "\n",
              "  .colab-df-quickchart-complete:disabled,\n",
              "  .colab-df-quickchart-complete:disabled:hover {\n",
              "    background-color: var(--disabled-bg-color);\n",
              "    fill: var(--disabled-fill-color);\n",
              "    box-shadow: none;\n",
              "  }\n",
              "\n",
              "  .colab-df-spinner {\n",
              "    border: 2px solid var(--fill-color);\n",
              "    border-color: transparent;\n",
              "    border-bottom-color: var(--fill-color);\n",
              "    animation:\n",
              "      spin 1s steps(1) infinite;\n",
              "  }\n",
              "\n",
              "  @keyframes spin {\n",
              "    0% {\n",
              "      border-color: transparent;\n",
              "      border-bottom-color: var(--fill-color);\n",
              "      border-left-color: var(--fill-color);\n",
              "    }\n",
              "    20% {\n",
              "      border-color: transparent;\n",
              "      border-left-color: var(--fill-color);\n",
              "      border-top-color: var(--fill-color);\n",
              "    }\n",
              "    30% {\n",
              "      border-color: transparent;\n",
              "      border-left-color: var(--fill-color);\n",
              "      border-top-color: var(--fill-color);\n",
              "      border-right-color: var(--fill-color);\n",
              "    }\n",
              "    40% {\n",
              "      border-color: transparent;\n",
              "      border-right-color: var(--fill-color);\n",
              "      border-top-color: var(--fill-color);\n",
              "    }\n",
              "    60% {\n",
              "      border-color: transparent;\n",
              "      border-right-color: var(--fill-color);\n",
              "    }\n",
              "    80% {\n",
              "      border-color: transparent;\n",
              "      border-right-color: var(--fill-color);\n",
              "      border-bottom-color: var(--fill-color);\n",
              "    }\n",
              "    90% {\n",
              "      border-color: transparent;\n",
              "      border-bottom-color: var(--fill-color);\n",
              "    }\n",
              "  }\n",
              "</style>\n",
              "\n",
              "  <script>\n",
              "    async function quickchart(key) {\n",
              "      const quickchartButtonEl =\n",
              "        document.querySelector('#' + key + ' button');\n",
              "      quickchartButtonEl.disabled = true;  // To prevent multiple clicks.\n",
              "      quickchartButtonEl.classList.add('colab-df-spinner');\n",
              "      try {\n",
              "        const charts = await google.colab.kernel.invokeFunction(\n",
              "            'suggestCharts', [key], {});\n",
              "      } catch (error) {\n",
              "        console.error('Error during call to suggestCharts:', error);\n",
              "      }\n",
              "      quickchartButtonEl.classList.remove('colab-df-spinner');\n",
              "      quickchartButtonEl.classList.add('colab-df-quickchart-complete');\n",
              "    }\n",
              "    (() => {\n",
              "      let quickchartButtonEl =\n",
              "        document.querySelector('#df-09ecdbe7-fc21-42b5-b737-50c041e672aa button');\n",
              "      quickchartButtonEl.style.display =\n",
              "        google.colab.kernel.accessAllowed ? 'block' : 'none';\n",
              "    })();\n",
              "  </script>\n",
              "</div>\n",
              "    </div>\n",
              "  </div>\n"
            ],
            "text/plain": [
              "      MODEL NR_KOMPLETACJI            OPIS  ILE_ZAMOWIONE  OBJ_DOSTAWA  \\\n",
              "0      DIVA           1_24      DIVA X2,5X             10     2.307280   \n",
              "1      DIVA           1_24      DIVA X3,5X             25     7.375200   \n",
              "2      DIVA           1_24        DIVA X4X             20     6.492960   \n",
              "3      DIVA           1_24        DIVA X5X             10     3.691080   \n",
              "4      DIVA           1_24         DIVA 3X             10     2.535500   \n",
              "5      DIVA           1_24       DIVA 3,5X             10     2.856900   \n",
              "6      DIVA           1_24          DIVA [            160     3.955754   \n",
              "7      DIVA           1_24          DIVA ]            140     3.461284   \n",
              "8      RITZ           1_24        RITZ 2,5             10     2.257610   \n",
              "9      RITZ           1_24        RITZ 3,5             30     8.638230   \n",
              "10     RITZ           1_24          RITZ 4             10     3.177810   \n",
              "11     RITZ           1_24         RITZ [L              5     1.360155   \n",
              "12     RITZ           1_24         RITZ ][            130     1.384955   \n",
              "13   HUDSON           1_24        HUDSON 3             10     2.517692   \n",
              "14   HUDSON           1_24      HUDSON 3,5             20     5.844185   \n",
              "15   HUDSON           1_24        HUDSON 4             15     4.760839   \n",
              "16   HUDSON           1_24   HUDSON P82x62             10     0.080880   \n",
              "17   HUDSON           1_24       HUDSON ][            120     1.248936   \n",
              "18  SPECTRA           1_24    SPECTRA 3,5z             20     8.365997   \n",
              "19  SPECTRA           1_24      SPECTRA 4z             10     4.641394   \n",
              "20  SPECTRA           1_24     SPECTRA [Lz             10     3.524724   \n",
              "21  SPECTRA           1_24   SPECTRA [L2Hz             15     8.738145   \n",
              "22  SPECTRA           1_24      SPECTRA ][            140     3.255035   \n",
              "23  SPECTRA           1_24  SPECTRA P86x82             15     2.233500   \n",
              "\n",
              "    ILE_WOZKOW  \n",
              "0          1.0  \n",
              "1          2.0  \n",
              "2          2.0  \n",
              "3          1.0  \n",
              "4          1.0  \n",
              "5          1.0  \n",
              "6          1.0  \n",
              "7          1.0  \n",
              "8          1.0  \n",
              "9          2.0  \n",
              "10         1.0  \n",
              "11         1.0  \n",
              "12         1.0  \n",
              "13         1.0  \n",
              "14         2.0  \n",
              "15         1.0  \n",
              "16         1.0  \n",
              "17         1.0  \n",
              "18         2.0  \n",
              "19         1.0  \n",
              "20         1.0  \n",
              "21         2.0  \n",
              "22         1.0  \n",
              "23         1.0  "
            ]
          },
          "execution_count": 112,
          "metadata": {},
          "output_type": "execute_result"
        }
      ],
      "source": [
        "dostawca = \"CIECH\"\n",
        "with engine.begin() as conn:\n",
        "  wnd = pd.read_sql(text(\"SELECT KOD, OPIS, MODEL, NR_KOMPLETACJI, ILE_ZAMOWIONE, ZNACZNIK_DOSTAWCY, ZAM1, ZAM2, GALANTERIA, SIEDZISKA_HR, LENIWA, UWAGI, nr_SAMOCHODU from ZAM_PIANKI WHERE ZAM1 = '24/0151'\"), conn)\n",
        "\n",
        "wnd = wnd.merge(komplety_pianek[[\"KOD\", \"BRYLA_GEN\", \"obj\"]], how=\"left\", on=\"KOD\")\n",
        "\n",
        "\n",
        "\n",
        "def obj_typ(m,bg,i,g,s,l):\n",
        "\n",
        "    war_len = (_tab.TYP == \"G-401\")\n",
        "    war_shr = (_tab.TYP.str.contains(\"HR|EE\"))\n",
        "\n",
        "    gal = _tab[(_tab.MODEL == m) & (_tab.BRYLA == bg) & ~war_len & ~war_shr].VOL.sum()*i if g == dostawca[0] else 0\n",
        "    shr = _tab[(_tab.MODEL == m) & (_tab.BRYLA == bg) & (war_shr)].VOL.sum()*i if s == dostawca[0] else 0\n",
        "    len = _tab[(_tab.MODEL == m) & (_tab.BRYLA == bg) & (war_len)].VOL.sum()*i if l == dostawca[0] else 0\n",
        "\n",
        "    # return f\"{gal} + {shr} + {len}\"\n",
        "    return gal + shr + len\n",
        "\n",
        "\n",
        "wnd[\"OBJ_DOSTAWA\"] = wnd.apply(lambda x: obj_typ(x.MODEL, x.BRYLA_GEN, x.ILE_ZAMOWIONE, x.GALANTERIA, x.SIEDZISKA_HR, x.LENIWA), axis=1)\n",
        "wnd[\"ILE_WOZKOW\"] = (wnd.OBJ_DOSTAWA / 5.5)\n",
        "wnd[\"ILE_WOZKOW\"] = wnd[\"ILE_WOZKOW\"].apply(np.ceil)\n",
        "wnd[\"OBJ_KOMPLETACJA\"] = wnd.ILE_ZAMOWIONE * wnd.obj\n",
        "wnd[[\"MODEL\", \"NR_KOMPLETACJI\", \"OPIS\", \"ILE_ZAMOWIONE\", \"OBJ_DOSTAWA\", \"ILE_WOZKOW\"]]#.to_excel(\"ILE_PRZYJECHALO_24_0151.xlsx\")\n",
        "# wnd"
      ]
    },
    {
      "cell_type": "code",
      "execution_count": null,
      "metadata": {
        "id": "0sNAkKevxbaW"
      },
      "outputs": [],
      "source": [
        "def zlecenia_produkcyjne_pianki_owaty(model, nr_kompletacji, nr_partii):\n",
        "  \"\"\"\n",
        "  nr_partii -> numer tygodnia / np.: 07/1\n",
        "  \"\"\"\n",
        "  zp = zam_pianki[(zam_pianki.OPIS.str.contains(model))&(zam_pianki.NR_KOMPLETACJI == nr_kompletacji)][[\"OPIS\", \"ILE_ZAMOWIONE\"]]\n",
        "\n",
        "  for p in range(zp.shape[0]):\n",
        "\n",
        "    ow = _owaty[_owaty.OPIS == zp.iloc[p].OPIS][[\"TYP_OWATY\", \"ZUZYCIE\", \"RODZAJ_CIECIA\", \"NAZWA_UKL\"]].reset_index()\n",
        "    ow[\"ZUZYCIE\"] = ow.ZUZYCIE*zp.iloc[p].ILE_ZAMOWIONE*1.1\n",
        "    ow[\"KATER_UKL\"] = ow.apply(lambda x: x.NAZWA_UKL if x.RODZAJ_CIECIA == \"K\" else \"\", axis=1)\n",
        "\n",
        "    wb = openpyxl.Workbook()\n",
        "    sheet = wb.active\n",
        "\n",
        "    sheet[\"A1\"] = \"ZLECENIE PRODUKCYJNE: WYDZIAŁ ROZKRÓJ OWAT / KOMPLETACJA OWATY\"\n",
        "    sheet[\"A3\"] = f\"NR PARTII: {nr_partii}\"\n",
        "    sheet[\"A4\"] = f\"NR ZAMÓWIENIA: {model} {nr_kompletacji}\"\n",
        "    sheet[\"A5\"] = f\"MODEL: {model}\"\n",
        "    sheet[\"H1\"] = f\"DZIEŃ WYDRUKU      {dt.now().strftime('%Y-%m-%d')}\"\n",
        "    sheet[\"E4\"] = \"TYP\"\n",
        "    sheet[\"F4\"] = \"MB\"\n",
        "    sheet[\"G4\"] = \"R/K\"\n",
        "    sheet[\"H4\"] = \"KATER_UKL\"\n",
        "\n",
        "    start_row = 5\n",
        "    for r in ow.iterrows():\n",
        "\n",
        "      sheet.cell(row=r[0]+start_row, column=5, value=r[1].TYP_OWATY)\n",
        "      sheet.cell(row=r[0]+start_row, column=6, value=r[1].ZUZYCIE)\n",
        "      sheet.cell(row=r[0]+start_row, column=7, value=r[1].RODZAJ_CIECIA)\n",
        "      sheet.cell(row=r[0]+start_row, column=8, value=r[1].KATER_UKL)\n",
        "\n",
        "\n",
        "    sheet[\"A15\"] = \"BRYŁA\"\n",
        "    sheet[\"B15\"] = \"ILOŚĆ PACZEK\"\n",
        "    sheet[\"C15\"] = \"CZAS\"\n",
        "    sheet[\"A16\"] = zp.iloc[p].OPIS\n",
        "    sheet[\"B16\"] = zp.iloc[p].ILE_ZAMOWIONE\n",
        "\n",
        "    sheet[\"A18\"] = \"UWAGI:\"\n",
        "    sheet[\"H18\"] = \"PODPIS, DZIEN:\"\n",
        "\n",
        "    thin = Side(border_style=\"thin\", color=\"000000\")\n",
        "    for row in sheet[f\"E4:i{ow.shape[0]+4}\"]:\n",
        "        for cell in row:\n",
        "          cell.border = Border(bottom=thin)\n",
        "\n",
        "    wb.save(f\"OWATY {model} {nr_kompletacji} {zp.iloc[p].OPIS.replace(model, '')}.xlsx\")\n",
        "\n",
        "\n",
        "def zlecenia_produkcyjne_pianki_kompletacja(model, nr_kompletacji, nr_partii):\n",
        "  \"\"\"\n",
        "  nr_partii -> numer tygodnia / np.: 07/1\n",
        "  \"\"\"\n",
        "  zp = zam_pianki[(zam_pianki.OPIS.str.contains(model))&(zam_pianki.NR_KOMPLETACJI == nr_kompletacji)][[\"OPIS\", \"ILE_ZAMOWIONE\"]]\n",
        "\n",
        "  for p in range(zp.shape[0]):\n",
        "\n",
        "    ow = _owaty[_owaty.OPIS == zp.iloc[p].OPIS][[\"TYP_OWATY\", \"ZUZYCIE\", \"RODZAJ_CIECIA\", \"NAZWA_UKL\"]].reset_index()\n",
        "    ow[\"ZUZYCIE\"] = ow.ZUZYCIE*zp.iloc[p].ILE_ZAMOWIONE*1.1\n",
        "    ow[\"KATER_UKL\"] = ow.apply(lambda x: x.NAZWA_UKL if x.RODZAJ_CIECIA == \"K\" else \"\", axis=1)\n",
        "\n",
        "    wb = openpyxl.Workbook()\n",
        "    sheet = wb.active\n",
        "\n",
        "    sheet[\"A1\"] = \"ZLECENIE PRODUKCYJNE: KOMPLETACJA PIANKI\"\n",
        "    sheet[\"A3\"] = f\"NR PARTII: {nr_partii}\"\n",
        "    sheet[\"A4\"] = f\"NR ZAMÓWIENIA: {model} {nr_kompletacji}\"\n",
        "    sheet[\"A5\"] = f\"MODEL: {model}\"\n",
        "    sheet[\"H1\"] = f\"DZIEŃ WYDRUKU      {dt.now().strftime('%Y-%m-%d')}\"\n",
        "\n",
        "    sheet[\"A15\"] = \"BRYŁA\"\n",
        "    sheet[\"B15\"] = \"ILOŚĆ PACZEK\"\n",
        "    sheet[\"C15\"] = \"CZAS\"\n",
        "    sheet[\"A16\"] = zp.iloc[p].OPIS\n",
        "    sheet[\"B16\"] = zp.iloc[p].ILE_ZAMOWIONE\n",
        "\n",
        "    sheet[\"A18\"] = \"UWAGI:\"\n",
        "    sheet[\"H18\"] = \"PODPIS, DZIEN:\"\n",
        "\n",
        "\n",
        "\n",
        "    wb.save(f\"KOMPLETACJA {model} {nr_kompletacji} {zp.iloc[p].OPIS.replace(model, '')}.xlsx\")\n",
        "\n"
      ]
    },
    {
      "cell_type": "code",
      "execution_count": null,
      "metadata": {
        "id": "jKZhfr_HWMM6"
      },
      "outputs": [],
      "source": [
        "!rm -f *.xlsx"
      ]
    },
    {
      "cell_type": "code",
      "execution_count": null,
      "metadata": {
        "id": "EY59NQ8DgDZg"
      },
      "outputs": [],
      "source": [
        "zlecenia_produkcyjne_pianki_owaty(\"HORIZON\", \"3_24\", \"08/01\")"
      ]
    },
    {
      "cell_type": "code",
      "execution_count": null,
      "metadata": {
        "id": "X33xz2bc3xOI"
      },
      "outputs": [],
      "source": [
        "# @title RAPORTY DO ZAMÓWIENIA FUNKCJE\n",
        "\n",
        "def specyfikacja_zam_vita_xlsx(NR_zam:str, raport_vita:pd.DataFrame):\n",
        "  wb = openpyxl.Workbook()\n",
        "  sheet = wb.active\n",
        "\n",
        "  sheet[\"B1\"] = f\"SPECYFIKACJA ZAMÓWIENIE DOS/{NR_zam}\"\n",
        "  sheet[\"H1\"] = dt.now().strftime(\"%Y-%m-%d\")\n",
        "  sheet[\"B3\"] = \"Zamawiajacy\"\n",
        "  sheet[\"B4\"] = \"OLTA K.K. Zawistowscy sp. j\"\n",
        "  sheet[\"B5\"] = \"Ignatki 40/6\"\n",
        "  sheet[\"B6\"] = \"16-001 Kleosin\"\n",
        "  sheet[\"B7\"] = \"NIP 966 14 08 783\"\n",
        "  sheet[\"H3\"] = \"Dostawca\"\n",
        "  sheet[\"H4\"] = \"VITA POLYMERS POLAND SP. Z O.O.\"\n",
        "  sheet[\"A8\"] = \"LP\"\n",
        "  sheet[\"I8\"] = \"UWAGI\"\n",
        "\n",
        "  rows = dataframe_to_rows(raport_vita)\n",
        "  for r_idx, row in enumerate(rows, 1):\n",
        "      for c_idx, value in enumerate(row, 1):\n",
        "          sheet.cell(row=r_idx+7, column=c_idx, value=value)\n",
        "\n",
        "  thin = Side(border_style=\"thin\", color=\"000000\")\n",
        "  for row in sheet[f\"A9:i{raport_vita.shape[0]+9}\"]:\n",
        "      for cell in row:\n",
        "        cell.border = Border(top=thin, left=thin, right=thin, bottom=thin)\n",
        "\n",
        "  wb.save(f\"SPECYFIKACJA DO ZAMÓWIENIA DOS {' '.join(NR_zam.split('/'))}.xlsx\")\n",
        "\n",
        "def raport_vita(*args):\n",
        "  \"\"\"\n",
        "  Zesatwaienie zamówionych pianek do VITA ilośiowe i z podziałem na bryły\n",
        "  \"\"\"\n",
        "\n",
        "\n",
        "  pianki = [x.vita for x in args]\n",
        "  zam_pianek_vita = pd.concat(pianki).fillna(\"\")[[\"TYP\", \"NUMER\", \"ilosc\", \"PROFIL\", \"OZN\", \"OPIS\", \"WYMIAR\"]]\n",
        "  zam_pianek_vita.set_index(pd.Index([x for x in range(1,zam_pianek_vita.shape[0]+1)]),inplace=True)\n",
        "\n",
        "  podsumowanie_zamowienia_vita = pd.concat(pianki).fillna(\"\").sort_values(by=\"NUMER\")\n",
        "  podsumowanie_zamowienia_vita.set_index(pd.Index([x for x in range(1,podsumowanie_zamowienia_vita.shape[0]+1)]),inplace=True)\n",
        "\n",
        "\n",
        "\n",
        "  return zam_pianek_vita, podsumowanie_zamowienia_vita[[\"TYP\", \"NUMER\", \"ilosc\", \"VOL\", \"PROFIL\", \"OZN\", \"OPIS\", \"WYMIAR\"] + [x for x in podsumowanie_zamowienia_vita.columns if \"br\" in x]]\n",
        "\n",
        "\n",
        "def raport_dostarczonych_pianek(cls, drukuj_excel=False):\n",
        "  \"\"\"\n",
        "  Zesatwianie ilosci pianek do modelu z dostawy\n",
        "  komplety_pianek -> df z kopletami pianek\n",
        "  cls -> zinicjalizowana instacja klasy zawierająca odpowiedni model\n",
        "  \"\"\"\n",
        "  zestawienie_pianek_do_bryly = list()\n",
        "\n",
        "  for br in cls.bryly.keys():\n",
        "    df = tab[(tab.MODEL == cls.MODEL) & (tab.BRYLA == br)]\n",
        "    df[\"ILOŚĆ\"] = (df.ilosc * cls.bryly[br]).astype(int)\n",
        "    df[\"DOSTARCZONO/UWAGI\"] = \"\"\n",
        "    df = df[['TYP', 'PRZEZ', 'OR', 'OZN', 'PROFIL', 'NUMER', 'WYMIAR', 'ILOŚĆ', 'DOSTARCZONO/UWAGI']].fillna(\"-\")\n",
        "    df.set_index(pd.Index([x for x in range(1,df.shape[0]+1)]),inplace=True)\n",
        "    zestawienie_pianek_do_bryly.append([br, df])\n",
        "\n",
        "  def drukuj_zestawienie_dla_bryly_xlsx(zpdb_n):\n",
        "    _df = zpdb_n[1]\n",
        "    # _df = _df[_df.TYP != \"G-401\"]\n",
        "    header = f\"{cls.MODEL} {zpdb_n[0]} - {cls.bryly[zpdb_n[0]]:.0f}szt\"\n",
        "    print(header)\n",
        "    wb = openpyxl.Workbook()\n",
        "    sheet = wb.active\n",
        "    sheet.oddHeader.left.text = header\n",
        "    sheet.oddHeader.left.size = 18\n",
        "    sheet.oddHeader.left.font = \"Calibry,Bold\"\n",
        "    # sheet.oddHeader.right.text = \"Data dostawy:            \\nNr dostawy:           \"\n",
        "    sheet.append([\"LP\"]+list(_df.columns))\n",
        "    rows = dataframe_to_rows(_df,header=False)\n",
        "    for r in list(rows)[1:]:\n",
        "      sheet.append(r)\n",
        "\n",
        "    thin = Side(border_style=\"thin\", color=\"000000\")\n",
        "    sheet.page_setup.orientation = sheet.ORIENTATION_LANDSCAPE\n",
        "    for row in sheet[f\"A1:J{_df.shape[0]+1}\"]:\n",
        "      for cell in row:\n",
        "        cell.border = Border(top=thin, left=thin, right=thin, bottom=thin)\n",
        "\n",
        "    wb.save(f\"{cls.MODEL[:3]} {zpdb_n[0]}.xlsx\")\n",
        "\n",
        "  if drukuj_excel:\n",
        "    for i in zestawienie_pianek_do_bryly:\n",
        "      drukuj_zestawienie_dla_bryly_xlsx(i)\n",
        "    return 0\n",
        "\n",
        "  return zestawienie_pianek_do_bryly"
      ]
    },
    {
      "cell_type": "code",
      "execution_count": null,
      "metadata": {
        "id": "a_kxsuD8zo2O"
      },
      "outputs": [],
      "source": []
    },
    {
      "cell_type": "code",
      "execution_count": null,
      "metadata": {
        "id": "Whkd0LWcF8dy"
      },
      "outputs": [],
      "source": [
        "r = raport_vita(sto, hor)"
      ]
    },
    {
      "cell_type": "code",
      "execution_count": null,
      "metadata": {
        "colab": {
          "base_uri": "https://localhost:8080/",
          "height": 424
        },
        "id": "nBRGIil8IniW",
        "outputId": "4631a8ad-057b-4fd6-9e9f-d8f5431c01ca"
      },
      "outputs": [
        {
          "data": {
            "application/vnd.google.colaboratory.intrinsic+json": {
              "summary": "{\n  \"name\": \"r[1]\",\n  \"rows\": 115,\n  \"fields\": [\n    {\n      \"column\": \"TYP\",\n      \"properties\": {\n        \"dtype\": \"category\",\n        \"num_unique_values\": 5,\n        \"samples\": [\n          \"T-3538\",\n          \"HR-3032\",\n          \"T-40375\"\n        ],\n        \"semantic_type\": \"\",\n        \"description\": \"\"\n      }\n    },\n    {\n      \"column\": \"NUMER\",\n      \"properties\": {\n        \"dtype\": \"string\",\n        \"num_unique_values\": 115,\n        \"samples\": [\n          \"CA0234\",\n          \"AA0157\",\n          \"AA2500\"\n        ],\n        \"semantic_type\": \"\",\n        \"description\": \"\"\n      }\n    },\n    {\n      \"column\": \"ilosc\",\n      \"properties\": {\n        \"dtype\": \"int32\",\n        \"num_unique_values\": 16,\n        \"samples\": [\n          265,\n          20,\n          25\n        ],\n        \"semantic_type\": \"\",\n        \"description\": \"\"\n      }\n    },\n    {\n      \"column\": \"VOL\",\n      \"properties\": {\n        \"dtype\": \"number\",\n        \"std\": 1.6339488019005488,\n        \"min\": 0.0006,\n        \"max\": 12.006,\n        \"num_unique_values\": 114,\n        \"samples\": [\n          0.75712,\n          0.162,\n          0.1664\n        ],\n        \"semantic_type\": \"\",\n        \"description\": \"\"\n      }\n    },\n    {\n      \"column\": \"PROFIL\",\n      \"properties\": {\n        \"dtype\": \"category\",\n        \"num_unique_values\": 5,\n        \"samples\": [\n          \"P-12\",\n          \"P-114\",\n          \"\"\n        ],\n        \"semantic_type\": \"\",\n        \"description\": \"\"\n      }\n    },\n    {\n      \"column\": \"OZN\",\n      \"properties\": {\n        \"dtype\": \"category\",\n        \"num_unique_values\": 3,\n        \"samples\": [\n          \"profil\",\n          \"format\",\n          \"prosta\"\n        ],\n        \"semantic_type\": \"\",\n        \"description\": \"\"\n      }\n    },\n    {\n      \"column\": \"OPIS\",\n      \"properties\": {\n        \"dtype\": \"category\",\n        \"num_unique_values\": 5,\n        \"samples\": [\n          \"oparcie\",\n          \"siedzisko\",\n          \"boczek\"\n        ],\n        \"semantic_type\": \"\",\n        \"description\": \"\"\n      }\n    },\n    {\n      \"column\": \"WYMIAR\",\n      \"properties\": {\n        \"dtype\": \"string\",\n        \"num_unique_values\": 115,\n        \"samples\": [\n          \"70x1040x1040\",\n          \"10x120x900\",\n          \"10x800x1040\"\n        ],\n        \"semantic_type\": \"\",\n        \"description\": \"\"\n      }\n    },\n    {\n      \"column\": \"br1\",\n      \"properties\": {\n        \"dtype\": \"category\",\n        \"num_unique_values\": 20,\n        \"samples\": [\n          \"STO 2,5 50szt\",\n          \"HOR ONz 160szt\",\n          \"STO P106x106 20szt\"\n        ],\n        \"semantic_type\": \"\",\n        \"description\": \"\"\n      }\n    },\n    {\n      \"column\": \"br2\",\n      \"properties\": {\n        \"dtype\": \"category\",\n        \"num_unique_values\": 5,\n        \"samples\": [\n          \"\",\n          \"STO P106x106 20szt\",\n          \" \"\n        ],\n        \"semantic_type\": \"\",\n        \"description\": \"\"\n      }\n    },\n    {\n      \"column\": \"br3\",\n      \"properties\": {\n        \"dtype\": \"category\",\n        \"num_unique_values\": 4,\n        \"samples\": [\n          \"\",\n          \"STO 2,5 50szt\",\n          \"STO 4 30szt\"\n        ],\n        \"semantic_type\": \"\",\n        \"description\": \"\"\n      }\n    },\n    {\n      \"column\": \"br4\",\n      \"properties\": {\n        \"dtype\": \"category\",\n        \"num_unique_values\": 4,\n        \"samples\": [\n          \"\",\n          \"STO 3 90szt\",\n          \"STO ON 45szt\"\n        ],\n        \"semantic_type\": \"\",\n        \"description\": \"\"\n      }\n    },\n    {\n      \"column\": \"br5\",\n      \"properties\": {\n        \"dtype\": \"category\",\n        \"num_unique_values\": 4,\n        \"samples\": [\n          \"\",\n          \"STO 4 20szt\",\n          \"STO [LH 50szt\"\n        ],\n        \"semantic_type\": \"\",\n        \"description\": \"\"\n      }\n    },\n    {\n      \"column\": \"br6\",\n      \"properties\": {\n        \"dtype\": \"category\",\n        \"num_unique_values\": 3,\n        \"samples\": [\n          \" \",\n          \"\",\n          \"STO [LH 50szt\"\n        ],\n        \"semantic_type\": \"\",\n        \"description\": \"\"\n      }\n    }\n  ]\n}",
              "type": "dataframe"
            },
            "text/html": [
              "\n",
              "  <div id=\"df-d1b9fcb5-8fcf-4887-8f28-84a9498ed749\" class=\"colab-df-container\">\n",
              "    <div>\n",
              "<style scoped>\n",
              "    .dataframe tbody tr th:only-of-type {\n",
              "        vertical-align: middle;\n",
              "    }\n",
              "\n",
              "    .dataframe tbody tr th {\n",
              "        vertical-align: top;\n",
              "    }\n",
              "\n",
              "    .dataframe thead th {\n",
              "        text-align: right;\n",
              "    }\n",
              "</style>\n",
              "<table border=\"1\" class=\"dataframe\">\n",
              "  <thead>\n",
              "    <tr style=\"text-align: right;\">\n",
              "      <th></th>\n",
              "      <th>TYP</th>\n",
              "      <th>NUMER</th>\n",
              "      <th>ilosc</th>\n",
              "      <th>VOL</th>\n",
              "      <th>PROFIL</th>\n",
              "      <th>OZN</th>\n",
              "      <th>OPIS</th>\n",
              "      <th>WYMIAR</th>\n",
              "      <th>br1</th>\n",
              "      <th>br2</th>\n",
              "      <th>br3</th>\n",
              "      <th>br4</th>\n",
              "      <th>br5</th>\n",
              "      <th>br6</th>\n",
              "    </tr>\n",
              "  </thead>\n",
              "  <tbody>\n",
              "    <tr>\n",
              "      <th>1</th>\n",
              "      <td>T-2538</td>\n",
              "      <td>AA0014</td>\n",
              "      <td>265</td>\n",
              "      <td>0.92750</td>\n",
              "      <td>P-9</td>\n",
              "      <td>profil</td>\n",
              "      <td>korpus</td>\n",
              "      <td>70x100x500</td>\n",
              "      <td>STO 2,5 50szt</td>\n",
              "      <td>STO 3 90szt</td>\n",
              "      <td>STO 4 30szt</td>\n",
              "      <td>STO ON 45szt</td>\n",
              "      <td>STO [LH 50szt</td>\n",
              "      <td></td>\n",
              "    </tr>\n",
              "    <tr>\n",
              "      <th>2</th>\n",
              "      <td>T-2538</td>\n",
              "      <td>AA0022</td>\n",
              "      <td>20</td>\n",
              "      <td>0.09600</td>\n",
              "      <td>P-12</td>\n",
              "      <td>format</td>\n",
              "      <td>korpus</td>\n",
              "      <td>80x100x600</td>\n",
              "      <td>HOR ONz 20szt</td>\n",
              "      <td></td>\n",
              "      <td></td>\n",
              "      <td></td>\n",
              "      <td></td>\n",
              "      <td></td>\n",
              "    </tr>\n",
              "    <tr>\n",
              "      <th>3</th>\n",
              "      <td>T-2538</td>\n",
              "      <td>AA0050</td>\n",
              "      <td>20</td>\n",
              "      <td>0.00060</td>\n",
              "      <td></td>\n",
              "      <td>prosta</td>\n",
              "      <td>korpus</td>\n",
              "      <td>10x30x100</td>\n",
              "      <td>HOR ONz 20szt</td>\n",
              "      <td></td>\n",
              "      <td></td>\n",
              "      <td></td>\n",
              "      <td></td>\n",
              "      <td></td>\n",
              "    </tr>\n",
              "    <tr>\n",
              "      <th>4</th>\n",
              "      <td>T-2538</td>\n",
              "      <td>AA0077</td>\n",
              "      <td>20</td>\n",
              "      <td>0.02400</td>\n",
              "      <td></td>\n",
              "      <td>prosta</td>\n",
              "      <td>korpus</td>\n",
              "      <td>10x120x1000</td>\n",
              "      <td>STO 4 20szt</td>\n",
              "      <td></td>\n",
              "      <td></td>\n",
              "      <td></td>\n",
              "      <td></td>\n",
              "      <td></td>\n",
              "    </tr>\n",
              "    <tr>\n",
              "      <th>5</th>\n",
              "      <td>T-2538</td>\n",
              "      <td>AA0157</td>\n",
              "      <td>150</td>\n",
              "      <td>0.16200</td>\n",
              "      <td></td>\n",
              "      <td>prosta</td>\n",
              "      <td>korpus</td>\n",
              "      <td>10x120x900</td>\n",
              "      <td>STO 1,5 150szt</td>\n",
              "      <td></td>\n",
              "      <td></td>\n",
              "      <td></td>\n",
              "      <td></td>\n",
              "      <td></td>\n",
              "    </tr>\n",
              "    <tr>\n",
              "      <th>...</th>\n",
              "      <td>...</td>\n",
              "      <td>...</td>\n",
              "      <td>...</td>\n",
              "      <td>...</td>\n",
              "      <td>...</td>\n",
              "      <td>...</td>\n",
              "      <td>...</td>\n",
              "      <td>...</td>\n",
              "      <td>...</td>\n",
              "      <td>...</td>\n",
              "      <td>...</td>\n",
              "      <td>...</td>\n",
              "      <td>...</td>\n",
              "      <td>...</td>\n",
              "    </tr>\n",
              "    <tr>\n",
              "      <th>111</th>\n",
              "      <td>HR-3032</td>\n",
              "      <td>EC0377</td>\n",
              "      <td>50</td>\n",
              "      <td>0.60280</td>\n",
              "      <td></td>\n",
              "      <td>format</td>\n",
              "      <td>oparcie</td>\n",
              "      <td>55x320x685</td>\n",
              "      <td>STO 2,5 50szt</td>\n",
              "      <td></td>\n",
              "      <td></td>\n",
              "      <td></td>\n",
              "      <td></td>\n",
              "      <td></td>\n",
              "    </tr>\n",
              "    <tr>\n",
              "      <th>112</th>\n",
              "      <td>HR-3032</td>\n",
              "      <td>EC0378</td>\n",
              "      <td>90</td>\n",
              "      <td>1.24344</td>\n",
              "      <td></td>\n",
              "      <td>format</td>\n",
              "      <td>oparcie</td>\n",
              "      <td>55x320x785</td>\n",
              "      <td>STO 3 90szt</td>\n",
              "      <td></td>\n",
              "      <td></td>\n",
              "      <td></td>\n",
              "      <td></td>\n",
              "      <td></td>\n",
              "    </tr>\n",
              "    <tr>\n",
              "      <th>113</th>\n",
              "      <td>HR-3032</td>\n",
              "      <td>EC0379</td>\n",
              "      <td>25</td>\n",
              "      <td>0.41360</td>\n",
              "      <td></td>\n",
              "      <td>format</td>\n",
              "      <td>oparcie</td>\n",
              "      <td>55x320x940</td>\n",
              "      <td>STO [LH 25szt</td>\n",
              "      <td></td>\n",
              "      <td></td>\n",
              "      <td></td>\n",
              "      <td></td>\n",
              "      <td></td>\n",
              "    </tr>\n",
              "    <tr>\n",
              "      <th>114</th>\n",
              "      <td>HR-3032</td>\n",
              "      <td>EC0380</td>\n",
              "      <td>25</td>\n",
              "      <td>0.63800</td>\n",
              "      <td></td>\n",
              "      <td>format</td>\n",
              "      <td>oparcie</td>\n",
              "      <td>55x320x1450</td>\n",
              "      <td>STO [LH 25szt</td>\n",
              "      <td></td>\n",
              "      <td></td>\n",
              "      <td></td>\n",
              "      <td></td>\n",
              "      <td></td>\n",
              "    </tr>\n",
              "    <tr>\n",
              "      <th>115</th>\n",
              "      <td>HR-3032</td>\n",
              "      <td>EC0381</td>\n",
              "      <td>30</td>\n",
              "      <td>0.61776</td>\n",
              "      <td></td>\n",
              "      <td>format</td>\n",
              "      <td>oparcie</td>\n",
              "      <td>55x320x1170</td>\n",
              "      <td>STO ON 30szt</td>\n",
              "      <td></td>\n",
              "      <td></td>\n",
              "      <td></td>\n",
              "      <td></td>\n",
              "      <td></td>\n",
              "    </tr>\n",
              "  </tbody>\n",
              "</table>\n",
              "<p>115 rows × 14 columns</p>\n",
              "</div>\n",
              "    <div class=\"colab-df-buttons\">\n",
              "\n",
              "  <div class=\"colab-df-container\">\n",
              "    <button class=\"colab-df-convert\" onclick=\"convertToInteractive('df-d1b9fcb5-8fcf-4887-8f28-84a9498ed749')\"\n",
              "            title=\"Convert this dataframe to an interactive table.\"\n",
              "            style=\"display:none;\">\n",
              "\n",
              "  <svg xmlns=\"http://www.w3.org/2000/svg\" height=\"24px\" viewBox=\"0 -960 960 960\">\n",
              "    <path d=\"M120-120v-720h720v720H120Zm60-500h600v-160H180v160Zm220 220h160v-160H400v160Zm0 220h160v-160H400v160ZM180-400h160v-160H180v160Zm440 0h160v-160H620v160ZM180-180h160v-160H180v160Zm440 0h160v-160H620v160Z\"/>\n",
              "  </svg>\n",
              "    </button>\n",
              "\n",
              "  <style>\n",
              "    .colab-df-container {\n",
              "      display:flex;\n",
              "      gap: 12px;\n",
              "    }\n",
              "\n",
              "    .colab-df-convert {\n",
              "      background-color: #E8F0FE;\n",
              "      border: none;\n",
              "      border-radius: 50%;\n",
              "      cursor: pointer;\n",
              "      display: none;\n",
              "      fill: #1967D2;\n",
              "      height: 32px;\n",
              "      padding: 0 0 0 0;\n",
              "      width: 32px;\n",
              "    }\n",
              "\n",
              "    .colab-df-convert:hover {\n",
              "      background-color: #E2EBFA;\n",
              "      box-shadow: 0px 1px 2px rgba(60, 64, 67, 0.3), 0px 1px 3px 1px rgba(60, 64, 67, 0.15);\n",
              "      fill: #174EA6;\n",
              "    }\n",
              "\n",
              "    .colab-df-buttons div {\n",
              "      margin-bottom: 4px;\n",
              "    }\n",
              "\n",
              "    [theme=dark] .colab-df-convert {\n",
              "      background-color: #3B4455;\n",
              "      fill: #D2E3FC;\n",
              "    }\n",
              "\n",
              "    [theme=dark] .colab-df-convert:hover {\n",
              "      background-color: #434B5C;\n",
              "      box-shadow: 0px 1px 3px 1px rgba(0, 0, 0, 0.15);\n",
              "      filter: drop-shadow(0px 1px 2px rgba(0, 0, 0, 0.3));\n",
              "      fill: #FFFFFF;\n",
              "    }\n",
              "  </style>\n",
              "\n",
              "    <script>\n",
              "      const buttonEl =\n",
              "        document.querySelector('#df-d1b9fcb5-8fcf-4887-8f28-84a9498ed749 button.colab-df-convert');\n",
              "      buttonEl.style.display =\n",
              "        google.colab.kernel.accessAllowed ? 'block' : 'none';\n",
              "\n",
              "      async function convertToInteractive(key) {\n",
              "        const element = document.querySelector('#df-d1b9fcb5-8fcf-4887-8f28-84a9498ed749');\n",
              "        const dataTable =\n",
              "          await google.colab.kernel.invokeFunction('convertToInteractive',\n",
              "                                                    [key], {});\n",
              "        if (!dataTable) return;\n",
              "\n",
              "        const docLinkHtml = 'Like what you see? Visit the ' +\n",
              "          '<a target=\"_blank\" href=https://colab.research.google.com/notebooks/data_table.ipynb>data table notebook</a>'\n",
              "          + ' to learn more about interactive tables.';\n",
              "        element.innerHTML = '';\n",
              "        dataTable['output_type'] = 'display_data';\n",
              "        await google.colab.output.renderOutput(dataTable, element);\n",
              "        const docLink = document.createElement('div');\n",
              "        docLink.innerHTML = docLinkHtml;\n",
              "        element.appendChild(docLink);\n",
              "      }\n",
              "    </script>\n",
              "  </div>\n",
              "\n",
              "\n",
              "<div id=\"df-cf5575a1-c6df-4ed8-8cd4-856c02e53dcf\">\n",
              "  <button class=\"colab-df-quickchart\" onclick=\"quickchart('df-cf5575a1-c6df-4ed8-8cd4-856c02e53dcf')\"\n",
              "            title=\"Suggest charts\"\n",
              "            style=\"display:none;\">\n",
              "\n",
              "<svg xmlns=\"http://www.w3.org/2000/svg\" height=\"24px\"viewBox=\"0 0 24 24\"\n",
              "     width=\"24px\">\n",
              "    <g>\n",
              "        <path d=\"M19 3H5c-1.1 0-2 .9-2 2v14c0 1.1.9 2 2 2h14c1.1 0 2-.9 2-2V5c0-1.1-.9-2-2-2zM9 17H7v-7h2v7zm4 0h-2V7h2v10zm4 0h-2v-4h2v4z\"/>\n",
              "    </g>\n",
              "</svg>\n",
              "  </button>\n",
              "\n",
              "<style>\n",
              "  .colab-df-quickchart {\n",
              "      --bg-color: #E8F0FE;\n",
              "      --fill-color: #1967D2;\n",
              "      --hover-bg-color: #E2EBFA;\n",
              "      --hover-fill-color: #174EA6;\n",
              "      --disabled-fill-color: #AAA;\n",
              "      --disabled-bg-color: #DDD;\n",
              "  }\n",
              "\n",
              "  [theme=dark] .colab-df-quickchart {\n",
              "      --bg-color: #3B4455;\n",
              "      --fill-color: #D2E3FC;\n",
              "      --hover-bg-color: #434B5C;\n",
              "      --hover-fill-color: #FFFFFF;\n",
              "      --disabled-bg-color: #3B4455;\n",
              "      --disabled-fill-color: #666;\n",
              "  }\n",
              "\n",
              "  .colab-df-quickchart {\n",
              "    background-color: var(--bg-color);\n",
              "    border: none;\n",
              "    border-radius: 50%;\n",
              "    cursor: pointer;\n",
              "    display: none;\n",
              "    fill: var(--fill-color);\n",
              "    height: 32px;\n",
              "    padding: 0;\n",
              "    width: 32px;\n",
              "  }\n",
              "\n",
              "  .colab-df-quickchart:hover {\n",
              "    background-color: var(--hover-bg-color);\n",
              "    box-shadow: 0 1px 2px rgba(60, 64, 67, 0.3), 0 1px 3px 1px rgba(60, 64, 67, 0.15);\n",
              "    fill: var(--button-hover-fill-color);\n",
              "  }\n",
              "\n",
              "  .colab-df-quickchart-complete:disabled,\n",
              "  .colab-df-quickchart-complete:disabled:hover {\n",
              "    background-color: var(--disabled-bg-color);\n",
              "    fill: var(--disabled-fill-color);\n",
              "    box-shadow: none;\n",
              "  }\n",
              "\n",
              "  .colab-df-spinner {\n",
              "    border: 2px solid var(--fill-color);\n",
              "    border-color: transparent;\n",
              "    border-bottom-color: var(--fill-color);\n",
              "    animation:\n",
              "      spin 1s steps(1) infinite;\n",
              "  }\n",
              "\n",
              "  @keyframes spin {\n",
              "    0% {\n",
              "      border-color: transparent;\n",
              "      border-bottom-color: var(--fill-color);\n",
              "      border-left-color: var(--fill-color);\n",
              "    }\n",
              "    20% {\n",
              "      border-color: transparent;\n",
              "      border-left-color: var(--fill-color);\n",
              "      border-top-color: var(--fill-color);\n",
              "    }\n",
              "    30% {\n",
              "      border-color: transparent;\n",
              "      border-left-color: var(--fill-color);\n",
              "      border-top-color: var(--fill-color);\n",
              "      border-right-color: var(--fill-color);\n",
              "    }\n",
              "    40% {\n",
              "      border-color: transparent;\n",
              "      border-right-color: var(--fill-color);\n",
              "      border-top-color: var(--fill-color);\n",
              "    }\n",
              "    60% {\n",
              "      border-color: transparent;\n",
              "      border-right-color: var(--fill-color);\n",
              "    }\n",
              "    80% {\n",
              "      border-color: transparent;\n",
              "      border-right-color: var(--fill-color);\n",
              "      border-bottom-color: var(--fill-color);\n",
              "    }\n",
              "    90% {\n",
              "      border-color: transparent;\n",
              "      border-bottom-color: var(--fill-color);\n",
              "    }\n",
              "  }\n",
              "</style>\n",
              "\n",
              "  <script>\n",
              "    async function quickchart(key) {\n",
              "      const quickchartButtonEl =\n",
              "        document.querySelector('#' + key + ' button');\n",
              "      quickchartButtonEl.disabled = true;  // To prevent multiple clicks.\n",
              "      quickchartButtonEl.classList.add('colab-df-spinner');\n",
              "      try {\n",
              "        const charts = await google.colab.kernel.invokeFunction(\n",
              "            'suggestCharts', [key], {});\n",
              "      } catch (error) {\n",
              "        console.error('Error during call to suggestCharts:', error);\n",
              "      }\n",
              "      quickchartButtonEl.classList.remove('colab-df-spinner');\n",
              "      quickchartButtonEl.classList.add('colab-df-quickchart-complete');\n",
              "    }\n",
              "    (() => {\n",
              "      let quickchartButtonEl =\n",
              "        document.querySelector('#df-cf5575a1-c6df-4ed8-8cd4-856c02e53dcf button');\n",
              "      quickchartButtonEl.style.display =\n",
              "        google.colab.kernel.accessAllowed ? 'block' : 'none';\n",
              "    })();\n",
              "  </script>\n",
              "</div>\n",
              "    </div>\n",
              "  </div>\n"
            ],
            "text/plain": [
              "         TYP   NUMER  ilosc      VOL PROFIL     OZN     OPIS       WYMIAR  \\\n",
              "1     T-2538  AA0014    265  0.92750    P-9  profil   korpus   70x100x500   \n",
              "2     T-2538  AA0022     20  0.09600   P-12  format   korpus   80x100x600   \n",
              "3     T-2538  AA0050     20  0.00060         prosta   korpus    10x30x100   \n",
              "4     T-2538  AA0077     20  0.02400         prosta   korpus  10x120x1000   \n",
              "5     T-2538  AA0157    150  0.16200         prosta   korpus   10x120x900   \n",
              "..       ...     ...    ...      ...    ...     ...      ...          ...   \n",
              "111  HR-3032  EC0377     50  0.60280         format  oparcie   55x320x685   \n",
              "112  HR-3032  EC0378     90  1.24344         format  oparcie   55x320x785   \n",
              "113  HR-3032  EC0379     25  0.41360         format  oparcie   55x320x940   \n",
              "114  HR-3032  EC0380     25  0.63800         format  oparcie  55x320x1450   \n",
              "115  HR-3032  EC0381     30  0.61776         format  oparcie  55x320x1170   \n",
              "\n",
              "                br1          br2          br3           br4            br5 br6  \n",
              "1     STO 2,5 50szt  STO 3 90szt  STO 4 30szt  STO ON 45szt  STO [LH 50szt      \n",
              "2     HOR ONz 20szt                                                             \n",
              "3     HOR ONz 20szt                                                             \n",
              "4       STO 4 20szt                                                             \n",
              "5    STO 1,5 150szt                                                             \n",
              "..              ...          ...          ...           ...            ...  ..  \n",
              "111   STO 2,5 50szt                                                             \n",
              "112     STO 3 90szt                                                             \n",
              "113   STO [LH 25szt                                                             \n",
              "114   STO [LH 25szt                                                             \n",
              "115    STO ON 30szt                                                             \n",
              "\n",
              "[115 rows x 14 columns]"
            ]
          },
          "execution_count": 69,
          "metadata": {},
          "output_type": "execute_result"
        }
      ],
      "source": [
        "r[1]"
      ]
    },
    {
      "cell_type": "code",
      "execution_count": null,
      "metadata": {
        "id": "dWRHuiv6mOJc"
      },
      "outputs": [],
      "source": [
        "specyfikacja_zam_vita_xlsx(\"24/0242\",r[0])"
      ]
    },
    {
      "cell_type": "code",
      "execution_count": null,
      "metadata": {
        "id": "s8J8aUwSXdzk"
      },
      "outputs": [],
      "source": [
        "r[1].to_excel(\"ZESTAWIENIE PIANEK DO ZAMOWIENIA DOS 24_0242.xlsx\")"
      ]
    },
    {
      "cell_type": "code",
      "execution_count": null,
      "metadata": {
        "id": "QK0ekt1MYoL-"
      },
      "outputs": [],
      "source": [
        "# raport_dostarczonych_pianek(sto, drukuj_excel=True)"
      ]
    },
    {
      "cell_type": "code",
      "execution_count": null,
      "metadata": {
        "id": "0SUWVELOq1P4"
      },
      "outputs": [],
      "source": [
        "# raport_dostarczonych_pianek(hor, drukuj_excel=True)"
      ]
    },
    {
      "cell_type": "code",
      "execution_count": null,
      "metadata": {
        "id": "3DyRXjgYYvME"
      },
      "outputs": [],
      "source": []
    }
  ],
  "metadata": {
    "colab": {
      "authorship_tag": "ABX9TyNL9TVqWv7eQBYJQLbDdIcq",
      "include_colab_link": true,
      "mount_file_id": "1Yo6o-on1cUlvI-0-Dw_pplKni0YiD3yW",
      "provenance": []
    },
    "kernelspec": {
      "display_name": "Python 3",
      "name": "python3"
    },
    "language_info": {
      "codemirror_mode": {
        "name": "ipython",
        "version": 3
      },
      "file_extension": ".py",
      "mimetype": "text/x-python",
      "name": "python",
      "nbconvert_exporter": "python",
      "pygments_lexer": "ipython3",
      "version": "3.11.8"
    }
  },
  "nbformat": 4,
  "nbformat_minor": 0
}
